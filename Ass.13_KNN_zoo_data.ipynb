{
 "cells": [
  {
   "cell_type": "markdown",
   "id": "5bfa72cd",
   "metadata": {},
   "source": [
    "# Peoblem Statement\n",
    "Implement a KNN model to classify the animals in to categorie"
   ]
  },
  {
   "cell_type": "markdown",
   "id": "bfc37d1f",
   "metadata": {},
   "source": [
    "## 1. Import Necessary Libraries"
   ]
  },
  {
   "cell_type": "code",
   "execution_count": 1,
   "id": "4288f619",
   "metadata": {},
   "outputs": [],
   "source": [
    "import pandas as pd\n",
    "import numpy as np\n",
    "import seaborn as sns\n",
    "import matplotlib.pyplot as plt\n",
    "\n",
    "import warnings\n",
    "warnings.filterwarnings('ignore')\n",
    "\n",
    "from sklearn.model_selection import train_test_split, KFold, cross_val_score\n",
    "from sklearn.neighbors import KNeighborsClassifier\n",
    "from sklearn.metrics import accuracy_score \n",
    "from sklearn.preprocessing import StandardScaler"
   ]
  },
  {
   "cell_type": "markdown",
   "id": "7092ca1d",
   "metadata": {},
   "source": [
    "## 2. Import Dataset"
   ]
  },
  {
   "cell_type": "code",
   "execution_count": 2,
   "id": "559b704e",
   "metadata": {
    "scrolled": false
   },
   "outputs": [
    {
     "data": {
      "text/html": [
       "<div>\n",
       "<style scoped>\n",
       "    .dataframe tbody tr th:only-of-type {\n",
       "        vertical-align: middle;\n",
       "    }\n",
       "\n",
       "    .dataframe tbody tr th {\n",
       "        vertical-align: top;\n",
       "    }\n",
       "\n",
       "    .dataframe thead th {\n",
       "        text-align: right;\n",
       "    }\n",
       "</style>\n",
       "<table border=\"1\" class=\"dataframe\">\n",
       "  <thead>\n",
       "    <tr style=\"text-align: right;\">\n",
       "      <th></th>\n",
       "      <th>animal name</th>\n",
       "      <th>hair</th>\n",
       "      <th>feathers</th>\n",
       "      <th>eggs</th>\n",
       "      <th>milk</th>\n",
       "      <th>airborne</th>\n",
       "      <th>aquatic</th>\n",
       "      <th>predator</th>\n",
       "      <th>toothed</th>\n",
       "      <th>backbone</th>\n",
       "      <th>breathes</th>\n",
       "      <th>venomous</th>\n",
       "      <th>fins</th>\n",
       "      <th>legs</th>\n",
       "      <th>tail</th>\n",
       "      <th>domestic</th>\n",
       "      <th>catsize</th>\n",
       "      <th>type</th>\n",
       "    </tr>\n",
       "  </thead>\n",
       "  <tbody>\n",
       "    <tr>\n",
       "      <th>0</th>\n",
       "      <td>aardvark</td>\n",
       "      <td>1</td>\n",
       "      <td>0</td>\n",
       "      <td>0</td>\n",
       "      <td>1</td>\n",
       "      <td>0</td>\n",
       "      <td>0</td>\n",
       "      <td>1</td>\n",
       "      <td>1</td>\n",
       "      <td>1</td>\n",
       "      <td>1</td>\n",
       "      <td>0</td>\n",
       "      <td>0</td>\n",
       "      <td>4</td>\n",
       "      <td>0</td>\n",
       "      <td>0</td>\n",
       "      <td>1</td>\n",
       "      <td>1</td>\n",
       "    </tr>\n",
       "    <tr>\n",
       "      <th>1</th>\n",
       "      <td>antelope</td>\n",
       "      <td>1</td>\n",
       "      <td>0</td>\n",
       "      <td>0</td>\n",
       "      <td>1</td>\n",
       "      <td>0</td>\n",
       "      <td>0</td>\n",
       "      <td>0</td>\n",
       "      <td>1</td>\n",
       "      <td>1</td>\n",
       "      <td>1</td>\n",
       "      <td>0</td>\n",
       "      <td>0</td>\n",
       "      <td>4</td>\n",
       "      <td>1</td>\n",
       "      <td>0</td>\n",
       "      <td>1</td>\n",
       "      <td>1</td>\n",
       "    </tr>\n",
       "    <tr>\n",
       "      <th>2</th>\n",
       "      <td>bass</td>\n",
       "      <td>0</td>\n",
       "      <td>0</td>\n",
       "      <td>1</td>\n",
       "      <td>0</td>\n",
       "      <td>0</td>\n",
       "      <td>1</td>\n",
       "      <td>1</td>\n",
       "      <td>1</td>\n",
       "      <td>1</td>\n",
       "      <td>0</td>\n",
       "      <td>0</td>\n",
       "      <td>1</td>\n",
       "      <td>0</td>\n",
       "      <td>1</td>\n",
       "      <td>0</td>\n",
       "      <td>0</td>\n",
       "      <td>4</td>\n",
       "    </tr>\n",
       "    <tr>\n",
       "      <th>3</th>\n",
       "      <td>bear</td>\n",
       "      <td>1</td>\n",
       "      <td>0</td>\n",
       "      <td>0</td>\n",
       "      <td>1</td>\n",
       "      <td>0</td>\n",
       "      <td>0</td>\n",
       "      <td>1</td>\n",
       "      <td>1</td>\n",
       "      <td>1</td>\n",
       "      <td>1</td>\n",
       "      <td>0</td>\n",
       "      <td>0</td>\n",
       "      <td>4</td>\n",
       "      <td>0</td>\n",
       "      <td>0</td>\n",
       "      <td>1</td>\n",
       "      <td>1</td>\n",
       "    </tr>\n",
       "    <tr>\n",
       "      <th>4</th>\n",
       "      <td>boar</td>\n",
       "      <td>1</td>\n",
       "      <td>0</td>\n",
       "      <td>0</td>\n",
       "      <td>1</td>\n",
       "      <td>0</td>\n",
       "      <td>0</td>\n",
       "      <td>1</td>\n",
       "      <td>1</td>\n",
       "      <td>1</td>\n",
       "      <td>1</td>\n",
       "      <td>0</td>\n",
       "      <td>0</td>\n",
       "      <td>4</td>\n",
       "      <td>1</td>\n",
       "      <td>0</td>\n",
       "      <td>1</td>\n",
       "      <td>1</td>\n",
       "    </tr>\n",
       "    <tr>\n",
       "      <th>...</th>\n",
       "      <td>...</td>\n",
       "      <td>...</td>\n",
       "      <td>...</td>\n",
       "      <td>...</td>\n",
       "      <td>...</td>\n",
       "      <td>...</td>\n",
       "      <td>...</td>\n",
       "      <td>...</td>\n",
       "      <td>...</td>\n",
       "      <td>...</td>\n",
       "      <td>...</td>\n",
       "      <td>...</td>\n",
       "      <td>...</td>\n",
       "      <td>...</td>\n",
       "      <td>...</td>\n",
       "      <td>...</td>\n",
       "      <td>...</td>\n",
       "      <td>...</td>\n",
       "    </tr>\n",
       "    <tr>\n",
       "      <th>96</th>\n",
       "      <td>wallaby</td>\n",
       "      <td>1</td>\n",
       "      <td>0</td>\n",
       "      <td>0</td>\n",
       "      <td>1</td>\n",
       "      <td>0</td>\n",
       "      <td>0</td>\n",
       "      <td>0</td>\n",
       "      <td>1</td>\n",
       "      <td>1</td>\n",
       "      <td>1</td>\n",
       "      <td>0</td>\n",
       "      <td>0</td>\n",
       "      <td>2</td>\n",
       "      <td>1</td>\n",
       "      <td>0</td>\n",
       "      <td>1</td>\n",
       "      <td>1</td>\n",
       "    </tr>\n",
       "    <tr>\n",
       "      <th>97</th>\n",
       "      <td>wasp</td>\n",
       "      <td>1</td>\n",
       "      <td>0</td>\n",
       "      <td>1</td>\n",
       "      <td>0</td>\n",
       "      <td>1</td>\n",
       "      <td>0</td>\n",
       "      <td>0</td>\n",
       "      <td>0</td>\n",
       "      <td>0</td>\n",
       "      <td>1</td>\n",
       "      <td>1</td>\n",
       "      <td>0</td>\n",
       "      <td>6</td>\n",
       "      <td>0</td>\n",
       "      <td>0</td>\n",
       "      <td>0</td>\n",
       "      <td>6</td>\n",
       "    </tr>\n",
       "    <tr>\n",
       "      <th>98</th>\n",
       "      <td>wolf</td>\n",
       "      <td>1</td>\n",
       "      <td>0</td>\n",
       "      <td>0</td>\n",
       "      <td>1</td>\n",
       "      <td>0</td>\n",
       "      <td>0</td>\n",
       "      <td>1</td>\n",
       "      <td>1</td>\n",
       "      <td>1</td>\n",
       "      <td>1</td>\n",
       "      <td>0</td>\n",
       "      <td>0</td>\n",
       "      <td>4</td>\n",
       "      <td>1</td>\n",
       "      <td>0</td>\n",
       "      <td>1</td>\n",
       "      <td>1</td>\n",
       "    </tr>\n",
       "    <tr>\n",
       "      <th>99</th>\n",
       "      <td>worm</td>\n",
       "      <td>0</td>\n",
       "      <td>0</td>\n",
       "      <td>1</td>\n",
       "      <td>0</td>\n",
       "      <td>0</td>\n",
       "      <td>0</td>\n",
       "      <td>0</td>\n",
       "      <td>0</td>\n",
       "      <td>0</td>\n",
       "      <td>1</td>\n",
       "      <td>0</td>\n",
       "      <td>0</td>\n",
       "      <td>0</td>\n",
       "      <td>0</td>\n",
       "      <td>0</td>\n",
       "      <td>0</td>\n",
       "      <td>7</td>\n",
       "    </tr>\n",
       "    <tr>\n",
       "      <th>100</th>\n",
       "      <td>wren</td>\n",
       "      <td>0</td>\n",
       "      <td>1</td>\n",
       "      <td>1</td>\n",
       "      <td>0</td>\n",
       "      <td>1</td>\n",
       "      <td>0</td>\n",
       "      <td>0</td>\n",
       "      <td>0</td>\n",
       "      <td>1</td>\n",
       "      <td>1</td>\n",
       "      <td>0</td>\n",
       "      <td>0</td>\n",
       "      <td>2</td>\n",
       "      <td>1</td>\n",
       "      <td>0</td>\n",
       "      <td>0</td>\n",
       "      <td>2</td>\n",
       "    </tr>\n",
       "  </tbody>\n",
       "</table>\n",
       "<p>101 rows × 18 columns</p>\n",
       "</div>"
      ],
      "text/plain": [
       "    animal name  hair  feathers  eggs  milk  airborne  aquatic  predator  \\\n",
       "0      aardvark     1         0     0     1         0        0         1   \n",
       "1      antelope     1         0     0     1         0        0         0   \n",
       "2          bass     0         0     1     0         0        1         1   \n",
       "3          bear     1         0     0     1         0        0         1   \n",
       "4          boar     1         0     0     1         0        0         1   \n",
       "..          ...   ...       ...   ...   ...       ...      ...       ...   \n",
       "96      wallaby     1         0     0     1         0        0         0   \n",
       "97         wasp     1         0     1     0         1        0         0   \n",
       "98         wolf     1         0     0     1         0        0         1   \n",
       "99         worm     0         0     1     0         0        0         0   \n",
       "100        wren     0         1     1     0         1        0         0   \n",
       "\n",
       "     toothed  backbone  breathes  venomous  fins  legs  tail  domestic  \\\n",
       "0          1         1         1         0     0     4     0         0   \n",
       "1          1         1         1         0     0     4     1         0   \n",
       "2          1         1         0         0     1     0     1         0   \n",
       "3          1         1         1         0     0     4     0         0   \n",
       "4          1         1         1         0     0     4     1         0   \n",
       "..       ...       ...       ...       ...   ...   ...   ...       ...   \n",
       "96         1         1         1         0     0     2     1         0   \n",
       "97         0         0         1         1     0     6     0         0   \n",
       "98         1         1         1         0     0     4     1         0   \n",
       "99         0         0         1         0     0     0     0         0   \n",
       "100        0         1         1         0     0     2     1         0   \n",
       "\n",
       "     catsize  type  \n",
       "0          1     1  \n",
       "1          1     1  \n",
       "2          0     4  \n",
       "3          1     1  \n",
       "4          1     1  \n",
       "..       ...   ...  \n",
       "96         1     1  \n",
       "97         0     6  \n",
       "98         1     1  \n",
       "99         0     7  \n",
       "100        0     2  \n",
       "\n",
       "[101 rows x 18 columns]"
      ]
     },
     "execution_count": 2,
     "metadata": {},
     "output_type": "execute_result"
    }
   ],
   "source": [
    "zoo_data = pd.read_csv('Zoo.csv')\n",
    "zoo_data "
   ]
  },
  {
   "cell_type": "markdown",
   "id": "357fa01d",
   "metadata": {},
   "source": [
    "## 3. EDA\n",
    "### 3.1Initial Analysis"
   ]
  },
  {
   "cell_type": "code",
   "execution_count": 3,
   "id": "cee522bb",
   "metadata": {
    "scrolled": true
   },
   "outputs": [
    {
     "data": {
      "text/plain": [
       "Index(['animal name', 'hair', 'feathers', 'eggs', 'milk', 'airborne',\n",
       "       'aquatic', 'predator', 'toothed', 'backbone', 'breathes', 'venomous',\n",
       "       'fins', 'legs', 'tail', 'domestic', 'catsize', 'type'],\n",
       "      dtype='object')"
      ]
     },
     "execution_count": 3,
     "metadata": {},
     "output_type": "execute_result"
    }
   ],
   "source": [
    "zoo_data.columns"
   ]
  },
  {
   "cell_type": "code",
   "execution_count": 4,
   "id": "0462692f",
   "metadata": {},
   "outputs": [
    {
     "data": {
      "text/plain": [
       "(101, 18)"
      ]
     },
     "execution_count": 4,
     "metadata": {},
     "output_type": "execute_result"
    }
   ],
   "source": [
    "zoo_data.shape"
   ]
  },
  {
   "cell_type": "code",
   "execution_count": 5,
   "id": "be219eef",
   "metadata": {
    "scrolled": true
   },
   "outputs": [
    {
     "data": {
      "text/plain": [
       "animal name    0\n",
       "hair           0\n",
       "feathers       0\n",
       "eggs           0\n",
       "milk           0\n",
       "airborne       0\n",
       "aquatic        0\n",
       "predator       0\n",
       "toothed        0\n",
       "backbone       0\n",
       "breathes       0\n",
       "venomous       0\n",
       "fins           0\n",
       "legs           0\n",
       "tail           0\n",
       "domestic       0\n",
       "catsize        0\n",
       "type           0\n",
       "dtype: int64"
      ]
     },
     "execution_count": 5,
     "metadata": {},
     "output_type": "execute_result"
    }
   ],
   "source": [
    "zoo_data.isna().sum()"
   ]
  },
  {
   "cell_type": "code",
   "execution_count": 9,
   "id": "8758b9eb",
   "metadata": {
    "scrolled": true
   },
   "outputs": [
    {
     "data": {
      "text/plain": [
       "1"
      ]
     },
     "execution_count": 9,
     "metadata": {},
     "output_type": "execute_result"
    }
   ],
   "source": [
    "zoo_data['animal name'].duplicated().sum()"
   ]
  },
  {
   "cell_type": "code",
   "execution_count": 10,
   "id": "0b506f80",
   "metadata": {
    "scrolled": true
   },
   "outputs": [
    {
     "data": {
      "text/html": [
       "<div>\n",
       "<style scoped>\n",
       "    .dataframe tbody tr th:only-of-type {\n",
       "        vertical-align: middle;\n",
       "    }\n",
       "\n",
       "    .dataframe tbody tr th {\n",
       "        vertical-align: top;\n",
       "    }\n",
       "\n",
       "    .dataframe thead th {\n",
       "        text-align: right;\n",
       "    }\n",
       "</style>\n",
       "<table border=\"1\" class=\"dataframe\">\n",
       "  <thead>\n",
       "    <tr style=\"text-align: right;\">\n",
       "      <th></th>\n",
       "      <th>animal name</th>\n",
       "    </tr>\n",
       "  </thead>\n",
       "  <tbody>\n",
       "    <tr>\n",
       "      <th>26</th>\n",
       "      <td>True</td>\n",
       "    </tr>\n",
       "  </tbody>\n",
       "</table>\n",
       "</div>"
      ],
      "text/plain": [
       "    animal name\n",
       "26         True"
      ]
     },
     "execution_count": 10,
     "metadata": {},
     "output_type": "execute_result"
    }
   ],
   "source": [
    "a = pd.DataFrame(zoo_data['animal name'].duplicated())\n",
    "a[a['animal name']==True]"
   ]
  },
  {
   "cell_type": "code",
   "execution_count": 11,
   "id": "9c983f61",
   "metadata": {},
   "outputs": [
    {
     "data": {
      "text/plain": [
       "(100, 18)"
      ]
     },
     "execution_count": 11,
     "metadata": {},
     "output_type": "execute_result"
    }
   ],
   "source": [
    "zoo_data.rename(columns={'animal name':'animal_name'},inplace=True)\n",
    "zoo_data.drop_duplicates(\"animal_name\", \"first\",True)\n",
    "zoo_data.shape"
   ]
  },
  {
   "cell_type": "code",
   "execution_count": 13,
   "id": "92644704",
   "metadata": {
    "scrolled": true
   },
   "outputs": [
    {
     "data": {
      "text/plain": [
       "animal_name    object\n",
       "hair            int64\n",
       "feathers        int64\n",
       "eggs            int64\n",
       "milk            int64\n",
       "airborne        int64\n",
       "aquatic         int64\n",
       "predator        int64\n",
       "toothed         int64\n",
       "backbone        int64\n",
       "breathes        int64\n",
       "venomous        int64\n",
       "fins            int64\n",
       "legs            int64\n",
       "tail            int64\n",
       "domestic        int64\n",
       "catsize         int64\n",
       "type            int64\n",
       "dtype: object"
      ]
     },
     "execution_count": 13,
     "metadata": {},
     "output_type": "execute_result"
    }
   ],
   "source": [
    "zoo_data.dtypes"
   ]
  },
  {
   "cell_type": "code",
   "execution_count": 14,
   "id": "e11e47fc",
   "metadata": {},
   "outputs": [
    {
     "data": {
      "text/html": [
       "<div>\n",
       "<style scoped>\n",
       "    .dataframe tbody tr th:only-of-type {\n",
       "        vertical-align: middle;\n",
       "    }\n",
       "\n",
       "    .dataframe tbody tr th {\n",
       "        vertical-align: top;\n",
       "    }\n",
       "\n",
       "    .dataframe thead th {\n",
       "        text-align: right;\n",
       "    }\n",
       "</style>\n",
       "<table border=\"1\" class=\"dataframe\">\n",
       "  <thead>\n",
       "    <tr style=\"text-align: right;\">\n",
       "      <th></th>\n",
       "      <th>count</th>\n",
       "      <th>mean</th>\n",
       "      <th>std</th>\n",
       "      <th>min</th>\n",
       "      <th>25%</th>\n",
       "      <th>50%</th>\n",
       "      <th>75%</th>\n",
       "      <th>max</th>\n",
       "    </tr>\n",
       "  </thead>\n",
       "  <tbody>\n",
       "    <tr>\n",
       "      <th>hair</th>\n",
       "      <td>100.0</td>\n",
       "      <td>0.43</td>\n",
       "      <td>0.497570</td>\n",
       "      <td>0.0</td>\n",
       "      <td>0.00</td>\n",
       "      <td>0.0</td>\n",
       "      <td>1.0</td>\n",
       "      <td>1.0</td>\n",
       "    </tr>\n",
       "    <tr>\n",
       "      <th>feathers</th>\n",
       "      <td>100.0</td>\n",
       "      <td>0.20</td>\n",
       "      <td>0.402015</td>\n",
       "      <td>0.0</td>\n",
       "      <td>0.00</td>\n",
       "      <td>0.0</td>\n",
       "      <td>0.0</td>\n",
       "      <td>1.0</td>\n",
       "    </tr>\n",
       "    <tr>\n",
       "      <th>eggs</th>\n",
       "      <td>100.0</td>\n",
       "      <td>0.58</td>\n",
       "      <td>0.496045</td>\n",
       "      <td>0.0</td>\n",
       "      <td>0.00</td>\n",
       "      <td>1.0</td>\n",
       "      <td>1.0</td>\n",
       "      <td>1.0</td>\n",
       "    </tr>\n",
       "    <tr>\n",
       "      <th>milk</th>\n",
       "      <td>100.0</td>\n",
       "      <td>0.41</td>\n",
       "      <td>0.494311</td>\n",
       "      <td>0.0</td>\n",
       "      <td>0.00</td>\n",
       "      <td>0.0</td>\n",
       "      <td>1.0</td>\n",
       "      <td>1.0</td>\n",
       "    </tr>\n",
       "    <tr>\n",
       "      <th>airborne</th>\n",
       "      <td>100.0</td>\n",
       "      <td>0.24</td>\n",
       "      <td>0.429235</td>\n",
       "      <td>0.0</td>\n",
       "      <td>0.00</td>\n",
       "      <td>0.0</td>\n",
       "      <td>0.0</td>\n",
       "      <td>1.0</td>\n",
       "    </tr>\n",
       "    <tr>\n",
       "      <th>aquatic</th>\n",
       "      <td>100.0</td>\n",
       "      <td>0.35</td>\n",
       "      <td>0.479372</td>\n",
       "      <td>0.0</td>\n",
       "      <td>0.00</td>\n",
       "      <td>0.0</td>\n",
       "      <td>1.0</td>\n",
       "      <td>1.0</td>\n",
       "    </tr>\n",
       "    <tr>\n",
       "      <th>predator</th>\n",
       "      <td>100.0</td>\n",
       "      <td>0.55</td>\n",
       "      <td>0.500000</td>\n",
       "      <td>0.0</td>\n",
       "      <td>0.00</td>\n",
       "      <td>1.0</td>\n",
       "      <td>1.0</td>\n",
       "      <td>1.0</td>\n",
       "    </tr>\n",
       "    <tr>\n",
       "      <th>toothed</th>\n",
       "      <td>100.0</td>\n",
       "      <td>0.60</td>\n",
       "      <td>0.492366</td>\n",
       "      <td>0.0</td>\n",
       "      <td>0.00</td>\n",
       "      <td>1.0</td>\n",
       "      <td>1.0</td>\n",
       "      <td>1.0</td>\n",
       "    </tr>\n",
       "    <tr>\n",
       "      <th>backbone</th>\n",
       "      <td>100.0</td>\n",
       "      <td>0.82</td>\n",
       "      <td>0.386123</td>\n",
       "      <td>0.0</td>\n",
       "      <td>1.00</td>\n",
       "      <td>1.0</td>\n",
       "      <td>1.0</td>\n",
       "      <td>1.0</td>\n",
       "    </tr>\n",
       "    <tr>\n",
       "      <th>breathes</th>\n",
       "      <td>100.0</td>\n",
       "      <td>0.79</td>\n",
       "      <td>0.409360</td>\n",
       "      <td>0.0</td>\n",
       "      <td>1.00</td>\n",
       "      <td>1.0</td>\n",
       "      <td>1.0</td>\n",
       "      <td>1.0</td>\n",
       "    </tr>\n",
       "    <tr>\n",
       "      <th>venomous</th>\n",
       "      <td>100.0</td>\n",
       "      <td>0.07</td>\n",
       "      <td>0.256432</td>\n",
       "      <td>0.0</td>\n",
       "      <td>0.00</td>\n",
       "      <td>0.0</td>\n",
       "      <td>0.0</td>\n",
       "      <td>1.0</td>\n",
       "    </tr>\n",
       "    <tr>\n",
       "      <th>fins</th>\n",
       "      <td>100.0</td>\n",
       "      <td>0.17</td>\n",
       "      <td>0.377525</td>\n",
       "      <td>0.0</td>\n",
       "      <td>0.00</td>\n",
       "      <td>0.0</td>\n",
       "      <td>0.0</td>\n",
       "      <td>1.0</td>\n",
       "    </tr>\n",
       "    <tr>\n",
       "      <th>legs</th>\n",
       "      <td>100.0</td>\n",
       "      <td>2.83</td>\n",
       "      <td>2.040276</td>\n",
       "      <td>0.0</td>\n",
       "      <td>2.00</td>\n",
       "      <td>3.0</td>\n",
       "      <td>4.0</td>\n",
       "      <td>8.0</td>\n",
       "    </tr>\n",
       "    <tr>\n",
       "      <th>tail</th>\n",
       "      <td>100.0</td>\n",
       "      <td>0.75</td>\n",
       "      <td>0.435194</td>\n",
       "      <td>0.0</td>\n",
       "      <td>0.75</td>\n",
       "      <td>1.0</td>\n",
       "      <td>1.0</td>\n",
       "      <td>1.0</td>\n",
       "    </tr>\n",
       "    <tr>\n",
       "      <th>domestic</th>\n",
       "      <td>100.0</td>\n",
       "      <td>0.13</td>\n",
       "      <td>0.337998</td>\n",
       "      <td>0.0</td>\n",
       "      <td>0.00</td>\n",
       "      <td>0.0</td>\n",
       "      <td>0.0</td>\n",
       "      <td>1.0</td>\n",
       "    </tr>\n",
       "    <tr>\n",
       "      <th>catsize</th>\n",
       "      <td>100.0</td>\n",
       "      <td>0.44</td>\n",
       "      <td>0.498888</td>\n",
       "      <td>0.0</td>\n",
       "      <td>0.00</td>\n",
       "      <td>0.0</td>\n",
       "      <td>1.0</td>\n",
       "      <td>1.0</td>\n",
       "    </tr>\n",
       "    <tr>\n",
       "      <th>type</th>\n",
       "      <td>100.0</td>\n",
       "      <td>2.81</td>\n",
       "      <td>2.101923</td>\n",
       "      <td>1.0</td>\n",
       "      <td>1.00</td>\n",
       "      <td>2.0</td>\n",
       "      <td>4.0</td>\n",
       "      <td>7.0</td>\n",
       "    </tr>\n",
       "  </tbody>\n",
       "</table>\n",
       "</div>"
      ],
      "text/plain": [
       "          count  mean       std  min   25%  50%  75%  max\n",
       "hair      100.0  0.43  0.497570  0.0  0.00  0.0  1.0  1.0\n",
       "feathers  100.0  0.20  0.402015  0.0  0.00  0.0  0.0  1.0\n",
       "eggs      100.0  0.58  0.496045  0.0  0.00  1.0  1.0  1.0\n",
       "milk      100.0  0.41  0.494311  0.0  0.00  0.0  1.0  1.0\n",
       "airborne  100.0  0.24  0.429235  0.0  0.00  0.0  0.0  1.0\n",
       "aquatic   100.0  0.35  0.479372  0.0  0.00  0.0  1.0  1.0\n",
       "predator  100.0  0.55  0.500000  0.0  0.00  1.0  1.0  1.0\n",
       "toothed   100.0  0.60  0.492366  0.0  0.00  1.0  1.0  1.0\n",
       "backbone  100.0  0.82  0.386123  0.0  1.00  1.0  1.0  1.0\n",
       "breathes  100.0  0.79  0.409360  0.0  1.00  1.0  1.0  1.0\n",
       "venomous  100.0  0.07  0.256432  0.0  0.00  0.0  0.0  1.0\n",
       "fins      100.0  0.17  0.377525  0.0  0.00  0.0  0.0  1.0\n",
       "legs      100.0  2.83  2.040276  0.0  2.00  3.0  4.0  8.0\n",
       "tail      100.0  0.75  0.435194  0.0  0.75  1.0  1.0  1.0\n",
       "domestic  100.0  0.13  0.337998  0.0  0.00  0.0  0.0  1.0\n",
       "catsize   100.0  0.44  0.498888  0.0  0.00  0.0  1.0  1.0\n",
       "type      100.0  2.81  2.101923  1.0  1.00  2.0  4.0  7.0"
      ]
     },
     "execution_count": 14,
     "metadata": {},
     "output_type": "execute_result"
    }
   ],
   "source": [
    "zoo_data.describe().T"
   ]
  },
  {
   "cell_type": "code",
   "execution_count": 15,
   "id": "b15490f6",
   "metadata": {},
   "outputs": [
    {
     "name": "stdout",
     "output_type": "stream",
     "text": [
      "<class 'pandas.core.frame.DataFrame'>\n",
      "Int64Index: 100 entries, 0 to 100\n",
      "Data columns (total 18 columns):\n",
      " #   Column       Non-Null Count  Dtype \n",
      "---  ------       --------------  ----- \n",
      " 0   animal_name  100 non-null    object\n",
      " 1   hair         100 non-null    int64 \n",
      " 2   feathers     100 non-null    int64 \n",
      " 3   eggs         100 non-null    int64 \n",
      " 4   milk         100 non-null    int64 \n",
      " 5   airborne     100 non-null    int64 \n",
      " 6   aquatic      100 non-null    int64 \n",
      " 7   predator     100 non-null    int64 \n",
      " 8   toothed      100 non-null    int64 \n",
      " 9   backbone     100 non-null    int64 \n",
      " 10  breathes     100 non-null    int64 \n",
      " 11  venomous     100 non-null    int64 \n",
      " 12  fins         100 non-null    int64 \n",
      " 13  legs         100 non-null    int64 \n",
      " 14  tail         100 non-null    int64 \n",
      " 15  domestic     100 non-null    int64 \n",
      " 16  catsize      100 non-null    int64 \n",
      " 17  type         100 non-null    int64 \n",
      "dtypes: int64(17), object(1)\n",
      "memory usage: 14.8+ KB\n"
     ]
    }
   ],
   "source": [
    "zoo_data.info()"
   ]
  },
  {
   "cell_type": "code",
   "execution_count": 16,
   "id": "980b6fcc",
   "metadata": {
    "scrolled": false
   },
   "outputs": [
    {
     "data": {
      "image/png": "[encoded data removed]",
      "text/plain": [
       "<Figure size 720x576 with 1 Axes>"
      ]
     },
     "metadata": {
      "needs_background": "light"
     },
     "output_type": "display_data"
    }
   ],
   "source": [
    "# Type wise animal counts.\n",
    "plt.figure(figsize=(10,8));\n",
    "zoo_data.type.value_counts().plot(kind=\"bar\");\n",
    "plt.xlabel('Type of animal');\n",
    "plt.ylabel(\"Count\");\n",
    "plt.plot();    "
   ]
  },
  {
   "cell_type": "markdown",
   "id": "60ef5678",
   "metadata": {},
   "source": [
    "###### We can see, more number of animals belong to the type 1"
   ]
  },
  {
   "cell_type": "code",
   "execution_count": 17,
   "id": "20a0b036",
   "metadata": {},
   "outputs": [
    {
     "data": {
      "image/png": "[encoded data removed]",
      "text/plain": [
       "<Figure size 576x360 with 1 Axes>"
      ]
     },
     "metadata": {
      "needs_background": "light"
     },
     "output_type": "display_data"
    }
   ],
   "source": [
    "# plot to get number of domestic animals.\n",
    "plt.figure(figsize=(8,5));\n",
    "zoo_data.domestic.value_counts().plot(kind=\"bar\");\n",
    "plt.xlabel('Is Domestic');\n",
    "plt.ylabel(\"Count\");\n",
    "plt.plot();"
   ]
  },
  {
   "cell_type": "markdown",
   "id": "20d99c23",
   "metadata": {},
   "source": [
    "###### Most of the animals are not domestic."
   ]
  },
  {
   "cell_type": "code",
   "execution_count": 18,
   "id": "344096b3",
   "metadata": {
    "scrolled": true
   },
   "outputs": [
    {
     "data": {
      "text/html": [
       "<div>\n",
       "<style scoped>\n",
       "    .dataframe tbody tr th:only-of-type {\n",
       "        vertical-align: middle;\n",
       "    }\n",
       "\n",
       "    .dataframe tbody tr th {\n",
       "        vertical-align: top;\n",
       "    }\n",
       "\n",
       "    .dataframe thead th {\n",
       "        text-align: right;\n",
       "    }\n",
       "</style>\n",
       "<table border=\"1\" class=\"dataframe\">\n",
       "  <thead>\n",
       "    <tr style=\"text-align: right;\">\n",
       "      <th>domestic</th>\n",
       "      <th>0</th>\n",
       "      <th>1</th>\n",
       "    </tr>\n",
       "    <tr>\n",
       "      <th>type</th>\n",
       "      <th></th>\n",
       "      <th></th>\n",
       "    </tr>\n",
       "  </thead>\n",
       "  <tbody>\n",
       "    <tr>\n",
       "      <th>1</th>\n",
       "      <td>33</td>\n",
       "      <td>8</td>\n",
       "    </tr>\n",
       "    <tr>\n",
       "      <th>2</th>\n",
       "      <td>17</td>\n",
       "      <td>3</td>\n",
       "    </tr>\n",
       "    <tr>\n",
       "      <th>3</th>\n",
       "      <td>5</td>\n",
       "      <td>0</td>\n",
       "    </tr>\n",
       "    <tr>\n",
       "      <th>4</th>\n",
       "      <td>12</td>\n",
       "      <td>1</td>\n",
       "    </tr>\n",
       "    <tr>\n",
       "      <th>5</th>\n",
       "      <td>3</td>\n",
       "      <td>0</td>\n",
       "    </tr>\n",
       "    <tr>\n",
       "      <th>6</th>\n",
       "      <td>7</td>\n",
       "      <td>1</td>\n",
       "    </tr>\n",
       "    <tr>\n",
       "      <th>7</th>\n",
       "      <td>10</td>\n",
       "      <td>0</td>\n",
       "    </tr>\n",
       "  </tbody>\n",
       "</table>\n",
       "</div>"
      ],
      "text/plain": [
       "domestic   0  1\n",
       "type           \n",
       "1         33  8\n",
       "2         17  3\n",
       "3          5  0\n",
       "4         12  1\n",
       "5          3  0\n",
       "6          7  1\n",
       "7         10  0"
      ]
     },
     "execution_count": 18,
     "metadata": {},
     "output_type": "execute_result"
    }
   ],
   "source": [
    "# to get domestic animals count in various types of animals - how domestic animals are distributed in various types of animals #frequency table\n",
    "pd.crosstab(zoo_data.type,zoo_data.domestic)"
   ]
  },
  {
   "cell_type": "markdown",
   "id": "ae5d7ff0",
   "metadata": {},
   "source": [
    "###### overall there are just 13 domestic animals among 100 animals"
   ]
  },
  {
   "cell_type": "code",
   "execution_count": 19,
   "id": "8612eaa3",
   "metadata": {
    "scrolled": true
   },
   "outputs": [
    {
     "data": {
      "image/png": "[encoded data removed]",
      "text/plain": [
       "<Figure size 720x576 with 1 Axes>"
      ]
     },
     "metadata": {
      "needs_background": "light"
     },
     "output_type": "display_data"
    }
   ],
   "source": [
    "# visualization of above frequency table\n",
    "pd.crosstab(zoo_data.type, zoo_data.domestic).plot(kind=\"bar\", figsize=(10, 8), title=\"Class wise Domestic & Non-Domestic Count\");"
   ]
  },
  {
   "cell_type": "code",
   "execution_count": 20,
   "id": "34035a31",
   "metadata": {},
   "outputs": [],
   "source": [
    "# Most of the domestic animals belong to type 1"
   ]
  },
  {
   "cell_type": "markdown",
   "id": "a22c87a2",
   "metadata": {},
   "source": [
    "#### Animals that provide MILK"
   ]
  },
  {
   "cell_type": "code",
   "execution_count": 39,
   "id": "5d1d96d0",
   "metadata": {
    "scrolled": true
   },
   "outputs": [
    {
     "name": "stdout",
     "output_type": "stream",
     "text": [
      "41 animals provides us milk.\n",
      "The frequency table of milk giving animals in various types of animals:\n",
      "milk   0   1\n",
      "type        \n",
      "1      0  41\n",
      "2     20   0\n",
      "3      5   0\n",
      "4     13   0\n",
      "5      3   0\n",
      "6      8   0\n",
      "7     10   0\n"
     ]
    }
   ],
   "source": [
    "# Lets see how many animals provides us milk\n",
    "print(zoo_data[zoo_data['milk']==1].value_counts().sum(), 'animals provides us milk.')\n",
    "#zoo_data[(zoo_data.milk==1)].shape[0]\n",
    "print('The frequency table of milk giving animals in various types of animals:',pd.crosstab(zoo_data.type,zoo_data.milk),sep='\\n')"
   ]
  },
  {
   "cell_type": "markdown",
   "id": "2ae66661",
   "metadata": {},
   "source": [
    "###### only type 1 animals provides milk."
   ]
  },
  {
   "cell_type": "code",
   "execution_count": 27,
   "id": "a665cdb7",
   "metadata": {
    "scrolled": true
   },
   "outputs": [
    {
     "data": {
      "image/png": "[encoded data removed]",
      "text/plain": [
       "<Figure size 432x288 with 1 Axes>"
      ]
     },
     "metadata": {
      "needs_background": "light"
     },
     "output_type": "display_data"
    }
   ],
   "source": [
    "pd.crosstab(zoo_data.type,zoo_data.milk).plot(kind='bar',title='Class wise distribution of Milk providing animals').plot(figsize = (10,8))\n",
    "plt.show()"
   ]
  },
  {
   "cell_type": "markdown",
   "id": "d6dfa4a0",
   "metadata": {},
   "source": [
    "#### Understanding Aquatic animals count"
   ]
  },
  {
   "cell_type": "code",
   "execution_count": 35,
   "id": "087c9675",
   "metadata": {},
   "outputs": [
    {
     "data": {
      "text/plain": [
       "35"
      ]
     },
     "execution_count": 35,
     "metadata": {},
     "output_type": "execute_result"
    }
   ],
   "source": [
    "zoo_data[(zoo_data.aquatic==1)].shape[0]"
   ]
  },
  {
   "cell_type": "code",
   "execution_count": 36,
   "id": "1bd872a7",
   "metadata": {
    "scrolled": true
   },
   "outputs": [
    {
     "data": {
      "text/plain": [
       "1     6\n",
       "2     6\n",
       "3     1\n",
       "4    13\n",
       "5     3\n",
       "7     6\n",
       "Name: type, dtype: int64"
      ]
     },
     "execution_count": 36,
     "metadata": {},
     "output_type": "execute_result"
    }
   ],
   "source": [
    "zoo_data[zoo_data.aquatic==1].type.value_counts().sort_index()"
   ]
  },
  {
   "cell_type": "markdown",
   "id": "f5e48b0c",
   "metadata": {},
   "source": [
    "###### Most of the   aquatic animals belong to type 4."
   ]
  },
  {
   "cell_type": "code",
   "execution_count": 40,
   "id": "e96b56d2",
   "metadata": {},
   "outputs": [
    {
     "data": {
      "text/html": [
       "<div>\n",
       "<style scoped>\n",
       "    .dataframe tbody tr th:only-of-type {\n",
       "        vertical-align: middle;\n",
       "    }\n",
       "\n",
       "    .dataframe tbody tr th {\n",
       "        vertical-align: top;\n",
       "    }\n",
       "\n",
       "    .dataframe thead th {\n",
       "        text-align: right;\n",
       "    }\n",
       "</style>\n",
       "<table border=\"1\" class=\"dataframe\">\n",
       "  <thead>\n",
       "    <tr style=\"text-align: right;\">\n",
       "      <th>aquatic</th>\n",
       "      <th>0</th>\n",
       "      <th>1</th>\n",
       "    </tr>\n",
       "    <tr>\n",
       "      <th>type</th>\n",
       "      <th></th>\n",
       "      <th></th>\n",
       "    </tr>\n",
       "  </thead>\n",
       "  <tbody>\n",
       "    <tr>\n",
       "      <th>1</th>\n",
       "      <td>35</td>\n",
       "      <td>6</td>\n",
       "    </tr>\n",
       "    <tr>\n",
       "      <th>2</th>\n",
       "      <td>14</td>\n",
       "      <td>6</td>\n",
       "    </tr>\n",
       "    <tr>\n",
       "      <th>3</th>\n",
       "      <td>4</td>\n",
       "      <td>1</td>\n",
       "    </tr>\n",
       "    <tr>\n",
       "      <th>4</th>\n",
       "      <td>0</td>\n",
       "      <td>13</td>\n",
       "    </tr>\n",
       "    <tr>\n",
       "      <th>5</th>\n",
       "      <td>0</td>\n",
       "      <td>3</td>\n",
       "    </tr>\n",
       "    <tr>\n",
       "      <th>6</th>\n",
       "      <td>8</td>\n",
       "      <td>0</td>\n",
       "    </tr>\n",
       "    <tr>\n",
       "      <th>7</th>\n",
       "      <td>4</td>\n",
       "      <td>6</td>\n",
       "    </tr>\n",
       "  </tbody>\n",
       "</table>\n",
       "</div>"
      ],
      "text/plain": [
       "aquatic   0   1\n",
       "type           \n",
       "1        35   6\n",
       "2        14   6\n",
       "3         4   1\n",
       "4         0  13\n",
       "5         0   3\n",
       "6         8   0\n",
       "7         4   6"
      ]
     },
     "execution_count": 40,
     "metadata": {},
     "output_type": "execute_result"
    }
   ],
   "source": [
    "pd.crosstab(zoo_data.type, zoo_data.aquatic)"
   ]
  },
  {
   "cell_type": "code",
   "execution_count": 38,
   "id": "c766eacb",
   "metadata": {
    "scrolled": false
   },
   "outputs": [
    {
     "data": {
      "image/png": "[encoded data removed]",
      "text/plain": [
       "<Figure size 720x576 with 1 Axes>"
      ]
     },
     "metadata": {
      "needs_background": "light"
     },
     "output_type": "display_data"
    }
   ],
   "source": [
    "pd.crosstab(zoo_data.type, zoo_data.aquatic).plot(kind=\"bar\", figsize=(10, 8));"
   ]
  },
  {
   "cell_type": "markdown",
   "id": "a59a6d2d",
   "metadata": {},
   "source": [
    "#### Understanding venomous(poisonous) animals count"
   ]
  },
  {
   "cell_type": "code",
   "execution_count": 43,
   "id": "83a06682",
   "metadata": {},
   "outputs": [
    {
     "name": "stdout",
     "output_type": "stream",
     "text": [
      "7 animals are venomous.\n",
      "The frequency table of milk giving animals in various types of animals:\n"
     ]
    },
    {
     "data": {
      "text/html": [
       "<div>\n",
       "<style scoped>\n",
       "    .dataframe tbody tr th:only-of-type {\n",
       "        vertical-align: middle;\n",
       "    }\n",
       "\n",
       "    .dataframe tbody tr th {\n",
       "        vertical-align: top;\n",
       "    }\n",
       "\n",
       "    .dataframe thead th {\n",
       "        text-align: right;\n",
       "    }\n",
       "</style>\n",
       "<table border=\"1\" class=\"dataframe\">\n",
       "  <thead>\n",
       "    <tr style=\"text-align: right;\">\n",
       "      <th>venomous</th>\n",
       "      <th>0</th>\n",
       "      <th>1</th>\n",
       "    </tr>\n",
       "    <tr>\n",
       "      <th>type</th>\n",
       "      <th></th>\n",
       "      <th></th>\n",
       "    </tr>\n",
       "  </thead>\n",
       "  <tbody>\n",
       "    <tr>\n",
       "      <th>1</th>\n",
       "      <td>41</td>\n",
       "      <td>0</td>\n",
       "    </tr>\n",
       "    <tr>\n",
       "      <th>2</th>\n",
       "      <td>20</td>\n",
       "      <td>0</td>\n",
       "    </tr>\n",
       "    <tr>\n",
       "      <th>3</th>\n",
       "      <td>3</td>\n",
       "      <td>2</td>\n",
       "    </tr>\n",
       "    <tr>\n",
       "      <th>4</th>\n",
       "      <td>12</td>\n",
       "      <td>1</td>\n",
       "    </tr>\n",
       "    <tr>\n",
       "      <th>5</th>\n",
       "      <td>3</td>\n",
       "      <td>0</td>\n",
       "    </tr>\n",
       "    <tr>\n",
       "      <th>6</th>\n",
       "      <td>6</td>\n",
       "      <td>2</td>\n",
       "    </tr>\n",
       "    <tr>\n",
       "      <th>7</th>\n",
       "      <td>8</td>\n",
       "      <td>2</td>\n",
       "    </tr>\n",
       "  </tbody>\n",
       "</table>\n",
       "</div>"
      ],
      "text/plain": [
       "venomous   0  1\n",
       "type           \n",
       "1         41  0\n",
       "2         20  0\n",
       "3          3  2\n",
       "4         12  1\n",
       "5          3  0\n",
       "6          6  2\n",
       "7          8  2"
      ]
     },
     "execution_count": 43,
     "metadata": {},
     "output_type": "execute_result"
    }
   ],
   "source": [
    "print(zoo_data[zoo_data['venomous']==1].value_counts().sum(), 'animals are venomous.')\n",
    "\n",
    "print('The frequency table of milk giving animals in various types of animals:')\n",
    "pd.crosstab(zoo_data.type,zoo_data.venomous)"
   ]
  },
  {
   "cell_type": "code",
   "execution_count": 44,
   "id": "f9132be9",
   "metadata": {},
   "outputs": [
    {
     "data": {
      "text/plain": [
       "<AxesSubplot:xlabel='type'>"
      ]
     },
     "execution_count": 44,
     "metadata": {},
     "output_type": "execute_result"
    },
    {
     "data": {
      "image/png": "[encoded data removed]",
      "text/plain": [
       "<Figure size 720x576 with 1 Axes>"
      ]
     },
     "metadata": {
      "needs_background": "light"
     },
     "output_type": "display_data"
    }
   ],
   "source": [
    "# As per our data we have 2 repltiles which are venomous and , 1 fish and other class types\n",
    "pd.crosstab(zoo_data.type, zoo_data.venomous).plot(kind=\"bar\", figsize=(10, 8))"
   ]
  },
  {
   "cell_type": "markdown",
   "id": "55f1d429",
   "metadata": {},
   "source": [
    "#### Understanding about legs of various animals count"
   ]
  },
  {
   "cell_type": "code",
   "execution_count": 46,
   "id": "fa16b534",
   "metadata": {
    "scrolled": true
   },
   "outputs": [
    {
     "name": "stdout",
     "output_type": "stream",
     "text": [
      "77 animals are venomous.\n",
      "The frequency table of milk giving animals in various types of animals:\n"
     ]
    },
    {
     "data": {
      "text/html": [
       "<div>\n",
       "<style scoped>\n",
       "    .dataframe tbody tr th:only-of-type {\n",
       "        vertical-align: middle;\n",
       "    }\n",
       "\n",
       "    .dataframe tbody tr th {\n",
       "        vertical-align: top;\n",
       "    }\n",
       "\n",
       "    .dataframe thead th {\n",
       "        text-align: right;\n",
       "    }\n",
       "</style>\n",
       "<table border=\"1\" class=\"dataframe\">\n",
       "  <thead>\n",
       "    <tr style=\"text-align: right;\">\n",
       "      <th>legs</th>\n",
       "      <th>0</th>\n",
       "      <th>2</th>\n",
       "      <th>4</th>\n",
       "      <th>5</th>\n",
       "      <th>6</th>\n",
       "      <th>8</th>\n",
       "    </tr>\n",
       "    <tr>\n",
       "      <th>type</th>\n",
       "      <th></th>\n",
       "      <th></th>\n",
       "      <th></th>\n",
       "      <th></th>\n",
       "      <th></th>\n",
       "      <th></th>\n",
       "    </tr>\n",
       "  </thead>\n",
       "  <tbody>\n",
       "    <tr>\n",
       "      <th>1</th>\n",
       "      <td>3</td>\n",
       "      <td>7</td>\n",
       "      <td>31</td>\n",
       "      <td>0</td>\n",
       "      <td>0</td>\n",
       "      <td>0</td>\n",
       "    </tr>\n",
       "    <tr>\n",
       "      <th>2</th>\n",
       "      <td>0</td>\n",
       "      <td>20</td>\n",
       "      <td>0</td>\n",
       "      <td>0</td>\n",
       "      <td>0</td>\n",
       "      <td>0</td>\n",
       "    </tr>\n",
       "    <tr>\n",
       "      <th>3</th>\n",
       "      <td>3</td>\n",
       "      <td>0</td>\n",
       "      <td>2</td>\n",
       "      <td>0</td>\n",
       "      <td>0</td>\n",
       "      <td>0</td>\n",
       "    </tr>\n",
       "    <tr>\n",
       "      <th>4</th>\n",
       "      <td>13</td>\n",
       "      <td>0</td>\n",
       "      <td>0</td>\n",
       "      <td>0</td>\n",
       "      <td>0</td>\n",
       "      <td>0</td>\n",
       "    </tr>\n",
       "    <tr>\n",
       "      <th>5</th>\n",
       "      <td>0</td>\n",
       "      <td>0</td>\n",
       "      <td>3</td>\n",
       "      <td>0</td>\n",
       "      <td>0</td>\n",
       "      <td>0</td>\n",
       "    </tr>\n",
       "    <tr>\n",
       "      <th>6</th>\n",
       "      <td>0</td>\n",
       "      <td>0</td>\n",
       "      <td>0</td>\n",
       "      <td>0</td>\n",
       "      <td>8</td>\n",
       "      <td>0</td>\n",
       "    </tr>\n",
       "    <tr>\n",
       "      <th>7</th>\n",
       "      <td>4</td>\n",
       "      <td>0</td>\n",
       "      <td>1</td>\n",
       "      <td>1</td>\n",
       "      <td>2</td>\n",
       "      <td>2</td>\n",
       "    </tr>\n",
       "  </tbody>\n",
       "</table>\n",
       "</div>"
      ],
      "text/plain": [
       "legs   0   2   4  5  6  8\n",
       "type                     \n",
       "1      3   7  31  0  0  0\n",
       "2      0  20   0  0  0  0\n",
       "3      3   0   2  0  0  0\n",
       "4     13   0   0  0  0  0\n",
       "5      0   0   3  0  0  0\n",
       "6      0   0   0  0  8  0\n",
       "7      4   0   1  1  2  2"
      ]
     },
     "execution_count": 46,
     "metadata": {},
     "output_type": "execute_result"
    }
   ],
   "source": [
    "print(zoo_data[zoo_data['legs']!=0].value_counts().sum(), 'animals have legs.')\n",
    "\n",
    "print('The frequency table of milk giving animals in various types of animals:')\n",
    "pd.crosstab(zoo_data.type,zoo_data.legs)"
   ]
  },
  {
   "cell_type": "code",
   "execution_count": 47,
   "id": "7bed680e",
   "metadata": {},
   "outputs": [
    {
     "data": {
      "image/png": "[encoded data removed]",
      "text/plain": [
       "<Figure size 720x576 with 1 Axes>"
      ]
     },
     "metadata": {
      "needs_background": "light"
     },
     "output_type": "display_data"
    }
   ],
   "source": [
    "pd.crosstab(zoo_data.type, zoo_data.legs).plot(kind=\"bar\", figsize=(10, 8));"
   ]
  },
  {
   "cell_type": "markdown",
   "id": "8f1acf3a",
   "metadata": {},
   "source": [
    "###### Animals belonging to type 4 do not have legs at all."
   ]
  },
  {
   "cell_type": "code",
   "execution_count": 48,
   "id": "29e8c556",
   "metadata": {},
   "outputs": [
    {
     "data": {
      "text/html": [
       "<div>\n",
       "<style scoped>\n",
       "    .dataframe tbody tr th:only-of-type {\n",
       "        vertical-align: middle;\n",
       "    }\n",
       "\n",
       "    .dataframe tbody tr th {\n",
       "        vertical-align: top;\n",
       "    }\n",
       "\n",
       "    .dataframe thead th {\n",
       "        text-align: right;\n",
       "    }\n",
       "</style>\n",
       "<table border=\"1\" class=\"dataframe\">\n",
       "  <thead>\n",
       "    <tr style=\"text-align: right;\">\n",
       "      <th></th>\n",
       "      <th>hair</th>\n",
       "      <th>feathers</th>\n",
       "      <th>eggs</th>\n",
       "      <th>milk</th>\n",
       "      <th>airborne</th>\n",
       "      <th>aquatic</th>\n",
       "      <th>predator</th>\n",
       "      <th>toothed</th>\n",
       "      <th>backbone</th>\n",
       "      <th>breathes</th>\n",
       "      <th>venomous</th>\n",
       "      <th>fins</th>\n",
       "      <th>legs</th>\n",
       "      <th>tail</th>\n",
       "      <th>domestic</th>\n",
       "      <th>catsize</th>\n",
       "      <th>type</th>\n",
       "    </tr>\n",
       "  </thead>\n",
       "  <tbody>\n",
       "    <tr>\n",
       "      <th>hair</th>\n",
       "      <td>1.000000</td>\n",
       "      <td>-0.434277</td>\n",
       "      <td>-0.816046</td>\n",
       "      <td>0.877637</td>\n",
       "      <td>-2.043147e-01</td>\n",
       "      <td>-0.467951</td>\n",
       "      <td>-0.148195</td>\n",
       "      <td>0.503017</td>\n",
       "      <td>0.196633</td>\n",
       "      <td>0.447809</td>\n",
       "      <td>-0.079958</td>\n",
       "      <td>-0.285535</td>\n",
       "      <td>0.401083</td>\n",
       "      <td>3.498557e-02</td>\n",
       "      <td>0.204810</td>\n",
       "      <td>0.450866</td>\n",
       "      <td>-0.558531</td>\n",
       "    </tr>\n",
       "    <tr>\n",
       "      <th>feathers</th>\n",
       "      <td>-0.434277</td>\n",
       "      <td>1.000000</td>\n",
       "      <td>0.425481</td>\n",
       "      <td>-0.416808</td>\n",
       "      <td>6.556101e-01</td>\n",
       "      <td>-0.052414</td>\n",
       "      <td>-0.100504</td>\n",
       "      <td>-0.612372</td>\n",
       "      <td>0.234261</td>\n",
       "      <td>0.257790</td>\n",
       "      <td>-0.137176</td>\n",
       "      <td>-0.226285</td>\n",
       "      <td>-0.204429</td>\n",
       "      <td>2.886751e-01</td>\n",
       "      <td>0.029735</td>\n",
       "      <td>-0.141019</td>\n",
       "      <td>-0.193651</td>\n",
       "    </tr>\n",
       "    <tr>\n",
       "      <th>eggs</th>\n",
       "      <td>-0.816046</td>\n",
       "      <td>0.425481</td>\n",
       "      <td>1.000000</td>\n",
       "      <td>-0.938420</td>\n",
       "      <td>3.833190e-01</td>\n",
       "      <td>0.369564</td>\n",
       "      <td>0.004073</td>\n",
       "      <td>-0.653451</td>\n",
       "      <td>-0.345957</td>\n",
       "      <td>-0.388996</td>\n",
       "      <td>0.074645</td>\n",
       "      <td>0.169366</td>\n",
       "      <td>-0.230950</td>\n",
       "      <td>-2.105587e-01</td>\n",
       "      <td>-0.153025</td>\n",
       "      <td>-0.511029</td>\n",
       "      <td>0.658967</td>\n",
       "    </tr>\n",
       "    <tr>\n",
       "      <th>milk</th>\n",
       "      <td>0.877637</td>\n",
       "      <td>-0.416808</td>\n",
       "      <td>-0.938420</td>\n",
       "      <td>1.000000</td>\n",
       "      <td>-3.732379e-01</td>\n",
       "      <td>-0.355941</td>\n",
       "      <td>-0.022478</td>\n",
       "      <td>0.639142</td>\n",
       "      <td>0.390567</td>\n",
       "      <td>0.429796</td>\n",
       "      <td>-0.228704</td>\n",
       "      <td>-0.160759</td>\n",
       "      <td>0.220042</td>\n",
       "      <td>1.995586e-01</td>\n",
       "      <td>0.161422</td>\n",
       "      <td>0.571804</td>\n",
       "      <td>-0.721456</td>\n",
       "    </tr>\n",
       "    <tr>\n",
       "      <th>airborne</th>\n",
       "      <td>-0.204315</td>\n",
       "      <td>0.655610</td>\n",
       "      <td>0.383319</td>\n",
       "      <td>-0.373238</td>\n",
       "      <td>1.000000e+00</td>\n",
       "      <td>-0.166907</td>\n",
       "      <td>-0.291804</td>\n",
       "      <td>-0.592657</td>\n",
       "      <td>-0.102389</td>\n",
       "      <td>0.289731</td>\n",
       "      <td>0.029366</td>\n",
       "      <td>-0.254322</td>\n",
       "      <td>0.047059</td>\n",
       "      <td>4.352464e-17</td>\n",
       "      <td>0.061269</td>\n",
       "      <td>-0.356606</td>\n",
       "      <td>0.028661</td>\n",
       "    </tr>\n",
       "    <tr>\n",
       "      <th>aquatic</th>\n",
       "      <td>-0.467951</td>\n",
       "      <td>-0.052414</td>\n",
       "      <td>0.369564</td>\n",
       "      <td>-0.355941</td>\n",
       "      <td>-1.669075e-01</td>\n",
       "      <td>1.000000</td>\n",
       "      <td>0.368748</td>\n",
       "      <td>0.042796</td>\n",
       "      <td>0.016371</td>\n",
       "      <td>-0.651143</td>\n",
       "      <td>0.045194</td>\n",
       "      <td>0.616748</td>\n",
       "      <td>-0.372313</td>\n",
       "      <td>-1.210455e-02</td>\n",
       "      <td>-0.221313</td>\n",
       "      <td>-0.101368</td>\n",
       "      <td>0.317284</td>\n",
       "    </tr>\n",
       "    <tr>\n",
       "      <th>predator</th>\n",
       "      <td>-0.148195</td>\n",
       "      <td>-0.100504</td>\n",
       "      <td>0.004073</td>\n",
       "      <td>-0.022478</td>\n",
       "      <td>-2.918043e-01</td>\n",
       "      <td>0.368748</td>\n",
       "      <td>1.000000</td>\n",
       "      <td>0.123091</td>\n",
       "      <td>0.047088</td>\n",
       "      <td>-0.268959</td>\n",
       "      <td>0.090598</td>\n",
       "      <td>0.195318</td>\n",
       "      <td>-0.105452</td>\n",
       "      <td>3.481553e-02</td>\n",
       "      <td>-0.307814</td>\n",
       "      <td>0.153878</td>\n",
       "      <td>0.052381</td>\n",
       "    </tr>\n",
       "    <tr>\n",
       "      <th>toothed</th>\n",
       "      <td>0.503017</td>\n",
       "      <td>-0.612372</td>\n",
       "      <td>-0.653451</td>\n",
       "      <td>0.639142</td>\n",
       "      <td>-5.926573e-01</td>\n",
       "      <td>0.042796</td>\n",
       "      <td>0.123091</td>\n",
       "      <td>1.000000</td>\n",
       "      <td>0.573819</td>\n",
       "      <td>-0.070162</td>\n",
       "      <td>-0.096003</td>\n",
       "      <td>0.369522</td>\n",
       "      <td>-0.199092</td>\n",
       "      <td>3.299832e-01</td>\n",
       "      <td>0.072836</td>\n",
       "      <td>0.353649</td>\n",
       "      <td>-0.484107</td>\n",
       "    </tr>\n",
       "    <tr>\n",
       "      <th>backbone</th>\n",
       "      <td>0.196633</td>\n",
       "      <td>0.234261</td>\n",
       "      <td>-0.345957</td>\n",
       "      <td>0.390567</td>\n",
       "      <td>-1.023891e-01</td>\n",
       "      <td>0.016371</td>\n",
       "      <td>0.047088</td>\n",
       "      <td>0.573819</td>\n",
       "      <td>1.000000</td>\n",
       "      <td>0.205774</td>\n",
       "      <td>-0.279523</td>\n",
       "      <td>0.212039</td>\n",
       "      <td>-0.436712</td>\n",
       "      <td>7.513914e-01</td>\n",
       "      <td>0.103712</td>\n",
       "      <td>0.362863</td>\n",
       "      <td>-0.839095</td>\n",
       "    </tr>\n",
       "    <tr>\n",
       "      <th>breathes</th>\n",
       "      <td>0.447809</td>\n",
       "      <td>0.257790</td>\n",
       "      <td>-0.388996</td>\n",
       "      <td>0.429796</td>\n",
       "      <td>2.897310e-01</td>\n",
       "      <td>-0.651143</td>\n",
       "      <td>-0.268959</td>\n",
       "      <td>-0.070162</td>\n",
       "      <td>0.205774</td>\n",
       "      <td>1.000000</td>\n",
       "      <td>-0.147224</td>\n",
       "      <td>-0.616347</td>\n",
       "      <td>0.368021</td>\n",
       "      <td>9.922343e-02</td>\n",
       "      <td>0.126297</td>\n",
       "      <td>0.209712</td>\n",
       "      <td>-0.528151</td>\n",
       "    </tr>\n",
       "    <tr>\n",
       "      <th>venomous</th>\n",
       "      <td>-0.079958</td>\n",
       "      <td>-0.137176</td>\n",
       "      <td>0.074645</td>\n",
       "      <td>-0.228704</td>\n",
       "      <td>2.936615e-02</td>\n",
       "      <td>0.045194</td>\n",
       "      <td>0.090598</td>\n",
       "      <td>-0.096003</td>\n",
       "      <td>-0.279523</td>\n",
       "      <td>-0.147224</td>\n",
       "      <td>1.000000</td>\n",
       "      <td>-0.019824</td>\n",
       "      <td>0.003668</td>\n",
       "      <td>-1.131407e-01</td>\n",
       "      <td>0.010489</td>\n",
       "      <td>-0.164230</td>\n",
       "      <td>0.306028</td>\n",
       "    </tr>\n",
       "    <tr>\n",
       "      <th>fins</th>\n",
       "      <td>-0.285535</td>\n",
       "      <td>-0.226285</td>\n",
       "      <td>0.169366</td>\n",
       "      <td>-0.160759</td>\n",
       "      <td>-2.543222e-01</td>\n",
       "      <td>0.616748</td>\n",
       "      <td>0.195318</td>\n",
       "      <td>0.369522</td>\n",
       "      <td>0.212039</td>\n",
       "      <td>-0.616347</td>\n",
       "      <td>-0.019824</td>\n",
       "      <td>1.000000</td>\n",
       "      <td>-0.604679</td>\n",
       "      <td>1.998109e-01</td>\n",
       "      <td>-0.095783</td>\n",
       "      <td>0.027888</td>\n",
       "      <td>0.104762</td>\n",
       "    </tr>\n",
       "    <tr>\n",
       "      <th>legs</th>\n",
       "      <td>0.401083</td>\n",
       "      <td>-0.204429</td>\n",
       "      <td>-0.230950</td>\n",
       "      <td>0.220042</td>\n",
       "      <td>4.705883e-02</td>\n",
       "      <td>-0.372313</td>\n",
       "      <td>-0.105452</td>\n",
       "      <td>-0.199092</td>\n",
       "      <td>-0.436712</td>\n",
       "      <td>0.368021</td>\n",
       "      <td>0.003668</td>\n",
       "      <td>-0.604679</td>\n",
       "      <td>1.000000</td>\n",
       "      <td>-3.441265e-01</td>\n",
       "      <td>0.076313</td>\n",
       "      <td>0.074229</td>\n",
       "      <td>0.126648</td>\n",
       "    </tr>\n",
       "    <tr>\n",
       "      <th>tail</th>\n",
       "      <td>0.034986</td>\n",
       "      <td>0.288675</td>\n",
       "      <td>-0.210559</td>\n",
       "      <td>0.199559</td>\n",
       "      <td>4.352464e-17</td>\n",
       "      <td>-0.012105</td>\n",
       "      <td>0.034816</td>\n",
       "      <td>0.329983</td>\n",
       "      <td>0.751391</td>\n",
       "      <td>0.099223</td>\n",
       "      <td>-0.113141</td>\n",
       "      <td>0.199811</td>\n",
       "      <td>-0.344127</td>\n",
       "      <td>1.000000e+00</td>\n",
       "      <td>0.017168</td>\n",
       "      <td>0.232621</td>\n",
       "      <td>-0.626658</td>\n",
       "    </tr>\n",
       "    <tr>\n",
       "      <th>domestic</th>\n",
       "      <td>0.204810</td>\n",
       "      <td>0.029735</td>\n",
       "      <td>-0.153025</td>\n",
       "      <td>0.161422</td>\n",
       "      <td>6.126874e-02</td>\n",
       "      <td>-0.221313</td>\n",
       "      <td>-0.307814</td>\n",
       "      <td>0.072836</td>\n",
       "      <td>0.103712</td>\n",
       "      <td>0.126297</td>\n",
       "      <td>0.010489</td>\n",
       "      <td>-0.095783</td>\n",
       "      <td>0.076313</td>\n",
       "      <td>1.716754e-02</td>\n",
       "      <td>1.000000</td>\n",
       "      <td>0.016773</td>\n",
       "      <td>-0.178150</td>\n",
       "    </tr>\n",
       "    <tr>\n",
       "      <th>catsize</th>\n",
       "      <td>0.450866</td>\n",
       "      <td>-0.141019</td>\n",
       "      <td>-0.511029</td>\n",
       "      <td>0.571804</td>\n",
       "      <td>-3.566063e-01</td>\n",
       "      <td>-0.101368</td>\n",
       "      <td>0.153878</td>\n",
       "      <td>0.353649</td>\n",
       "      <td>0.362863</td>\n",
       "      <td>0.209712</td>\n",
       "      <td>-0.164230</td>\n",
       "      <td>0.027888</td>\n",
       "      <td>0.074229</td>\n",
       "      <td>2.326211e-01</td>\n",
       "      <td>0.016773</td>\n",
       "      <td>1.000000</td>\n",
       "      <td>-0.516695</td>\n",
       "    </tr>\n",
       "    <tr>\n",
       "      <th>type</th>\n",
       "      <td>-0.558531</td>\n",
       "      <td>-0.193651</td>\n",
       "      <td>0.658967</td>\n",
       "      <td>-0.721456</td>\n",
       "      <td>2.866112e-02</td>\n",
       "      <td>0.317284</td>\n",
       "      <td>0.052381</td>\n",
       "      <td>-0.484107</td>\n",
       "      <td>-0.839095</td>\n",
       "      <td>-0.528151</td>\n",
       "      <td>0.306028</td>\n",
       "      <td>0.104762</td>\n",
       "      <td>0.126648</td>\n",
       "      <td>-6.266583e-01</td>\n",
       "      <td>-0.178150</td>\n",
       "      <td>-0.516695</td>\n",
       "      <td>1.000000</td>\n",
       "    </tr>\n",
       "  </tbody>\n",
       "</table>\n",
       "</div>"
      ],
      "text/plain": [
       "              hair  feathers      eggs      milk      airborne   aquatic  \\\n",
       "hair      1.000000 -0.434277 -0.816046  0.877637 -2.043147e-01 -0.467951   \n",
       "feathers -0.434277  1.000000  0.425481 -0.416808  6.556101e-01 -0.052414   \n",
       "eggs     -0.816046  0.425481  1.000000 -0.938420  3.833190e-01  0.369564   \n",
       "milk      0.877637 -0.416808 -0.938420  1.000000 -3.732379e-01 -0.355941   \n",
       "airborne -0.204315  0.655610  0.383319 -0.373238  1.000000e+00 -0.166907   \n",
       "aquatic  -0.467951 -0.052414  0.369564 -0.355941 -1.669075e-01  1.000000   \n",
       "predator -0.148195 -0.100504  0.004073 -0.022478 -2.918043e-01  0.368748   \n",
       "toothed   0.503017 -0.612372 -0.653451  0.639142 -5.926573e-01  0.042796   \n",
       "backbone  0.196633  0.234261 -0.345957  0.390567 -1.023891e-01  0.016371   \n",
       "breathes  0.447809  0.257790 -0.388996  0.429796  2.897310e-01 -0.651143   \n",
       "venomous -0.079958 -0.137176  0.074645 -0.228704  2.936615e-02  0.045194   \n",
       "fins     -0.285535 -0.226285  0.169366 -0.160759 -2.543222e-01  0.616748   \n",
       "legs      0.401083 -0.204429 -0.230950  0.220042  4.705883e-02 -0.372313   \n",
       "tail      0.034986  0.288675 -0.210559  0.199559  4.352464e-17 -0.012105   \n",
       "domestic  0.204810  0.029735 -0.153025  0.161422  6.126874e-02 -0.221313   \n",
       "catsize   0.450866 -0.141019 -0.511029  0.571804 -3.566063e-01 -0.101368   \n",
       "type     -0.558531 -0.193651  0.658967 -0.721456  2.866112e-02  0.317284   \n",
       "\n",
       "          predator   toothed  backbone  breathes  venomous      fins  \\\n",
       "hair     -0.148195  0.503017  0.196633  0.447809 -0.079958 -0.285535   \n",
       "feathers -0.100504 -0.612372  0.234261  0.257790 -0.137176 -0.226285   \n",
       "eggs      0.004073 -0.653451 -0.345957 -0.388996  0.074645  0.169366   \n",
       "milk     -0.022478  0.639142  0.390567  0.429796 -0.228704 -0.160759   \n",
       "airborne -0.291804 -0.592657 -0.102389  0.289731  0.029366 -0.254322   \n",
       "aquatic   0.368748  0.042796  0.016371 -0.651143  0.045194  0.616748   \n",
       "predator  1.000000  0.123091  0.047088 -0.268959  0.090598  0.195318   \n",
       "toothed   0.123091  1.000000  0.573819 -0.070162 -0.096003  0.369522   \n",
       "backbone  0.047088  0.573819  1.000000  0.205774 -0.279523  0.212039   \n",
       "breathes -0.268959 -0.070162  0.205774  1.000000 -0.147224 -0.616347   \n",
       "venomous  0.090598 -0.096003 -0.279523 -0.147224  1.000000 -0.019824   \n",
       "fins      0.195318  0.369522  0.212039 -0.616347 -0.019824  1.000000   \n",
       "legs     -0.105452 -0.199092 -0.436712  0.368021  0.003668 -0.604679   \n",
       "tail      0.034816  0.329983  0.751391  0.099223 -0.113141  0.199811   \n",
       "domestic -0.307814  0.072836  0.103712  0.126297  0.010489 -0.095783   \n",
       "catsize   0.153878  0.353649  0.362863  0.209712 -0.164230  0.027888   \n",
       "type      0.052381 -0.484107 -0.839095 -0.528151  0.306028  0.104762   \n",
       "\n",
       "              legs          tail  domestic   catsize      type  \n",
       "hair      0.401083  3.498557e-02  0.204810  0.450866 -0.558531  \n",
       "feathers -0.204429  2.886751e-01  0.029735 -0.141019 -0.193651  \n",
       "eggs     -0.230950 -2.105587e-01 -0.153025 -0.511029  0.658967  \n",
       "milk      0.220042  1.995586e-01  0.161422  0.571804 -0.721456  \n",
       "airborne  0.047059  4.352464e-17  0.061269 -0.356606  0.028661  \n",
       "aquatic  -0.372313 -1.210455e-02 -0.221313 -0.101368  0.317284  \n",
       "predator -0.105452  3.481553e-02 -0.307814  0.153878  0.052381  \n",
       "toothed  -0.199092  3.299832e-01  0.072836  0.353649 -0.484107  \n",
       "backbone -0.436712  7.513914e-01  0.103712  0.362863 -0.839095  \n",
       "breathes  0.368021  9.922343e-02  0.126297  0.209712 -0.528151  \n",
       "venomous  0.003668 -1.131407e-01  0.010489 -0.164230  0.306028  \n",
       "fins     -0.604679  1.998109e-01 -0.095783  0.027888  0.104762  \n",
       "legs      1.000000 -3.441265e-01  0.076313  0.074229  0.126648  \n",
       "tail     -0.344127  1.000000e+00  0.017168  0.232621 -0.626658  \n",
       "domestic  0.076313  1.716754e-02  1.000000  0.016773 -0.178150  \n",
       "catsize   0.074229  2.326211e-01  0.016773  1.000000 -0.516695  \n",
       "type      0.126648 -6.266583e-01 -0.178150 -0.516695  1.000000  "
      ]
     },
     "execution_count": 48,
     "metadata": {},
     "output_type": "execute_result"
    }
   ],
   "source": [
    "zoo_data.corr()"
   ]
  },
  {
   "cell_type": "code",
   "execution_count": 59,
   "id": "f8f56a8e",
   "metadata": {},
   "outputs": [
    {
     "data": {
      "image/png": "[encoded data removed]",
      "text/plain": [
       "<Figure size 1080x576 with 2 Axes>"
      ]
     },
     "metadata": {
      "needs_background": "light"
     },
     "output_type": "display_data"
    }
   ],
   "source": [
    "plt.figure(figsize=(15,8))\n",
    "sns.heatmap(zoo_data.corr())\n",
    "plt.show()"
   ]
  },
  {
   "cell_type": "markdown",
   "id": "0266ef5a",
   "metadata": {},
   "source": [
    "## 5. Model Training || 6. Model Testing || 7. Model Evaluation"
   ]
  },
  {
   "cell_type": "code",
   "execution_count": 60,
   "id": "518776a2",
   "metadata": {},
   "outputs": [
    {
     "data": {
      "text/plain": [
       "((100, 16), (100, 1))"
      ]
     },
     "execution_count": 60,
     "metadata": {},
     "output_type": "execute_result"
    }
   ],
   "source": [
    "X = zoo_data.iloc[:,1:17]\n",
    "y = zoo_data[['type']]\n",
    "X.shape, y.shape"
   ]
  },
  {
   "cell_type": "markdown",
   "id": "f18eefb0",
   "metadata": {},
   "source": [
    "##### Appling StandardScaler"
   ]
  },
  {
   "cell_type": "code",
   "execution_count": 61,
   "id": "8cc16c50",
   "metadata": {
    "scrolled": true
   },
   "outputs": [
    {
     "data": {
      "text/html": [
       "<div>\n",
       "<style scoped>\n",
       "    .dataframe tbody tr th:only-of-type {\n",
       "        vertical-align: middle;\n",
       "    }\n",
       "\n",
       "    .dataframe tbody tr th {\n",
       "        vertical-align: top;\n",
       "    }\n",
       "\n",
       "    .dataframe thead th {\n",
       "        text-align: right;\n",
       "    }\n",
       "</style>\n",
       "<table border=\"1\" class=\"dataframe\">\n",
       "  <thead>\n",
       "    <tr style=\"text-align: right;\">\n",
       "      <th></th>\n",
       "      <th>hair</th>\n",
       "      <th>feathers</th>\n",
       "      <th>eggs</th>\n",
       "      <th>milk</th>\n",
       "      <th>airborne</th>\n",
       "      <th>aquatic</th>\n",
       "      <th>predator</th>\n",
       "      <th>toothed</th>\n",
       "      <th>backbone</th>\n",
       "      <th>breathes</th>\n",
       "      <th>venomous</th>\n",
       "      <th>fins</th>\n",
       "      <th>legs</th>\n",
       "      <th>tail</th>\n",
       "      <th>domestic</th>\n",
       "      <th>catsize</th>\n",
       "    </tr>\n",
       "  </thead>\n",
       "  <tbody>\n",
       "    <tr>\n",
       "      <th>0</th>\n",
       "      <td>1.151339</td>\n",
       "      <td>-0.5</td>\n",
       "      <td>-1.175139</td>\n",
       "      <td>1.199593</td>\n",
       "      <td>-0.561951</td>\n",
       "      <td>-0.733799</td>\n",
       "      <td>0.904534</td>\n",
       "      <td>0.816497</td>\n",
       "      <td>0.468521</td>\n",
       "      <td>0.515580</td>\n",
       "      <td>-0.274352</td>\n",
       "      <td>-0.452570</td>\n",
       "      <td>0.576341</td>\n",
       "      <td>-1.732051</td>\n",
       "      <td>-0.386556</td>\n",
       "      <td>1.128152</td>\n",
       "    </tr>\n",
       "    <tr>\n",
       "      <th>1</th>\n",
       "      <td>1.151339</td>\n",
       "      <td>-0.5</td>\n",
       "      <td>-1.175139</td>\n",
       "      <td>1.199593</td>\n",
       "      <td>-0.561951</td>\n",
       "      <td>-0.733799</td>\n",
       "      <td>-1.105542</td>\n",
       "      <td>0.816497</td>\n",
       "      <td>0.468521</td>\n",
       "      <td>0.515580</td>\n",
       "      <td>-0.274352</td>\n",
       "      <td>-0.452570</td>\n",
       "      <td>0.576341</td>\n",
       "      <td>0.577350</td>\n",
       "      <td>-0.386556</td>\n",
       "      <td>1.128152</td>\n",
       "    </tr>\n",
       "    <tr>\n",
       "      <th>2</th>\n",
       "      <td>-0.868554</td>\n",
       "      <td>-0.5</td>\n",
       "      <td>0.850963</td>\n",
       "      <td>-0.833616</td>\n",
       "      <td>-0.561951</td>\n",
       "      <td>1.362770</td>\n",
       "      <td>0.904534</td>\n",
       "      <td>0.816497</td>\n",
       "      <td>0.468521</td>\n",
       "      <td>-1.939563</td>\n",
       "      <td>-0.274352</td>\n",
       "      <td>2.209605</td>\n",
       "      <td>-1.394055</td>\n",
       "      <td>0.577350</td>\n",
       "      <td>-0.386556</td>\n",
       "      <td>-0.886405</td>\n",
       "    </tr>\n",
       "    <tr>\n",
       "      <th>3</th>\n",
       "      <td>1.151339</td>\n",
       "      <td>-0.5</td>\n",
       "      <td>-1.175139</td>\n",
       "      <td>1.199593</td>\n",
       "      <td>-0.561951</td>\n",
       "      <td>-0.733799</td>\n",
       "      <td>0.904534</td>\n",
       "      <td>0.816497</td>\n",
       "      <td>0.468521</td>\n",
       "      <td>0.515580</td>\n",
       "      <td>-0.274352</td>\n",
       "      <td>-0.452570</td>\n",
       "      <td>0.576341</td>\n",
       "      <td>-1.732051</td>\n",
       "      <td>-0.386556</td>\n",
       "      <td>1.128152</td>\n",
       "    </tr>\n",
       "    <tr>\n",
       "      <th>4</th>\n",
       "      <td>1.151339</td>\n",
       "      <td>-0.5</td>\n",
       "      <td>-1.175139</td>\n",
       "      <td>1.199593</td>\n",
       "      <td>-0.561951</td>\n",
       "      <td>-0.733799</td>\n",
       "      <td>0.904534</td>\n",
       "      <td>0.816497</td>\n",
       "      <td>0.468521</td>\n",
       "      <td>0.515580</td>\n",
       "      <td>-0.274352</td>\n",
       "      <td>-0.452570</td>\n",
       "      <td>0.576341</td>\n",
       "      <td>0.577350</td>\n",
       "      <td>-0.386556</td>\n",
       "      <td>1.128152</td>\n",
       "    </tr>\n",
       "  </tbody>\n",
       "</table>\n",
       "</div>"
      ],
      "text/plain": [
       "       hair  feathers      eggs      milk  airborne   aquatic  predator  \\\n",
       "0  1.151339      -0.5 -1.175139  1.199593 -0.561951 -0.733799  0.904534   \n",
       "1  1.151339      -0.5 -1.175139  1.199593 -0.561951 -0.733799 -1.105542   \n",
       "2 -0.868554      -0.5  0.850963 -0.833616 -0.561951  1.362770  0.904534   \n",
       "3  1.151339      -0.5 -1.175139  1.199593 -0.561951 -0.733799  0.904534   \n",
       "4  1.151339      -0.5 -1.175139  1.199593 -0.561951 -0.733799  0.904534   \n",
       "\n",
       "    toothed  backbone  breathes  venomous      fins      legs      tail  \\\n",
       "0  0.816497  0.468521  0.515580 -0.274352 -0.452570  0.576341 -1.732051   \n",
       "1  0.816497  0.468521  0.515580 -0.274352 -0.452570  0.576341  0.577350   \n",
       "2  0.816497  0.468521 -1.939563 -0.274352  2.209605 -1.394055  0.577350   \n",
       "3  0.816497  0.468521  0.515580 -0.274352 -0.452570  0.576341 -1.732051   \n",
       "4  0.816497  0.468521  0.515580 -0.274352 -0.452570  0.576341  0.577350   \n",
       "\n",
       "   domestic   catsize  \n",
       "0 -0.386556  1.128152  \n",
       "1 -0.386556  1.128152  \n",
       "2 -0.386556 -0.886405  \n",
       "3 -0.386556  1.128152  \n",
       "4 -0.386556  1.128152  "
      ]
     },
     "execution_count": 61,
     "metadata": {},
     "output_type": "execute_result"
    }
   ],
   "source": [
    "std_Scaler = StandardScaler().fit_transform(X)\n",
    "X_scaled = pd.DataFrame(data=std_Scaler,columns=X.columns)\n",
    "X_scaled.head()"
   ]
  },
  {
   "cell_type": "code",
   "execution_count": 62,
   "id": "ba50ea70",
   "metadata": {},
   "outputs": [
    {
     "data": {
      "text/plain": [
       "((80, 16), (80, 1), (20, 16), (20, 1))"
      ]
     },
     "execution_count": 62,
     "metadata": {},
     "output_type": "execute_result"
    }
   ],
   "source": [
    "X_train,X_test,y_train,y_test = train_test_split(X_scaled,y,test_size=0.20,random_state=12,shuffle=True)\n",
    "X_train.shape,y_train.shape,X_test.shape,y_test.shape"
   ]
  },
  {
   "cell_type": "code",
   "execution_count": 63,
   "id": "be19d9be",
   "metadata": {},
   "outputs": [
    {
     "name": "stdout",
     "output_type": "stream",
     "text": [
      "Accuracy Score is 0.95.\n"
     ]
    }
   ],
   "source": [
    "knn_classifier = KNeighborsClassifier(n_neighbors=3)\n",
    "knn_classifier.fit(X_train,y_train)\n",
    "y_pred = knn_classifier.predict(X_test)\n",
    "print('Accuracy Score is {}.'.format(round(accuracy_score(y_test,y_pred),4)))"
   ]
  },
  {
   "cell_type": "code",
   "execution_count": 64,
   "id": "768cf6d5",
   "metadata": {
    "scrolled": true
   },
   "outputs": [
    {
     "name": "stdout",
     "output_type": "stream",
     "text": [
      "Accuracy Score is 0.95.\n"
     ]
    }
   ],
   "source": [
    "knn_classifier = KNeighborsClassifier(n_neighbors=5)\n",
    "knn_classifier.fit(X_train,y_train)\n",
    "y_pred = knn_classifier.predict(X_test)\n",
    "print('Accuracy Score is {}.'.format(round(accuracy_score(y_test,y_pred),4)))"
   ]
  },
  {
   "cell_type": "code",
   "execution_count": 65,
   "id": "4682e9f6",
   "metadata": {},
   "outputs": [
    {
     "name": "stdout",
     "output_type": "stream",
     "text": [
      "Accuracy Score is 0.85.\n"
     ]
    }
   ],
   "source": [
    "knn_classifier = KNeighborsClassifier(n_neighbors=7)\n",
    "knn_classifier.fit(X_train,y_train)\n",
    "y_pred = knn_classifier.predict(X_test)\n",
    "print('Accuracy Score is {}.'.format(round(accuracy_score(y_test,y_pred),4)))"
   ]
  },
  {
   "cell_type": "code",
   "execution_count": 66,
   "id": "e0121611",
   "metadata": {},
   "outputs": [
    {
     "name": "stdout",
     "output_type": "stream",
     "text": [
      "Accuracy Score is 0.85.\n"
     ]
    }
   ],
   "source": [
    "knn_classifier = KNeighborsClassifier(n_neighbors=9)\n",
    "knn_classifier.fit(X_train,y_train)\n",
    "y_pred = knn_classifier.predict(X_test)\n",
    "print('Accuracy Score is {}.'.format(round(accuracy_score(y_test,y_pred),4)))"
   ]
  },
  {
   "cell_type": "code",
   "execution_count": 67,
   "id": "af02ceaf",
   "metadata": {},
   "outputs": [
    {
     "name": "stdout",
     "output_type": "stream",
     "text": [
      "Accuracy Score is 0.95.\n"
     ]
    }
   ],
   "source": [
    "knn_classifier = KNeighborsClassifier(n_neighbors=2)\n",
    "knn_classifier.fit(X_train,y_train)\n",
    "y_pred = knn_classifier.predict(X_test)\n",
    "print('Accuracy Score is {}.'.format(round(accuracy_score(y_test,y_pred),4)))"
   ]
  },
  {
   "cell_type": "markdown",
   "id": "3fb4908c",
   "metadata": {},
   "source": [
    "## Model Evlauation\n"
   ]
  },
  {
   "cell_type": "code",
   "execution_count": 68,
   "id": "8356efc5",
   "metadata": {},
   "outputs": [
    {
     "name": "stdout",
     "output_type": "stream",
     "text": [
      "1 th Iteration :\n",
      " 0.94\n",
      "3 th Iteration :\n",
      " 0.93\n",
      "5 th Iteration :\n",
      " 0.92\n",
      "7 th Iteration :\n",
      " 0.85\n",
      "9 th Iteration :\n",
      " 0.86\n",
      "11 th Iteration :\n",
      " 0.83\n",
      "13 th Iteration :\n",
      " 0.83\n",
      "15 th Iteration :\n",
      " 0.86\n",
      "17 th Iteration :\n",
      " 0.86\n",
      "19 th Iteration :\n",
      " 0.84\n",
      "21 th Iteration :\n",
      " 0.83\n",
      "23 th Iteration :\n",
      " 0.81\n",
      "25 th Iteration :\n",
      " 0.8\n",
      "27 th Iteration :\n",
      " 0.76\n",
      "29 th Iteration :\n",
      " 0.73\n"
     ]
    }
   ],
   "source": [
    "kfold = KFold(n_splits=5,shuffle=True,random_state=12)\n",
    "cv_Scores = []\n",
    "\n",
    "for i in range(1,31,2):\n",
    "    knn_model = KNeighborsClassifier(n_neighbors=i)\n",
    "    cross_val_scores = cross_val_score(estimator=knn_model,X = X_scaled,y=y,cv=kfold)\n",
    "    print(i,'th Iteration :\\n',cross_val_scores.mean().round(4))\n",
    "    cv_Scores.append(cross_val_scores.mean().round(4))"
   ]
  },
  {
   "cell_type": "code",
   "execution_count": 70,
   "id": "353e89fb",
   "metadata": {},
   "outputs": [
    {
     "name": "stdout",
     "output_type": "stream",
     "text": [
      "[0.94, 0.93, 0.92, 0.85, 0.86, 0.83, 0.83, 0.86, 0.86, 0.84, 0.83, 0.81, 0.8, 0.76, 0.73]\n",
      "Maximum cv score is:  0.94\n"
     ]
    }
   ],
   "source": [
    "print(cv_Scores)\n",
    "print('Maximum cv score is: ',max(cv_Scores))"
   ]
  },
  {
   "cell_type": "code",
   "execution_count": 73,
   "id": "30278c65",
   "metadata": {},
   "outputs": [
    {
     "data": {
      "text/plain": [
       "Text(0.5, 1.0, 'Neighbours vs CV scores')"
      ]
     },
     "execution_count": 73,
     "metadata": {},
     "output_type": "execute_result"
    },
    {
     "data": {
      "image/png": "[encoded data removed]",
      "text/plain": [
       "<Figure size 432x288 with 1 Axes>"
      ]
     },
     "metadata": {
      "needs_background": "light"
     },
     "output_type": "display_data"
    }
   ],
   "source": [
    "plt.plot(range(1,31,2),cv_Scores)\n",
    "plt.xlabel('Neighbours')\n",
    "plt.ylabel('cv scores')\n",
    "plt.title('Neighbours vs CV scores')"
   ]
  },
  {
   "cell_type": "code",
   "execution_count": 74,
   "id": "ee050fb8",
   "metadata": {},
   "outputs": [
    {
     "data": {
      "image/png": "[encoded data removed]",
      "text/plain": [
       "<Figure size 936x576 with 1 Axes>"
      ]
     },
     "metadata": {
      "needs_background": "light"
     },
     "output_type": "display_data"
    }
   ],
   "source": [
    "kfold = KFold(n_splits=5,shuffle=True,random_state=12)\n",
    "cv_Scores_train = []\n",
    "cv_Scores_test = []\n",
    "\n",
    "for i in range(1,31,2):\n",
    "    knn_model = KNeighborsClassifier(n_neighbors=i)\n",
    "    cross_val_scores = cross_val_score(estimator=knn_model,X = X_train,y=y_train,cv=kfold)\n",
    "    cv_Scores_train.append(cross_val_scores.mean().round(4))\n",
    "    cross_val_scores = cross_val_score(estimator=knn_model,X = X_test,y=y_test,cv=kfold)\n",
    "    cv_Scores_test.append(cross_val_scores.mean().round(4))\n",
    "    \n",
    "    \n",
    "plt.figure(figsize=[13,8])\n",
    "plt.plot(np.arange(1,31,2), cv_Scores_test, label = 'Testing Accuracy')\n",
    "plt.plot(np.arange(1,31,2), cv_Scores_train, label = 'Training Accuracy')\n",
    "plt.legend()\n",
    "plt.title('-value VS Accuracy')\n",
    "plt.xlabel('Number of Neighbors')\n",
    "plt.ylabel('Accuracy')\n",
    "plt.xticks(np.arange(1,31,2))\n",
    "plt.show()"
   ]
  },
  {
   "cell_type": "code",
   "execution_count": 75,
   "id": "25d2452c",
   "metadata": {
    "scrolled": true
   },
   "outputs": [
    {
     "name": "stdout",
     "output_type": "stream",
     "text": [
      "Accuracy Score is 0.95.\n"
     ]
    }
   ],
   "source": [
    "knn_classifier = KNeighborsClassifier(n_neighbors=5)\n",
    "knn_classifier.fit(X_train,y_train)\n",
    "y_pred = knn_classifier.predict(X_test)\n",
    "print('Accuracy Score is {}.'.format(round(accuracy_score(y_test,y_pred),4)))"
   ]
  },
  {
   "cell_type": "code",
   "execution_count": 76,
   "id": "7708cce7",
   "metadata": {},
   "outputs": [
    {
     "data": {
      "text/plain": [
       "0.95"
      ]
     },
     "execution_count": 76,
     "metadata": {},
     "output_type": "execute_result"
    }
   ],
   "source": [
    "accuracy_score(y_test,y_pred)"
   ]
  },
  {
   "cell_type": "code",
   "execution_count": 77,
   "id": "f0fbf5ed",
   "metadata": {},
   "outputs": [
    {
     "data": {
      "text/plain": [
       "0.9875"
      ]
     },
     "execution_count": 77,
     "metadata": {},
     "output_type": "execute_result"
    }
   ],
   "source": [
    "accuracy_score(y_train,(knn_classifier.fit(X_train,y_train)).predict(X_train))"
   ]
  },
  {
   "cell_type": "markdown",
   "id": "760c7762",
   "metadata": {},
   "source": [
    "# THE END!!"
   ]
  }
 ],
 "metadata": {
  "kernelspec": {
   "display_name": "Python 3 (ipykernel)",
   "language": "python",
   "name": "python3"
  },
  "language_info": {
   "codemirror_mode": {
    "name": "ipython",
    "version": 3
   },
   "file_extension": ".py",
   "mimetype": "text/x-python",
   "name": "python",
   "nbconvert_exporter": "python",
   "pygments_lexer": "ipython3",
   "version": "3.9.7"
  }
 },
 "nbformat": 4,
 "nbformat_minor": 5
}
