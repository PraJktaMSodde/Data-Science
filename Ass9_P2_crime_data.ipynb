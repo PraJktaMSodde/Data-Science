{
 "cells": [
  {
   "cell_type": "markdown",
   "id": "814916c3",
   "metadata": {},
   "source": [
    "# Problem Statement\n",
    "Perform clustering (hierarchical,K means clustering and DBSCAN) for the crime data and identify the number of clusters formed and draw inferences."
   ]
  },
  {
   "cell_type": "markdown",
   "id": "50575d48",
   "metadata": {},
   "source": [
    "## 1. Import Necessary Libraries"
   ]
  },
  {
   "cell_type": "code",
   "execution_count": 203,
   "id": "5ea71d07",
   "metadata": {},
   "outputs": [],
   "source": [
    "import pandas as pd\n",
    "import numpy as np\n",
    "import matplotlib.pyplot as plt\n",
    "import seaborn as sns\n",
    "\n",
    "import warnings\n",
    "warnings.filterwarnings('ignore')\n",
    "\n",
    "import scipy.cluster.hierarchy as sch\n",
    "from sklearn.cluster import AgglomerativeClustering,KMeans,DBSCAN\n",
    "from sklearn.preprocessing import MinMaxScaler, StandardScaler"
   ]
  },
  {
   "cell_type": "markdown",
   "id": "a3d1273f",
   "metadata": {},
   "source": [
    "## 2. Import Dataset"
   ]
  },
  {
   "cell_type": "code",
   "execution_count": 2,
   "id": "87fe51ab",
   "metadata": {
    "scrolled": true
   },
   "outputs": [
    {
     "data": {
      "text/html": [
       "<div>\n",
       "<style scoped>\n",
       "    .dataframe tbody tr th:only-of-type {\n",
       "        vertical-align: middle;\n",
       "    }\n",
       "\n",
       "    .dataframe tbody tr th {\n",
       "        vertical-align: top;\n",
       "    }\n",
       "\n",
       "    .dataframe thead th {\n",
       "        text-align: right;\n",
       "    }\n",
       "</style>\n",
       "<table border=\"1\" class=\"dataframe\">\n",
       "  <thead>\n",
       "    <tr style=\"text-align: right;\">\n",
       "      <th></th>\n",
       "      <th>Unnamed: 0</th>\n",
       "      <th>Murder</th>\n",
       "      <th>Assault</th>\n",
       "      <th>UrbanPop</th>\n",
       "      <th>Rape</th>\n",
       "    </tr>\n",
       "  </thead>\n",
       "  <tbody>\n",
       "    <tr>\n",
       "      <th>0</th>\n",
       "      <td>Alabama</td>\n",
       "      <td>13.2</td>\n",
       "      <td>236</td>\n",
       "      <td>58</td>\n",
       "      <td>21.2</td>\n",
       "    </tr>\n",
       "    <tr>\n",
       "      <th>1</th>\n",
       "      <td>Alaska</td>\n",
       "      <td>10.0</td>\n",
       "      <td>263</td>\n",
       "      <td>48</td>\n",
       "      <td>44.5</td>\n",
       "    </tr>\n",
       "    <tr>\n",
       "      <th>2</th>\n",
       "      <td>Arizona</td>\n",
       "      <td>8.1</td>\n",
       "      <td>294</td>\n",
       "      <td>80</td>\n",
       "      <td>31.0</td>\n",
       "    </tr>\n",
       "    <tr>\n",
       "      <th>3</th>\n",
       "      <td>Arkansas</td>\n",
       "      <td>8.8</td>\n",
       "      <td>190</td>\n",
       "      <td>50</td>\n",
       "      <td>19.5</td>\n",
       "    </tr>\n",
       "    <tr>\n",
       "      <th>4</th>\n",
       "      <td>California</td>\n",
       "      <td>9.0</td>\n",
       "      <td>276</td>\n",
       "      <td>91</td>\n",
       "      <td>40.6</td>\n",
       "    </tr>\n",
       "    <tr>\n",
       "      <th>5</th>\n",
       "      <td>Colorado</td>\n",
       "      <td>7.9</td>\n",
       "      <td>204</td>\n",
       "      <td>78</td>\n",
       "      <td>38.7</td>\n",
       "    </tr>\n",
       "    <tr>\n",
       "      <th>6</th>\n",
       "      <td>Connecticut</td>\n",
       "      <td>3.3</td>\n",
       "      <td>110</td>\n",
       "      <td>77</td>\n",
       "      <td>11.1</td>\n",
       "    </tr>\n",
       "    <tr>\n",
       "      <th>7</th>\n",
       "      <td>Delaware</td>\n",
       "      <td>5.9</td>\n",
       "      <td>238</td>\n",
       "      <td>72</td>\n",
       "      <td>15.8</td>\n",
       "    </tr>\n",
       "    <tr>\n",
       "      <th>8</th>\n",
       "      <td>Florida</td>\n",
       "      <td>15.4</td>\n",
       "      <td>335</td>\n",
       "      <td>80</td>\n",
       "      <td>31.9</td>\n",
       "    </tr>\n",
       "    <tr>\n",
       "      <th>9</th>\n",
       "      <td>Georgia</td>\n",
       "      <td>17.4</td>\n",
       "      <td>211</td>\n",
       "      <td>60</td>\n",
       "      <td>25.8</td>\n",
       "    </tr>\n",
       "    <tr>\n",
       "      <th>10</th>\n",
       "      <td>Hawaii</td>\n",
       "      <td>5.3</td>\n",
       "      <td>46</td>\n",
       "      <td>83</td>\n",
       "      <td>20.2</td>\n",
       "    </tr>\n",
       "    <tr>\n",
       "      <th>11</th>\n",
       "      <td>Idaho</td>\n",
       "      <td>2.6</td>\n",
       "      <td>120</td>\n",
       "      <td>54</td>\n",
       "      <td>14.2</td>\n",
       "    </tr>\n",
       "    <tr>\n",
       "      <th>12</th>\n",
       "      <td>Illinois</td>\n",
       "      <td>10.4</td>\n",
       "      <td>249</td>\n",
       "      <td>83</td>\n",
       "      <td>24.0</td>\n",
       "    </tr>\n",
       "    <tr>\n",
       "      <th>13</th>\n",
       "      <td>Indiana</td>\n",
       "      <td>7.2</td>\n",
       "      <td>113</td>\n",
       "      <td>65</td>\n",
       "      <td>21.0</td>\n",
       "    </tr>\n",
       "    <tr>\n",
       "      <th>14</th>\n",
       "      <td>Iowa</td>\n",
       "      <td>2.2</td>\n",
       "      <td>56</td>\n",
       "      <td>57</td>\n",
       "      <td>11.3</td>\n",
       "    </tr>\n",
       "    <tr>\n",
       "      <th>15</th>\n",
       "      <td>Kansas</td>\n",
       "      <td>6.0</td>\n",
       "      <td>115</td>\n",
       "      <td>66</td>\n",
       "      <td>18.0</td>\n",
       "    </tr>\n",
       "    <tr>\n",
       "      <th>16</th>\n",
       "      <td>Kentucky</td>\n",
       "      <td>9.7</td>\n",
       "      <td>109</td>\n",
       "      <td>52</td>\n",
       "      <td>16.3</td>\n",
       "    </tr>\n",
       "    <tr>\n",
       "      <th>17</th>\n",
       "      <td>Louisiana</td>\n",
       "      <td>15.4</td>\n",
       "      <td>249</td>\n",
       "      <td>66</td>\n",
       "      <td>22.2</td>\n",
       "    </tr>\n",
       "    <tr>\n",
       "      <th>18</th>\n",
       "      <td>Maine</td>\n",
       "      <td>2.1</td>\n",
       "      <td>83</td>\n",
       "      <td>51</td>\n",
       "      <td>7.8</td>\n",
       "    </tr>\n",
       "    <tr>\n",
       "      <th>19</th>\n",
       "      <td>Maryland</td>\n",
       "      <td>11.3</td>\n",
       "      <td>300</td>\n",
       "      <td>67</td>\n",
       "      <td>27.8</td>\n",
       "    </tr>\n",
       "    <tr>\n",
       "      <th>20</th>\n",
       "      <td>Massachusetts</td>\n",
       "      <td>4.4</td>\n",
       "      <td>149</td>\n",
       "      <td>85</td>\n",
       "      <td>16.3</td>\n",
       "    </tr>\n",
       "    <tr>\n",
       "      <th>21</th>\n",
       "      <td>Michigan</td>\n",
       "      <td>12.1</td>\n",
       "      <td>255</td>\n",
       "      <td>74</td>\n",
       "      <td>35.1</td>\n",
       "    </tr>\n",
       "    <tr>\n",
       "      <th>22</th>\n",
       "      <td>Minnesota</td>\n",
       "      <td>2.7</td>\n",
       "      <td>72</td>\n",
       "      <td>66</td>\n",
       "      <td>14.9</td>\n",
       "    </tr>\n",
       "    <tr>\n",
       "      <th>23</th>\n",
       "      <td>Mississippi</td>\n",
       "      <td>16.1</td>\n",
       "      <td>259</td>\n",
       "      <td>44</td>\n",
       "      <td>17.1</td>\n",
       "    </tr>\n",
       "    <tr>\n",
       "      <th>24</th>\n",
       "      <td>Missouri</td>\n",
       "      <td>9.0</td>\n",
       "      <td>178</td>\n",
       "      <td>70</td>\n",
       "      <td>28.2</td>\n",
       "    </tr>\n",
       "    <tr>\n",
       "      <th>25</th>\n",
       "      <td>Montana</td>\n",
       "      <td>6.0</td>\n",
       "      <td>109</td>\n",
       "      <td>53</td>\n",
       "      <td>16.4</td>\n",
       "    </tr>\n",
       "    <tr>\n",
       "      <th>26</th>\n",
       "      <td>Nebraska</td>\n",
       "      <td>4.3</td>\n",
       "      <td>102</td>\n",
       "      <td>62</td>\n",
       "      <td>16.5</td>\n",
       "    </tr>\n",
       "    <tr>\n",
       "      <th>27</th>\n",
       "      <td>Nevada</td>\n",
       "      <td>12.2</td>\n",
       "      <td>252</td>\n",
       "      <td>81</td>\n",
       "      <td>46.0</td>\n",
       "    </tr>\n",
       "    <tr>\n",
       "      <th>28</th>\n",
       "      <td>New Hampshire</td>\n",
       "      <td>2.1</td>\n",
       "      <td>57</td>\n",
       "      <td>56</td>\n",
       "      <td>9.5</td>\n",
       "    </tr>\n",
       "    <tr>\n",
       "      <th>29</th>\n",
       "      <td>New Jersey</td>\n",
       "      <td>7.4</td>\n",
       "      <td>159</td>\n",
       "      <td>89</td>\n",
       "      <td>18.8</td>\n",
       "    </tr>\n",
       "    <tr>\n",
       "      <th>30</th>\n",
       "      <td>New Mexico</td>\n",
       "      <td>11.4</td>\n",
       "      <td>285</td>\n",
       "      <td>70</td>\n",
       "      <td>32.1</td>\n",
       "    </tr>\n",
       "    <tr>\n",
       "      <th>31</th>\n",
       "      <td>New York</td>\n",
       "      <td>11.1</td>\n",
       "      <td>254</td>\n",
       "      <td>86</td>\n",
       "      <td>26.1</td>\n",
       "    </tr>\n",
       "    <tr>\n",
       "      <th>32</th>\n",
       "      <td>North Carolina</td>\n",
       "      <td>13.0</td>\n",
       "      <td>337</td>\n",
       "      <td>45</td>\n",
       "      <td>16.1</td>\n",
       "    </tr>\n",
       "    <tr>\n",
       "      <th>33</th>\n",
       "      <td>North Dakota</td>\n",
       "      <td>0.8</td>\n",
       "      <td>45</td>\n",
       "      <td>44</td>\n",
       "      <td>7.3</td>\n",
       "    </tr>\n",
       "    <tr>\n",
       "      <th>34</th>\n",
       "      <td>Ohio</td>\n",
       "      <td>7.3</td>\n",
       "      <td>120</td>\n",
       "      <td>75</td>\n",
       "      <td>21.4</td>\n",
       "    </tr>\n",
       "    <tr>\n",
       "      <th>35</th>\n",
       "      <td>Oklahoma</td>\n",
       "      <td>6.6</td>\n",
       "      <td>151</td>\n",
       "      <td>68</td>\n",
       "      <td>20.0</td>\n",
       "    </tr>\n",
       "    <tr>\n",
       "      <th>36</th>\n",
       "      <td>Oregon</td>\n",
       "      <td>4.9</td>\n",
       "      <td>159</td>\n",
       "      <td>67</td>\n",
       "      <td>29.3</td>\n",
       "    </tr>\n",
       "    <tr>\n",
       "      <th>37</th>\n",
       "      <td>Pennsylvania</td>\n",
       "      <td>6.3</td>\n",
       "      <td>106</td>\n",
       "      <td>72</td>\n",
       "      <td>14.9</td>\n",
       "    </tr>\n",
       "    <tr>\n",
       "      <th>38</th>\n",
       "      <td>Rhode Island</td>\n",
       "      <td>3.4</td>\n",
       "      <td>174</td>\n",
       "      <td>87</td>\n",
       "      <td>8.3</td>\n",
       "    </tr>\n",
       "    <tr>\n",
       "      <th>39</th>\n",
       "      <td>South Carolina</td>\n",
       "      <td>14.4</td>\n",
       "      <td>279</td>\n",
       "      <td>48</td>\n",
       "      <td>22.5</td>\n",
       "    </tr>\n",
       "    <tr>\n",
       "      <th>40</th>\n",
       "      <td>South Dakota</td>\n",
       "      <td>3.8</td>\n",
       "      <td>86</td>\n",
       "      <td>45</td>\n",
       "      <td>12.8</td>\n",
       "    </tr>\n",
       "    <tr>\n",
       "      <th>41</th>\n",
       "      <td>Tennessee</td>\n",
       "      <td>13.2</td>\n",
       "      <td>188</td>\n",
       "      <td>59</td>\n",
       "      <td>26.9</td>\n",
       "    </tr>\n",
       "    <tr>\n",
       "      <th>42</th>\n",
       "      <td>Texas</td>\n",
       "      <td>12.7</td>\n",
       "      <td>201</td>\n",
       "      <td>80</td>\n",
       "      <td>25.5</td>\n",
       "    </tr>\n",
       "    <tr>\n",
       "      <th>43</th>\n",
       "      <td>Utah</td>\n",
       "      <td>3.2</td>\n",
       "      <td>120</td>\n",
       "      <td>80</td>\n",
       "      <td>22.9</td>\n",
       "    </tr>\n",
       "    <tr>\n",
       "      <th>44</th>\n",
       "      <td>Vermont</td>\n",
       "      <td>2.2</td>\n",
       "      <td>48</td>\n",
       "      <td>32</td>\n",
       "      <td>11.2</td>\n",
       "    </tr>\n",
       "    <tr>\n",
       "      <th>45</th>\n",
       "      <td>Virginia</td>\n",
       "      <td>8.5</td>\n",
       "      <td>156</td>\n",
       "      <td>63</td>\n",
       "      <td>20.7</td>\n",
       "    </tr>\n",
       "    <tr>\n",
       "      <th>46</th>\n",
       "      <td>Washington</td>\n",
       "      <td>4.0</td>\n",
       "      <td>145</td>\n",
       "      <td>73</td>\n",
       "      <td>26.2</td>\n",
       "    </tr>\n",
       "    <tr>\n",
       "      <th>47</th>\n",
       "      <td>West Virginia</td>\n",
       "      <td>5.7</td>\n",
       "      <td>81</td>\n",
       "      <td>39</td>\n",
       "      <td>9.3</td>\n",
       "    </tr>\n",
       "    <tr>\n",
       "      <th>48</th>\n",
       "      <td>Wisconsin</td>\n",
       "      <td>2.6</td>\n",
       "      <td>53</td>\n",
       "      <td>66</td>\n",
       "      <td>10.8</td>\n",
       "    </tr>\n",
       "    <tr>\n",
       "      <th>49</th>\n",
       "      <td>Wyoming</td>\n",
       "      <td>6.8</td>\n",
       "      <td>161</td>\n",
       "      <td>60</td>\n",
       "      <td>15.6</td>\n",
       "    </tr>\n",
       "  </tbody>\n",
       "</table>\n",
       "</div>"
      ],
      "text/plain": [
       "        Unnamed: 0  Murder  Assault  UrbanPop  Rape\n",
       "0          Alabama    13.2      236        58  21.2\n",
       "1           Alaska    10.0      263        48  44.5\n",
       "2          Arizona     8.1      294        80  31.0\n",
       "3         Arkansas     8.8      190        50  19.5\n",
       "4       California     9.0      276        91  40.6\n",
       "5         Colorado     7.9      204        78  38.7\n",
       "6      Connecticut     3.3      110        77  11.1\n",
       "7         Delaware     5.9      238        72  15.8\n",
       "8          Florida    15.4      335        80  31.9\n",
       "9          Georgia    17.4      211        60  25.8\n",
       "10          Hawaii     5.3       46        83  20.2\n",
       "11           Idaho     2.6      120        54  14.2\n",
       "12        Illinois    10.4      249        83  24.0\n",
       "13         Indiana     7.2      113        65  21.0\n",
       "14            Iowa     2.2       56        57  11.3\n",
       "15          Kansas     6.0      115        66  18.0\n",
       "16        Kentucky     9.7      109        52  16.3\n",
       "17       Louisiana    15.4      249        66  22.2\n",
       "18           Maine     2.1       83        51   7.8\n",
       "19        Maryland    11.3      300        67  27.8\n",
       "20   Massachusetts     4.4      149        85  16.3\n",
       "21        Michigan    12.1      255        74  35.1\n",
       "22       Minnesota     2.7       72        66  14.9\n",
       "23     Mississippi    16.1      259        44  17.1\n",
       "24        Missouri     9.0      178        70  28.2\n",
       "25         Montana     6.0      109        53  16.4\n",
       "26        Nebraska     4.3      102        62  16.5\n",
       "27          Nevada    12.2      252        81  46.0\n",
       "28   New Hampshire     2.1       57        56   9.5\n",
       "29      New Jersey     7.4      159        89  18.8\n",
       "30      New Mexico    11.4      285        70  32.1\n",
       "31        New York    11.1      254        86  26.1\n",
       "32  North Carolina    13.0      337        45  16.1\n",
       "33    North Dakota     0.8       45        44   7.3\n",
       "34            Ohio     7.3      120        75  21.4\n",
       "35        Oklahoma     6.6      151        68  20.0\n",
       "36          Oregon     4.9      159        67  29.3\n",
       "37    Pennsylvania     6.3      106        72  14.9\n",
       "38    Rhode Island     3.4      174        87   8.3\n",
       "39  South Carolina    14.4      279        48  22.5\n",
       "40    South Dakota     3.8       86        45  12.8\n",
       "41       Tennessee    13.2      188        59  26.9\n",
       "42           Texas    12.7      201        80  25.5\n",
       "43            Utah     3.2      120        80  22.9\n",
       "44         Vermont     2.2       48        32  11.2\n",
       "45        Virginia     8.5      156        63  20.7\n",
       "46      Washington     4.0      145        73  26.2\n",
       "47   West Virginia     5.7       81        39   9.3\n",
       "48       Wisconsin     2.6       53        66  10.8\n",
       "49         Wyoming     6.8      161        60  15.6"
      ]
     },
     "execution_count": 2,
     "metadata": {},
     "output_type": "execute_result"
    }
   ],
   "source": [
    "crime_data_1 = pd.read_csv('crime_data.csv')\n",
    "crime_data_1"
   ]
  },
  {
   "cell_type": "markdown",
   "id": "ce6d5b89",
   "metadata": {},
   "source": [
    "## 3. Data Understanding"
   ]
  },
  {
   "cell_type": "markdown",
   "id": "a4ad0ba7",
   "metadata": {},
   "source": [
    "###  3.1 Initial Analysis"
   ]
  },
  {
   "cell_type": "code",
   "execution_count": 3,
   "id": "c5208d6a",
   "metadata": {},
   "outputs": [
    {
     "data": {
      "text/plain": [
       "(50, 5)"
      ]
     },
     "execution_count": 3,
     "metadata": {},
     "output_type": "execute_result"
    }
   ],
   "source": [
    "crime_data_1.shape"
   ]
  },
  {
   "cell_type": "code",
   "execution_count": 4,
   "id": "013f1291",
   "metadata": {
    "scrolled": true
   },
   "outputs": [
    {
     "data": {
      "text/plain": [
       "Unnamed: 0    0\n",
       "Murder        0\n",
       "Assault       0\n",
       "UrbanPop      0\n",
       "Rape          0\n",
       "dtype: int64"
      ]
     },
     "execution_count": 4,
     "metadata": {},
     "output_type": "execute_result"
    }
   ],
   "source": [
    "crime_data_1.isna().sum()"
   ]
  },
  {
   "cell_type": "code",
   "execution_count": 5,
   "id": "b1bea560",
   "metadata": {},
   "outputs": [
    {
     "data": {
      "text/html": [
       "<div>\n",
       "<style scoped>\n",
       "    .dataframe tbody tr th:only-of-type {\n",
       "        vertical-align: middle;\n",
       "    }\n",
       "\n",
       "    .dataframe tbody tr th {\n",
       "        vertical-align: top;\n",
       "    }\n",
       "\n",
       "    .dataframe thead th {\n",
       "        text-align: right;\n",
       "    }\n",
       "</style>\n",
       "<table border=\"1\" class=\"dataframe\">\n",
       "  <thead>\n",
       "    <tr style=\"text-align: right;\">\n",
       "      <th></th>\n",
       "      <th>Murder</th>\n",
       "      <th>Assault</th>\n",
       "      <th>UrbanPop</th>\n",
       "      <th>Rape</th>\n",
       "    </tr>\n",
       "  </thead>\n",
       "  <tbody>\n",
       "    <tr>\n",
       "      <th>count</th>\n",
       "      <td>50.00000</td>\n",
       "      <td>50.000000</td>\n",
       "      <td>50.000000</td>\n",
       "      <td>50.000000</td>\n",
       "    </tr>\n",
       "    <tr>\n",
       "      <th>mean</th>\n",
       "      <td>7.78800</td>\n",
       "      <td>170.760000</td>\n",
       "      <td>65.540000</td>\n",
       "      <td>21.232000</td>\n",
       "    </tr>\n",
       "    <tr>\n",
       "      <th>std</th>\n",
       "      <td>4.35551</td>\n",
       "      <td>83.337661</td>\n",
       "      <td>14.474763</td>\n",
       "      <td>9.366385</td>\n",
       "    </tr>\n",
       "    <tr>\n",
       "      <th>min</th>\n",
       "      <td>0.80000</td>\n",
       "      <td>45.000000</td>\n",
       "      <td>32.000000</td>\n",
       "      <td>7.300000</td>\n",
       "    </tr>\n",
       "    <tr>\n",
       "      <th>25%</th>\n",
       "      <td>4.07500</td>\n",
       "      <td>109.000000</td>\n",
       "      <td>54.500000</td>\n",
       "      <td>15.075000</td>\n",
       "    </tr>\n",
       "    <tr>\n",
       "      <th>50%</th>\n",
       "      <td>7.25000</td>\n",
       "      <td>159.000000</td>\n",
       "      <td>66.000000</td>\n",
       "      <td>20.100000</td>\n",
       "    </tr>\n",
       "    <tr>\n",
       "      <th>75%</th>\n",
       "      <td>11.25000</td>\n",
       "      <td>249.000000</td>\n",
       "      <td>77.750000</td>\n",
       "      <td>26.175000</td>\n",
       "    </tr>\n",
       "    <tr>\n",
       "      <th>max</th>\n",
       "      <td>17.40000</td>\n",
       "      <td>337.000000</td>\n",
       "      <td>91.000000</td>\n",
       "      <td>46.000000</td>\n",
       "    </tr>\n",
       "  </tbody>\n",
       "</table>\n",
       "</div>"
      ],
      "text/plain": [
       "         Murder     Assault   UrbanPop       Rape\n",
       "count  50.00000   50.000000  50.000000  50.000000\n",
       "mean    7.78800  170.760000  65.540000  21.232000\n",
       "std     4.35551   83.337661  14.474763   9.366385\n",
       "min     0.80000   45.000000  32.000000   7.300000\n",
       "25%     4.07500  109.000000  54.500000  15.075000\n",
       "50%     7.25000  159.000000  66.000000  20.100000\n",
       "75%    11.25000  249.000000  77.750000  26.175000\n",
       "max    17.40000  337.000000  91.000000  46.000000"
      ]
     },
     "execution_count": 5,
     "metadata": {},
     "output_type": "execute_result"
    }
   ],
   "source": [
    "crime_data_1.describe()"
   ]
  },
  {
   "cell_type": "code",
   "execution_count": 6,
   "id": "38136c3e",
   "metadata": {},
   "outputs": [
    {
     "name": "stdout",
     "output_type": "stream",
     "text": [
      "<class 'pandas.core.frame.DataFrame'>\n",
      "RangeIndex: 50 entries, 0 to 49\n",
      "Data columns (total 5 columns):\n",
      " #   Column      Non-Null Count  Dtype  \n",
      "---  ------      --------------  -----  \n",
      " 0   Unnamed: 0  50 non-null     object \n",
      " 1   Murder      50 non-null     float64\n",
      " 2   Assault     50 non-null     int64  \n",
      " 3   UrbanPop    50 non-null     int64  \n",
      " 4   Rape        50 non-null     float64\n",
      "dtypes: float64(2), int64(2), object(1)\n",
      "memory usage: 2.1+ KB\n"
     ]
    }
   ],
   "source": [
    "crime_data_1.info()"
   ]
  },
  {
   "cell_type": "markdown",
   "id": "da6765b3",
   "metadata": {},
   "source": [
    "### 3.2 Data Preprocessing\n",
    "\n",
    "For  using Euclidean distance, there is a need to bring all datapoints to one scale."
   ]
  },
  {
   "cell_type": "code",
   "execution_count": 8,
   "id": "f88522a1",
   "metadata": {},
   "outputs": [],
   "source": [
    "from sklearn.preprocessing import normalize\n",
    "scaled_data = pd.DataFrame(normalize(crime_data_1.iloc[:,1:]),columns=['Murder','Assault','UrbanPop','Rape'])"
   ]
  },
  {
   "cell_type": "code",
   "execution_count": 9,
   "id": "e4e01593",
   "metadata": {},
   "outputs": [
    {
     "data": {
      "text/html": [
       "<div>\n",
       "<style scoped>\n",
       "    .dataframe tbody tr th:only-of-type {\n",
       "        vertical-align: middle;\n",
       "    }\n",
       "\n",
       "    .dataframe tbody tr th {\n",
       "        vertical-align: top;\n",
       "    }\n",
       "\n",
       "    .dataframe thead th {\n",
       "        text-align: right;\n",
       "    }\n",
       "</style>\n",
       "<table border=\"1\" class=\"dataframe\">\n",
       "  <thead>\n",
       "    <tr style=\"text-align: right;\">\n",
       "      <th></th>\n",
       "      <th>Murder</th>\n",
       "      <th>Assault</th>\n",
       "      <th>UrbanPop</th>\n",
       "      <th>Rape</th>\n",
       "    </tr>\n",
       "  </thead>\n",
       "  <tbody>\n",
       "    <tr>\n",
       "      <th>0</th>\n",
       "      <td>0.054031</td>\n",
       "      <td>0.966016</td>\n",
       "      <td>0.237411</td>\n",
       "      <td>0.086778</td>\n",
       "    </tr>\n",
       "    <tr>\n",
       "      <th>1</th>\n",
       "      <td>0.036872</td>\n",
       "      <td>0.969739</td>\n",
       "      <td>0.176987</td>\n",
       "      <td>0.164081</td>\n",
       "    </tr>\n",
       "    <tr>\n",
       "      <th>2</th>\n",
       "      <td>0.026439</td>\n",
       "      <td>0.959624</td>\n",
       "      <td>0.261122</td>\n",
       "      <td>0.101185</td>\n",
       "    </tr>\n",
       "    <tr>\n",
       "      <th>3</th>\n",
       "      <td>0.044528</td>\n",
       "      <td>0.961392</td>\n",
       "      <td>0.252998</td>\n",
       "      <td>0.098669</td>\n",
       "    </tr>\n",
       "    <tr>\n",
       "      <th>4</th>\n",
       "      <td>0.030657</td>\n",
       "      <td>0.940134</td>\n",
       "      <td>0.309972</td>\n",
       "      <td>0.138295</td>\n",
       "    </tr>\n",
       "  </tbody>\n",
       "</table>\n",
       "</div>"
      ],
      "text/plain": [
       "     Murder   Assault  UrbanPop      Rape\n",
       "0  0.054031  0.966016  0.237411  0.086778\n",
       "1  0.036872  0.969739  0.176987  0.164081\n",
       "2  0.026439  0.959624  0.261122  0.101185\n",
       "3  0.044528  0.961392  0.252998  0.098669\n",
       "4  0.030657  0.940134  0.309972  0.138295"
      ]
     },
     "execution_count": 9,
     "metadata": {},
     "output_type": "execute_result"
    }
   ],
   "source": [
    "scaled_data.head()"
   ]
  },
  {
   "cell_type": "code",
   "execution_count": 10,
   "id": "cbf2adab",
   "metadata": {
    "scrolled": true
   },
   "outputs": [
    {
     "data": {
      "text/html": [
       "<div>\n",
       "<style scoped>\n",
       "    .dataframe tbody tr th:only-of-type {\n",
       "        vertical-align: middle;\n",
       "    }\n",
       "\n",
       "    .dataframe tbody tr th {\n",
       "        vertical-align: top;\n",
       "    }\n",
       "\n",
       "    .dataframe thead th {\n",
       "        text-align: right;\n",
       "    }\n",
       "</style>\n",
       "<table border=\"1\" class=\"dataframe\">\n",
       "  <thead>\n",
       "    <tr style=\"text-align: right;\">\n",
       "      <th></th>\n",
       "      <th>Murder</th>\n",
       "      <th>Assault</th>\n",
       "      <th>UrbanPop</th>\n",
       "      <th>Rape</th>\n",
       "    </tr>\n",
       "  </thead>\n",
       "  <tbody>\n",
       "    <tr>\n",
       "      <th>count</th>\n",
       "      <td>50.000000</td>\n",
       "      <td>50.000000</td>\n",
       "      <td>50.000000</td>\n",
       "      <td>50.000000</td>\n",
       "    </tr>\n",
       "    <tr>\n",
       "      <th>mean</th>\n",
       "      <td>0.040677</td>\n",
       "      <td>0.881704</td>\n",
       "      <td>0.409630</td>\n",
       "      <td>0.119341</td>\n",
       "    </tr>\n",
       "    <tr>\n",
       "      <th>std</th>\n",
       "      <td>0.015018</td>\n",
       "      <td>0.101645</td>\n",
       "      <td>0.166944</td>\n",
       "      <td>0.035642</td>\n",
       "    </tr>\n",
       "    <tr>\n",
       "      <th>min</th>\n",
       "      <td>0.012626</td>\n",
       "      <td>0.473419</td>\n",
       "      <td>0.132112</td>\n",
       "      <td>0.042620</td>\n",
       "    </tr>\n",
       "    <tr>\n",
       "      <th>25%</th>\n",
       "      <td>0.027485</td>\n",
       "      <td>0.850453</td>\n",
       "      <td>0.279234</td>\n",
       "      <td>0.092741</td>\n",
       "    </tr>\n",
       "    <tr>\n",
       "      <th>50%</th>\n",
       "      <td>0.039406</td>\n",
       "      <td>0.907323</td>\n",
       "      <td>0.395010</td>\n",
       "      <td>0.117441</td>\n",
       "    </tr>\n",
       "    <tr>\n",
       "      <th>75%</th>\n",
       "      <td>0.049811</td>\n",
       "      <td>0.952031</td>\n",
       "      <td>0.508929</td>\n",
       "      <td>0.139552</td>\n",
       "    </tr>\n",
       "    <tr>\n",
       "      <th>max</th>\n",
       "      <td>0.079346</td>\n",
       "      <td>0.989371</td>\n",
       "      <td>0.854213</td>\n",
       "      <td>0.207893</td>\n",
       "    </tr>\n",
       "  </tbody>\n",
       "</table>\n",
       "</div>"
      ],
      "text/plain": [
       "          Murder    Assault   UrbanPop       Rape\n",
       "count  50.000000  50.000000  50.000000  50.000000\n",
       "mean    0.040677   0.881704   0.409630   0.119341\n",
       "std     0.015018   0.101645   0.166944   0.035642\n",
       "min     0.012626   0.473419   0.132112   0.042620\n",
       "25%     0.027485   0.850453   0.279234   0.092741\n",
       "50%     0.039406   0.907323   0.395010   0.117441\n",
       "75%     0.049811   0.952031   0.508929   0.139552\n",
       "max     0.079346   0.989371   0.854213   0.207893"
      ]
     },
     "execution_count": 10,
     "metadata": {},
     "output_type": "execute_result"
    }
   ],
   "source": [
    "scaled_data.describe()"
   ]
  },
  {
   "cell_type": "markdown",
   "id": "433c446f",
   "metadata": {},
   "source": [
    "# Hierarchical Clustering"
   ]
  },
  {
   "cell_type": "code",
   "execution_count": 11,
   "id": "ccb01570",
   "metadata": {
    "scrolled": true
   },
   "outputs": [],
   "source": [
    "link = sch.linkage(scaled_data,method='single', metric='euclidean')"
   ]
  },
  {
   "cell_type": "code",
   "execution_count": 12,
   "id": "bf44f960",
   "metadata": {
    "scrolled": true
   },
   "outputs": [
    {
     "data": {
      "image/png": "[encoded data removed]",
      "text/plain": [
       "<Figure size 1080x576 with 1 Axes>"
      ]
     },
     "metadata": {
      "needs_background": "light"
     },
     "output_type": "display_data"
    }
   ],
   "source": [
    "plt.figure(figsize=(15,8))\n",
    "plt.title('Hierarchical Clustering Dendrogram')\n",
    "dendogram = sch.dendrogram(link)"
   ]
  },
  {
   "cell_type": "markdown",
   "id": "e4bb9135",
   "metadata": {},
   "source": [
    "###### For n_clusters = 3"
   ]
  },
  {
   "cell_type": "code",
   "execution_count": 15,
   "id": "121c02d2",
   "metadata": {},
   "outputs": [],
   "source": [
    "hc_cluster_model = AgglomerativeClustering(n_clusters=3,affinity='euclidean',linkage='single')"
   ]
  },
  {
   "cell_type": "code",
   "execution_count": 16,
   "id": "56b6df8b",
   "metadata": {},
   "outputs": [],
   "source": [
    "y_hc = hc_cluster_model.fit_predict(scaled_data)"
   ]
  },
  {
   "cell_type": "code",
   "execution_count": 17,
   "id": "f986dd8d",
   "metadata": {},
   "outputs": [
    {
     "data": {
      "text/html": [
       "<div>\n",
       "<style scoped>\n",
       "    .dataframe tbody tr th:only-of-type {\n",
       "        vertical-align: middle;\n",
       "    }\n",
       "\n",
       "    .dataframe tbody tr th {\n",
       "        vertical-align: top;\n",
       "    }\n",
       "\n",
       "    .dataframe thead th {\n",
       "        text-align: right;\n",
       "    }\n",
       "</style>\n",
       "<table border=\"1\" class=\"dataframe\">\n",
       "  <thead>\n",
       "    <tr style=\"text-align: right;\">\n",
       "      <th></th>\n",
       "      <th>clusterID</th>\n",
       "    </tr>\n",
       "  </thead>\n",
       "  <tbody>\n",
       "    <tr>\n",
       "      <th>0</th>\n",
       "      <td>2</td>\n",
       "    </tr>\n",
       "    <tr>\n",
       "      <th>1</th>\n",
       "      <td>2</td>\n",
       "    </tr>\n",
       "    <tr>\n",
       "      <th>2</th>\n",
       "      <td>2</td>\n",
       "    </tr>\n",
       "    <tr>\n",
       "      <th>3</th>\n",
       "      <td>2</td>\n",
       "    </tr>\n",
       "    <tr>\n",
       "      <th>4</th>\n",
       "      <td>2</td>\n",
       "    </tr>\n",
       "  </tbody>\n",
       "</table>\n",
       "</div>"
      ],
      "text/plain": [
       "   clusterID\n",
       "0          2\n",
       "1          2\n",
       "2          2\n",
       "3          2\n",
       "4          2"
      ]
     },
     "execution_count": 17,
     "metadata": {},
     "output_type": "execute_result"
    }
   ],
   "source": [
    "cluster = pd.DataFrame(y_hc,columns=['clusterID'])\n",
    "cluster.head()"
   ]
  },
  {
   "cell_type": "code",
   "execution_count": 18,
   "id": "4c3aaf21",
   "metadata": {},
   "outputs": [
    {
     "data": {
      "text/plain": [
       "clusterID\n",
       "2            44\n",
       "0             5\n",
       "1             1\n",
       "dtype: int64"
      ]
     },
     "execution_count": 18,
     "metadata": {},
     "output_type": "execute_result"
    }
   ],
   "source": [
    "cluster.value_counts()"
   ]
  },
  {
   "cell_type": "code",
   "execution_count": 19,
   "id": "fd229fe1",
   "metadata": {},
   "outputs": [
    {
     "data": {
      "text/plain": [
       "0.88"
      ]
     },
     "execution_count": 19,
     "metadata": {},
     "output_type": "execute_result"
    }
   ],
   "source": [
    "44/50"
   ]
  },
  {
   "cell_type": "markdown",
   "id": "7ba5689d",
   "metadata": {},
   "source": [
    "##### Here, 88% of the points are grouped in one cluster, So this is not a good clustering."
   ]
  },
  {
   "cell_type": "markdown",
   "id": "cc7a9343",
   "metadata": {},
   "source": [
    "###### For n_clusters = 2"
   ]
  },
  {
   "cell_type": "code",
   "execution_count": 20,
   "id": "44e79adc",
   "metadata": {},
   "outputs": [
    {
     "data": {
      "text/plain": [
       "clusterID\n",
       "0            49\n",
       "1             1\n",
       "dtype: int64"
      ]
     },
     "execution_count": 20,
     "metadata": {},
     "output_type": "execute_result"
    }
   ],
   "source": [
    "hc_cluster_model = AgglomerativeClustering(n_clusters=2,affinity='euclidean',linkage='single')\n",
    "\n",
    "y_hc = hc_cluster_model.fit_predict(scaled_data)\n",
    "\n",
    "cluster = pd.DataFrame(y_hc,columns=['clusterID'])\n",
    "cluster.head()\n",
    "\n",
    "cluster.value_counts()"
   ]
  },
  {
   "cell_type": "markdown",
   "id": "fa4c02bc",
   "metadata": {},
   "source": [
    "###### For n_clusters = 3, affinity='cosine', linkage='complete'"
   ]
  },
  {
   "cell_type": "code",
   "execution_count": 21,
   "id": "61c08f7a",
   "metadata": {},
   "outputs": [
    {
     "name": "stdout",
     "output_type": "stream",
     "text": [
      "Index(['Unnamed: 0', 'Murder', 'Assault', 'UrbanPop', 'Rape'], dtype='object')\n",
      "Unnamed: 0     object\n",
      "Murder        float64\n",
      "Assault         int64\n",
      "UrbanPop        int64\n",
      "Rape          float64\n",
      "dtype: object\n"
     ]
    }
   ],
   "source": [
    "crime_data = crime_data_1.copy()\n",
    "print(crime_data.columns)\n",
    "print(crime_data.dtypes)"
   ]
  },
  {
   "cell_type": "code",
   "execution_count": 22,
   "id": "e8f5433f",
   "metadata": {},
   "outputs": [
    {
     "data": {
      "text/html": [
       "<div>\n",
       "<style scoped>\n",
       "    .dataframe tbody tr th:only-of-type {\n",
       "        vertical-align: middle;\n",
       "    }\n",
       "\n",
       "    .dataframe tbody tr th {\n",
       "        vertical-align: top;\n",
       "    }\n",
       "\n",
       "    .dataframe thead th {\n",
       "        text-align: right;\n",
       "    }\n",
       "</style>\n",
       "<table border=\"1\" class=\"dataframe\">\n",
       "  <thead>\n",
       "    <tr style=\"text-align: right;\">\n",
       "      <th></th>\n",
       "      <th>Murder</th>\n",
       "      <th>Assault</th>\n",
       "      <th>UrbanPop</th>\n",
       "      <th>Rape</th>\n",
       "    </tr>\n",
       "  </thead>\n",
       "  <tbody>\n",
       "    <tr>\n",
       "      <th>0</th>\n",
       "      <td>13.2</td>\n",
       "      <td>236</td>\n",
       "      <td>58</td>\n",
       "      <td>21.2</td>\n",
       "    </tr>\n",
       "    <tr>\n",
       "      <th>1</th>\n",
       "      <td>10.0</td>\n",
       "      <td>263</td>\n",
       "      <td>48</td>\n",
       "      <td>44.5</td>\n",
       "    </tr>\n",
       "  </tbody>\n",
       "</table>\n",
       "</div>"
      ],
      "text/plain": [
       "   Murder  Assault  UrbanPop  Rape\n",
       "0    13.2      236        58  21.2\n",
       "1    10.0      263        48  44.5"
      ]
     },
     "execution_count": 22,
     "metadata": {},
     "output_type": "execute_result"
    }
   ],
   "source": [
    "crime_data.drop('Unnamed: 0',axis=1,inplace=True)\n",
    "crime_data.head(2)"
   ]
  },
  {
   "cell_type": "code",
   "execution_count": 23,
   "id": "f0f614a5",
   "metadata": {},
   "outputs": [
    {
     "data": {
      "text/plain": [
       "clusterID\n",
       "0            33\n",
       "2            11\n",
       "1             6\n",
       "dtype: int64"
      ]
     },
     "execution_count": 23,
     "metadata": {},
     "output_type": "execute_result"
    }
   ],
   "source": [
    "hc_cluster_model = AgglomerativeClustering(n_clusters=3,affinity='cosine',linkage='complete')\n",
    "\n",
    "y_hc = hc_cluster_model.fit_predict(crime_data)\n",
    "\n",
    "cluster = pd.DataFrame(y_hc,columns=['clusterID'])\n",
    "cluster.head()\n",
    "\n",
    "cluster.value_counts()"
   ]
  },
  {
   "cell_type": "markdown",
   "id": "014b040d",
   "metadata": {},
   "source": [
    "###### n_clusters=5,affinity='l1',linkage='complete'"
   ]
  },
  {
   "cell_type": "code",
   "execution_count": 24,
   "id": "e8a3ef3f",
   "metadata": {},
   "outputs": [
    {
     "data": {
      "text/html": [
       "<div>\n",
       "<style scoped>\n",
       "    .dataframe tbody tr th:only-of-type {\n",
       "        vertical-align: middle;\n",
       "    }\n",
       "\n",
       "    .dataframe tbody tr th {\n",
       "        vertical-align: top;\n",
       "    }\n",
       "\n",
       "    .dataframe thead th {\n",
       "        text-align: right;\n",
       "    }\n",
       "</style>\n",
       "<table border=\"1\" class=\"dataframe\">\n",
       "  <thead>\n",
       "    <tr style=\"text-align: right;\">\n",
       "      <th></th>\n",
       "      <th>Murder</th>\n",
       "      <th>Assault</th>\n",
       "      <th>UrbanPop</th>\n",
       "      <th>Rape</th>\n",
       "    </tr>\n",
       "  </thead>\n",
       "  <tbody>\n",
       "    <tr>\n",
       "      <th>0</th>\n",
       "      <td>13.2</td>\n",
       "      <td>236</td>\n",
       "      <td>58</td>\n",
       "      <td>21.2</td>\n",
       "    </tr>\n",
       "    <tr>\n",
       "      <th>1</th>\n",
       "      <td>10.0</td>\n",
       "      <td>263</td>\n",
       "      <td>48</td>\n",
       "      <td>44.5</td>\n",
       "    </tr>\n",
       "  </tbody>\n",
       "</table>\n",
       "</div>"
      ],
      "text/plain": [
       "   Murder  Assault  UrbanPop  Rape\n",
       "0    13.2      236        58  21.2\n",
       "1    10.0      263        48  44.5"
      ]
     },
     "execution_count": 24,
     "metadata": {},
     "output_type": "execute_result"
    }
   ],
   "source": [
    "crime_data.head(2)"
   ]
  },
  {
   "cell_type": "code",
   "execution_count": 25,
   "id": "f623b510",
   "metadata": {},
   "outputs": [
    {
     "data": {
      "text/plain": [
       "clusterID\n",
       "0            20\n",
       "1             5\n",
       "2            13\n",
       "3             1\n",
       "4            11\n",
       "dtype: int64"
      ]
     },
     "execution_count": 25,
     "metadata": {},
     "output_type": "execute_result"
    }
   ],
   "source": [
    "#scaled data with l1 affinity\n",
    "hc_cluster_model = AgglomerativeClustering(n_clusters=5,affinity='l1',linkage='complete')\n",
    "\n",
    "y_hc = hc_cluster_model.fit_predict(scaled_data)\n",
    "\n",
    "cluster = pd.DataFrame(y_hc,columns=['clusterID'])\n",
    "cluster.head()\n",
    "\n",
    "cluster.value_counts().sort_index()"
   ]
  },
  {
   "cell_type": "code",
   "execution_count": 26,
   "id": "d23ad285",
   "metadata": {},
   "outputs": [
    {
     "data": {
      "text/plain": [
       "clusterID\n",
       "0            13\n",
       "1            14\n",
       "2            10\n",
       "3             2\n",
       "4            11\n",
       "dtype: int64"
      ]
     },
     "execution_count": 26,
     "metadata": {},
     "output_type": "execute_result"
    }
   ],
   "source": [
    "#original, non-scaled data with l1 affinity\n",
    "hc_cluster_model = AgglomerativeClustering(n_clusters=5,affinity='l1',linkage='complete')\n",
    "\n",
    "y_hc = hc_cluster_model.fit_predict(crime_data)\n",
    "\n",
    "cluster = pd.DataFrame(y_hc,columns=['clusterID'])\n",
    "cluster.head()\n",
    "\n",
    "cluster.value_counts().sort_index()"
   ]
  },
  {
   "cell_type": "code",
   "execution_count": 27,
   "id": "0699d86b",
   "metadata": {},
   "outputs": [
    {
     "data": {
      "text/html": [
       "<div>\n",
       "<style scoped>\n",
       "    .dataframe tbody tr th:only-of-type {\n",
       "        vertical-align: middle;\n",
       "    }\n",
       "\n",
       "    .dataframe tbody tr th {\n",
       "        vertical-align: top;\n",
       "    }\n",
       "\n",
       "    .dataframe thead th {\n",
       "        text-align: right;\n",
       "    }\n",
       "</style>\n",
       "<table border=\"1\" class=\"dataframe\">\n",
       "  <thead>\n",
       "    <tr style=\"text-align: right;\">\n",
       "      <th></th>\n",
       "      <th>Murder</th>\n",
       "      <th>Assault</th>\n",
       "      <th>UrbanPop</th>\n",
       "      <th>Rape</th>\n",
       "    </tr>\n",
       "    <tr>\n",
       "      <th>clusterID</th>\n",
       "      <th></th>\n",
       "      <th></th>\n",
       "      <th></th>\n",
       "      <th></th>\n",
       "    </tr>\n",
       "  </thead>\n",
       "  <tbody>\n",
       "    <tr>\n",
       "      <th>0</th>\n",
       "      <td>8.538462</td>\n",
       "      <td>175.461538</td>\n",
       "      <td>70.461538</td>\n",
       "      <td>22.584615</td>\n",
       "    </tr>\n",
       "    <tr>\n",
       "      <th>1</th>\n",
       "      <td>11.471429</td>\n",
       "      <td>263.500000</td>\n",
       "      <td>69.142857</td>\n",
       "      <td>29.000000</td>\n",
       "    </tr>\n",
       "    <tr>\n",
       "      <th>2</th>\n",
       "      <td>2.950000</td>\n",
       "      <td>62.700000</td>\n",
       "      <td>53.900000</td>\n",
       "      <td>11.510000</td>\n",
       "    </tr>\n",
       "    <tr>\n",
       "      <th>3</th>\n",
       "      <td>14.200000</td>\n",
       "      <td>336.000000</td>\n",
       "      <td>62.500000</td>\n",
       "      <td>24.000000</td>\n",
       "    </tr>\n",
       "    <tr>\n",
       "      <th>4</th>\n",
       "      <td>5.445455</td>\n",
       "      <td>115.363636</td>\n",
       "      <td>66.272727</td>\n",
       "      <td>18.081818</td>\n",
       "    </tr>\n",
       "  </tbody>\n",
       "</table>\n",
       "</div>"
      ],
      "text/plain": [
       "              Murder     Assault   UrbanPop       Rape\n",
       "clusterID                                             \n",
       "0           8.538462  175.461538  70.461538  22.584615\n",
       "1          11.471429  263.500000  69.142857  29.000000\n",
       "2           2.950000   62.700000  53.900000  11.510000\n",
       "3          14.200000  336.000000  62.500000  24.000000\n",
       "4           5.445455  115.363636  66.272727  18.081818"
      ]
     },
     "execution_count": 27,
     "metadata": {},
     "output_type": "execute_result"
    }
   ],
   "source": [
    "crime_data['clusterID'] = cluster\n",
    "crime_data.groupby('clusterID').agg('mean')"
   ]
  },
  {
   "cell_type": "code",
   "execution_count": 28,
   "id": "896c625f",
   "metadata": {},
   "outputs": [
    {
     "data": {
      "text/html": [
       "<div>\n",
       "<style scoped>\n",
       "    .dataframe tbody tr th:only-of-type {\n",
       "        vertical-align: middle;\n",
       "    }\n",
       "\n",
       "    .dataframe tbody tr th {\n",
       "        vertical-align: top;\n",
       "    }\n",
       "\n",
       "    .dataframe thead th {\n",
       "        text-align: right;\n",
       "    }\n",
       "</style>\n",
       "<table border=\"1\" class=\"dataframe\">\n",
       "  <thead>\n",
       "    <tr style=\"text-align: right;\">\n",
       "      <th></th>\n",
       "      <th>Murder</th>\n",
       "      <th>Assault</th>\n",
       "      <th>UrbanPop</th>\n",
       "      <th>Rape</th>\n",
       "      <th>clusterID</th>\n",
       "    </tr>\n",
       "  </thead>\n",
       "  <tbody>\n",
       "    <tr>\n",
       "      <th>8</th>\n",
       "      <td>15.4</td>\n",
       "      <td>335</td>\n",
       "      <td>80</td>\n",
       "      <td>31.9</td>\n",
       "      <td>3</td>\n",
       "    </tr>\n",
       "    <tr>\n",
       "      <th>32</th>\n",
       "      <td>13.0</td>\n",
       "      <td>337</td>\n",
       "      <td>45</td>\n",
       "      <td>16.1</td>\n",
       "      <td>3</td>\n",
       "    </tr>\n",
       "  </tbody>\n",
       "</table>\n",
       "</div>"
      ],
      "text/plain": [
       "    Murder  Assault  UrbanPop  Rape  clusterID\n",
       "8     15.4      335        80  31.9          3\n",
       "32    13.0      337        45  16.1          3"
      ]
     },
     "execution_count": 28,
     "metadata": {},
     "output_type": "execute_result"
    }
   ],
   "source": [
    "# to find outlier\n",
    "crime_data[crime_data['clusterID']==3]"
   ]
  },
  {
   "cell_type": "code",
   "execution_count": 29,
   "id": "0bbbbf31",
   "metadata": {},
   "outputs": [
    {
     "data": {
      "text/html": [
       "<div>\n",
       "<style scoped>\n",
       "    .dataframe tbody tr th:only-of-type {\n",
       "        vertical-align: middle;\n",
       "    }\n",
       "\n",
       "    .dataframe tbody tr th {\n",
       "        vertical-align: top;\n",
       "    }\n",
       "\n",
       "    .dataframe thead th {\n",
       "        text-align: right;\n",
       "    }\n",
       "</style>\n",
       "<table border=\"1\" class=\"dataframe\">\n",
       "  <thead>\n",
       "    <tr style=\"text-align: right;\">\n",
       "      <th></th>\n",
       "      <th>Murder</th>\n",
       "      <th>Assault</th>\n",
       "      <th>UrbanPop</th>\n",
       "      <th>Rape</th>\n",
       "      <th>Location</th>\n",
       "      <th>clusterID</th>\n",
       "    </tr>\n",
       "  </thead>\n",
       "  <tbody>\n",
       "    <tr>\n",
       "      <th>0</th>\n",
       "      <td>13.2</td>\n",
       "      <td>236</td>\n",
       "      <td>58</td>\n",
       "      <td>21.2</td>\n",
       "      <td>Alabama</td>\n",
       "      <td>1</td>\n",
       "    </tr>\n",
       "    <tr>\n",
       "      <th>1</th>\n",
       "      <td>10.0</td>\n",
       "      <td>263</td>\n",
       "      <td>48</td>\n",
       "      <td>44.5</td>\n",
       "      <td>Alaska</td>\n",
       "      <td>1</td>\n",
       "    </tr>\n",
       "    <tr>\n",
       "      <th>2</th>\n",
       "      <td>8.1</td>\n",
       "      <td>294</td>\n",
       "      <td>80</td>\n",
       "      <td>31.0</td>\n",
       "      <td>Arizona</td>\n",
       "      <td>1</td>\n",
       "    </tr>\n",
       "    <tr>\n",
       "      <th>3</th>\n",
       "      <td>8.8</td>\n",
       "      <td>190</td>\n",
       "      <td>50</td>\n",
       "      <td>19.5</td>\n",
       "      <td>Arkansas</td>\n",
       "      <td>0</td>\n",
       "    </tr>\n",
       "    <tr>\n",
       "      <th>4</th>\n",
       "      <td>9.0</td>\n",
       "      <td>276</td>\n",
       "      <td>91</td>\n",
       "      <td>40.6</td>\n",
       "      <td>California</td>\n",
       "      <td>1</td>\n",
       "    </tr>\n",
       "    <tr>\n",
       "      <th>5</th>\n",
       "      <td>7.9</td>\n",
       "      <td>204</td>\n",
       "      <td>78</td>\n",
       "      <td>38.7</td>\n",
       "      <td>Colorado</td>\n",
       "      <td>0</td>\n",
       "    </tr>\n",
       "    <tr>\n",
       "      <th>6</th>\n",
       "      <td>3.3</td>\n",
       "      <td>110</td>\n",
       "      <td>77</td>\n",
       "      <td>11.1</td>\n",
       "      <td>Connecticut</td>\n",
       "      <td>4</td>\n",
       "    </tr>\n",
       "    <tr>\n",
       "      <th>7</th>\n",
       "      <td>5.9</td>\n",
       "      <td>238</td>\n",
       "      <td>72</td>\n",
       "      <td>15.8</td>\n",
       "      <td>Delaware</td>\n",
       "      <td>1</td>\n",
       "    </tr>\n",
       "    <tr>\n",
       "      <th>8</th>\n",
       "      <td>15.4</td>\n",
       "      <td>335</td>\n",
       "      <td>80</td>\n",
       "      <td>31.9</td>\n",
       "      <td>Florida</td>\n",
       "      <td>3</td>\n",
       "    </tr>\n",
       "    <tr>\n",
       "      <th>9</th>\n",
       "      <td>17.4</td>\n",
       "      <td>211</td>\n",
       "      <td>60</td>\n",
       "      <td>25.8</td>\n",
       "      <td>Georgia</td>\n",
       "      <td>0</td>\n",
       "    </tr>\n",
       "    <tr>\n",
       "      <th>10</th>\n",
       "      <td>5.3</td>\n",
       "      <td>46</td>\n",
       "      <td>83</td>\n",
       "      <td>20.2</td>\n",
       "      <td>Hawaii</td>\n",
       "      <td>2</td>\n",
       "    </tr>\n",
       "    <tr>\n",
       "      <th>11</th>\n",
       "      <td>2.6</td>\n",
       "      <td>120</td>\n",
       "      <td>54</td>\n",
       "      <td>14.2</td>\n",
       "      <td>Idaho</td>\n",
       "      <td>4</td>\n",
       "    </tr>\n",
       "    <tr>\n",
       "      <th>12</th>\n",
       "      <td>10.4</td>\n",
       "      <td>249</td>\n",
       "      <td>83</td>\n",
       "      <td>24.0</td>\n",
       "      <td>Illinois</td>\n",
       "      <td>1</td>\n",
       "    </tr>\n",
       "    <tr>\n",
       "      <th>13</th>\n",
       "      <td>7.2</td>\n",
       "      <td>113</td>\n",
       "      <td>65</td>\n",
       "      <td>21.0</td>\n",
       "      <td>Indiana</td>\n",
       "      <td>4</td>\n",
       "    </tr>\n",
       "    <tr>\n",
       "      <th>14</th>\n",
       "      <td>2.2</td>\n",
       "      <td>56</td>\n",
       "      <td>57</td>\n",
       "      <td>11.3</td>\n",
       "      <td>Iowa</td>\n",
       "      <td>2</td>\n",
       "    </tr>\n",
       "    <tr>\n",
       "      <th>15</th>\n",
       "      <td>6.0</td>\n",
       "      <td>115</td>\n",
       "      <td>66</td>\n",
       "      <td>18.0</td>\n",
       "      <td>Kansas</td>\n",
       "      <td>4</td>\n",
       "    </tr>\n",
       "    <tr>\n",
       "      <th>16</th>\n",
       "      <td>9.7</td>\n",
       "      <td>109</td>\n",
       "      <td>52</td>\n",
       "      <td>16.3</td>\n",
       "      <td>Kentucky</td>\n",
       "      <td>4</td>\n",
       "    </tr>\n",
       "    <tr>\n",
       "      <th>17</th>\n",
       "      <td>15.4</td>\n",
       "      <td>249</td>\n",
       "      <td>66</td>\n",
       "      <td>22.2</td>\n",
       "      <td>Louisiana</td>\n",
       "      <td>1</td>\n",
       "    </tr>\n",
       "    <tr>\n",
       "      <th>18</th>\n",
       "      <td>2.1</td>\n",
       "      <td>83</td>\n",
       "      <td>51</td>\n",
       "      <td>7.8</td>\n",
       "      <td>Maine</td>\n",
       "      <td>2</td>\n",
       "    </tr>\n",
       "    <tr>\n",
       "      <th>19</th>\n",
       "      <td>11.3</td>\n",
       "      <td>300</td>\n",
       "      <td>67</td>\n",
       "      <td>27.8</td>\n",
       "      <td>Maryland</td>\n",
       "      <td>1</td>\n",
       "    </tr>\n",
       "    <tr>\n",
       "      <th>20</th>\n",
       "      <td>4.4</td>\n",
       "      <td>149</td>\n",
       "      <td>85</td>\n",
       "      <td>16.3</td>\n",
       "      <td>Massachusetts</td>\n",
       "      <td>0</td>\n",
       "    </tr>\n",
       "    <tr>\n",
       "      <th>21</th>\n",
       "      <td>12.1</td>\n",
       "      <td>255</td>\n",
       "      <td>74</td>\n",
       "      <td>35.1</td>\n",
       "      <td>Michigan</td>\n",
       "      <td>1</td>\n",
       "    </tr>\n",
       "    <tr>\n",
       "      <th>22</th>\n",
       "      <td>2.7</td>\n",
       "      <td>72</td>\n",
       "      <td>66</td>\n",
       "      <td>14.9</td>\n",
       "      <td>Minnesota</td>\n",
       "      <td>2</td>\n",
       "    </tr>\n",
       "    <tr>\n",
       "      <th>23</th>\n",
       "      <td>16.1</td>\n",
       "      <td>259</td>\n",
       "      <td>44</td>\n",
       "      <td>17.1</td>\n",
       "      <td>Mississippi</td>\n",
       "      <td>1</td>\n",
       "    </tr>\n",
       "    <tr>\n",
       "      <th>24</th>\n",
       "      <td>9.0</td>\n",
       "      <td>178</td>\n",
       "      <td>70</td>\n",
       "      <td>28.2</td>\n",
       "      <td>Missouri</td>\n",
       "      <td>0</td>\n",
       "    </tr>\n",
       "    <tr>\n",
       "      <th>25</th>\n",
       "      <td>6.0</td>\n",
       "      <td>109</td>\n",
       "      <td>53</td>\n",
       "      <td>16.4</td>\n",
       "      <td>Montana</td>\n",
       "      <td>4</td>\n",
       "    </tr>\n",
       "    <tr>\n",
       "      <th>26</th>\n",
       "      <td>4.3</td>\n",
       "      <td>102</td>\n",
       "      <td>62</td>\n",
       "      <td>16.5</td>\n",
       "      <td>Nebraska</td>\n",
       "      <td>4</td>\n",
       "    </tr>\n",
       "    <tr>\n",
       "      <th>27</th>\n",
       "      <td>12.2</td>\n",
       "      <td>252</td>\n",
       "      <td>81</td>\n",
       "      <td>46.0</td>\n",
       "      <td>Nevada</td>\n",
       "      <td>1</td>\n",
       "    </tr>\n",
       "    <tr>\n",
       "      <th>28</th>\n",
       "      <td>2.1</td>\n",
       "      <td>57</td>\n",
       "      <td>56</td>\n",
       "      <td>9.5</td>\n",
       "      <td>New Hampshire</td>\n",
       "      <td>2</td>\n",
       "    </tr>\n",
       "    <tr>\n",
       "      <th>29</th>\n",
       "      <td>7.4</td>\n",
       "      <td>159</td>\n",
       "      <td>89</td>\n",
       "      <td>18.8</td>\n",
       "      <td>New Jersey</td>\n",
       "      <td>0</td>\n",
       "    </tr>\n",
       "    <tr>\n",
       "      <th>30</th>\n",
       "      <td>11.4</td>\n",
       "      <td>285</td>\n",
       "      <td>70</td>\n",
       "      <td>32.1</td>\n",
       "      <td>New Mexico</td>\n",
       "      <td>1</td>\n",
       "    </tr>\n",
       "    <tr>\n",
       "      <th>31</th>\n",
       "      <td>11.1</td>\n",
       "      <td>254</td>\n",
       "      <td>86</td>\n",
       "      <td>26.1</td>\n",
       "      <td>New York</td>\n",
       "      <td>1</td>\n",
       "    </tr>\n",
       "    <tr>\n",
       "      <th>32</th>\n",
       "      <td>13.0</td>\n",
       "      <td>337</td>\n",
       "      <td>45</td>\n",
       "      <td>16.1</td>\n",
       "      <td>North Carolina</td>\n",
       "      <td>3</td>\n",
       "    </tr>\n",
       "    <tr>\n",
       "      <th>33</th>\n",
       "      <td>0.8</td>\n",
       "      <td>45</td>\n",
       "      <td>44</td>\n",
       "      <td>7.3</td>\n",
       "      <td>North Dakota</td>\n",
       "      <td>2</td>\n",
       "    </tr>\n",
       "    <tr>\n",
       "      <th>34</th>\n",
       "      <td>7.3</td>\n",
       "      <td>120</td>\n",
       "      <td>75</td>\n",
       "      <td>21.4</td>\n",
       "      <td>Ohio</td>\n",
       "      <td>4</td>\n",
       "    </tr>\n",
       "    <tr>\n",
       "      <th>35</th>\n",
       "      <td>6.6</td>\n",
       "      <td>151</td>\n",
       "      <td>68</td>\n",
       "      <td>20.0</td>\n",
       "      <td>Oklahoma</td>\n",
       "      <td>0</td>\n",
       "    </tr>\n",
       "    <tr>\n",
       "      <th>36</th>\n",
       "      <td>4.9</td>\n",
       "      <td>159</td>\n",
       "      <td>67</td>\n",
       "      <td>29.3</td>\n",
       "      <td>Oregon</td>\n",
       "      <td>0</td>\n",
       "    </tr>\n",
       "    <tr>\n",
       "      <th>37</th>\n",
       "      <td>6.3</td>\n",
       "      <td>106</td>\n",
       "      <td>72</td>\n",
       "      <td>14.9</td>\n",
       "      <td>Pennsylvania</td>\n",
       "      <td>4</td>\n",
       "    </tr>\n",
       "    <tr>\n",
       "      <th>38</th>\n",
       "      <td>3.4</td>\n",
       "      <td>174</td>\n",
       "      <td>87</td>\n",
       "      <td>8.3</td>\n",
       "      <td>Rhode Island</td>\n",
       "      <td>0</td>\n",
       "    </tr>\n",
       "    <tr>\n",
       "      <th>39</th>\n",
       "      <td>14.4</td>\n",
       "      <td>279</td>\n",
       "      <td>48</td>\n",
       "      <td>22.5</td>\n",
       "      <td>South Carolina</td>\n",
       "      <td>1</td>\n",
       "    </tr>\n",
       "    <tr>\n",
       "      <th>40</th>\n",
       "      <td>3.8</td>\n",
       "      <td>86</td>\n",
       "      <td>45</td>\n",
       "      <td>12.8</td>\n",
       "      <td>South Dakota</td>\n",
       "      <td>2</td>\n",
       "    </tr>\n",
       "    <tr>\n",
       "      <th>41</th>\n",
       "      <td>13.2</td>\n",
       "      <td>188</td>\n",
       "      <td>59</td>\n",
       "      <td>26.9</td>\n",
       "      <td>Tennessee</td>\n",
       "      <td>0</td>\n",
       "    </tr>\n",
       "    <tr>\n",
       "      <th>42</th>\n",
       "      <td>12.7</td>\n",
       "      <td>201</td>\n",
       "      <td>80</td>\n",
       "      <td>25.5</td>\n",
       "      <td>Texas</td>\n",
       "      <td>0</td>\n",
       "    </tr>\n",
       "    <tr>\n",
       "      <th>43</th>\n",
       "      <td>3.2</td>\n",
       "      <td>120</td>\n",
       "      <td>80</td>\n",
       "      <td>22.9</td>\n",
       "      <td>Utah</td>\n",
       "      <td>4</td>\n",
       "    </tr>\n",
       "    <tr>\n",
       "      <th>44</th>\n",
       "      <td>2.2</td>\n",
       "      <td>48</td>\n",
       "      <td>32</td>\n",
       "      <td>11.2</td>\n",
       "      <td>Vermont</td>\n",
       "      <td>2</td>\n",
       "    </tr>\n",
       "    <tr>\n",
       "      <th>45</th>\n",
       "      <td>8.5</td>\n",
       "      <td>156</td>\n",
       "      <td>63</td>\n",
       "      <td>20.7</td>\n",
       "      <td>Virginia</td>\n",
       "      <td>0</td>\n",
       "    </tr>\n",
       "    <tr>\n",
       "      <th>46</th>\n",
       "      <td>4.0</td>\n",
       "      <td>145</td>\n",
       "      <td>73</td>\n",
       "      <td>26.2</td>\n",
       "      <td>Washington</td>\n",
       "      <td>4</td>\n",
       "    </tr>\n",
       "    <tr>\n",
       "      <th>47</th>\n",
       "      <td>5.7</td>\n",
       "      <td>81</td>\n",
       "      <td>39</td>\n",
       "      <td>9.3</td>\n",
       "      <td>West Virginia</td>\n",
       "      <td>2</td>\n",
       "    </tr>\n",
       "    <tr>\n",
       "      <th>48</th>\n",
       "      <td>2.6</td>\n",
       "      <td>53</td>\n",
       "      <td>66</td>\n",
       "      <td>10.8</td>\n",
       "      <td>Wisconsin</td>\n",
       "      <td>2</td>\n",
       "    </tr>\n",
       "    <tr>\n",
       "      <th>49</th>\n",
       "      <td>6.8</td>\n",
       "      <td>161</td>\n",
       "      <td>60</td>\n",
       "      <td>15.6</td>\n",
       "      <td>Wyoming</td>\n",
       "      <td>0</td>\n",
       "    </tr>\n",
       "  </tbody>\n",
       "</table>\n",
       "</div>"
      ],
      "text/plain": [
       "    Murder  Assault  UrbanPop  Rape        Location  clusterID\n",
       "0     13.2      236        58  21.2         Alabama          1\n",
       "1     10.0      263        48  44.5          Alaska          1\n",
       "2      8.1      294        80  31.0         Arizona          1\n",
       "3      8.8      190        50  19.5        Arkansas          0\n",
       "4      9.0      276        91  40.6      California          1\n",
       "5      7.9      204        78  38.7        Colorado          0\n",
       "6      3.3      110        77  11.1     Connecticut          4\n",
       "7      5.9      238        72  15.8        Delaware          1\n",
       "8     15.4      335        80  31.9         Florida          3\n",
       "9     17.4      211        60  25.8         Georgia          0\n",
       "10     5.3       46        83  20.2          Hawaii          2\n",
       "11     2.6      120        54  14.2           Idaho          4\n",
       "12    10.4      249        83  24.0        Illinois          1\n",
       "13     7.2      113        65  21.0         Indiana          4\n",
       "14     2.2       56        57  11.3            Iowa          2\n",
       "15     6.0      115        66  18.0          Kansas          4\n",
       "16     9.7      109        52  16.3        Kentucky          4\n",
       "17    15.4      249        66  22.2       Louisiana          1\n",
       "18     2.1       83        51   7.8           Maine          2\n",
       "19    11.3      300        67  27.8        Maryland          1\n",
       "20     4.4      149        85  16.3   Massachusetts          0\n",
       "21    12.1      255        74  35.1        Michigan          1\n",
       "22     2.7       72        66  14.9       Minnesota          2\n",
       "23    16.1      259        44  17.1     Mississippi          1\n",
       "24     9.0      178        70  28.2        Missouri          0\n",
       "25     6.0      109        53  16.4         Montana          4\n",
       "26     4.3      102        62  16.5        Nebraska          4\n",
       "27    12.2      252        81  46.0          Nevada          1\n",
       "28     2.1       57        56   9.5   New Hampshire          2\n",
       "29     7.4      159        89  18.8      New Jersey          0\n",
       "30    11.4      285        70  32.1      New Mexico          1\n",
       "31    11.1      254        86  26.1        New York          1\n",
       "32    13.0      337        45  16.1  North Carolina          3\n",
       "33     0.8       45        44   7.3    North Dakota          2\n",
       "34     7.3      120        75  21.4            Ohio          4\n",
       "35     6.6      151        68  20.0        Oklahoma          0\n",
       "36     4.9      159        67  29.3          Oregon          0\n",
       "37     6.3      106        72  14.9    Pennsylvania          4\n",
       "38     3.4      174        87   8.3    Rhode Island          0\n",
       "39    14.4      279        48  22.5  South Carolina          1\n",
       "40     3.8       86        45  12.8    South Dakota          2\n",
       "41    13.2      188        59  26.9       Tennessee          0\n",
       "42    12.7      201        80  25.5           Texas          0\n",
       "43     3.2      120        80  22.9            Utah          4\n",
       "44     2.2       48        32  11.2         Vermont          2\n",
       "45     8.5      156        63  20.7        Virginia          0\n",
       "46     4.0      145        73  26.2      Washington          4\n",
       "47     5.7       81        39   9.3   West Virginia          2\n",
       "48     2.6       53        66  10.8       Wisconsin          2\n",
       "49     6.8      161        60  15.6         Wyoming          0"
      ]
     },
     "execution_count": 29,
     "metadata": {},
     "output_type": "execute_result"
    }
   ],
   "source": [
    "#complete table to check clusterID with locationswise\n",
    "crime_data.insert(loc=4,column='Location',value=crime_data_1['Unnamed: 0'])\n",
    "crime_data"
   ]
  },
  {
   "cell_type": "markdown",
   "id": "0be92872",
   "metadata": {},
   "source": [
    "### conclusion\n",
    "5 clusters are formed but, third cluster just contains 2 datapoints, which can be reffered as outlier in the data."
   ]
  },
  {
   "cell_type": "markdown",
   "id": "348f20bd",
   "metadata": {},
   "source": [
    "# Kmeans Clustering"
   ]
  },
  {
   "cell_type": "code",
   "execution_count": 68,
   "id": "a2981540",
   "metadata": {},
   "outputs": [],
   "source": [
    "crime_data_1 = pd.read_csv('crime_data.csv')\n",
    "crime_data = crime_data_1.copy()\n",
    "crime_data.drop('Unnamed: 0',axis=1,inplace=True)"
   ]
  },
  {
   "cell_type": "markdown",
   "id": "38aa3111",
   "metadata": {},
   "source": [
    "### Data Preprocessing"
   ]
  },
  {
   "cell_type": "markdown",
   "id": "ced01438",
   "metadata": {},
   "source": [
    "google -  does kmeans only use euclidean distance\n",
    "\n",
    "### in kmeans, we will use only scaled data, because distance metric is just Euclidean.\n",
    "Sklearn Kmeans uses the Euclidean distance. It has no metric parameter.\n",
    "\n",
    "Can we use Manhattan distance in k-means clustering?\n",
    "If the manhattan distance metric is used in k-means clustering, the algorithm still yields a centroid with the median value for each dimension, rather than the mean value for each dimension as for Euclidean distance.07-Apr-2015\n",
    "\n",
    "What is the benefit of using Manhattan distance for K-medoid than using ...https://stats.stackexchange.com › questions › what-is-the-b."
   ]
  },
  {
   "cell_type": "code",
   "execution_count": 69,
   "id": "3efdbcef",
   "metadata": {
    "scrolled": true
   },
   "outputs": [
    {
     "data": {
      "text/html": [
       "<div>\n",
       "<style scoped>\n",
       "    .dataframe tbody tr th:only-of-type {\n",
       "        vertical-align: middle;\n",
       "    }\n",
       "\n",
       "    .dataframe tbody tr th {\n",
       "        vertical-align: top;\n",
       "    }\n",
       "\n",
       "    .dataframe thead th {\n",
       "        text-align: right;\n",
       "    }\n",
       "</style>\n",
       "<table border=\"1\" class=\"dataframe\">\n",
       "  <thead>\n",
       "    <tr style=\"text-align: right;\">\n",
       "      <th></th>\n",
       "      <th>Murder</th>\n",
       "      <th>Assault</th>\n",
       "      <th>UrbanPop</th>\n",
       "      <th>Rape</th>\n",
       "    </tr>\n",
       "  </thead>\n",
       "  <tbody>\n",
       "    <tr>\n",
       "      <th>0</th>\n",
       "      <td>13.2</td>\n",
       "      <td>236</td>\n",
       "      <td>58</td>\n",
       "      <td>21.2</td>\n",
       "    </tr>\n",
       "    <tr>\n",
       "      <th>1</th>\n",
       "      <td>10.0</td>\n",
       "      <td>263</td>\n",
       "      <td>48</td>\n",
       "      <td>44.5</td>\n",
       "    </tr>\n",
       "    <tr>\n",
       "      <th>2</th>\n",
       "      <td>8.1</td>\n",
       "      <td>294</td>\n",
       "      <td>80</td>\n",
       "      <td>31.0</td>\n",
       "    </tr>\n",
       "    <tr>\n",
       "      <th>3</th>\n",
       "      <td>8.8</td>\n",
       "      <td>190</td>\n",
       "      <td>50</td>\n",
       "      <td>19.5</td>\n",
       "    </tr>\n",
       "    <tr>\n",
       "      <th>4</th>\n",
       "      <td>9.0</td>\n",
       "      <td>276</td>\n",
       "      <td>91</td>\n",
       "      <td>40.6</td>\n",
       "    </tr>\n",
       "  </tbody>\n",
       "</table>\n",
       "</div>"
      ],
      "text/plain": [
       "   Murder  Assault  UrbanPop  Rape\n",
       "0    13.2      236        58  21.2\n",
       "1    10.0      263        48  44.5\n",
       "2     8.1      294        80  31.0\n",
       "3     8.8      190        50  19.5\n",
       "4     9.0      276        91  40.6"
      ]
     },
     "execution_count": 69,
     "metadata": {},
     "output_type": "execute_result"
    }
   ],
   "source": [
    "crime_data.head()"
   ]
  },
  {
   "cell_type": "code",
   "execution_count": 70,
   "id": "8cd28257",
   "metadata": {},
   "outputs": [],
   "source": [
    "scaler = MinMaxScaler()\n",
    "scaler.fit_transform(crime_data)\n",
    "crime_data = pd.DataFrame(crime_data)"
   ]
  },
  {
   "cell_type": "code",
   "execution_count": 71,
   "id": "731ed9a2",
   "metadata": {},
   "outputs": [
    {
     "data": {
      "text/html": [
       "<div>\n",
       "<style scoped>\n",
       "    .dataframe tbody tr th:only-of-type {\n",
       "        vertical-align: middle;\n",
       "    }\n",
       "\n",
       "    .dataframe tbody tr th {\n",
       "        vertical-align: top;\n",
       "    }\n",
       "\n",
       "    .dataframe thead th {\n",
       "        text-align: right;\n",
       "    }\n",
       "</style>\n",
       "<table border=\"1\" class=\"dataframe\">\n",
       "  <thead>\n",
       "    <tr style=\"text-align: right;\">\n",
       "      <th></th>\n",
       "      <th>Murder</th>\n",
       "      <th>Assault</th>\n",
       "      <th>UrbanPop</th>\n",
       "      <th>Rape</th>\n",
       "    </tr>\n",
       "  </thead>\n",
       "  <tbody>\n",
       "    <tr>\n",
       "      <th>0</th>\n",
       "      <td>0.054031</td>\n",
       "      <td>0.966016</td>\n",
       "      <td>0.237411</td>\n",
       "      <td>0.086778</td>\n",
       "    </tr>\n",
       "    <tr>\n",
       "      <th>1</th>\n",
       "      <td>0.036872</td>\n",
       "      <td>0.969739</td>\n",
       "      <td>0.176987</td>\n",
       "      <td>0.164081</td>\n",
       "    </tr>\n",
       "    <tr>\n",
       "      <th>2</th>\n",
       "      <td>0.026439</td>\n",
       "      <td>0.959624</td>\n",
       "      <td>0.261122</td>\n",
       "      <td>0.101185</td>\n",
       "    </tr>\n",
       "    <tr>\n",
       "      <th>3</th>\n",
       "      <td>0.044528</td>\n",
       "      <td>0.961392</td>\n",
       "      <td>0.252998</td>\n",
       "      <td>0.098669</td>\n",
       "    </tr>\n",
       "    <tr>\n",
       "      <th>4</th>\n",
       "      <td>0.030657</td>\n",
       "      <td>0.940134</td>\n",
       "      <td>0.309972</td>\n",
       "      <td>0.138295</td>\n",
       "    </tr>\n",
       "  </tbody>\n",
       "</table>\n",
       "</div>"
      ],
      "text/plain": [
       "     Murder   Assault  UrbanPop      Rape\n",
       "0  0.054031  0.966016  0.237411  0.086778\n",
       "1  0.036872  0.969739  0.176987  0.164081\n",
       "2  0.026439  0.959624  0.261122  0.101185\n",
       "3  0.044528  0.961392  0.252998  0.098669\n",
       "4  0.030657  0.940134  0.309972  0.138295"
      ]
     },
     "execution_count": 71,
     "metadata": {},
     "output_type": "execute_result"
    }
   ],
   "source": [
    "crime_data = pd.DataFrame(normalize(crime_data),columns=['Murder','Assault','UrbanPop','Rape'])\n",
    "crime_data.head()"
   ]
  },
  {
   "cell_type": "markdown",
   "id": "8dac2ea4",
   "metadata": {},
   "source": [
    "## The optimal number of clusters in KMeans clustering algorithm"
   ]
  },
  {
   "cell_type": "markdown",
   "id": "fbd142f7",
   "metadata": {},
   "source": [
    "#### 1. ELBOW Method"
   ]
  },
  {
   "cell_type": "code",
   "execution_count": 72,
   "id": "5a281451",
   "metadata": {},
   "outputs": [],
   "source": [
    "wcss = []\n",
    "for i in range(1,11):\n",
    "    kmeans = KMeans(n_clusters=i,random_state=12)\n",
    "    kmeans.fit(crime_data)\n",
    "    wcss.append(round(kmeans.inertia_))"
   ]
  },
  {
   "cell_type": "code",
   "execution_count": 73,
   "id": "c397b32c",
   "metadata": {},
   "outputs": [
    {
     "data": {
      "text/plain": [
       "[2, 1, 0, 0, 0, 0, 0, 0, 0, 0]"
      ]
     },
     "execution_count": 73,
     "metadata": {},
     "output_type": "execute_result"
    }
   ],
   "source": [
    "wcss"
   ]
  },
  {
   "cell_type": "code",
   "execution_count": 74,
   "id": "2ba40664",
   "metadata": {},
   "outputs": [
    {
     "data": {
      "image/png": "[encoded data removed]",
      "text/plain": [
       "<Figure size 432x288 with 1 Axes>"
      ]
     },
     "metadata": {
      "needs_background": "light"
     },
     "output_type": "display_data"
    }
   ],
   "source": [
    "plt.plot(range(1,11),wcss)\n",
    "plt.scatter(range(1,11),wcss,color='red')\n",
    "plt.title('ELBOW METHOD')\n",
    "plt.xlabel('No of Clusters')\n",
    "plt.ylabel('WCSS')\n",
    "plt.show()"
   ]
  },
  {
   "cell_type": "markdown",
   "id": "8fd592ea",
   "metadata": {},
   "source": [
    "### Inference : k = 2,3"
   ]
  },
  {
   "cell_type": "markdown",
   "id": "6f09a880",
   "metadata": {},
   "source": [
    "#### 2. silhoutte score\n",
    "max silhoutte score, better the performance"
   ]
  },
  {
   "cell_type": "code",
   "execution_count": 75,
   "id": "c97c49dd",
   "metadata": {},
   "outputs": [],
   "source": [
    "from sklearn.metrics import silhouette_score\n",
    "silhoutte_value = []\n",
    "for i in range(2,11):\n",
    "    kmean = KMeans(n_clusters=i,random_state=12)\n",
    "    kmean.fit(crime_data)\n",
    "    silhoutte_value.append(silhouette_score(crime_data,kmean.labels_))"
   ]
  },
  {
   "cell_type": "code",
   "execution_count": 76,
   "id": "9c8a5b83",
   "metadata": {},
   "outputs": [
    {
     "data": {
      "image/png": "[encoded data removed]",
      "text/plain": [
       "<Figure size 432x288 with 1 Axes>"
      ]
     },
     "metadata": {
      "needs_background": "light"
     },
     "output_type": "display_data"
    }
   ],
   "source": [
    "plt.plot(range(2,11),silhoutte_value)\n",
    "plt.scatter(range(2,11),silhoutte_value)\n",
    "plt.xlabel('No of Clusters')\n",
    "plt.ylabel('silhoutte_value')\n",
    "plt.show()"
   ]
  },
  {
   "cell_type": "markdown",
   "id": "eb208373",
   "metadata": {},
   "source": [
    "### Inference : k = 3"
   ]
  },
  {
   "cell_type": "markdown",
   "id": "64df01b3",
   "metadata": {},
   "source": [
    "#### 3. Calinski Harabasz score\n",
    "\n",
    "the higher the score , the better the performances."
   ]
  },
  {
   "cell_type": "code",
   "execution_count": 77,
   "id": "c568beb5",
   "metadata": {},
   "outputs": [],
   "source": [
    "from sklearn.metrics import calinski_harabasz_score\n",
    "calinski_score = []\n",
    "for i in range(2,11):\n",
    "    kmean = KMeans(n_clusters=i,random_state=12)\n",
    "    kmean.fit(crime_data)\n",
    "    calinski_score.append(calinski_harabasz_score(crime_data,kmean.labels_))"
   ]
  },
  {
   "cell_type": "code",
   "execution_count": 78,
   "id": "7494fa71",
   "metadata": {},
   "outputs": [
    {
     "data": {
      "image/png": "[encoded data removed]",
      "text/plain": [
       "<Figure size 432x288 with 1 Axes>"
      ]
     },
     "metadata": {
      "needs_background": "light"
     },
     "output_type": "display_data"
    }
   ],
   "source": [
    "plt.plot(range(2,11),calinski_score,'bx-')\n",
    "plt.scatter(range(2,11),calinski_score)\n",
    "plt.xlabel('No of Clusters, values of k')\n",
    "plt.ylabel('calinski_harabasz_score')\n",
    "plt.show()"
   ]
  },
  {
   "cell_type": "markdown",
   "id": "204e495b",
   "metadata": {},
   "source": [
    "### Inference: k = 6"
   ]
  },
  {
   "cell_type": "markdown",
   "id": "49328d40",
   "metadata": {},
   "source": [
    "##### since, majority is k = 3, Let us build Kmeans cluster model with 2 clusters."
   ]
  },
  {
   "cell_type": "markdown",
   "id": "68a63d1a",
   "metadata": {},
   "source": [
    "## The optimal number of clusters in KMeans clustering algorithm\n",
    "Hyperparameter tweaking : algorithm = auto"
   ]
  },
  {
   "cell_type": "markdown",
   "id": "06139598",
   "metadata": {},
   "source": [
    "#### 1. ELBOW Method"
   ]
  },
  {
   "cell_type": "code",
   "execution_count": 79,
   "id": "3389a7ad",
   "metadata": {},
   "outputs": [],
   "source": [
    "wcss = []\n",
    "for i in range(1,11):\n",
    "    kmeans = KMeans(n_clusters=i,random_state=12,algorithm='auto')\n",
    "    kmeans.fit(crime_data)\n",
    "    wcss.append(round(kmeans.inertia_))"
   ]
  },
  {
   "cell_type": "code",
   "execution_count": 80,
   "id": "890493aa",
   "metadata": {},
   "outputs": [
    {
     "data": {
      "text/plain": [
       "[2, 1, 0, 0, 0, 0, 0, 0, 0, 0]"
      ]
     },
     "execution_count": 80,
     "metadata": {},
     "output_type": "execute_result"
    }
   ],
   "source": [
    "wcss"
   ]
  },
  {
   "cell_type": "code",
   "execution_count": 81,
   "id": "8c9f0eb4",
   "metadata": {},
   "outputs": [
    {
     "data": {
      "image/png": "[encoded data removed]",
      "text/plain": [
       "<Figure size 432x288 with 1 Axes>"
      ]
     },
     "metadata": {
      "needs_background": "light"
     },
     "output_type": "display_data"
    }
   ],
   "source": [
    "plt.plot(range(1,11),wcss)\n",
    "plt.scatter(range(1,11),wcss,color='red')\n",
    "plt.title('ELBOW METHOD')\n",
    "plt.xlabel('No of Clusters')\n",
    "plt.ylabel('WCSS')\n",
    "plt.show()"
   ]
  },
  {
   "cell_type": "markdown",
   "id": "bf4f7fb7",
   "metadata": {},
   "source": [
    "### Inference : k = 3"
   ]
  },
  {
   "cell_type": "markdown",
   "id": "2165d974",
   "metadata": {},
   "source": [
    "#### 2. silhoutte score"
   ]
  },
  {
   "cell_type": "code",
   "execution_count": 82,
   "id": "3c7e35aa",
   "metadata": {},
   "outputs": [],
   "source": [
    "from sklearn.metrics import silhouette_score\n",
    "silhoutte_value = []\n",
    "for i in range(2,11):\n",
    "    kmean = KMeans(n_clusters=i,random_state=12,algorithm='auto')\n",
    "    kmean.fit(crime_data)\n",
    "    silhoutte_value.append(silhouette_score(crime_data,kmean.labels_))"
   ]
  },
  {
   "cell_type": "code",
   "execution_count": 83,
   "id": "6be8ecb9",
   "metadata": {
    "scrolled": true
   },
   "outputs": [
    {
     "data": {
      "image/png": "[encoded data removed]",
      "text/plain": [
       "<Figure size 432x288 with 1 Axes>"
      ]
     },
     "metadata": {
      "needs_background": "light"
     },
     "output_type": "display_data"
    }
   ],
   "source": [
    "plt.plot(range(2,11),silhoutte_value)\n",
    "plt.scatter(range(2,11),silhoutte_value)\n",
    "plt.xlabel('No of Clusters')\n",
    "plt.ylabel('silhoutte_value')\n",
    "plt.show()"
   ]
  },
  {
   "cell_type": "markdown",
   "id": "b5342d1d",
   "metadata": {},
   "source": [
    "### Inference : k = 2,3"
   ]
  },
  {
   "cell_type": "markdown",
   "id": "4b248b2d",
   "metadata": {},
   "source": [
    "#### 3. Calinski Harabasz score"
   ]
  },
  {
   "cell_type": "code",
   "execution_count": 84,
   "id": "a102ab7e",
   "metadata": {},
   "outputs": [],
   "source": [
    "from sklearn.metrics import calinski_harabasz_score\n",
    "calinski_score = []\n",
    "for i in range(2,11):\n",
    "    kmean = KMeans(n_clusters=i,random_state=12,algorithm='auto')\n",
    "    kmean.fit(crime_data)\n",
    "    calinski_score.append(calinski_harabasz_score(crime_data,kmean.labels_))"
   ]
  },
  {
   "cell_type": "code",
   "execution_count": 85,
   "id": "20e26103",
   "metadata": {},
   "outputs": [
    {
     "data": {
      "image/png": "[encoded data removed]",
      "text/plain": [
       "<Figure size 432x288 with 1 Axes>"
      ]
     },
     "metadata": {
      "needs_background": "light"
     },
     "output_type": "display_data"
    }
   ],
   "source": [
    "plt.plot(range(2,11),calinski_score,'bx-')\n",
    "plt.scatter(range(2,11),calinski_score)\n",
    "plt.xlabel('No of Clusters, values of k')\n",
    "plt.ylabel('calinski_harabasz_score')\n",
    "plt.show()"
   ]
  },
  {
   "cell_type": "markdown",
   "id": "4ae24050",
   "metadata": {},
   "source": [
    "### Inference: k = 6"
   ]
  },
  {
   "cell_type": "code",
   "execution_count": null,
   "id": "17e4a57c",
   "metadata": {},
   "outputs": [],
   "source": []
  },
  {
   "cell_type": "markdown",
   "id": "aff7909c",
   "metadata": {},
   "source": [
    "## after tweaking the hyperparamter, algorithm as well, the value of k is 2,3,6"
   ]
  },
  {
   "cell_type": "markdown",
   "id": "8bfe0e89",
   "metadata": {},
   "source": [
    "###### For k =2"
   ]
  },
  {
   "cell_type": "code",
   "execution_count": 86,
   "id": "7c17ff2f",
   "metadata": {},
   "outputs": [],
   "source": [
    "# create clusters\n",
    "kmean_cluster = KMeans(n_clusters=2,random_state=12)"
   ]
  },
  {
   "cell_type": "code",
   "execution_count": 87,
   "id": "3037bae3",
   "metadata": {},
   "outputs": [
    {
     "data": {
      "text/plain": [
       "array([1, 1, 1, 1, 1, 1, 2, 1, 1, 1, 2, 1, 1, 2, 2, 2, 1, 1, 2, 1, 2, 1,\n",
       "       2, 1, 1, 1, 2, 1, 2, 2, 1, 1, 1, 2, 2, 1, 1, 2, 1, 1, 1, 1, 1, 2,\n",
       "       2, 1, 1, 1, 2, 1])"
      ]
     },
     "execution_count": 87,
     "metadata": {},
     "output_type": "execute_result"
    }
   ],
   "source": [
    "y_kmean = kmean_cluster.fit_predict(crime_data) + 1\n",
    "y_kmean"
   ]
  },
  {
   "cell_type": "code",
   "execution_count": 88,
   "id": "01ffe3d6",
   "metadata": {},
   "outputs": [],
   "source": [
    "cluster = pd.DataFrame(y_kmean,columns=['clusterID'])"
   ]
  },
  {
   "cell_type": "code",
   "execution_count": 89,
   "id": "ed2e1a2a",
   "metadata": {},
   "outputs": [
    {
     "data": {
      "text/plain": [
       "array([1, 2])"
      ]
     },
     "execution_count": 89,
     "metadata": {},
     "output_type": "execute_result"
    }
   ],
   "source": [
    "cluster['clusterID'].unique()"
   ]
  },
  {
   "cell_type": "code",
   "execution_count": 90,
   "id": "094894b9",
   "metadata": {},
   "outputs": [
    {
     "data": {
      "text/html": [
       "<div>\n",
       "<style scoped>\n",
       "    .dataframe tbody tr th:only-of-type {\n",
       "        vertical-align: middle;\n",
       "    }\n",
       "\n",
       "    .dataframe tbody tr th {\n",
       "        vertical-align: top;\n",
       "    }\n",
       "\n",
       "    .dataframe thead th {\n",
       "        text-align: right;\n",
       "    }\n",
       "</style>\n",
       "<table border=\"1\" class=\"dataframe\">\n",
       "  <thead>\n",
       "    <tr style=\"text-align: right;\">\n",
       "      <th></th>\n",
       "      <th>Murder</th>\n",
       "      <th>Assault</th>\n",
       "      <th>UrbanPop</th>\n",
       "      <th>Rape</th>\n",
       "      <th>clusterID</th>\n",
       "    </tr>\n",
       "  </thead>\n",
       "  <tbody>\n",
       "    <tr>\n",
       "      <th>0</th>\n",
       "      <td>0.054031</td>\n",
       "      <td>0.966016</td>\n",
       "      <td>0.237411</td>\n",
       "      <td>0.086778</td>\n",
       "      <td>1</td>\n",
       "    </tr>\n",
       "    <tr>\n",
       "      <th>1</th>\n",
       "      <td>0.036872</td>\n",
       "      <td>0.969739</td>\n",
       "      <td>0.176987</td>\n",
       "      <td>0.164081</td>\n",
       "      <td>1</td>\n",
       "    </tr>\n",
       "    <tr>\n",
       "      <th>2</th>\n",
       "      <td>0.026439</td>\n",
       "      <td>0.959624</td>\n",
       "      <td>0.261122</td>\n",
       "      <td>0.101185</td>\n",
       "      <td>1</td>\n",
       "    </tr>\n",
       "    <tr>\n",
       "      <th>3</th>\n",
       "      <td>0.044528</td>\n",
       "      <td>0.961392</td>\n",
       "      <td>0.252998</td>\n",
       "      <td>0.098669</td>\n",
       "      <td>1</td>\n",
       "    </tr>\n",
       "    <tr>\n",
       "      <th>4</th>\n",
       "      <td>0.030657</td>\n",
       "      <td>0.940134</td>\n",
       "      <td>0.309972</td>\n",
       "      <td>0.138295</td>\n",
       "      <td>1</td>\n",
       "    </tr>\n",
       "  </tbody>\n",
       "</table>\n",
       "</div>"
      ],
      "text/plain": [
       "     Murder   Assault  UrbanPop      Rape  clusterID\n",
       "0  0.054031  0.966016  0.237411  0.086778          1\n",
       "1  0.036872  0.969739  0.176987  0.164081          1\n",
       "2  0.026439  0.959624  0.261122  0.101185          1\n",
       "3  0.044528  0.961392  0.252998  0.098669          1\n",
       "4  0.030657  0.940134  0.309972  0.138295          1"
      ]
     },
     "execution_count": 90,
     "metadata": {},
     "output_type": "execute_result"
    }
   ],
   "source": [
    "crime_data['clusterID'] = cluster\n",
    "crime_data.head()"
   ]
  },
  {
   "cell_type": "code",
   "execution_count": 91,
   "id": "101f38c2",
   "metadata": {},
   "outputs": [
    {
     "data": {
      "text/html": [
       "<div>\n",
       "<style scoped>\n",
       "    .dataframe tbody tr th:only-of-type {\n",
       "        vertical-align: middle;\n",
       "    }\n",
       "\n",
       "    .dataframe tbody tr th {\n",
       "        vertical-align: top;\n",
       "    }\n",
       "\n",
       "    .dataframe thead th {\n",
       "        text-align: right;\n",
       "    }\n",
       "</style>\n",
       "<table border=\"1\" class=\"dataframe\">\n",
       "  <thead>\n",
       "    <tr style=\"text-align: right;\">\n",
       "      <th></th>\n",
       "      <th>location</th>\n",
       "      <th>Murder</th>\n",
       "      <th>Assault</th>\n",
       "      <th>UrbanPop</th>\n",
       "      <th>Rape</th>\n",
       "      <th>clusterID</th>\n",
       "    </tr>\n",
       "  </thead>\n",
       "  <tbody>\n",
       "    <tr>\n",
       "      <th>0</th>\n",
       "      <td>Alabama</td>\n",
       "      <td>0.054031</td>\n",
       "      <td>0.966016</td>\n",
       "      <td>0.237411</td>\n",
       "      <td>0.086778</td>\n",
       "      <td>1</td>\n",
       "    </tr>\n",
       "    <tr>\n",
       "      <th>1</th>\n",
       "      <td>Alaska</td>\n",
       "      <td>0.036872</td>\n",
       "      <td>0.969739</td>\n",
       "      <td>0.176987</td>\n",
       "      <td>0.164081</td>\n",
       "      <td>1</td>\n",
       "    </tr>\n",
       "    <tr>\n",
       "      <th>2</th>\n",
       "      <td>Arizona</td>\n",
       "      <td>0.026439</td>\n",
       "      <td>0.959624</td>\n",
       "      <td>0.261122</td>\n",
       "      <td>0.101185</td>\n",
       "      <td>1</td>\n",
       "    </tr>\n",
       "    <tr>\n",
       "      <th>3</th>\n",
       "      <td>Arkansas</td>\n",
       "      <td>0.044528</td>\n",
       "      <td>0.961392</td>\n",
       "      <td>0.252998</td>\n",
       "      <td>0.098669</td>\n",
       "      <td>1</td>\n",
       "    </tr>\n",
       "    <tr>\n",
       "      <th>4</th>\n",
       "      <td>California</td>\n",
       "      <td>0.030657</td>\n",
       "      <td>0.940134</td>\n",
       "      <td>0.309972</td>\n",
       "      <td>0.138295</td>\n",
       "      <td>1</td>\n",
       "    </tr>\n",
       "  </tbody>\n",
       "</table>\n",
       "</div>"
      ],
      "text/plain": [
       "     location    Murder   Assault  UrbanPop      Rape  clusterID\n",
       "0     Alabama  0.054031  0.966016  0.237411  0.086778          1\n",
       "1      Alaska  0.036872  0.969739  0.176987  0.164081          1\n",
       "2     Arizona  0.026439  0.959624  0.261122  0.101185          1\n",
       "3    Arkansas  0.044528  0.961392  0.252998  0.098669          1\n",
       "4  California  0.030657  0.940134  0.309972  0.138295          1"
      ]
     },
     "execution_count": 91,
     "metadata": {},
     "output_type": "execute_result"
    }
   ],
   "source": [
    "crime_data.insert(loc=0, column='location', value=crime_data_1['Unnamed: 0'])\n",
    "crime_data.head()"
   ]
  },
  {
   "cell_type": "code",
   "execution_count": 92,
   "id": "a6495cc8",
   "metadata": {
    "scrolled": true
   },
   "outputs": [
    {
     "data": {
      "text/html": [
       "<div>\n",
       "<style scoped>\n",
       "    .dataframe tbody tr th:only-of-type {\n",
       "        vertical-align: middle;\n",
       "    }\n",
       "\n",
       "    .dataframe tbody tr th {\n",
       "        vertical-align: top;\n",
       "    }\n",
       "\n",
       "    .dataframe thead th {\n",
       "        text-align: right;\n",
       "    }\n",
       "</style>\n",
       "<table border=\"1\" class=\"dataframe\">\n",
       "  <thead>\n",
       "    <tr style=\"text-align: right;\">\n",
       "      <th></th>\n",
       "      <th>location</th>\n",
       "      <th>Murder</th>\n",
       "      <th>Assault</th>\n",
       "      <th>UrbanPop</th>\n",
       "      <th>Rape</th>\n",
       "      <th>clusterID</th>\n",
       "    </tr>\n",
       "  </thead>\n",
       "  <tbody>\n",
       "    <tr>\n",
       "      <th>0</th>\n",
       "      <td>Alabama</td>\n",
       "      <td>0.054031</td>\n",
       "      <td>0.966016</td>\n",
       "      <td>0.237411</td>\n",
       "      <td>0.086778</td>\n",
       "      <td>1</td>\n",
       "    </tr>\n",
       "    <tr>\n",
       "      <th>1</th>\n",
       "      <td>Alaska</td>\n",
       "      <td>0.036872</td>\n",
       "      <td>0.969739</td>\n",
       "      <td>0.176987</td>\n",
       "      <td>0.164081</td>\n",
       "      <td>1</td>\n",
       "    </tr>\n",
       "    <tr>\n",
       "      <th>2</th>\n",
       "      <td>Arizona</td>\n",
       "      <td>0.026439</td>\n",
       "      <td>0.959624</td>\n",
       "      <td>0.261122</td>\n",
       "      <td>0.101185</td>\n",
       "      <td>1</td>\n",
       "    </tr>\n",
       "    <tr>\n",
       "      <th>3</th>\n",
       "      <td>Arkansas</td>\n",
       "      <td>0.044528</td>\n",
       "      <td>0.961392</td>\n",
       "      <td>0.252998</td>\n",
       "      <td>0.098669</td>\n",
       "      <td>1</td>\n",
       "    </tr>\n",
       "    <tr>\n",
       "      <th>4</th>\n",
       "      <td>California</td>\n",
       "      <td>0.030657</td>\n",
       "      <td>0.940134</td>\n",
       "      <td>0.309972</td>\n",
       "      <td>0.138295</td>\n",
       "      <td>1</td>\n",
       "    </tr>\n",
       "    <tr>\n",
       "      <th>5</th>\n",
       "      <td>Colorado</td>\n",
       "      <td>0.035594</td>\n",
       "      <td>0.919142</td>\n",
       "      <td>0.351437</td>\n",
       "      <td>0.174367</td>\n",
       "      <td>1</td>\n",
       "    </tr>\n",
       "    <tr>\n",
       "      <th>7</th>\n",
       "      <td>Delaware</td>\n",
       "      <td>0.023674</td>\n",
       "      <td>0.954965</td>\n",
       "      <td>0.288897</td>\n",
       "      <td>0.063397</td>\n",
       "      <td>1</td>\n",
       "    </tr>\n",
       "    <tr>\n",
       "      <th>8</th>\n",
       "      <td>Florida</td>\n",
       "      <td>0.044478</td>\n",
       "      <td>0.967547</td>\n",
       "      <td>0.231056</td>\n",
       "      <td>0.092134</td>\n",
       "      <td>1</td>\n",
       "    </tr>\n",
       "    <tr>\n",
       "      <th>9</th>\n",
       "      <td>Georgia</td>\n",
       "      <td>0.078534</td>\n",
       "      <td>0.952332</td>\n",
       "      <td>0.270805</td>\n",
       "      <td>0.116446</td>\n",
       "      <td>1</td>\n",
       "    </tr>\n",
       "    <tr>\n",
       "      <th>11</th>\n",
       "      <td>Idaho</td>\n",
       "      <td>0.019640</td>\n",
       "      <td>0.906483</td>\n",
       "      <td>0.407917</td>\n",
       "      <td>0.107267</td>\n",
       "      <td>1</td>\n",
       "    </tr>\n",
       "    <tr>\n",
       "      <th>12</th>\n",
       "      <td>Illinois</td>\n",
       "      <td>0.039428</td>\n",
       "      <td>0.944007</td>\n",
       "      <td>0.314669</td>\n",
       "      <td>0.090989</td>\n",
       "      <td>1</td>\n",
       "    </tr>\n",
       "    <tr>\n",
       "      <th>16</th>\n",
       "      <td>Kentucky</td>\n",
       "      <td>0.079346</td>\n",
       "      <td>0.891624</td>\n",
       "      <td>0.425362</td>\n",
       "      <td>0.133335</td>\n",
       "      <td>1</td>\n",
       "    </tr>\n",
       "    <tr>\n",
       "      <th>17</th>\n",
       "      <td>Louisiana</td>\n",
       "      <td>0.059457</td>\n",
       "      <td>0.961347</td>\n",
       "      <td>0.254815</td>\n",
       "      <td>0.085710</td>\n",
       "      <td>1</td>\n",
       "    </tr>\n",
       "    <tr>\n",
       "      <th>19</th>\n",
       "      <td>Maryland</td>\n",
       "      <td>0.036587</td>\n",
       "      <td>0.971339</td>\n",
       "      <td>0.216932</td>\n",
       "      <td>0.090011</td>\n",
       "      <td>1</td>\n",
       "    </tr>\n",
       "    <tr>\n",
       "      <th>21</th>\n",
       "      <td>Michigan</td>\n",
       "      <td>0.045132</td>\n",
       "      <td>0.951126</td>\n",
       "      <td>0.276013</td>\n",
       "      <td>0.130920</td>\n",
       "      <td>1</td>\n",
       "    </tr>\n",
       "    <tr>\n",
       "      <th>23</th>\n",
       "      <td>Mississippi</td>\n",
       "      <td>0.061041</td>\n",
       "      <td>0.981958</td>\n",
       "      <td>0.166819</td>\n",
       "      <td>0.064832</td>\n",
       "      <td>1</td>\n",
       "    </tr>\n",
       "    <tr>\n",
       "      <th>24</th>\n",
       "      <td>Missouri</td>\n",
       "      <td>0.046500</td>\n",
       "      <td>0.919676</td>\n",
       "      <td>0.361670</td>\n",
       "      <td>0.145701</td>\n",
       "      <td>1</td>\n",
       "    </tr>\n",
       "    <tr>\n",
       "      <th>25</th>\n",
       "      <td>Montana</td>\n",
       "      <td>0.048998</td>\n",
       "      <td>0.890131</td>\n",
       "      <td>0.432816</td>\n",
       "      <td>0.133928</td>\n",
       "      <td>1</td>\n",
       "    </tr>\n",
       "    <tr>\n",
       "      <th>27</th>\n",
       "      <td>Nevada</td>\n",
       "      <td>0.045363</td>\n",
       "      <td>0.937005</td>\n",
       "      <td>0.301180</td>\n",
       "      <td>0.171041</td>\n",
       "      <td>1</td>\n",
       "    </tr>\n",
       "    <tr>\n",
       "      <th>30</th>\n",
       "      <td>New Mexico</td>\n",
       "      <td>0.038586</td>\n",
       "      <td>0.964660</td>\n",
       "      <td>0.236934</td>\n",
       "      <td>0.108651</td>\n",
       "      <td>1</td>\n",
       "    </tr>\n",
       "    <tr>\n",
       "      <th>31</th>\n",
       "      <td>New York</td>\n",
       "      <td>0.041163</td>\n",
       "      <td>0.941927</td>\n",
       "      <td>0.318920</td>\n",
       "      <td>0.096789</td>\n",
       "      <td>1</td>\n",
       "    </tr>\n",
       "    <tr>\n",
       "      <th>32</th>\n",
       "      <td>North Carolina</td>\n",
       "      <td>0.038166</td>\n",
       "      <td>0.989371</td>\n",
       "      <td>0.132112</td>\n",
       "      <td>0.047267</td>\n",
       "      <td>1</td>\n",
       "    </tr>\n",
       "    <tr>\n",
       "      <th>35</th>\n",
       "      <td>Oklahoma</td>\n",
       "      <td>0.039535</td>\n",
       "      <td>0.904523</td>\n",
       "      <td>0.407335</td>\n",
       "      <td>0.119804</td>\n",
       "      <td>1</td>\n",
       "    </tr>\n",
       "    <tr>\n",
       "      <th>36</th>\n",
       "      <td>Oregon</td>\n",
       "      <td>0.027987</td>\n",
       "      <td>0.908164</td>\n",
       "      <td>0.382685</td>\n",
       "      <td>0.167353</td>\n",
       "      <td>1</td>\n",
       "    </tr>\n",
       "    <tr>\n",
       "      <th>38</th>\n",
       "      <td>Rhode Island</td>\n",
       "      <td>0.017459</td>\n",
       "      <td>0.893478</td>\n",
       "      <td>0.446739</td>\n",
       "      <td>0.042620</td>\n",
       "      <td>1</td>\n",
       "    </tr>\n",
       "    <tr>\n",
       "      <th>39</th>\n",
       "      <td>South Carolina</td>\n",
       "      <td>0.050641</td>\n",
       "      <td>0.981163</td>\n",
       "      <td>0.168802</td>\n",
       "      <td>0.079126</td>\n",
       "      <td>1</td>\n",
       "    </tr>\n",
       "    <tr>\n",
       "      <th>40</th>\n",
       "      <td>South Dakota</td>\n",
       "      <td>0.038785</td>\n",
       "      <td>0.877767</td>\n",
       "      <td>0.459297</td>\n",
       "      <td>0.130644</td>\n",
       "      <td>1</td>\n",
       "    </tr>\n",
       "    <tr>\n",
       "      <th>41</th>\n",
       "      <td>Tennessee</td>\n",
       "      <td>0.066230</td>\n",
       "      <td>0.943274</td>\n",
       "      <td>0.296027</td>\n",
       "      <td>0.134968</td>\n",
       "      <td>1</td>\n",
       "    </tr>\n",
       "    <tr>\n",
       "      <th>42</th>\n",
       "      <td>Texas</td>\n",
       "      <td>0.058203</td>\n",
       "      <td>0.921161</td>\n",
       "      <td>0.366631</td>\n",
       "      <td>0.116864</td>\n",
       "      <td>1</td>\n",
       "    </tr>\n",
       "    <tr>\n",
       "      <th>45</th>\n",
       "      <td>Virginia</td>\n",
       "      <td>0.050082</td>\n",
       "      <td>0.919147</td>\n",
       "      <td>0.371194</td>\n",
       "      <td>0.121964</td>\n",
       "      <td>1</td>\n",
       "    </tr>\n",
       "    <tr>\n",
       "      <th>46</th>\n",
       "      <td>Washington</td>\n",
       "      <td>0.024318</td>\n",
       "      <td>0.881521</td>\n",
       "      <td>0.443800</td>\n",
       "      <td>0.159282</td>\n",
       "      <td>1</td>\n",
       "    </tr>\n",
       "    <tr>\n",
       "      <th>47</th>\n",
       "      <td>West Virginia</td>\n",
       "      <td>0.062942</td>\n",
       "      <td>0.894442</td>\n",
       "      <td>0.430657</td>\n",
       "      <td>0.102695</td>\n",
       "      <td>1</td>\n",
       "    </tr>\n",
       "    <tr>\n",
       "      <th>49</th>\n",
       "      <td>Wyoming</td>\n",
       "      <td>0.039384</td>\n",
       "      <td>0.932482</td>\n",
       "      <td>0.347509</td>\n",
       "      <td>0.090352</td>\n",
       "      <td>1</td>\n",
       "    </tr>\n",
       "  </tbody>\n",
       "</table>\n",
       "</div>"
      ],
      "text/plain": [
       "          location    Murder   Assault  UrbanPop      Rape  clusterID\n",
       "0          Alabama  0.054031  0.966016  0.237411  0.086778          1\n",
       "1           Alaska  0.036872  0.969739  0.176987  0.164081          1\n",
       "2          Arizona  0.026439  0.959624  0.261122  0.101185          1\n",
       "3         Arkansas  0.044528  0.961392  0.252998  0.098669          1\n",
       "4       California  0.030657  0.940134  0.309972  0.138295          1\n",
       "5         Colorado  0.035594  0.919142  0.351437  0.174367          1\n",
       "7         Delaware  0.023674  0.954965  0.288897  0.063397          1\n",
       "8          Florida  0.044478  0.967547  0.231056  0.092134          1\n",
       "9          Georgia  0.078534  0.952332  0.270805  0.116446          1\n",
       "11           Idaho  0.019640  0.906483  0.407917  0.107267          1\n",
       "12        Illinois  0.039428  0.944007  0.314669  0.090989          1\n",
       "16        Kentucky  0.079346  0.891624  0.425362  0.133335          1\n",
       "17       Louisiana  0.059457  0.961347  0.254815  0.085710          1\n",
       "19        Maryland  0.036587  0.971339  0.216932  0.090011          1\n",
       "21        Michigan  0.045132  0.951126  0.276013  0.130920          1\n",
       "23     Mississippi  0.061041  0.981958  0.166819  0.064832          1\n",
       "24        Missouri  0.046500  0.919676  0.361670  0.145701          1\n",
       "25         Montana  0.048998  0.890131  0.432816  0.133928          1\n",
       "27          Nevada  0.045363  0.937005  0.301180  0.171041          1\n",
       "30      New Mexico  0.038586  0.964660  0.236934  0.108651          1\n",
       "31        New York  0.041163  0.941927  0.318920  0.096789          1\n",
       "32  North Carolina  0.038166  0.989371  0.132112  0.047267          1\n",
       "35        Oklahoma  0.039535  0.904523  0.407335  0.119804          1\n",
       "36          Oregon  0.027987  0.908164  0.382685  0.167353          1\n",
       "38    Rhode Island  0.017459  0.893478  0.446739  0.042620          1\n",
       "39  South Carolina  0.050641  0.981163  0.168802  0.079126          1\n",
       "40    South Dakota  0.038785  0.877767  0.459297  0.130644          1\n",
       "41       Tennessee  0.066230  0.943274  0.296027  0.134968          1\n",
       "42           Texas  0.058203  0.921161  0.366631  0.116864          1\n",
       "45        Virginia  0.050082  0.919147  0.371194  0.121964          1\n",
       "46      Washington  0.024318  0.881521  0.443800  0.159282          1\n",
       "47   West Virginia  0.062942  0.894442  0.430657  0.102695          1\n",
       "49         Wyoming  0.039384  0.932482  0.347509  0.090352          1"
      ]
     },
     "execution_count": 92,
     "metadata": {},
     "output_type": "execute_result"
    }
   ],
   "source": [
    "crime_data[crime_data['clusterID']==1]"
   ]
  },
  {
   "cell_type": "code",
   "execution_count": 93,
   "id": "9778f5df",
   "metadata": {},
   "outputs": [
    {
     "data": {
      "text/html": [
       "<div>\n",
       "<style scoped>\n",
       "    .dataframe tbody tr th:only-of-type {\n",
       "        vertical-align: middle;\n",
       "    }\n",
       "\n",
       "    .dataframe tbody tr th {\n",
       "        vertical-align: top;\n",
       "    }\n",
       "\n",
       "    .dataframe thead th {\n",
       "        text-align: right;\n",
       "    }\n",
       "</style>\n",
       "<table border=\"1\" class=\"dataframe\">\n",
       "  <thead>\n",
       "    <tr style=\"text-align: right;\">\n",
       "      <th></th>\n",
       "      <th>location</th>\n",
       "      <th>Murder</th>\n",
       "      <th>Assault</th>\n",
       "      <th>UrbanPop</th>\n",
       "      <th>Rape</th>\n",
       "      <th>clusterID</th>\n",
       "    </tr>\n",
       "  </thead>\n",
       "  <tbody>\n",
       "    <tr>\n",
       "      <th>6</th>\n",
       "      <td>Connecticut</td>\n",
       "      <td>0.024486</td>\n",
       "      <td>0.816202</td>\n",
       "      <td>0.571341</td>\n",
       "      <td>0.082362</td>\n",
       "      <td>2</td>\n",
       "    </tr>\n",
       "    <tr>\n",
       "      <th>10</th>\n",
       "      <td>Hawaii</td>\n",
       "      <td>0.054546</td>\n",
       "      <td>0.473419</td>\n",
       "      <td>0.854213</td>\n",
       "      <td>0.207893</td>\n",
       "      <td>2</td>\n",
       "    </tr>\n",
       "    <tr>\n",
       "      <th>13</th>\n",
       "      <td>Indiana</td>\n",
       "      <td>0.054447</td>\n",
       "      <td>0.854521</td>\n",
       "      <td>0.491539</td>\n",
       "      <td>0.158805</td>\n",
       "      <td>2</td>\n",
       "    </tr>\n",
       "    <tr>\n",
       "      <th>14</th>\n",
       "      <td>Iowa</td>\n",
       "      <td>0.027251</td>\n",
       "      <td>0.693660</td>\n",
       "      <td>0.706047</td>\n",
       "      <td>0.139971</td>\n",
       "      <td>2</td>\n",
       "    </tr>\n",
       "    <tr>\n",
       "      <th>15</th>\n",
       "      <td>Kansas</td>\n",
       "      <td>0.044795</td>\n",
       "      <td>0.858568</td>\n",
       "      <td>0.492743</td>\n",
       "      <td>0.134385</td>\n",
       "      <td>2</td>\n",
       "    </tr>\n",
       "    <tr>\n",
       "      <th>18</th>\n",
       "      <td>Maine</td>\n",
       "      <td>0.021483</td>\n",
       "      <td>0.849097</td>\n",
       "      <td>0.521734</td>\n",
       "      <td>0.079795</td>\n",
       "      <td>2</td>\n",
       "    </tr>\n",
       "    <tr>\n",
       "      <th>20</th>\n",
       "      <td>Massachusetts</td>\n",
       "      <td>0.025527</td>\n",
       "      <td>0.864425</td>\n",
       "      <td>0.493128</td>\n",
       "      <td>0.094565</td>\n",
       "      <td>2</td>\n",
       "    </tr>\n",
       "    <tr>\n",
       "      <th>22</th>\n",
       "      <td>Minnesota</td>\n",
       "      <td>0.027317</td>\n",
       "      <td>0.728452</td>\n",
       "      <td>0.667747</td>\n",
       "      <td>0.150749</td>\n",
       "      <td>2</td>\n",
       "    </tr>\n",
       "    <tr>\n",
       "      <th>26</th>\n",
       "      <td>Nebraska</td>\n",
       "      <td>0.035662</td>\n",
       "      <td>0.845935</td>\n",
       "      <td>0.514196</td>\n",
       "      <td>0.136842</td>\n",
       "      <td>2</td>\n",
       "    </tr>\n",
       "    <tr>\n",
       "      <th>28</th>\n",
       "      <td>New Hampshire</td>\n",
       "      <td>0.026088</td>\n",
       "      <td>0.708107</td>\n",
       "      <td>0.695684</td>\n",
       "      <td>0.118018</td>\n",
       "      <td>2</td>\n",
       "    </tr>\n",
       "    <tr>\n",
       "      <th>29</th>\n",
       "      <td>New Jersey</td>\n",
       "      <td>0.040364</td>\n",
       "      <td>0.867284</td>\n",
       "      <td>0.485461</td>\n",
       "      <td>0.102547</td>\n",
       "      <td>2</td>\n",
       "    </tr>\n",
       "    <tr>\n",
       "      <th>33</th>\n",
       "      <td>North Dakota</td>\n",
       "      <td>0.012626</td>\n",
       "      <td>0.710188</td>\n",
       "      <td>0.694406</td>\n",
       "      <td>0.115208</td>\n",
       "      <td>2</td>\n",
       "    </tr>\n",
       "    <tr>\n",
       "      <th>34</th>\n",
       "      <td>Ohio</td>\n",
       "      <td>0.050940</td>\n",
       "      <td>0.837376</td>\n",
       "      <td>0.523360</td>\n",
       "      <td>0.149332</td>\n",
       "      <td>2</td>\n",
       "    </tr>\n",
       "    <tr>\n",
       "      <th>37</th>\n",
       "      <td>Pennsylvania</td>\n",
       "      <td>0.048778</td>\n",
       "      <td>0.820702</td>\n",
       "      <td>0.557458</td>\n",
       "      <td>0.115363</td>\n",
       "      <td>2</td>\n",
       "    </tr>\n",
       "    <tr>\n",
       "      <th>43</th>\n",
       "      <td>Utah</td>\n",
       "      <td>0.021908</td>\n",
       "      <td>0.821558</td>\n",
       "      <td>0.547706</td>\n",
       "      <td>0.156781</td>\n",
       "      <td>2</td>\n",
       "    </tr>\n",
       "    <tr>\n",
       "      <th>44</th>\n",
       "      <td>Vermont</td>\n",
       "      <td>0.037410</td>\n",
       "      <td>0.816227</td>\n",
       "      <td>0.544152</td>\n",
       "      <td>0.190453</td>\n",
       "      <td>2</td>\n",
       "    </tr>\n",
       "    <tr>\n",
       "      <th>48</th>\n",
       "      <td>Wisconsin</td>\n",
       "      <td>0.030455</td>\n",
       "      <td>0.620812</td>\n",
       "      <td>0.773086</td>\n",
       "      <td>0.126505</td>\n",
       "      <td>2</td>\n",
       "    </tr>\n",
       "  </tbody>\n",
       "</table>\n",
       "</div>"
      ],
      "text/plain": [
       "         location    Murder   Assault  UrbanPop      Rape  clusterID\n",
       "6     Connecticut  0.024486  0.816202  0.571341  0.082362          2\n",
       "10         Hawaii  0.054546  0.473419  0.854213  0.207893          2\n",
       "13        Indiana  0.054447  0.854521  0.491539  0.158805          2\n",
       "14           Iowa  0.027251  0.693660  0.706047  0.139971          2\n",
       "15         Kansas  0.044795  0.858568  0.492743  0.134385          2\n",
       "18          Maine  0.021483  0.849097  0.521734  0.079795          2\n",
       "20  Massachusetts  0.025527  0.864425  0.493128  0.094565          2\n",
       "22      Minnesota  0.027317  0.728452  0.667747  0.150749          2\n",
       "26       Nebraska  0.035662  0.845935  0.514196  0.136842          2\n",
       "28  New Hampshire  0.026088  0.708107  0.695684  0.118018          2\n",
       "29     New Jersey  0.040364  0.867284  0.485461  0.102547          2\n",
       "33   North Dakota  0.012626  0.710188  0.694406  0.115208          2\n",
       "34           Ohio  0.050940  0.837376  0.523360  0.149332          2\n",
       "37   Pennsylvania  0.048778  0.820702  0.557458  0.115363          2\n",
       "43           Utah  0.021908  0.821558  0.547706  0.156781          2\n",
       "44        Vermont  0.037410  0.816227  0.544152  0.190453          2\n",
       "48      Wisconsin  0.030455  0.620812  0.773086  0.126505          2"
      ]
     },
     "execution_count": 93,
     "metadata": {},
     "output_type": "execute_result"
    }
   ],
   "source": [
    "crime_data[crime_data['clusterID']==2]"
   ]
  },
  {
   "cell_type": "code",
   "execution_count": 94,
   "id": "9e0720f3",
   "metadata": {
    "scrolled": true
   },
   "outputs": [
    {
     "name": "stdout",
     "output_type": "stream",
     "text": [
      "unique cluster IDs :  [1 2]\n",
      "unique cluster IDs with calue counts:\n",
      " 1    33\n",
      "2    17\n",
      "Name: clusterID, dtype: int64\n"
     ]
    }
   ],
   "source": [
    "print('unique cluster IDs : ',crime_data['clusterID'].unique())\n",
    "print('unique cluster IDs with calue counts:\\n',crime_data['clusterID'].value_counts())"
   ]
  },
  {
   "cell_type": "code",
   "execution_count": 95,
   "id": "efad818d",
   "metadata": {
    "scrolled": true
   },
   "outputs": [
    {
     "data": {
      "text/html": [
       "<div>\n",
       "<style scoped>\n",
       "    .dataframe tbody tr th:only-of-type {\n",
       "        vertical-align: middle;\n",
       "    }\n",
       "\n",
       "    .dataframe tbody tr th {\n",
       "        vertical-align: top;\n",
       "    }\n",
       "\n",
       "    .dataframe thead th {\n",
       "        text-align: right;\n",
       "    }\n",
       "</style>\n",
       "<table border=\"1\" class=\"dataframe\">\n",
       "  <thead>\n",
       "    <tr style=\"text-align: right;\">\n",
       "      <th></th>\n",
       "      <th>Murder</th>\n",
       "      <th>Assault</th>\n",
       "      <th>UrbanPop</th>\n",
       "      <th>Rape</th>\n",
       "    </tr>\n",
       "    <tr>\n",
       "      <th>clusterID</th>\n",
       "      <th></th>\n",
       "      <th></th>\n",
       "      <th></th>\n",
       "      <th></th>\n",
       "    </tr>\n",
       "  </thead>\n",
       "  <tbody>\n",
       "    <tr>\n",
       "      <th>1</th>\n",
       "      <td>0.043933</td>\n",
       "      <td>0.936323</td>\n",
       "      <td>0.313561</td>\n",
       "      <td>0.112347</td>\n",
       "    </tr>\n",
       "    <tr>\n",
       "      <th>2</th>\n",
       "      <td>0.034358</td>\n",
       "      <td>0.775678</td>\n",
       "      <td>0.596118</td>\n",
       "      <td>0.132916</td>\n",
       "    </tr>\n",
       "  </tbody>\n",
       "</table>\n",
       "</div>"
      ],
      "text/plain": [
       "             Murder   Assault  UrbanPop      Rape\n",
       "clusterID                                        \n",
       "1          0.043933  0.936323  0.313561  0.112347\n",
       "2          0.034358  0.775678  0.596118  0.132916"
      ]
     },
     "execution_count": 95,
     "metadata": {},
     "output_type": "execute_result"
    }
   ],
   "source": [
    "crime_data.groupby('clusterID').agg('mean')"
   ]
  },
  {
   "cell_type": "code",
   "execution_count": 96,
   "id": "8c1b4891",
   "metadata": {},
   "outputs": [
    {
     "data": {
      "text/html": [
       "<div>\n",
       "<style scoped>\n",
       "    .dataframe tbody tr th:only-of-type {\n",
       "        vertical-align: middle;\n",
       "    }\n",
       "\n",
       "    .dataframe tbody tr th {\n",
       "        vertical-align: top;\n",
       "    }\n",
       "\n",
       "    .dataframe thead th {\n",
       "        text-align: right;\n",
       "    }\n",
       "</style>\n",
       "<table border=\"1\" class=\"dataframe\">\n",
       "  <thead>\n",
       "    <tr style=\"text-align: right;\">\n",
       "      <th></th>\n",
       "      <th>Murder</th>\n",
       "      <th>Assault</th>\n",
       "      <th>UrbanPop</th>\n",
       "      <th>Rape</th>\n",
       "    </tr>\n",
       "    <tr>\n",
       "      <th>clusterID</th>\n",
       "      <th></th>\n",
       "      <th></th>\n",
       "      <th></th>\n",
       "      <th></th>\n",
       "    </tr>\n",
       "  </thead>\n",
       "  <tbody>\n",
       "    <tr>\n",
       "      <th>1</th>\n",
       "      <td>0.041163</td>\n",
       "      <td>0.941927</td>\n",
       "      <td>0.309972</td>\n",
       "      <td>0.108651</td>\n",
       "    </tr>\n",
       "    <tr>\n",
       "      <th>2</th>\n",
       "      <td>0.030455</td>\n",
       "      <td>0.820702</td>\n",
       "      <td>0.547706</td>\n",
       "      <td>0.134385</td>\n",
       "    </tr>\n",
       "  </tbody>\n",
       "</table>\n",
       "</div>"
      ],
      "text/plain": [
       "             Murder   Assault  UrbanPop      Rape\n",
       "clusterID                                        \n",
       "1          0.041163  0.941927  0.309972  0.108651\n",
       "2          0.030455  0.820702  0.547706  0.134385"
      ]
     },
     "execution_count": 96,
     "metadata": {},
     "output_type": "execute_result"
    }
   ],
   "source": [
    "crime_data.groupby('clusterID').agg('median')"
   ]
  },
  {
   "cell_type": "code",
   "execution_count": 97,
   "id": "e6e1b849",
   "metadata": {},
   "outputs": [
    {
     "data": {
      "text/html": [
       "<div>\n",
       "<style scoped>\n",
       "    .dataframe tbody tr th:only-of-type {\n",
       "        vertical-align: middle;\n",
       "    }\n",
       "\n",
       "    .dataframe tbody tr th {\n",
       "        vertical-align: top;\n",
       "    }\n",
       "\n",
       "    .dataframe thead th {\n",
       "        text-align: right;\n",
       "    }\n",
       "</style>\n",
       "<table border=\"1\" class=\"dataframe\">\n",
       "  <thead>\n",
       "    <tr style=\"text-align: right;\">\n",
       "      <th></th>\n",
       "      <th>Murder</th>\n",
       "      <th>Assault</th>\n",
       "      <th>UrbanPop</th>\n",
       "      <th>Rape</th>\n",
       "    </tr>\n",
       "    <tr>\n",
       "      <th>clusterID</th>\n",
       "      <th></th>\n",
       "      <th></th>\n",
       "      <th></th>\n",
       "      <th></th>\n",
       "    </tr>\n",
       "  </thead>\n",
       "  <tbody>\n",
       "    <tr>\n",
       "      <th>1</th>\n",
       "      <td>0.015228</td>\n",
       "      <td>0.031939</td>\n",
       "      <td>0.091170</td>\n",
       "      <td>0.034468</td>\n",
       "    </tr>\n",
       "    <tr>\n",
       "      <th>2</th>\n",
       "      <td>0.012753</td>\n",
       "      <td>0.107256</td>\n",
       "      <td>0.112884</td>\n",
       "      <td>0.034895</td>\n",
       "    </tr>\n",
       "  </tbody>\n",
       "</table>\n",
       "</div>"
      ],
      "text/plain": [
       "             Murder   Assault  UrbanPop      Rape\n",
       "clusterID                                        \n",
       "1          0.015228  0.031939  0.091170  0.034468\n",
       "2          0.012753  0.107256  0.112884  0.034895"
      ]
     },
     "execution_count": 97,
     "metadata": {},
     "output_type": "execute_result"
    }
   ],
   "source": [
    "crime_data.groupby('clusterID').agg('std')"
   ]
  },
  {
   "cell_type": "markdown",
   "id": "050c1319",
   "metadata": {},
   "source": [
    "###### clusterID\n",
    "* 1 : high crime rate\n",
    "* 2 : moderate crime rate"
   ]
  },
  {
   "cell_type": "markdown",
   "id": "1348d6ee",
   "metadata": {},
   "source": [
    "## conclusion:\n",
    "The std for 2 clusters are near to each other, so we can conclude that, the murder rate, assault rate more at loactions high crime rate than that of moderate crime rate while rape cases are more in moderate crime rate."
   ]
  },
  {
   "cell_type": "code",
   "execution_count": 98,
   "id": "1806ff8f",
   "metadata": {
    "scrolled": true
   },
   "outputs": [
    {
     "data": {
      "text/html": [
       "<div>\n",
       "<style scoped>\n",
       "    .dataframe tbody tr th:only-of-type {\n",
       "        vertical-align: middle;\n",
       "    }\n",
       "\n",
       "    .dataframe tbody tr th {\n",
       "        vertical-align: top;\n",
       "    }\n",
       "\n",
       "    .dataframe thead th {\n",
       "        text-align: right;\n",
       "    }\n",
       "</style>\n",
       "<table border=\"1\" class=\"dataframe\">\n",
       "  <thead>\n",
       "    <tr style=\"text-align: right;\">\n",
       "      <th></th>\n",
       "      <th>location</th>\n",
       "      <th>Murder</th>\n",
       "      <th>Assault</th>\n",
       "      <th>UrbanPop</th>\n",
       "      <th>Rape</th>\n",
       "      <th>clusterID</th>\n",
       "    </tr>\n",
       "  </thead>\n",
       "  <tbody>\n",
       "    <tr>\n",
       "      <th>0</th>\n",
       "      <td>Alabama</td>\n",
       "      <td>0.054031</td>\n",
       "      <td>0.966016</td>\n",
       "      <td>0.237411</td>\n",
       "      <td>0.086778</td>\n",
       "      <td>1</td>\n",
       "    </tr>\n",
       "    <tr>\n",
       "      <th>1</th>\n",
       "      <td>Alaska</td>\n",
       "      <td>0.036872</td>\n",
       "      <td>0.969739</td>\n",
       "      <td>0.176987</td>\n",
       "      <td>0.164081</td>\n",
       "      <td>1</td>\n",
       "    </tr>\n",
       "    <tr>\n",
       "      <th>2</th>\n",
       "      <td>Arizona</td>\n",
       "      <td>0.026439</td>\n",
       "      <td>0.959624</td>\n",
       "      <td>0.261122</td>\n",
       "      <td>0.101185</td>\n",
       "      <td>1</td>\n",
       "    </tr>\n",
       "    <tr>\n",
       "      <th>3</th>\n",
       "      <td>Arkansas</td>\n",
       "      <td>0.044528</td>\n",
       "      <td>0.961392</td>\n",
       "      <td>0.252998</td>\n",
       "      <td>0.098669</td>\n",
       "      <td>1</td>\n",
       "    </tr>\n",
       "    <tr>\n",
       "      <th>4</th>\n",
       "      <td>California</td>\n",
       "      <td>0.030657</td>\n",
       "      <td>0.940134</td>\n",
       "      <td>0.309972</td>\n",
       "      <td>0.138295</td>\n",
       "      <td>1</td>\n",
       "    </tr>\n",
       "  </tbody>\n",
       "</table>\n",
       "</div>"
      ],
      "text/plain": [
       "     location    Murder   Assault  UrbanPop      Rape  clusterID\n",
       "0     Alabama  0.054031  0.966016  0.237411  0.086778          1\n",
       "1      Alaska  0.036872  0.969739  0.176987  0.164081          1\n",
       "2     Arizona  0.026439  0.959624  0.261122  0.101185          1\n",
       "3    Arkansas  0.044528  0.961392  0.252998  0.098669          1\n",
       "4  California  0.030657  0.940134  0.309972  0.138295          1"
      ]
     },
     "execution_count": 98,
     "metadata": {},
     "output_type": "execute_result"
    }
   ],
   "source": [
    "crime_data.head()"
   ]
  },
  {
   "cell_type": "code",
   "execution_count": 99,
   "id": "1c075e27",
   "metadata": {},
   "outputs": [],
   "source": [
    "crime_data['clusterID']=crime_data['clusterID'].map({1:'HighCrimeRate',2:'ModerateCrimeRate'})"
   ]
  },
  {
   "cell_type": "code",
   "execution_count": 100,
   "id": "e124d13c",
   "metadata": {},
   "outputs": [
    {
     "data": {
      "text/html": [
       "<div>\n",
       "<style scoped>\n",
       "    .dataframe tbody tr th:only-of-type {\n",
       "        vertical-align: middle;\n",
       "    }\n",
       "\n",
       "    .dataframe tbody tr th {\n",
       "        vertical-align: top;\n",
       "    }\n",
       "\n",
       "    .dataframe thead th {\n",
       "        text-align: right;\n",
       "    }\n",
       "</style>\n",
       "<table border=\"1\" class=\"dataframe\">\n",
       "  <thead>\n",
       "    <tr style=\"text-align: right;\">\n",
       "      <th></th>\n",
       "      <th>location</th>\n",
       "      <th>Murder</th>\n",
       "      <th>Assault</th>\n",
       "      <th>UrbanPop</th>\n",
       "      <th>Rape</th>\n",
       "      <th>clusterID</th>\n",
       "    </tr>\n",
       "  </thead>\n",
       "  <tbody>\n",
       "    <tr>\n",
       "      <th>0</th>\n",
       "      <td>Alabama</td>\n",
       "      <td>0.054031</td>\n",
       "      <td>0.966016</td>\n",
       "      <td>0.237411</td>\n",
       "      <td>0.086778</td>\n",
       "      <td>HighCrimeRate</td>\n",
       "    </tr>\n",
       "    <tr>\n",
       "      <th>1</th>\n",
       "      <td>Alaska</td>\n",
       "      <td>0.036872</td>\n",
       "      <td>0.969739</td>\n",
       "      <td>0.176987</td>\n",
       "      <td>0.164081</td>\n",
       "      <td>HighCrimeRate</td>\n",
       "    </tr>\n",
       "    <tr>\n",
       "      <th>2</th>\n",
       "      <td>Arizona</td>\n",
       "      <td>0.026439</td>\n",
       "      <td>0.959624</td>\n",
       "      <td>0.261122</td>\n",
       "      <td>0.101185</td>\n",
       "      <td>HighCrimeRate</td>\n",
       "    </tr>\n",
       "    <tr>\n",
       "      <th>3</th>\n",
       "      <td>Arkansas</td>\n",
       "      <td>0.044528</td>\n",
       "      <td>0.961392</td>\n",
       "      <td>0.252998</td>\n",
       "      <td>0.098669</td>\n",
       "      <td>HighCrimeRate</td>\n",
       "    </tr>\n",
       "    <tr>\n",
       "      <th>4</th>\n",
       "      <td>California</td>\n",
       "      <td>0.030657</td>\n",
       "      <td>0.940134</td>\n",
       "      <td>0.309972</td>\n",
       "      <td>0.138295</td>\n",
       "      <td>HighCrimeRate</td>\n",
       "    </tr>\n",
       "  </tbody>\n",
       "</table>\n",
       "</div>"
      ],
      "text/plain": [
       "     location    Murder   Assault  UrbanPop      Rape      clusterID\n",
       "0     Alabama  0.054031  0.966016  0.237411  0.086778  HighCrimeRate\n",
       "1      Alaska  0.036872  0.969739  0.176987  0.164081  HighCrimeRate\n",
       "2     Arizona  0.026439  0.959624  0.261122  0.101185  HighCrimeRate\n",
       "3    Arkansas  0.044528  0.961392  0.252998  0.098669  HighCrimeRate\n",
       "4  California  0.030657  0.940134  0.309972  0.138295  HighCrimeRate"
      ]
     },
     "execution_count": 100,
     "metadata": {},
     "output_type": "execute_result"
    }
   ],
   "source": [
    "crime_data.head()"
   ]
  },
  {
   "cell_type": "code",
   "execution_count": 101,
   "id": "f013afc9",
   "metadata": {
    "scrolled": true
   },
   "outputs": [
    {
     "data": {
      "text/plain": [
       "['Alabama',\n",
       " 'Alaska',\n",
       " 'Arizona',\n",
       " 'Arkansas',\n",
       " 'California',\n",
       " 'Colorado',\n",
       " 'Delaware',\n",
       " 'Florida',\n",
       " 'Georgia',\n",
       " 'Idaho',\n",
       " 'Illinois',\n",
       " 'Kentucky',\n",
       " 'Louisiana',\n",
       " 'Maryland',\n",
       " 'Michigan',\n",
       " 'Mississippi',\n",
       " 'Missouri',\n",
       " 'Montana',\n",
       " 'Nevada',\n",
       " 'New Mexico',\n",
       " 'New York',\n",
       " 'North Carolina',\n",
       " 'Oklahoma',\n",
       " 'Oregon',\n",
       " 'Rhode Island',\n",
       " 'South Carolina',\n",
       " 'South Dakota',\n",
       " 'Tennessee',\n",
       " 'Texas',\n",
       " 'Virginia',\n",
       " 'Washington',\n",
       " 'West Virginia',\n",
       " 'Wyoming']"
      ]
     },
     "execution_count": 101,
     "metadata": {},
     "output_type": "execute_result"
    }
   ],
   "source": [
    "# to get location names of high crime rate \n",
    "locations_high_crime_rate = crime_data.loc[crime_data['clusterID'] == 'HighCrimeRate'].iloc[:,0]\n",
    "list(locations_high_crime_rate)"
   ]
  },
  {
   "cell_type": "code",
   "execution_count": 102,
   "id": "a210b406",
   "metadata": {},
   "outputs": [
    {
     "data": {
      "text/plain": [
       "33"
      ]
     },
     "execution_count": 102,
     "metadata": {},
     "output_type": "execute_result"
    }
   ],
   "source": [
    "len(list(locations_high_crime_rate))"
   ]
  },
  {
   "cell_type": "markdown",
   "id": "1bca2b99",
   "metadata": {},
   "source": [
    "# Out of 50 states in US, the crime rate is high in 33 states."
   ]
  },
  {
   "cell_type": "code",
   "execution_count": null,
   "id": "4a90f9a2",
   "metadata": {},
   "outputs": [],
   "source": []
  },
  {
   "cell_type": "markdown",
   "id": "1c6ce46a",
   "metadata": {},
   "source": [
    "###### For k =3"
   ]
  },
  {
   "cell_type": "code",
   "execution_count": 103,
   "id": "75309904",
   "metadata": {},
   "outputs": [],
   "source": [
    "crime_data_1 = pd.read_csv('crime_data.csv')\n",
    "crime_data = crime_data_1.copy()\n",
    "crime_data.drop('Unnamed: 0',axis=1,inplace=True)"
   ]
  },
  {
   "cell_type": "code",
   "execution_count": 104,
   "id": "f6bb0e55",
   "metadata": {},
   "outputs": [],
   "source": [
    "# create clusters\n",
    "kmean_cluster = KMeans(n_clusters=3,random_state=12)"
   ]
  },
  {
   "cell_type": "code",
   "execution_count": 105,
   "id": "fc37f865",
   "metadata": {},
   "outputs": [
    {
     "data": {
      "text/plain": [
       "array([3, 3, 3, 1, 3, 1, 2, 3, 3, 1, 2, 2, 3, 2, 2, 2, 2, 3, 2, 3, 1, 3,\n",
       "       2, 3, 1, 2, 2, 3, 2, 1, 3, 3, 3, 2, 2, 1, 1, 2, 1, 3, 2, 1, 1, 2,\n",
       "       2, 1, 1, 2, 2, 1])"
      ]
     },
     "execution_count": 105,
     "metadata": {},
     "output_type": "execute_result"
    }
   ],
   "source": [
    "y_kmean = kmean_cluster.fit_predict(crime_data)+1\n",
    "y_kmean"
   ]
  },
  {
   "cell_type": "code",
   "execution_count": 106,
   "id": "3dea2913",
   "metadata": {},
   "outputs": [],
   "source": [
    "cluster = pd.DataFrame(y_kmean,columns=['clusterID'])"
   ]
  },
  {
   "cell_type": "code",
   "execution_count": 107,
   "id": "0a9bfb90",
   "metadata": {},
   "outputs": [
    {
     "data": {
      "text/plain": [
       "array([3, 1, 2])"
      ]
     },
     "execution_count": 107,
     "metadata": {},
     "output_type": "execute_result"
    }
   ],
   "source": [
    "cluster['clusterID'].unique()"
   ]
  },
  {
   "cell_type": "code",
   "execution_count": 108,
   "id": "e34ee1d4",
   "metadata": {},
   "outputs": [
    {
     "data": {
      "text/html": [
       "<div>\n",
       "<style scoped>\n",
       "    .dataframe tbody tr th:only-of-type {\n",
       "        vertical-align: middle;\n",
       "    }\n",
       "\n",
       "    .dataframe tbody tr th {\n",
       "        vertical-align: top;\n",
       "    }\n",
       "\n",
       "    .dataframe thead th {\n",
       "        text-align: right;\n",
       "    }\n",
       "</style>\n",
       "<table border=\"1\" class=\"dataframe\">\n",
       "  <thead>\n",
       "    <tr style=\"text-align: right;\">\n",
       "      <th></th>\n",
       "      <th>Murder</th>\n",
       "      <th>Assault</th>\n",
       "      <th>UrbanPop</th>\n",
       "      <th>Rape</th>\n",
       "      <th>clusterID</th>\n",
       "    </tr>\n",
       "  </thead>\n",
       "  <tbody>\n",
       "    <tr>\n",
       "      <th>0</th>\n",
       "      <td>13.2</td>\n",
       "      <td>236</td>\n",
       "      <td>58</td>\n",
       "      <td>21.2</td>\n",
       "      <td>3</td>\n",
       "    </tr>\n",
       "    <tr>\n",
       "      <th>1</th>\n",
       "      <td>10.0</td>\n",
       "      <td>263</td>\n",
       "      <td>48</td>\n",
       "      <td>44.5</td>\n",
       "      <td>3</td>\n",
       "    </tr>\n",
       "    <tr>\n",
       "      <th>2</th>\n",
       "      <td>8.1</td>\n",
       "      <td>294</td>\n",
       "      <td>80</td>\n",
       "      <td>31.0</td>\n",
       "      <td>3</td>\n",
       "    </tr>\n",
       "    <tr>\n",
       "      <th>3</th>\n",
       "      <td>8.8</td>\n",
       "      <td>190</td>\n",
       "      <td>50</td>\n",
       "      <td>19.5</td>\n",
       "      <td>1</td>\n",
       "    </tr>\n",
       "    <tr>\n",
       "      <th>4</th>\n",
       "      <td>9.0</td>\n",
       "      <td>276</td>\n",
       "      <td>91</td>\n",
       "      <td>40.6</td>\n",
       "      <td>3</td>\n",
       "    </tr>\n",
       "  </tbody>\n",
       "</table>\n",
       "</div>"
      ],
      "text/plain": [
       "   Murder  Assault  UrbanPop  Rape  clusterID\n",
       "0    13.2      236        58  21.2          3\n",
       "1    10.0      263        48  44.5          3\n",
       "2     8.1      294        80  31.0          3\n",
       "3     8.8      190        50  19.5          1\n",
       "4     9.0      276        91  40.6          3"
      ]
     },
     "execution_count": 108,
     "metadata": {},
     "output_type": "execute_result"
    }
   ],
   "source": [
    "crime_data['clusterID'] = cluster\n",
    "crime_data.head()"
   ]
  },
  {
   "cell_type": "code",
   "execution_count": 109,
   "id": "e6b88eda",
   "metadata": {},
   "outputs": [
    {
     "data": {
      "text/html": [
       "<div>\n",
       "<style scoped>\n",
       "    .dataframe tbody tr th:only-of-type {\n",
       "        vertical-align: middle;\n",
       "    }\n",
       "\n",
       "    .dataframe tbody tr th {\n",
       "        vertical-align: top;\n",
       "    }\n",
       "\n",
       "    .dataframe thead th {\n",
       "        text-align: right;\n",
       "    }\n",
       "</style>\n",
       "<table border=\"1\" class=\"dataframe\">\n",
       "  <thead>\n",
       "    <tr style=\"text-align: right;\">\n",
       "      <th></th>\n",
       "      <th>location</th>\n",
       "      <th>Murder</th>\n",
       "      <th>Assault</th>\n",
       "      <th>UrbanPop</th>\n",
       "      <th>Rape</th>\n",
       "      <th>clusterID</th>\n",
       "    </tr>\n",
       "  </thead>\n",
       "  <tbody>\n",
       "    <tr>\n",
       "      <th>0</th>\n",
       "      <td>Alabama</td>\n",
       "      <td>13.2</td>\n",
       "      <td>236</td>\n",
       "      <td>58</td>\n",
       "      <td>21.2</td>\n",
       "      <td>3</td>\n",
       "    </tr>\n",
       "    <tr>\n",
       "      <th>1</th>\n",
       "      <td>Alaska</td>\n",
       "      <td>10.0</td>\n",
       "      <td>263</td>\n",
       "      <td>48</td>\n",
       "      <td>44.5</td>\n",
       "      <td>3</td>\n",
       "    </tr>\n",
       "    <tr>\n",
       "      <th>2</th>\n",
       "      <td>Arizona</td>\n",
       "      <td>8.1</td>\n",
       "      <td>294</td>\n",
       "      <td>80</td>\n",
       "      <td>31.0</td>\n",
       "      <td>3</td>\n",
       "    </tr>\n",
       "    <tr>\n",
       "      <th>3</th>\n",
       "      <td>Arkansas</td>\n",
       "      <td>8.8</td>\n",
       "      <td>190</td>\n",
       "      <td>50</td>\n",
       "      <td>19.5</td>\n",
       "      <td>1</td>\n",
       "    </tr>\n",
       "    <tr>\n",
       "      <th>4</th>\n",
       "      <td>California</td>\n",
       "      <td>9.0</td>\n",
       "      <td>276</td>\n",
       "      <td>91</td>\n",
       "      <td>40.6</td>\n",
       "      <td>3</td>\n",
       "    </tr>\n",
       "  </tbody>\n",
       "</table>\n",
       "</div>"
      ],
      "text/plain": [
       "     location  Murder  Assault  UrbanPop  Rape  clusterID\n",
       "0     Alabama    13.2      236        58  21.2          3\n",
       "1      Alaska    10.0      263        48  44.5          3\n",
       "2     Arizona     8.1      294        80  31.0          3\n",
       "3    Arkansas     8.8      190        50  19.5          1\n",
       "4  California     9.0      276        91  40.6          3"
      ]
     },
     "execution_count": 109,
     "metadata": {},
     "output_type": "execute_result"
    }
   ],
   "source": [
    "crime_data.insert(loc=0, column='location', value=crime_data_1['Unnamed: 0'])\n",
    "crime_data.head()"
   ]
  },
  {
   "cell_type": "code",
   "execution_count": 110,
   "id": "3fc9779f",
   "metadata": {
    "scrolled": false
   },
   "outputs": [
    {
     "name": "stdout",
     "output_type": "stream",
     "text": [
      "unique cluster IDs :  [3 1 2]\n",
      "unique cluster IDs with calue counts:\n",
      "2    20\n",
      "3    16\n",
      "1    14\n",
      "Name: clusterID, dtype: int64\n"
     ]
    }
   ],
   "source": [
    "print('unique cluster IDs : ',crime_data['clusterID'].unique())\n",
    "print('unique cluster IDs with calue counts:\\n{}'.format(crime_data['clusterID'].value_counts()))"
   ]
  },
  {
   "cell_type": "code",
   "execution_count": 111,
   "id": "5a3830a7",
   "metadata": {},
   "outputs": [
    {
     "data": {
      "text/html": [
       "<div>\n",
       "<style scoped>\n",
       "    .dataframe tbody tr th:only-of-type {\n",
       "        vertical-align: middle;\n",
       "    }\n",
       "\n",
       "    .dataframe tbody tr th {\n",
       "        vertical-align: top;\n",
       "    }\n",
       "\n",
       "    .dataframe thead th {\n",
       "        text-align: right;\n",
       "    }\n",
       "</style>\n",
       "<table border=\"1\" class=\"dataframe\">\n",
       "  <thead>\n",
       "    <tr style=\"text-align: right;\">\n",
       "      <th></th>\n",
       "      <th>Murder</th>\n",
       "      <th>Assault</th>\n",
       "      <th>UrbanPop</th>\n",
       "      <th>Rape</th>\n",
       "    </tr>\n",
       "    <tr>\n",
       "      <th>clusterID</th>\n",
       "      <th></th>\n",
       "      <th></th>\n",
       "      <th></th>\n",
       "      <th></th>\n",
       "    </tr>\n",
       "  </thead>\n",
       "  <tbody>\n",
       "    <tr>\n",
       "      <th>1</th>\n",
       "      <td>8.214286</td>\n",
       "      <td>173.285714</td>\n",
       "      <td>70.642857</td>\n",
       "      <td>22.842857</td>\n",
       "    </tr>\n",
       "    <tr>\n",
       "      <th>2</th>\n",
       "      <td>4.270000</td>\n",
       "      <td>87.550000</td>\n",
       "      <td>59.750000</td>\n",
       "      <td>14.390000</td>\n",
       "    </tr>\n",
       "    <tr>\n",
       "      <th>3</th>\n",
       "      <td>11.812500</td>\n",
       "      <td>272.562500</td>\n",
       "      <td>68.312500</td>\n",
       "      <td>28.375000</td>\n",
       "    </tr>\n",
       "  </tbody>\n",
       "</table>\n",
       "</div>"
      ],
      "text/plain": [
       "              Murder     Assault   UrbanPop       Rape\n",
       "clusterID                                             \n",
       "1           8.214286  173.285714  70.642857  22.842857\n",
       "2           4.270000   87.550000  59.750000  14.390000\n",
       "3          11.812500  272.562500  68.312500  28.375000"
      ]
     },
     "execution_count": 111,
     "metadata": {},
     "output_type": "execute_result"
    }
   ],
   "source": [
    "crime_data.groupby('clusterID').agg('mean')"
   ]
  },
  {
   "cell_type": "markdown",
   "id": "3d21deb2",
   "metadata": {},
   "source": [
    "## conclusion:\n",
    "The murder cases, assault cases and rape cases are max in 3nd cluster ID, though its population is less than that of in cluster 1."
   ]
  },
  {
   "cell_type": "code",
   "execution_count": 112,
   "id": "f8038664",
   "metadata": {},
   "outputs": [
    {
     "data": {
      "text/plain": [
       "<matplotlib.collections.PathCollection at 0x274b4e41fd0>"
      ]
     },
     "execution_count": 112,
     "metadata": {},
     "output_type": "execute_result"
    },
    {
     "data": {
      "image/png": "[encoded data removed]",
      "text/plain": [
       "<Figure size 432x288 with 1 Axes>"
      ]
     },
     "metadata": {
      "needs_background": "light"
     },
     "output_type": "display_data"
    }
   ],
   "source": [
    "plt.scatter(crime_data.iloc[:,2],crime_data.iloc[:,3],c = y_kmean)"
   ]
  },
  {
   "cell_type": "code",
   "execution_count": 113,
   "id": "0fd8afea",
   "metadata": {},
   "outputs": [
    {
     "data": {
      "text/html": [
       "<div>\n",
       "<style scoped>\n",
       "    .dataframe tbody tr th:only-of-type {\n",
       "        vertical-align: middle;\n",
       "    }\n",
       "\n",
       "    .dataframe tbody tr th {\n",
       "        vertical-align: top;\n",
       "    }\n",
       "\n",
       "    .dataframe thead th {\n",
       "        text-align: right;\n",
       "    }\n",
       "</style>\n",
       "<table border=\"1\" class=\"dataframe\">\n",
       "  <thead>\n",
       "    <tr style=\"text-align: right;\">\n",
       "      <th></th>\n",
       "      <th>location</th>\n",
       "      <th>Murder</th>\n",
       "      <th>Assault</th>\n",
       "      <th>UrbanPop</th>\n",
       "      <th>Rape</th>\n",
       "      <th>clusterID</th>\n",
       "    </tr>\n",
       "  </thead>\n",
       "  <tbody>\n",
       "    <tr>\n",
       "      <th>0</th>\n",
       "      <td>Alabama</td>\n",
       "      <td>13.2</td>\n",
       "      <td>236</td>\n",
       "      <td>58</td>\n",
       "      <td>21.2</td>\n",
       "      <td>HighCrimeCases</td>\n",
       "    </tr>\n",
       "    <tr>\n",
       "      <th>1</th>\n",
       "      <td>Alaska</td>\n",
       "      <td>10.0</td>\n",
       "      <td>263</td>\n",
       "      <td>48</td>\n",
       "      <td>44.5</td>\n",
       "      <td>HighCrimeCases</td>\n",
       "    </tr>\n",
       "    <tr>\n",
       "      <th>2</th>\n",
       "      <td>Arizona</td>\n",
       "      <td>8.1</td>\n",
       "      <td>294</td>\n",
       "      <td>80</td>\n",
       "      <td>31.0</td>\n",
       "      <td>HighCrimeCases</td>\n",
       "    </tr>\n",
       "    <tr>\n",
       "      <th>3</th>\n",
       "      <td>Arkansas</td>\n",
       "      <td>8.8</td>\n",
       "      <td>190</td>\n",
       "      <td>50</td>\n",
       "      <td>19.5</td>\n",
       "      <td>ModerateCrimeCases</td>\n",
       "    </tr>\n",
       "    <tr>\n",
       "      <th>4</th>\n",
       "      <td>California</td>\n",
       "      <td>9.0</td>\n",
       "      <td>276</td>\n",
       "      <td>91</td>\n",
       "      <td>40.6</td>\n",
       "      <td>HighCrimeCases</td>\n",
       "    </tr>\n",
       "  </tbody>\n",
       "</table>\n",
       "</div>"
      ],
      "text/plain": [
       "     location  Murder  Assault  UrbanPop  Rape           clusterID\n",
       "0     Alabama    13.2      236        58  21.2      HighCrimeCases\n",
       "1      Alaska    10.0      263        48  44.5      HighCrimeCases\n",
       "2     Arizona     8.1      294        80  31.0      HighCrimeCases\n",
       "3    Arkansas     8.8      190        50  19.5  ModerateCrimeCases\n",
       "4  California     9.0      276        91  40.6      HighCrimeCases"
      ]
     },
     "execution_count": 113,
     "metadata": {},
     "output_type": "execute_result"
    }
   ],
   "source": [
    "crime_data['clusterID']=crime_data['clusterID'].map({3:'HighCrimeCases',1:'ModerateCrimeCases',2:'LowCrimeCases'})\n",
    "crime_data.head()"
   ]
  },
  {
   "cell_type": "code",
   "execution_count": 114,
   "id": "16d0abaa",
   "metadata": {},
   "outputs": [
    {
     "data": {
      "text/plain": [
       "0            Alabama\n",
       "1             Alaska\n",
       "2            Arizona\n",
       "4         California\n",
       "7           Delaware\n",
       "8            Florida\n",
       "12          Illinois\n",
       "17         Louisiana\n",
       "19          Maryland\n",
       "21          Michigan\n",
       "23       Mississippi\n",
       "27            Nevada\n",
       "30        New Mexico\n",
       "31          New York\n",
       "32    North Carolina\n",
       "39    South Carolina\n",
       "Name: location, dtype: object"
      ]
     },
     "execution_count": 114,
     "metadata": {},
     "output_type": "execute_result"
    }
   ],
   "source": [
    "# to get location names of high crime cases \n",
    "locations_high_crime_cases = crime_data.loc[crime_data['clusterID'] == 'HighCrimeCases'].iloc[:,0]\n",
    "locations_high_crime_cases"
   ]
  },
  {
   "cell_type": "code",
   "execution_count": 115,
   "id": "c149f044",
   "metadata": {},
   "outputs": [
    {
     "data": {
      "text/plain": [
       "16"
      ]
     },
     "execution_count": 115,
     "metadata": {},
     "output_type": "execute_result"
    }
   ],
   "source": [
    "len(list(locations_high_crime_cases))"
   ]
  },
  {
   "cell_type": "markdown",
   "id": "f17f79b5",
   "metadata": {},
   "source": [
    "# Out of 50 states in US, the crime cases is high in 16 states."
   ]
  },
  {
   "cell_type": "markdown",
   "id": "068b61a2",
   "metadata": {},
   "source": [
    "###### For k = 6"
   ]
  },
  {
   "cell_type": "code",
   "execution_count": 116,
   "id": "ae3405c1",
   "metadata": {},
   "outputs": [],
   "source": [
    "crime_data_1 = pd.read_csv('crime_data.csv')\n",
    "crime_data = crime_data_1.copy()\n",
    "crime_data.drop('Unnamed: 0',axis=1,inplace=True)"
   ]
  },
  {
   "cell_type": "code",
   "execution_count": 117,
   "id": "95cb060a",
   "metadata": {},
   "outputs": [
    {
     "data": {
      "text/plain": [
       "array([2, 2, 4, 6, 2, 6, 5, 2, 4, 6, 3, 5, 2, 5, 3, 5, 5, 2, 3, 4, 1, 2,\n",
       "       3, 2, 6, 5, 5, 2, 3, 1, 2, 2, 4, 3, 5, 1, 1, 5, 1, 2, 3, 6, 6, 5,\n",
       "       3, 1, 1, 3, 3, 1])"
      ]
     },
     "execution_count": 117,
     "metadata": {},
     "output_type": "execute_result"
    }
   ],
   "source": [
    "# create clusters\n",
    "kmean_cluster = KMeans(n_clusters=6,random_state=12)\n",
    "y_kmean = kmean_cluster.fit_predict(crime_data)+1\n",
    "y_kmean"
   ]
  },
  {
   "cell_type": "code",
   "execution_count": 118,
   "id": "d9c86fb4",
   "metadata": {},
   "outputs": [
    {
     "data": {
      "text/plain": [
       "array([2, 4, 6, 5, 3, 1])"
      ]
     },
     "execution_count": 118,
     "metadata": {},
     "output_type": "execute_result"
    }
   ],
   "source": [
    "cluster = pd.DataFrame(y_kmean,columns=['clusterID'])\n",
    "cluster['clusterID'].unique()"
   ]
  },
  {
   "cell_type": "code",
   "execution_count": 119,
   "id": "f5e06b90",
   "metadata": {},
   "outputs": [
    {
     "data": {
      "text/html": [
       "<div>\n",
       "<style scoped>\n",
       "    .dataframe tbody tr th:only-of-type {\n",
       "        vertical-align: middle;\n",
       "    }\n",
       "\n",
       "    .dataframe tbody tr th {\n",
       "        vertical-align: top;\n",
       "    }\n",
       "\n",
       "    .dataframe thead th {\n",
       "        text-align: right;\n",
       "    }\n",
       "</style>\n",
       "<table border=\"1\" class=\"dataframe\">\n",
       "  <thead>\n",
       "    <tr style=\"text-align: right;\">\n",
       "      <th></th>\n",
       "      <th>Murder</th>\n",
       "      <th>Assault</th>\n",
       "      <th>UrbanPop</th>\n",
       "      <th>Rape</th>\n",
       "      <th>clusterID</th>\n",
       "    </tr>\n",
       "  </thead>\n",
       "  <tbody>\n",
       "    <tr>\n",
       "      <th>0</th>\n",
       "      <td>13.2</td>\n",
       "      <td>236</td>\n",
       "      <td>58</td>\n",
       "      <td>21.2</td>\n",
       "      <td>2</td>\n",
       "    </tr>\n",
       "    <tr>\n",
       "      <th>1</th>\n",
       "      <td>10.0</td>\n",
       "      <td>263</td>\n",
       "      <td>48</td>\n",
       "      <td>44.5</td>\n",
       "      <td>2</td>\n",
       "    </tr>\n",
       "    <tr>\n",
       "      <th>2</th>\n",
       "      <td>8.1</td>\n",
       "      <td>294</td>\n",
       "      <td>80</td>\n",
       "      <td>31.0</td>\n",
       "      <td>4</td>\n",
       "    </tr>\n",
       "    <tr>\n",
       "      <th>3</th>\n",
       "      <td>8.8</td>\n",
       "      <td>190</td>\n",
       "      <td>50</td>\n",
       "      <td>19.5</td>\n",
       "      <td>6</td>\n",
       "    </tr>\n",
       "    <tr>\n",
       "      <th>4</th>\n",
       "      <td>9.0</td>\n",
       "      <td>276</td>\n",
       "      <td>91</td>\n",
       "      <td>40.6</td>\n",
       "      <td>2</td>\n",
       "    </tr>\n",
       "  </tbody>\n",
       "</table>\n",
       "</div>"
      ],
      "text/plain": [
       "   Murder  Assault  UrbanPop  Rape  clusterID\n",
       "0    13.2      236        58  21.2          2\n",
       "1    10.0      263        48  44.5          2\n",
       "2     8.1      294        80  31.0          4\n",
       "3     8.8      190        50  19.5          6\n",
       "4     9.0      276        91  40.6          2"
      ]
     },
     "execution_count": 119,
     "metadata": {},
     "output_type": "execute_result"
    }
   ],
   "source": [
    "crime_data['clusterID'] = cluster\n",
    "crime_data.head()"
   ]
  },
  {
   "cell_type": "code",
   "execution_count": 120,
   "id": "1f13218a",
   "metadata": {},
   "outputs": [
    {
     "data": {
      "text/html": [
       "<div>\n",
       "<style scoped>\n",
       "    .dataframe tbody tr th:only-of-type {\n",
       "        vertical-align: middle;\n",
       "    }\n",
       "\n",
       "    .dataframe tbody tr th {\n",
       "        vertical-align: top;\n",
       "    }\n",
       "\n",
       "    .dataframe thead th {\n",
       "        text-align: right;\n",
       "    }\n",
       "</style>\n",
       "<table border=\"1\" class=\"dataframe\">\n",
       "  <thead>\n",
       "    <tr style=\"text-align: right;\">\n",
       "      <th></th>\n",
       "      <th>location</th>\n",
       "      <th>Murder</th>\n",
       "      <th>Assault</th>\n",
       "      <th>UrbanPop</th>\n",
       "      <th>Rape</th>\n",
       "      <th>clusterID</th>\n",
       "    </tr>\n",
       "  </thead>\n",
       "  <tbody>\n",
       "    <tr>\n",
       "      <th>0</th>\n",
       "      <td>Alabama</td>\n",
       "      <td>13.2</td>\n",
       "      <td>236</td>\n",
       "      <td>58</td>\n",
       "      <td>21.2</td>\n",
       "      <td>2</td>\n",
       "    </tr>\n",
       "    <tr>\n",
       "      <th>1</th>\n",
       "      <td>Alaska</td>\n",
       "      <td>10.0</td>\n",
       "      <td>263</td>\n",
       "      <td>48</td>\n",
       "      <td>44.5</td>\n",
       "      <td>2</td>\n",
       "    </tr>\n",
       "    <tr>\n",
       "      <th>2</th>\n",
       "      <td>Arizona</td>\n",
       "      <td>8.1</td>\n",
       "      <td>294</td>\n",
       "      <td>80</td>\n",
       "      <td>31.0</td>\n",
       "      <td>4</td>\n",
       "    </tr>\n",
       "    <tr>\n",
       "      <th>3</th>\n",
       "      <td>Arkansas</td>\n",
       "      <td>8.8</td>\n",
       "      <td>190</td>\n",
       "      <td>50</td>\n",
       "      <td>19.5</td>\n",
       "      <td>6</td>\n",
       "    </tr>\n",
       "    <tr>\n",
       "      <th>4</th>\n",
       "      <td>California</td>\n",
       "      <td>9.0</td>\n",
       "      <td>276</td>\n",
       "      <td>91</td>\n",
       "      <td>40.6</td>\n",
       "      <td>2</td>\n",
       "    </tr>\n",
       "  </tbody>\n",
       "</table>\n",
       "</div>"
      ],
      "text/plain": [
       "     location  Murder  Assault  UrbanPop  Rape  clusterID\n",
       "0     Alabama    13.2      236        58  21.2          2\n",
       "1      Alaska    10.0      263        48  44.5          2\n",
       "2     Arizona     8.1      294        80  31.0          4\n",
       "3    Arkansas     8.8      190        50  19.5          6\n",
       "4  California     9.0      276        91  40.6          2"
      ]
     },
     "execution_count": 120,
     "metadata": {},
     "output_type": "execute_result"
    }
   ],
   "source": [
    "crime_data.insert(loc=0, column='location', value=crime_data_1['Unnamed: 0'])\n",
    "crime_data.head()"
   ]
  },
  {
   "cell_type": "code",
   "execution_count": 121,
   "id": "13f522e8",
   "metadata": {
    "scrolled": false
   },
   "outputs": [
    {
     "name": "stdout",
     "output_type": "stream",
     "text": [
      "unique cluster IDs :  [2 4 6 5 3 1]\n",
      "unique cluster IDs with calue counts:\n",
      "2    12\n",
      "5    10\n",
      "3    10\n",
      "1     8\n",
      "6     6\n",
      "4     4\n",
      "Name: clusterID, dtype: int64\n"
     ]
    }
   ],
   "source": [
    "print('unique cluster IDs : ',crime_data['clusterID'].unique())\n",
    "print('unique cluster IDs with calue counts:\\n{}'.format(crime_data['clusterID'].value_counts()))"
   ]
  },
  {
   "cell_type": "code",
   "execution_count": 122,
   "id": "68311ba4",
   "metadata": {},
   "outputs": [
    {
     "data": {
      "text/html": [
       "<div>\n",
       "<style scoped>\n",
       "    .dataframe tbody tr th:only-of-type {\n",
       "        vertical-align: middle;\n",
       "    }\n",
       "\n",
       "    .dataframe tbody tr th {\n",
       "        vertical-align: top;\n",
       "    }\n",
       "\n",
       "    .dataframe thead th {\n",
       "        text-align: right;\n",
       "    }\n",
       "</style>\n",
       "<table border=\"1\" class=\"dataframe\">\n",
       "  <thead>\n",
       "    <tr style=\"text-align: right;\">\n",
       "      <th></th>\n",
       "      <th>Murder</th>\n",
       "      <th>Assault</th>\n",
       "      <th>UrbanPop</th>\n",
       "      <th>Rape</th>\n",
       "    </tr>\n",
       "    <tr>\n",
       "      <th>clusterID</th>\n",
       "      <th></th>\n",
       "      <th></th>\n",
       "      <th></th>\n",
       "      <th></th>\n",
       "    </tr>\n",
       "  </thead>\n",
       "  <tbody>\n",
       "    <tr>\n",
       "      <th>1</th>\n",
       "      <td>5.750000</td>\n",
       "      <td>156.750000</td>\n",
       "      <td>74.000000</td>\n",
       "      <td>19.400000</td>\n",
       "    </tr>\n",
       "    <tr>\n",
       "      <th>2</th>\n",
       "      <td>11.766667</td>\n",
       "      <td>257.916667</td>\n",
       "      <td>68.416667</td>\n",
       "      <td>28.933333</td>\n",
       "    </tr>\n",
       "    <tr>\n",
       "      <th>3</th>\n",
       "      <td>2.950000</td>\n",
       "      <td>62.700000</td>\n",
       "      <td>53.900000</td>\n",
       "      <td>11.510000</td>\n",
       "    </tr>\n",
       "    <tr>\n",
       "      <th>4</th>\n",
       "      <td>11.950000</td>\n",
       "      <td>316.500000</td>\n",
       "      <td>68.000000</td>\n",
       "      <td>26.700000</td>\n",
       "    </tr>\n",
       "    <tr>\n",
       "      <th>5</th>\n",
       "      <td>5.590000</td>\n",
       "      <td>112.400000</td>\n",
       "      <td>65.600000</td>\n",
       "      <td>17.270000</td>\n",
       "    </tr>\n",
       "    <tr>\n",
       "      <th>6</th>\n",
       "      <td>11.500000</td>\n",
       "      <td>195.333333</td>\n",
       "      <td>66.166667</td>\n",
       "      <td>27.433333</td>\n",
       "    </tr>\n",
       "  </tbody>\n",
       "</table>\n",
       "</div>"
      ],
      "text/plain": [
       "              Murder     Assault   UrbanPop       Rape\n",
       "clusterID                                             \n",
       "1           5.750000  156.750000  74.000000  19.400000\n",
       "2          11.766667  257.916667  68.416667  28.933333\n",
       "3           2.950000   62.700000  53.900000  11.510000\n",
       "4          11.950000  316.500000  68.000000  26.700000\n",
       "5           5.590000  112.400000  65.600000  17.270000\n",
       "6          11.500000  195.333333  66.166667  27.433333"
      ]
     },
     "execution_count": 122,
     "metadata": {},
     "output_type": "execute_result"
    }
   ],
   "source": [
    "crime_data.groupby('clusterID').agg('mean')"
   ]
  },
  {
   "cell_type": "markdown",
   "id": "7b77be86",
   "metadata": {},
   "source": [
    "###### conclusion\n",
    "The murder and assault cases are maximum in 4th cluster, whiel rape cases are maximum in 2nd cluster."
   ]
  },
  {
   "cell_type": "code",
   "execution_count": 123,
   "id": "e7c94cf4",
   "metadata": {
    "scrolled": true
   },
   "outputs": [
    {
     "data": {
      "text/plain": [
       "<matplotlib.collections.PathCollection at 0x274b4e96b50>"
      ]
     },
     "execution_count": 123,
     "metadata": {},
     "output_type": "execute_result"
    },
    {
     "data": {
      "image/png": "[encoded data removed]",
      "text/plain": [
       "<Figure size 432x288 with 1 Axes>"
      ]
     },
     "metadata": {
      "needs_background": "light"
     },
     "output_type": "display_data"
    }
   ],
   "source": [
    "plt.scatter(crime_data.iloc[:,2],crime_data.iloc[:,3],c = y_kmean)\n"
   ]
  },
  {
   "cell_type": "code",
   "execution_count": 124,
   "id": "d09a1ca8",
   "metadata": {},
   "outputs": [
    {
     "data": {
      "text/plain": [
       "3      Arkansas\n",
       "5      Colorado\n",
       "9       Georgia\n",
       "24     Missouri\n",
       "41    Tennessee\n",
       "42        Texas\n",
       "Name: location, dtype: object"
      ]
     },
     "execution_count": 124,
     "metadata": {},
     "output_type": "execute_result"
    }
   ],
   "source": [
    "# to get location names of high crime cases \n",
    "locations_high_crime_cases = crime_data.loc[crime_data['clusterID'] == 6].iloc[:,0]\n",
    "locations_high_crime_cases"
   ]
  },
  {
   "cell_type": "code",
   "execution_count": 125,
   "id": "ea20f965",
   "metadata": {},
   "outputs": [
    {
     "data": {
      "text/plain": [
       "6"
      ]
     },
     "execution_count": 125,
     "metadata": {},
     "output_type": "execute_result"
    }
   ],
   "source": [
    "len(list(locations_high_crime_cases))"
   ]
  },
  {
   "cell_type": "markdown",
   "id": "46e45143",
   "metadata": {},
   "source": [
    "# Out of 50 states in US, the crime cases is high in 6 states."
   ]
  },
  {
   "cell_type": "code",
   "execution_count": null,
   "id": "7b744a44",
   "metadata": {},
   "outputs": [],
   "source": []
  },
  {
   "cell_type": "markdown",
   "id": "5c9919c3",
   "metadata": {},
   "source": [
    "# ==============================================================="
   ]
  },
  {
   "cell_type": "markdown",
   "id": "976dbf7b",
   "metadata": {},
   "source": [
    "# The better KMeans clustering is with 3 clusters."
   ]
  },
  {
   "cell_type": "code",
   "execution_count": 136,
   "id": "71572517",
   "metadata": {},
   "outputs": [
    {
     "name": "stdout",
     "output_type": "stream",
     "text": [
      "unique cluster IDs :  [3 1 2]\n",
      "unique cluster IDs with calue counts:\n",
      "2    20\n",
      "3    16\n",
      "1    14\n",
      "Name: clusterID, dtype: int64\n"
     ]
    },
    {
     "data": {
      "text/html": [
       "<div>\n",
       "<style scoped>\n",
       "    .dataframe tbody tr th:only-of-type {\n",
       "        vertical-align: middle;\n",
       "    }\n",
       "\n",
       "    .dataframe tbody tr th {\n",
       "        vertical-align: top;\n",
       "    }\n",
       "\n",
       "    .dataframe thead th {\n",
       "        text-align: right;\n",
       "    }\n",
       "</style>\n",
       "<table border=\"1\" class=\"dataframe\">\n",
       "  <thead>\n",
       "    <tr style=\"text-align: right;\">\n",
       "      <th></th>\n",
       "      <th>Murder</th>\n",
       "      <th>Assault</th>\n",
       "      <th>UrbanPop</th>\n",
       "      <th>Rape</th>\n",
       "    </tr>\n",
       "    <tr>\n",
       "      <th>clusterID</th>\n",
       "      <th></th>\n",
       "      <th></th>\n",
       "      <th></th>\n",
       "      <th></th>\n",
       "    </tr>\n",
       "  </thead>\n",
       "  <tbody>\n",
       "    <tr>\n",
       "      <th>1</th>\n",
       "      <td>8.214286</td>\n",
       "      <td>173.285714</td>\n",
       "      <td>70.642857</td>\n",
       "      <td>22.842857</td>\n",
       "    </tr>\n",
       "    <tr>\n",
       "      <th>2</th>\n",
       "      <td>4.270000</td>\n",
       "      <td>87.550000</td>\n",
       "      <td>59.750000</td>\n",
       "      <td>14.390000</td>\n",
       "    </tr>\n",
       "    <tr>\n",
       "      <th>3</th>\n",
       "      <td>11.812500</td>\n",
       "      <td>272.562500</td>\n",
       "      <td>68.312500</td>\n",
       "      <td>28.375000</td>\n",
       "    </tr>\n",
       "  </tbody>\n",
       "</table>\n",
       "</div>"
      ],
      "text/plain": [
       "              Murder     Assault   UrbanPop       Rape\n",
       "clusterID                                             \n",
       "1           8.214286  173.285714  70.642857  22.842857\n",
       "2           4.270000   87.550000  59.750000  14.390000\n",
       "3          11.812500  272.562500  68.312500  28.375000"
      ]
     },
     "execution_count": 136,
     "metadata": {},
     "output_type": "execute_result"
    }
   ],
   "source": [
    "#import data\n",
    "crime_data_1 = pd.read_csv('crime_data.csv')\n",
    "crime_data = crime_data_1.copy()\n",
    "crime_data.drop('Unnamed: 0',axis=1,inplace=True)\n",
    "\n",
    "# create clusters\n",
    "kmean_cluster = KMeans(n_clusters=3,random_state=12)\n",
    "\n",
    "#predict clusterID for each datapoint\n",
    "y_kmean = kmean_cluster.fit_predict(crime_data)+1\n",
    "\n",
    "#create Dataframe of clusterIDs \n",
    "cluster = pd.DataFrame(y_kmean,columns=['clusterID'])\n",
    "\n",
    "#insert clusterID column to crime_data_1 dataset(original without scale)\n",
    "crime_data['clusterID'] = cluster\n",
    "\n",
    "#insert location\n",
    "crime_data.insert(loc=0, column='location', value=crime_data_1['Unnamed: 0'])\n",
    "\n",
    "print('unique cluster IDs : ',crime_data['clusterID'].unique())\n",
    "print('unique cluster IDs with calue counts:\\n{}'.format(crime_data['clusterID'].value_counts()))\n",
    "\n",
    "crime_data.groupby('clusterID').agg('mean')"
   ]
  },
  {
   "cell_type": "markdown",
   "id": "2392f69e",
   "metadata": {},
   "source": [
    "## conclusion:\n",
    "The murder cases, assault cases and rape cases are max in 3nd cluster ID, though its population is less than that of in cluster 1."
   ]
  },
  {
   "cell_type": "code",
   "execution_count": 137,
   "id": "8486b1be",
   "metadata": {},
   "outputs": [
    {
     "data": {
      "text/plain": [
       "<matplotlib.collections.PathCollection at 0x274b4ed32b0>"
      ]
     },
     "execution_count": 137,
     "metadata": {},
     "output_type": "execute_result"
    },
    {
     "data": {
      "image/png": "[encoded data removed]",
      "text/plain": [
       "<Figure size 432x288 with 1 Axes>"
      ]
     },
     "metadata": {
      "needs_background": "light"
     },
     "output_type": "display_data"
    }
   ],
   "source": [
    "\n",
    "plt.scatter(crime_data.iloc[:,2],crime_data.iloc[:,3],c = y_kmean)\n",
    "\n"
   ]
  },
  {
   "cell_type": "code",
   "execution_count": 138,
   "id": "35e53fbe",
   "metadata": {},
   "outputs": [
    {
     "data": {
      "text/plain": [
       "0            Alabama\n",
       "1             Alaska\n",
       "2            Arizona\n",
       "4         California\n",
       "7           Delaware\n",
       "8            Florida\n",
       "12          Illinois\n",
       "17         Louisiana\n",
       "19          Maryland\n",
       "21          Michigan\n",
       "23       Mississippi\n",
       "27            Nevada\n",
       "30        New Mexico\n",
       "31          New York\n",
       "32    North Carolina\n",
       "39    South Carolina\n",
       "Name: location, dtype: object"
      ]
     },
     "execution_count": 138,
     "metadata": {},
     "output_type": "execute_result"
    }
   ],
   "source": [
    "crime_data['clusterID']=crime_data['clusterID'].map({3:'HighCrimeCases',1:'ModerateCrimeCases',2:'LowCrimeCases'})\n",
    "\n",
    "# to get location names of high crime cases \n",
    "locations_high_crime_cases = crime_data.loc[crime_data['clusterID'] == 'HighCrimeCases'].iloc[:,0]\n",
    "locations_high_crime_cases"
   ]
  },
  {
   "cell_type": "markdown",
   "id": "88720756",
   "metadata": {},
   "source": [
    "# ----------------------------------------------------------------------------------------------------------"
   ]
  },
  {
   "cell_type": "markdown",
   "id": "9b972826",
   "metadata": {},
   "source": [
    "# Kmeans with scaled data for 3 clusters"
   ]
  },
  {
   "cell_type": "code",
   "execution_count": 165,
   "id": "2403ce66",
   "metadata": {},
   "outputs": [],
   "source": [
    "crime_data_1 = pd.read_csv('crime_data.csv')\n",
    "crime_data = crime_data_1.copy()\n",
    "crime_data.drop('Unnamed: 0',axis=1,inplace=True)"
   ]
  },
  {
   "cell_type": "code",
   "execution_count": 166,
   "id": "60af98d2",
   "metadata": {},
   "outputs": [
    {
     "data": {
      "text/plain": [
       "array([[0.74698795, 0.65410959, 0.44067797, 0.35917313],\n",
       "       [0.55421687, 0.74657534, 0.27118644, 0.96124031],\n",
       "       [0.43975904, 0.85273973, 0.81355932, 0.6124031 ],\n",
       "       [0.48192771, 0.49657534, 0.30508475, 0.31524548],\n",
       "       [0.4939759 , 0.79109589, 1.        , 0.86046512],\n",
       "       [0.42771084, 0.54452055, 0.77966102, 0.81136951],\n",
       "       [0.15060241, 0.22260274, 0.76271186, 0.09819121],\n",
       "       [0.30722892, 0.6609589 , 0.6779661 , 0.21963824],\n",
       "       [0.87951807, 0.99315068, 0.81355932, 0.63565891],\n",
       "       [1.        , 0.56849315, 0.47457627, 0.47803618],\n",
       "       [0.27108434, 0.00342466, 0.86440678, 0.33333333],\n",
       "       [0.10843373, 0.25684932, 0.37288136, 0.17829457],\n",
       "       [0.57831325, 0.69863014, 0.86440678, 0.43152455],\n",
       "       [0.38554217, 0.23287671, 0.55932203, 0.35400517],\n",
       "       [0.08433735, 0.03767123, 0.42372881, 0.10335917],\n",
       "       [0.31325301, 0.23972603, 0.57627119, 0.27648579],\n",
       "       [0.53614458, 0.21917808, 0.33898305, 0.23255814],\n",
       "       [0.87951807, 0.69863014, 0.57627119, 0.38501292],\n",
       "       [0.07831325, 0.13013699, 0.3220339 , 0.0129199 ],\n",
       "       [0.63253012, 0.87328767, 0.59322034, 0.52971576],\n",
       "       [0.21686747, 0.35616438, 0.89830508, 0.23255814],\n",
       "       [0.68072289, 0.71917808, 0.71186441, 0.71834625],\n",
       "       [0.11445783, 0.09246575, 0.57627119, 0.19638243],\n",
       "       [0.92168675, 0.73287671, 0.20338983, 0.25322997],\n",
       "       [0.4939759 , 0.45547945, 0.6440678 , 0.54005168],\n",
       "       [0.31325301, 0.21917808, 0.3559322 , 0.23514212],\n",
       "       [0.21084337, 0.19520548, 0.50847458, 0.2377261 ],\n",
       "       [0.68674699, 0.70890411, 0.83050847, 1.        ],\n",
       "       [0.07831325, 0.04109589, 0.40677966, 0.05684755],\n",
       "       [0.39759036, 0.39041096, 0.96610169, 0.29715762],\n",
       "       [0.63855422, 0.82191781, 0.6440678 , 0.64082687],\n",
       "       [0.62048193, 0.71575342, 0.91525424, 0.48578811],\n",
       "       [0.73493976, 1.        , 0.22033898, 0.22739018],\n",
       "       [0.        , 0.        , 0.20338983, 0.        ],\n",
       "       [0.39156627, 0.25684932, 0.72881356, 0.36434109],\n",
       "       [0.34939759, 0.3630137 , 0.61016949, 0.32816537],\n",
       "       [0.24698795, 0.39041096, 0.59322034, 0.56847545],\n",
       "       [0.3313253 , 0.20890411, 0.6779661 , 0.19638243],\n",
       "       [0.15662651, 0.44178082, 0.93220339, 0.02583979],\n",
       "       [0.81927711, 0.80136986, 0.27118644, 0.39276486],\n",
       "       [0.18072289, 0.14041096, 0.22033898, 0.14211886],\n",
       "       [0.74698795, 0.48972603, 0.45762712, 0.50645995],\n",
       "       [0.71686747, 0.53424658, 0.81355932, 0.47028424],\n",
       "       [0.14457831, 0.25684932, 0.81355932, 0.40310078],\n",
       "       [0.08433735, 0.01027397, 0.        , 0.10077519],\n",
       "       [0.46385542, 0.38013699, 0.52542373, 0.34625323],\n",
       "       [0.19277108, 0.34246575, 0.69491525, 0.48837209],\n",
       "       [0.29518072, 0.12328767, 0.11864407, 0.05167959],\n",
       "       [0.10843373, 0.02739726, 0.57627119, 0.09043928],\n",
       "       [0.36144578, 0.39726027, 0.47457627, 0.21447028]])"
      ]
     },
     "execution_count": 166,
     "metadata": {},
     "output_type": "execute_result"
    }
   ],
   "source": [
    "### Data Preprocessing\n",
    "scaler = MinMaxScaler()\n",
    "scaler.fit_transform(crime_data)"
   ]
  },
  {
   "cell_type": "code",
   "execution_count": 167,
   "id": "28c98b5f",
   "metadata": {},
   "outputs": [
    {
     "data": {
      "text/html": [
       "<div>\n",
       "<style scoped>\n",
       "    .dataframe tbody tr th:only-of-type {\n",
       "        vertical-align: middle;\n",
       "    }\n",
       "\n",
       "    .dataframe tbody tr th {\n",
       "        vertical-align: top;\n",
       "    }\n",
       "\n",
       "    .dataframe thead th {\n",
       "        text-align: right;\n",
       "    }\n",
       "</style>\n",
       "<table border=\"1\" class=\"dataframe\">\n",
       "  <thead>\n",
       "    <tr style=\"text-align: right;\">\n",
       "      <th></th>\n",
       "      <th>Murder</th>\n",
       "      <th>Assault</th>\n",
       "      <th>UrbanPop</th>\n",
       "      <th>Rape</th>\n",
       "    </tr>\n",
       "  </thead>\n",
       "  <tbody>\n",
       "    <tr>\n",
       "      <th>0</th>\n",
       "      <td>0.746988</td>\n",
       "      <td>0.654110</td>\n",
       "      <td>0.440678</td>\n",
       "      <td>0.359173</td>\n",
       "    </tr>\n",
       "    <tr>\n",
       "      <th>1</th>\n",
       "      <td>0.554217</td>\n",
       "      <td>0.746575</td>\n",
       "      <td>0.271186</td>\n",
       "      <td>0.961240</td>\n",
       "    </tr>\n",
       "  </tbody>\n",
       "</table>\n",
       "</div>"
      ],
      "text/plain": [
       "     Murder   Assault  UrbanPop      Rape\n",
       "0  0.746988  0.654110  0.440678  0.359173\n",
       "1  0.554217  0.746575  0.271186  0.961240"
      ]
     },
     "execution_count": 167,
     "metadata": {},
     "output_type": "execute_result"
    }
   ],
   "source": [
    "crime_data = pd.DataFrame(scaler.fit_transform(crime_data),columns=['Murder','Assault','UrbanPop','Rape'])\n",
    "crime_data.head(2)"
   ]
  },
  {
   "cell_type": "code",
   "execution_count": 168,
   "id": "50159477",
   "metadata": {},
   "outputs": [
    {
     "name": "stdout",
     "output_type": "stream",
     "text": [
      "unique cluster IDs :  [2 3 1]\n",
      "unique cluster IDs with calue counts:\n",
      "2    19\n",
      "3    18\n",
      "1    13\n",
      "Name: clusterID, dtype: int64\n"
     ]
    },
    {
     "data": {
      "text/html": [
       "<div>\n",
       "<style scoped>\n",
       "    .dataframe tbody tr th:only-of-type {\n",
       "        vertical-align: middle;\n",
       "    }\n",
       "\n",
       "    .dataframe tbody tr th {\n",
       "        vertical-align: top;\n",
       "    }\n",
       "\n",
       "    .dataframe thead th {\n",
       "        text-align: right;\n",
       "    }\n",
       "</style>\n",
       "<table border=\"1\" class=\"dataframe\">\n",
       "  <thead>\n",
       "    <tr style=\"text-align: right;\">\n",
       "      <th></th>\n",
       "      <th>Murder</th>\n",
       "      <th>Assault</th>\n",
       "      <th>UrbanPop</th>\n",
       "      <th>Rape</th>\n",
       "    </tr>\n",
       "    <tr>\n",
       "      <th>clusterID</th>\n",
       "      <th></th>\n",
       "      <th></th>\n",
       "      <th></th>\n",
       "      <th></th>\n",
       "    </tr>\n",
       "  </thead>\n",
       "  <tbody>\n",
       "    <tr>\n",
       "      <th>1</th>\n",
       "      <td>0.168675</td>\n",
       "      <td>0.114858</td>\n",
       "      <td>0.340287</td>\n",
       "      <td>0.126019</td>\n",
       "    </tr>\n",
       "    <tr>\n",
       "      <th>2</th>\n",
       "      <td>0.694673</td>\n",
       "      <td>0.733958</td>\n",
       "      <td>0.615522</td>\n",
       "      <td>0.566299</td>\n",
       "    </tr>\n",
       "    <tr>\n",
       "      <th>3</th>\n",
       "      <td>0.314257</td>\n",
       "      <td>0.338661</td>\n",
       "      <td>0.683616</td>\n",
       "      <td>0.311226</td>\n",
       "    </tr>\n",
       "  </tbody>\n",
       "</table>\n",
       "</div>"
      ],
      "text/plain": [
       "             Murder   Assault  UrbanPop      Rape\n",
       "clusterID                                        \n",
       "1          0.168675  0.114858  0.340287  0.126019\n",
       "2          0.694673  0.733958  0.615522  0.566299\n",
       "3          0.314257  0.338661  0.683616  0.311226"
      ]
     },
     "execution_count": 168,
     "metadata": {},
     "output_type": "execute_result"
    }
   ],
   "source": [
    "# create clusters\n",
    "kmean_cluster = KMeans(n_clusters=3,random_state=12)\n",
    "\n",
    "#predict clusterID for each datapoint\n",
    "y_kmean = kmean_cluster.fit_predict(crime_data)+1\n",
    "\n",
    "#create Dataframe of clusterIDs \n",
    "cluster = pd.DataFrame(y_kmean,columns=['clusterID'])\n",
    "\n",
    "#insert clusterID column to crime_data_1 dataset(original without scale)\n",
    "crime_data['clusterID'] = cluster\n",
    "\n",
    "#insert location\n",
    "crime_data.insert(loc=0, column='location', value=crime_data_1['Unnamed: 0'])\n",
    "\n",
    "print('unique cluster IDs : ',crime_data['clusterID'].unique())\n",
    "print('unique cluster IDs with calue counts:\\n{}'.format(crime_data['clusterID'].value_counts()))\n",
    "\n",
    "crime_data.groupby('clusterID').agg('mean')"
   ]
  },
  {
   "cell_type": "code",
   "execution_count": 169,
   "id": "5cd106bc",
   "metadata": {},
   "outputs": [
    {
     "name": "stdout",
     "output_type": "stream",
     "text": [
      "0.38 0.36 0.26\n"
     ]
    }
   ],
   "source": [
    "print(19/50,18/50,13/50)"
   ]
  },
  {
   "cell_type": "code",
   "execution_count": 170,
   "id": "03174492",
   "metadata": {},
   "outputs": [
    {
     "data": {
      "text/plain": [
       "0            Alabama\n",
       "1             Alaska\n",
       "2            Arizona\n",
       "4         California\n",
       "5           Colorado\n",
       "8            Florida\n",
       "9            Georgia\n",
       "12          Illinois\n",
       "17         Louisiana\n",
       "19          Maryland\n",
       "21          Michigan\n",
       "23       Mississippi\n",
       "27            Nevada\n",
       "30        New Mexico\n",
       "31          New York\n",
       "32    North Carolina\n",
       "39    South Carolina\n",
       "41         Tennessee\n",
       "42             Texas\n",
       "Name: location, dtype: object"
      ]
     },
     "execution_count": 170,
     "metadata": {},
     "output_type": "execute_result"
    }
   ],
   "source": [
    "crime_data['clusterID']=crime_data['clusterID'].map({2:'HighCrimeCases',3:'ModerateCrimeCases',1:'LowCrimeCases'})\n",
    "\n",
    "# to get location names of high crime cases \n",
    "locations_high_crime_cases = crime_data.loc[crime_data['clusterID'] == 'HighCrimeCases'].iloc[:,0]\n",
    "locations_high_crime_cases"
   ]
  },
  {
   "cell_type": "markdown",
   "id": "d185d9f0",
   "metadata": {},
   "source": [
    "# ========================================================"
   ]
  },
  {
   "cell_type": "markdown",
   "id": "ae33330d",
   "metadata": {},
   "source": [
    "# DBSCAN"
   ]
  },
  {
   "cell_type": "code",
   "execution_count": 210,
   "id": "26e75736",
   "metadata": {},
   "outputs": [],
   "source": [
    "crime_data_1 = pd.read_csv('crime_data.csv')"
   ]
  },
  {
   "cell_type": "code",
   "execution_count": 211,
   "id": "3ac58112",
   "metadata": {},
   "outputs": [
    {
     "data": {
      "text/plain": [
       "Unnamed: 0     object\n",
       "Murder        float64\n",
       "Assault         int64\n",
       "UrbanPop        int64\n",
       "Rape          float64\n",
       "dtype: object"
      ]
     },
     "execution_count": 211,
     "metadata": {},
     "output_type": "execute_result"
    }
   ],
   "source": [
    "crime_data_1.dtypes"
   ]
  },
  {
   "cell_type": "code",
   "execution_count": 212,
   "id": "cc96c664",
   "metadata": {},
   "outputs": [],
   "source": [
    "crime_data_1.drop('Unnamed: 0',axis=1,inplace=True)"
   ]
  },
  {
   "cell_type": "code",
   "execution_count": 213,
   "id": "a90013e9",
   "metadata": {
    "scrolled": true
   },
   "outputs": [],
   "source": [
    "scaler = StandardScaler()\n",
    "scaled_crime_data = scaler.fit_transform(crime_data_1)"
   ]
  },
  {
   "cell_type": "code",
   "execution_count": 219,
   "id": "4cd8cc1e",
   "metadata": {},
   "outputs": [
    {
     "data": {
      "text/html": [
       "<div>\n",
       "<style scoped>\n",
       "    .dataframe tbody tr th:only-of-type {\n",
       "        vertical-align: middle;\n",
       "    }\n",
       "\n",
       "    .dataframe tbody tr th {\n",
       "        vertical-align: top;\n",
       "    }\n",
       "\n",
       "    .dataframe thead th {\n",
       "        text-align: right;\n",
       "    }\n",
       "</style>\n",
       "<table border=\"1\" class=\"dataframe\">\n",
       "  <thead>\n",
       "    <tr style=\"text-align: right;\">\n",
       "      <th></th>\n",
       "      <th>Murder</th>\n",
       "      <th>Assault</th>\n",
       "      <th>UrbanPop</th>\n",
       "      <th>Rape</th>\n",
       "    </tr>\n",
       "  </thead>\n",
       "  <tbody>\n",
       "    <tr>\n",
       "      <th>0</th>\n",
       "      <td>1.255179</td>\n",
       "      <td>0.790787</td>\n",
       "      <td>-0.526195</td>\n",
       "      <td>-0.003451</td>\n",
       "    </tr>\n",
       "    <tr>\n",
       "      <th>1</th>\n",
       "      <td>0.513019</td>\n",
       "      <td>1.118060</td>\n",
       "      <td>-1.224067</td>\n",
       "      <td>2.509424</td>\n",
       "    </tr>\n",
       "    <tr>\n",
       "      <th>2</th>\n",
       "      <td>0.072361</td>\n",
       "      <td>1.493817</td>\n",
       "      <td>1.009122</td>\n",
       "      <td>1.053466</td>\n",
       "    </tr>\n",
       "  </tbody>\n",
       "</table>\n",
       "</div>"
      ],
      "text/plain": [
       "     Murder   Assault  UrbanPop      Rape\n",
       "0  1.255179  0.790787 -0.526195 -0.003451\n",
       "1  0.513019  1.118060 -1.224067  2.509424\n",
       "2  0.072361  1.493817  1.009122  1.053466"
      ]
     },
     "execution_count": 219,
     "metadata": {},
     "output_type": "execute_result"
    }
   ],
   "source": [
    "crime_data_df = pd.DataFrame(scaled_crime_data,columns=['Murder','Assault','UrbanPop','Rape'])\n",
    "crime_data_df.head(3)"
   ]
  },
  {
   "cell_type": "code",
   "execution_count": 220,
   "id": "d06c813f",
   "metadata": {},
   "outputs": [],
   "source": [
    "dbs = DBSCAN()   #eps=0.5,min_samples=5 -default values\n",
    "\n",
    "crime_data = crime_data_df.copy()\n",
    "y_dbs = dbs.fit_predict(crime_data)"
   ]
  },
  {
   "cell_type": "code",
   "execution_count": 221,
   "id": "8cdffd10",
   "metadata": {
    "scrolled": false
   },
   "outputs": [],
   "source": [
    "crime_data['clusterID'] = y_dbs"
   ]
  },
  {
   "cell_type": "code",
   "execution_count": 222,
   "id": "41053437",
   "metadata": {},
   "outputs": [
    {
     "data": {
      "text/plain": [
       "-1    50\n",
       "Name: clusterID, dtype: int64"
      ]
     },
     "execution_count": 222,
     "metadata": {},
     "output_type": "execute_result"
    }
   ],
   "source": [
    "crime_data['clusterID'].value_counts()"
   ]
  },
  {
   "cell_type": "markdown",
   "id": "5ba1c7a0",
   "metadata": {},
   "source": [
    "### Hyperparameter Twaeking"
   ]
  },
  {
   "cell_type": "code",
   "execution_count": 231,
   "id": "b73e0b65",
   "metadata": {},
   "outputs": [],
   "source": [
    "crime_data = crime_data_df.copy()\n",
    "\n",
    "dbs = DBSCAN(eps=1,min_samples=5)   #eps=1,min_samples=5\n",
    "y_dbs = dbs.fit_predict(crime_data)\n",
    "crime_data['clusterID'] = y_dbs"
   ]
  },
  {
   "cell_type": "code",
   "execution_count": 232,
   "id": "c1c327e6",
   "metadata": {
    "scrolled": true
   },
   "outputs": [
    {
     "data": {
      "text/plain": [
       " 0    24\n",
       "-1    23\n",
       " 1     3\n",
       "Name: clusterID, dtype: int64"
      ]
     },
     "execution_count": 232,
     "metadata": {},
     "output_type": "execute_result"
    }
   ],
   "source": [
    "crime_data['clusterID'].value_counts()"
   ]
  },
  {
   "cell_type": "markdown",
   "id": "a01b6d89",
   "metadata": {},
   "source": [
    "### 23 outliers are present in this clustering model."
   ]
  },
  {
   "cell_type": "markdown",
   "id": "a245f1d1",
   "metadata": {},
   "source": [
    "## - - - - - - - - - - - - - - - - - - - - - - - - - - - - - - - - - - - - - - - - - - - - - - - - - - - - - - - - - - - - - - - - - - - - - "
   ]
  },
  {
   "cell_type": "code",
   "execution_count": 236,
   "id": "7e9898d7",
   "metadata": {},
   "outputs": [
    {
     "data": {
      "text/plain": [
       " 1    32\n",
       "-1    13\n",
       " 0     5\n",
       "Name: class_pr, dtype: int64"
      ]
     },
     "execution_count": 236,
     "metadata": {},
     "output_type": "execute_result"
    }
   ],
   "source": [
    "crime_data = crime_data_df.copy()\n",
    "\n",
    "dbs = DBSCAN(eps=1.2,min_samples=5)   #eps=1.2,min_samples=5 \n",
    "y_dbs = dbs.fit_predict(crime_data)\n",
    "crime_data['class_pr'] = y_dbs\n",
    "\n",
    "crime_data['class_pr'].value_counts()"
   ]
  },
  {
   "cell_type": "markdown",
   "id": "dd783928",
   "metadata": {},
   "source": [
    "### 13 outliers are still present."
   ]
  },
  {
   "cell_type": "code",
   "execution_count": 347,
   "id": "9cc6b7b6",
   "metadata": {},
   "outputs": [
    {
     "data": {
      "text/plain": [
       " 2    32\n",
       " 1     7\n",
       "-1     6\n",
       " 0     5\n",
       "Name: class_pr, dtype: int64"
      ]
     },
     "execution_count": 347,
     "metadata": {},
     "output_type": "execute_result"
    }
   ],
   "source": [
    "crime_data = crime_data_df.copy()\n",
    "\n",
    "dbs = DBSCAN(eps=1.25,min_samples=5)   #eps=1.25,min_samples=5 \n",
    "y_dbs = dbs.fit_predict(crime_data)\n",
    "crime_data['class_pr'] = y_dbs\n",
    "\n",
    "crime_data['class_pr'].value_counts()"
   ]
  },
  {
   "cell_type": "markdown",
   "id": "01a24b9e",
   "metadata": {},
   "source": [
    "## - - - - - - - - - - - - - - - - - - - - - - - - - - - - - - - - - - - - - - - - - - - - - - - - - - - - - - - - - - - - - - - - - - - - - "
   ]
  },
  {
   "cell_type": "code",
   "execution_count": 355,
   "id": "323b4806",
   "metadata": {},
   "outputs": [
    {
     "data": {
      "text/plain": [
       "2    39\n",
       "0     7\n",
       "3     2\n",
       "1     1\n",
       "4     1\n",
       "Name: class_pr, dtype: int64"
      ]
     },
     "execution_count": 355,
     "metadata": {},
     "output_type": "execute_result"
    }
   ],
   "source": [
    "crime_data = crime_data_df.copy()\n",
    "\n",
    "dbs = DBSCAN(eps=1.25,min_samples=1)   #eps=1.2,min_samples=5 \n",
    "y_dbs = dbs.fit_predict(crime_data)\n",
    "crime_data['class_pr'] = y_dbs\n",
    "\n",
    "crime_data['class_pr'].value_counts()"
   ]
  },
  {
   "cell_type": "markdown",
   "id": "7bf27715",
   "metadata": {},
   "source": [
    "## - - - - - - - - - - - - - - - - - - - - - - - - - - - - - - - - - - - - - - - - - - - - - - - - - - - - - - - - - - - - - - - - - - - - - "
   ]
  },
  {
   "cell_type": "code",
   "execution_count": null,
   "id": "0ba42d1a",
   "metadata": {},
   "outputs": [],
   "source": []
  },
  {
   "cell_type": "markdown",
   "id": "b6d00bae",
   "metadata": {},
   "source": [
    "###### Let us tweak both min_samples and eps(radius)"
   ]
  },
  {
   "cell_type": "code",
   "execution_count": 251,
   "id": "a828ba87",
   "metadata": {
    "scrolled": true
   },
   "outputs": [
    {
     "data": {
      "text/plain": [
       " 2    30\n",
       " 0     7\n",
       " 1     7\n",
       "-1     6\n",
       "Name: class_pr, dtype: int64"
      ]
     },
     "execution_count": 251,
     "metadata": {},
     "output_type": "execute_result"
    }
   ],
   "source": [
    "crime_data = crime_data_df.copy()\n",
    "\n",
    "dbs = DBSCAN(eps=1.1,min_samples=2)\n",
    "y_dbs = dbs.fit_predict(crime_data)\n",
    "\n",
    "crime_data['class_pr'] = y_dbs\n",
    "\n",
    "crime_data['class_pr'].value_counts()"
   ]
  },
  {
   "cell_type": "markdown",
   "id": "06be44d5",
   "metadata": {},
   "source": [
    "## - - - - - - - - - - - - - - - - - - - - - - - - - - - - - - - - - - - - - - - - - - - - - - - - - - - - - - - - - - - - - - - - - - - - - "
   ]
  },
  {
   "cell_type": "code",
   "execution_count": 253,
   "id": "ad6d4d2a",
   "metadata": {
    "scrolled": true
   },
   "outputs": [
    {
     "data": {
      "text/plain": [
       " 1    29\n",
       "-1     8\n",
       " 0     6\n",
       " 3     4\n",
       " 2     3\n",
       "Name: class_pr, dtype: int64"
      ]
     },
     "execution_count": 253,
     "metadata": {},
     "output_type": "execute_result"
    }
   ],
   "source": [
    "crime_data = crime_data_df.copy()\n",
    "\n",
    "dbs = DBSCAN(eps=1.05,min_samples=3)\n",
    "y_dbs = dbs.fit_predict(crime_data)\n",
    "\n",
    "crime_data['class_pr'] = y_dbs\n",
    "\n",
    "crime_data['class_pr'].value_counts()"
   ]
  },
  {
   "cell_type": "code",
   "execution_count": 271,
   "id": "9633d46f",
   "metadata": {},
   "outputs": [
    {
     "data": {
      "text/plain": [
       " 1    39\n",
       " 0     7\n",
       "-1     2\n",
       " 2     2\n",
       "Name: class_pr, dtype: int64"
      ]
     },
     "execution_count": 271,
     "metadata": {},
     "output_type": "execute_result"
    }
   ],
   "source": [
    "crime_data = crime_data_df.copy()\n",
    "\n",
    "dbs = DBSCAN(eps=1.25,min_samples=2)\n",
    "y_dbs = dbs.fit_predict(crime_data)\n",
    "\n",
    "crime_data['class_pr'] = y_dbs\n",
    "\n",
    "crime_data['class_pr'].value_counts()"
   ]
  },
  {
   "cell_type": "code",
   "execution_count": 273,
   "id": "3ac0777b",
   "metadata": {},
   "outputs": [
    {
     "data": {
      "image/png": "[encoded data removed]",
      "text/plain": [
       "<Figure size 432x288 with 1 Axes>"
      ]
     },
     "metadata": {
      "needs_background": "light"
     },
     "output_type": "display_data"
    }
   ],
   "source": [
    "plt.scatter(crime_data[crime_data['class_pr']==1].iloc[:,0],crime_data[crime_data['class_pr']==1].iloc[:,1],color=\"black\")\n",
    "plt.scatter(crime_data[crime_data['class_pr']==0].iloc[:,0],crime_data[crime_data['class_pr']==0].iloc[:,1],color=\"red\")\n",
    "plt.scatter(crime_data[crime_data['class_pr']==2].iloc[:,0],crime_data[crime_data['class_pr']==2].iloc[:,1],color=\"blue\")\n",
    "plt.scatter(crime_data[crime_data['class_pr']==-1].iloc[:,0],crime_data[crime_data['class_pr']==-1].iloc[:,1],color=\"green\")\n",
    "plt.show()"
   ]
  },
  {
   "cell_type": "code",
   "execution_count": 300,
   "id": "ea4623b7",
   "metadata": {},
   "outputs": [
    {
     "data": {
      "text/plain": [
       " 2    30\n",
       " 0     7\n",
       " 1     7\n",
       "-1     6\n",
       "Name: class_pr, dtype: int64"
      ]
     },
     "execution_count": 300,
     "metadata": {},
     "output_type": "execute_result"
    }
   ],
   "source": [
    "crime_data = crime_data_df.copy()\n",
    "\n",
    "dbs = DBSCAN(eps=1.1,min_samples=2)\n",
    "y_dbs = dbs.fit_predict(crime_data)\n",
    "\n",
    "crime_data['class_pr'] = y_dbs\n",
    "\n",
    "crime_data['class_pr'].value_counts()"
   ]
  },
  {
   "cell_type": "code",
   "execution_count": 305,
   "id": "da723b00",
   "metadata": {},
   "outputs": [
    {
     "data": {
      "text/plain": [
       " 1    37\n",
       " 0     7\n",
       "-1     6\n",
       "Name: class_pr, dtype: int64"
      ]
     },
     "execution_count": 305,
     "metadata": {},
     "output_type": "execute_result"
    }
   ],
   "source": [
    "crime_data = crime_data_df.copy()\n",
    "\n",
    "dbs = DBSCAN(eps=1.185,min_samples=2)\n",
    "y_dbs = dbs.fit_predict(crime_data)\n",
    "\n",
    "crime_data['class_pr'] = y_dbs\n",
    "\n",
    "crime_data['class_pr'].value_counts()"
   ]
  },
  {
   "cell_type": "code",
   "execution_count": 299,
   "id": "f4873a47",
   "metadata": {},
   "outputs": [
    {
     "data": {
      "text/plain": [
       " 1    38\n",
       " 0     7\n",
       "-1     5\n",
       "Name: class_pr, dtype: int64"
      ]
     },
     "execution_count": 299,
     "metadata": {},
     "output_type": "execute_result"
    }
   ],
   "source": [
    "crime_data = crime_data_df.copy()\n",
    "\n",
    "dbs = DBSCAN(eps=1.2,min_samples=2)\n",
    "y_dbs = dbs.fit_predict(crime_data)\n",
    "\n",
    "crime_data['class_pr'] = y_dbs\n",
    "\n",
    "crime_data['class_pr'].value_counts()"
   ]
  },
  {
   "cell_type": "code",
   "execution_count": null,
   "id": "9a922046",
   "metadata": {},
   "outputs": [],
   "source": []
  },
  {
   "cell_type": "code",
   "execution_count": null,
   "id": "7e8ff5ba",
   "metadata": {},
   "outputs": [],
   "source": []
  },
  {
   "cell_type": "code",
   "execution_count": 307,
   "id": "34c10ba5",
   "metadata": {},
   "outputs": [
    {
     "data": {
      "image/png": "[encoded data removed]",
      "text/plain": [
       "<Figure size 432x288 with 1 Axes>"
      ]
     },
     "metadata": {
      "needs_background": "light"
     },
     "output_type": "display_data"
    }
   ],
   "source": [
    "from sklearn.preprocessing import StandardScaler\n",
    "crime_data = crime_data_1.copy()\n",
    "\n",
    "scaler = StandardScaler()\n",
    "scled_crime_data = scaler.fit_transform(crime_data)\n",
    "dbs = DBSCAN(eps=1.05,min_samples=3)\n",
    "y_dbs = dbs.fit_predict(scled_crime_data)\n",
    "\n",
    "crime_data['clusterID'] = y_dbs\n",
    "\n",
    "crime_data['clusterID'].value_counts()\n",
    "\n",
    "plt.scatter(crime_data[crime_data['clusterID']==1].iloc[:,0],crime_data[crime_data['clusterID']==1].iloc[:,1],color=\"black\")\n",
    "plt.scatter(crime_data[crime_data['clusterID']==0].iloc[:,0],crime_data[crime_data['clusterID']==0].iloc[:,1],color=\"red\")\n",
    "plt.scatter(crime_data[crime_data['clusterID']==2].iloc[:,0],crime_data[crime_data['clusterID']==2].iloc[:,1],color=\"blue\")\n",
    "plt.show()"
   ]
  },
  {
   "cell_type": "code",
   "execution_count": 308,
   "id": "4883e1ef",
   "metadata": {},
   "outputs": [
    {
     "data": {
      "text/plain": [
       " 1    29\n",
       "-1     8\n",
       " 0     6\n",
       " 3     4\n",
       " 2     3\n",
       "Name: clusterID, dtype: int64"
      ]
     },
     "execution_count": 308,
     "metadata": {},
     "output_type": "execute_result"
    }
   ],
   "source": [
    "crime_data['clusterID'].value_counts()"
   ]
  },
  {
   "cell_type": "code",
   "execution_count": null,
   "id": "a2511b60",
   "metadata": {},
   "outputs": [],
   "source": []
  },
  {
   "cell_type": "markdown",
   "id": "1c03e7b5",
   "metadata": {},
   "source": [
    "# There are 6 outliers."
   ]
  },
  {
   "cell_type": "code",
   "execution_count": null,
   "id": "6e86112f",
   "metadata": {},
   "outputs": [],
   "source": []
  },
  {
   "cell_type": "code",
   "execution_count": null,
   "id": "d3cf7435",
   "metadata": {},
   "outputs": [],
   "source": []
  },
  {
   "cell_type": "code",
   "execution_count": 357,
   "id": "7519bdaa",
   "metadata": {},
   "outputs": [
    {
     "data": {
      "text/plain": [
       "-1    50\n",
       "Name: class_pr, dtype: int64"
      ]
     },
     "execution_count": 357,
     "metadata": {},
     "output_type": "execute_result"
    }
   ],
   "source": [
    "crime_data = crime_data_df.copy()\n",
    "\n",
    "dbs = DBSCAN(eps=0.5,min_samples=8)  \n",
    "y_dbs = dbs.fit_predict(crime_data)\n",
    "crime_data['class_pr'] = y_dbs\n",
    "\n",
    "crime_data['class_pr'].value_counts()"
   ]
  },
  {
   "cell_type": "code",
   "execution_count": 358,
   "id": "edbc7ca6",
   "metadata": {},
   "outputs": [
    {
     "data": {
      "text/plain": [
       "-1    50\n",
       "Name: class_pr, dtype: int64"
      ]
     },
     "execution_count": 358,
     "metadata": {},
     "output_type": "execute_result"
    }
   ],
   "source": [
    "crime_data = crime_data_df.copy()\n",
    "\n",
    "dbs = DBSCAN(eps=0.3,min_samples=8)  \n",
    "y_dbs = dbs.fit_predict(crime_data)\n",
    "crime_data['class_pr'] = y_dbs\n",
    "\n",
    "crime_data['class_pr'].value_counts()"
   ]
  },
  {
   "cell_type": "code",
   "execution_count": 359,
   "id": "01fb6044",
   "metadata": {},
   "outputs": [
    {
     "data": {
      "text/plain": [
       "-1    50\n",
       "Name: class_pr, dtype: int64"
      ]
     },
     "execution_count": 359,
     "metadata": {},
     "output_type": "execute_result"
    }
   ],
   "source": [
    "crime_data = crime_data_df.copy()\n",
    "\n",
    "dbs = DBSCAN(eps=0.8,min_samples=8)  \n",
    "y_dbs = dbs.fit_predict(crime_data)\n",
    "crime_data['class_pr'] = y_dbs\n",
    "\n",
    "crime_data['class_pr'].value_counts()"
   ]
  },
  {
   "cell_type": "code",
   "execution_count": 360,
   "id": "b88ad5fa",
   "metadata": {},
   "outputs": [
    {
     "data": {
      "text/plain": [
       "-1    32\n",
       " 0    18\n",
       "Name: class_pr, dtype: int64"
      ]
     },
     "execution_count": 360,
     "metadata": {},
     "output_type": "execute_result"
    }
   ],
   "source": [
    "crime_data = crime_data_df.copy()\n",
    "\n",
    "dbs = DBSCAN(eps=1,min_samples=8)  \n",
    "y_dbs = dbs.fit_predict(crime_data)\n",
    "crime_data['class_pr'] = y_dbs\n",
    "\n",
    "crime_data['class_pr'].value_counts()"
   ]
  },
  {
   "cell_type": "code",
   "execution_count": 361,
   "id": "36df3f4f",
   "metadata": {},
   "outputs": [
    {
     "data": {
      "text/plain": [
       " 0    48\n",
       "-1     2\n",
       "Name: class_pr, dtype: int64"
      ]
     },
     "execution_count": 361,
     "metadata": {},
     "output_type": "execute_result"
    }
   ],
   "source": [
    "crime_data = crime_data_df.copy()\n",
    "\n",
    "dbs = DBSCAN(eps=1.5,min_samples=8)  \n",
    "y_dbs = dbs.fit_predict(crime_data)\n",
    "crime_data['class_pr'] = y_dbs\n",
    "\n",
    "crime_data['class_pr'].value_counts()"
   ]
  },
  {
   "cell_type": "code",
   "execution_count": 362,
   "id": "5217215c",
   "metadata": {},
   "outputs": [
    {
     "data": {
      "text/plain": [
       " 0    30\n",
       "-1    20\n",
       "Name: class_pr, dtype: int64"
      ]
     },
     "execution_count": 362,
     "metadata": {},
     "output_type": "execute_result"
    }
   ],
   "source": [
    "crime_data = crime_data_df.copy()\n",
    "\n",
    "dbs = DBSCAN(eps=1.2,min_samples=8)  \n",
    "y_dbs = dbs.fit_predict(crime_data)\n",
    "crime_data['class_pr'] = y_dbs\n",
    "\n",
    "crime_data['class_pr'].value_counts()"
   ]
  },
  {
   "cell_type": "code",
   "execution_count": 363,
   "id": "be63e057",
   "metadata": {},
   "outputs": [
    {
     "data": {
      "text/plain": [
       " 0    33\n",
       "-1    17\n",
       "Name: class_pr, dtype: int64"
      ]
     },
     "execution_count": 363,
     "metadata": {},
     "output_type": "execute_result"
    }
   ],
   "source": [
    "crime_data = crime_data_df.copy()\n",
    "\n",
    "dbs = DBSCAN(eps=1.3,min_samples=8)  \n",
    "y_dbs = dbs.fit_predict(crime_data)\n",
    "crime_data['class_pr'] = y_dbs\n",
    "\n",
    "crime_data['class_pr'].value_counts()"
   ]
  },
  {
   "cell_type": "code",
   "execution_count": 364,
   "id": "ac44a4c7",
   "metadata": {},
   "outputs": [
    {
     "data": {
      "text/plain": [
       " 1    32\n",
       " 0     8\n",
       " 2     6\n",
       "-1     4\n",
       "Name: class_pr, dtype: int64"
      ]
     },
     "execution_count": 364,
     "metadata": {},
     "output_type": "execute_result"
    }
   ],
   "source": [
    "crime_data = crime_data_df.copy()\n",
    "\n",
    "dbs = DBSCAN(eps=1.35,min_samples=8)  \n",
    "y_dbs = dbs.fit_predict(crime_data)\n",
    "crime_data['class_pr'] = y_dbs\n",
    "\n",
    "crime_data['class_pr'].value_counts()"
   ]
  },
  {
   "cell_type": "code",
   "execution_count": 366,
   "id": "b5d752f0",
   "metadata": {
    "scrolled": true
   },
   "outputs": [
    {
     "data": {
      "text/plain": [
       " 2    30\n",
       " 1    10\n",
       " 0     8\n",
       "-1     2\n",
       "Name: class_pr, dtype: int64"
      ]
     },
     "execution_count": 366,
     "metadata": {},
     "output_type": "execute_result"
    }
   ],
   "source": [
    "crime_data = crime_data_df.copy()\n",
    "\n",
    "dbs = DBSCAN(eps=1.4,min_samples=8)  \n",
    "y_dbs = dbs.fit_predict(crime_data)\n",
    "crime_data['class_pr'] = y_dbs\n",
    "\n",
    "crime_data['class_pr'].value_counts()"
   ]
  },
  {
   "cell_type": "code",
   "execution_count": 371,
   "id": "7f5df6df",
   "metadata": {},
   "outputs": [
    {
     "name": "stdout",
     "output_type": "stream",
     "text": [
      "0.6 0.2 0.16 0.04\n"
     ]
    }
   ],
   "source": [
    "print(30/50,10/50,8/50,2/50)"
   ]
  },
  {
   "cell_type": "markdown",
   "id": "142f1aaa",
   "metadata": {},
   "source": [
    "#### The above clustering is good since it has just 2 outliers."
   ]
  }
 ],
 "metadata": {
  "kernelspec": {
   "display_name": "Python 3 (ipykernel)",
   "language": "python",
   "name": "python3"
  },
  "language_info": {
   "codemirror_mode": {
    "name": "ipython",
    "version": 3
   },
   "file_extension": ".py",
   "mimetype": "text/x-python",
   "name": "python",
   "nbconvert_exporter": "python",
   "pygments_lexer": "ipython3",
   "version": "3.9.7"
  }
 },
 "nbformat": 4,
 "nbformat_minor": 5
}
