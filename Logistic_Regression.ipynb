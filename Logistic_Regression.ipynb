{
 "cells": [
  {
   "cell_type": "markdown",
   "id": "b32fe4c3",
   "metadata": {},
   "source": [
    "# 1. Problem Statement - Problem Unerstanding:\n",
    "BUild a model to predict whether the client subscribes a term deposit or not Binomial (\"yes\" or \"no\")"
   ]
  },
  {
   "cell_type": "markdown",
   "id": "7235cbd6",
   "metadata": {},
   "source": [
    "# 1. Import Necessary Libraries"
   ]
  },
  {
   "cell_type": "code",
   "execution_count": 1,
   "id": "52c21f62",
   "metadata": {},
   "outputs": [],
   "source": [
    "import pandas as pd\n",
    "import numpy as np\n",
    "import seaborn as sns\n",
    "\n",
    "import matplotlib.pyplot as plt \n",
    "\n",
    "from sklearn.linear_model import LogisticRegression\n",
    "from sklearn.metrics import confusion_matrix,classification_report,accuracy_score,roc_curve,roc_auc_score\n",
    "from sklearn.model_selection import train_test_split\n",
    "from sklearn.preprocessing import StandardScaler,LabelEncoder\n",
    "import warnings\n",
    "warnings.filterwarnings('ignore')"
   ]
  },
  {
   "cell_type": "markdown",
   "id": "a2644a41",
   "metadata": {},
   "source": [
    "# 2. Import Dataset"
   ]
  },
  {
   "cell_type": "code",
   "execution_count": 2,
   "id": "69925565",
   "metadata": {},
   "outputs": [],
   "source": [
    "bank_data = pd.read_csv('bank-full.csv',delimiter=';')"
   ]
  },
  {
   "cell_type": "markdown",
   "id": "dc662483",
   "metadata": {},
   "source": [
    "# 3. Exploratory Data Analysis"
   ]
  },
  {
   "cell_type": "markdown",
   "id": "6dc543d9",
   "metadata": {},
   "source": [
    "## 3.1 Initial Analysis"
   ]
  },
  {
   "cell_type": "code",
   "execution_count": 3,
   "id": "2924d1aa",
   "metadata": {},
   "outputs": [
    {
     "data": {
      "text/plain": [
       "age          0\n",
       "job          0\n",
       "marital      0\n",
       "education    0\n",
       "default      0\n",
       "balance      0\n",
       "housing      0\n",
       "loan         0\n",
       "contact      0\n",
       "day          0\n",
       "month        0\n",
       "duration     0\n",
       "campaign     0\n",
       "pdays        0\n",
       "previous     0\n",
       "poutcome     0\n",
       "y            0\n",
       "dtype: int64"
      ]
     },
     "execution_count": 3,
     "metadata": {},
     "output_type": "execute_result"
    }
   ],
   "source": [
    "bank_data.isna().sum()"
   ]
  },
  {
   "cell_type": "code",
   "execution_count": 4,
   "id": "5a41dea9",
   "metadata": {},
   "outputs": [
    {
     "data": {
      "text/plain": [
       "Index(['age', 'job', 'marital', 'education', 'default', 'balance', 'housing',\n",
       "       'loan', 'contact', 'day', 'month', 'duration', 'campaign', 'pdays',\n",
       "       'previous', 'poutcome', 'y'],\n",
       "      dtype='object')"
      ]
     },
     "execution_count": 4,
     "metadata": {},
     "output_type": "execute_result"
    }
   ],
   "source": [
    "bank_data.columns"
   ]
  },
  {
   "cell_type": "code",
   "execution_count": 5,
   "id": "ca28c2a1",
   "metadata": {},
   "outputs": [
    {
     "data": {
      "text/plain": [
       "age           int64\n",
       "job          object\n",
       "marital      object\n",
       "education    object\n",
       "default      object\n",
       "balance       int64\n",
       "housing      object\n",
       "loan         object\n",
       "contact      object\n",
       "day           int64\n",
       "month        object\n",
       "duration      int64\n",
       "campaign      int64\n",
       "pdays         int64\n",
       "previous      int64\n",
       "poutcome     object\n",
       "y            object\n",
       "dtype: object"
      ]
     },
     "execution_count": 5,
     "metadata": {},
     "output_type": "execute_result"
    }
   ],
   "source": [
    "bank_data.dtypes"
   ]
  },
  {
   "cell_type": "markdown",
   "id": "614ea733",
   "metadata": {},
   "source": [
    "#### out of 16 predictors, 9 predictors are of categorical type."
   ]
  },
  {
   "cell_type": "code",
   "execution_count": 6,
   "id": "afb95604",
   "metadata": {
    "scrolled": true
   },
   "outputs": [
    {
     "name": "stdout",
     "output_type": "stream",
     "text": [
      "<class 'pandas.core.frame.DataFrame'>\n",
      "RangeIndex: 45211 entries, 0 to 45210\n",
      "Data columns (total 17 columns):\n",
      " #   Column     Non-Null Count  Dtype \n",
      "---  ------     --------------  ----- \n",
      " 0   age        45211 non-null  int64 \n",
      " 1   job        45211 non-null  object\n",
      " 2   marital    45211 non-null  object\n",
      " 3   education  45211 non-null  object\n",
      " 4   default    45211 non-null  object\n",
      " 5   balance    45211 non-null  int64 \n",
      " 6   housing    45211 non-null  object\n",
      " 7   loan       45211 non-null  object\n",
      " 8   contact    45211 non-null  object\n",
      " 9   day        45211 non-null  int64 \n",
      " 10  month      45211 non-null  object\n",
      " 11  duration   45211 non-null  int64 \n",
      " 12  campaign   45211 non-null  int64 \n",
      " 13  pdays      45211 non-null  int64 \n",
      " 14  previous   45211 non-null  int64 \n",
      " 15  poutcome   45211 non-null  object\n",
      " 16  y          45211 non-null  object\n",
      "dtypes: int64(7), object(10)\n",
      "memory usage: 5.9+ MB\n"
     ]
    }
   ],
   "source": [
    "bank_data.info()"
   ]
  },
  {
   "cell_type": "markdown",
   "id": "77d91ae3",
   "metadata": {},
   "source": [
    "#### No null values are present in the data."
   ]
  },
  {
   "cell_type": "code",
   "execution_count": 7,
   "id": "4b82e3fc",
   "metadata": {
    "scrolled": true
   },
   "outputs": [
    {
     "data": {
      "text/html": [
       "<div>\n",
       "<style scoped>\n",
       "    .dataframe tbody tr th:only-of-type {\n",
       "        vertical-align: middle;\n",
       "    }\n",
       "\n",
       "    .dataframe tbody tr th {\n",
       "        vertical-align: top;\n",
       "    }\n",
       "\n",
       "    .dataframe thead th {\n",
       "        text-align: right;\n",
       "    }\n",
       "</style>\n",
       "<table border=\"1\" class=\"dataframe\">\n",
       "  <thead>\n",
       "    <tr style=\"text-align: right;\">\n",
       "      <th></th>\n",
       "      <th>age</th>\n",
       "      <th>balance</th>\n",
       "      <th>day</th>\n",
       "      <th>duration</th>\n",
       "      <th>campaign</th>\n",
       "      <th>pdays</th>\n",
       "      <th>previous</th>\n",
       "    </tr>\n",
       "  </thead>\n",
       "  <tbody>\n",
       "    <tr>\n",
       "      <th>count</th>\n",
       "      <td>45211.000000</td>\n",
       "      <td>45211.000000</td>\n",
       "      <td>45211.000000</td>\n",
       "      <td>45211.000000</td>\n",
       "      <td>45211.000000</td>\n",
       "      <td>45211.000000</td>\n",
       "      <td>45211.000000</td>\n",
       "    </tr>\n",
       "    <tr>\n",
       "      <th>mean</th>\n",
       "      <td>40.936210</td>\n",
       "      <td>1362.272058</td>\n",
       "      <td>15.806419</td>\n",
       "      <td>258.163080</td>\n",
       "      <td>2.763841</td>\n",
       "      <td>40.197828</td>\n",
       "      <td>0.580323</td>\n",
       "    </tr>\n",
       "    <tr>\n",
       "      <th>std</th>\n",
       "      <td>10.618762</td>\n",
       "      <td>3044.765829</td>\n",
       "      <td>8.322476</td>\n",
       "      <td>257.527812</td>\n",
       "      <td>3.098021</td>\n",
       "      <td>100.128746</td>\n",
       "      <td>2.303441</td>\n",
       "    </tr>\n",
       "    <tr>\n",
       "      <th>min</th>\n",
       "      <td>18.000000</td>\n",
       "      <td>-8019.000000</td>\n",
       "      <td>1.000000</td>\n",
       "      <td>0.000000</td>\n",
       "      <td>1.000000</td>\n",
       "      <td>-1.000000</td>\n",
       "      <td>0.000000</td>\n",
       "    </tr>\n",
       "    <tr>\n",
       "      <th>25%</th>\n",
       "      <td>33.000000</td>\n",
       "      <td>72.000000</td>\n",
       "      <td>8.000000</td>\n",
       "      <td>103.000000</td>\n",
       "      <td>1.000000</td>\n",
       "      <td>-1.000000</td>\n",
       "      <td>0.000000</td>\n",
       "    </tr>\n",
       "    <tr>\n",
       "      <th>50%</th>\n",
       "      <td>39.000000</td>\n",
       "      <td>448.000000</td>\n",
       "      <td>16.000000</td>\n",
       "      <td>180.000000</td>\n",
       "      <td>2.000000</td>\n",
       "      <td>-1.000000</td>\n",
       "      <td>0.000000</td>\n",
       "    </tr>\n",
       "    <tr>\n",
       "      <th>75%</th>\n",
       "      <td>48.000000</td>\n",
       "      <td>1428.000000</td>\n",
       "      <td>21.000000</td>\n",
       "      <td>319.000000</td>\n",
       "      <td>3.000000</td>\n",
       "      <td>-1.000000</td>\n",
       "      <td>0.000000</td>\n",
       "    </tr>\n",
       "    <tr>\n",
       "      <th>max</th>\n",
       "      <td>95.000000</td>\n",
       "      <td>102127.000000</td>\n",
       "      <td>31.000000</td>\n",
       "      <td>4918.000000</td>\n",
       "      <td>63.000000</td>\n",
       "      <td>871.000000</td>\n",
       "      <td>275.000000</td>\n",
       "    </tr>\n",
       "  </tbody>\n",
       "</table>\n",
       "</div>"
      ],
      "text/plain": [
       "                age        balance           day      duration      campaign  \\\n",
       "count  45211.000000   45211.000000  45211.000000  45211.000000  45211.000000   \n",
       "mean      40.936210    1362.272058     15.806419    258.163080      2.763841   \n",
       "std       10.618762    3044.765829      8.322476    257.527812      3.098021   \n",
       "min       18.000000   -8019.000000      1.000000      0.000000      1.000000   \n",
       "25%       33.000000      72.000000      8.000000    103.000000      1.000000   \n",
       "50%       39.000000     448.000000     16.000000    180.000000      2.000000   \n",
       "75%       48.000000    1428.000000     21.000000    319.000000      3.000000   \n",
       "max       95.000000  102127.000000     31.000000   4918.000000     63.000000   \n",
       "\n",
       "              pdays      previous  \n",
       "count  45211.000000  45211.000000  \n",
       "mean      40.197828      0.580323  \n",
       "std      100.128746      2.303441  \n",
       "min       -1.000000      0.000000  \n",
       "25%       -1.000000      0.000000  \n",
       "50%       -1.000000      0.000000  \n",
       "75%       -1.000000      0.000000  \n",
       "max      871.000000    275.000000  "
      ]
     },
     "execution_count": 7,
     "metadata": {},
     "output_type": "execute_result"
    }
   ],
   "source": [
    "bank_data.describe()"
   ]
  },
  {
   "cell_type": "code",
   "execution_count": 8,
   "id": "f486d84e",
   "metadata": {
    "scrolled": true
   },
   "outputs": [
    {
     "data": {
      "text/html": [
       "<div>\n",
       "<style scoped>\n",
       "    .dataframe tbody tr th:only-of-type {\n",
       "        vertical-align: middle;\n",
       "    }\n",
       "\n",
       "    .dataframe tbody tr th {\n",
       "        vertical-align: top;\n",
       "    }\n",
       "\n",
       "    .dataframe thead th {\n",
       "        text-align: right;\n",
       "    }\n",
       "</style>\n",
       "<table border=\"1\" class=\"dataframe\">\n",
       "  <thead>\n",
       "    <tr style=\"text-align: right;\">\n",
       "      <th></th>\n",
       "      <th>age</th>\n",
       "      <th>job</th>\n",
       "      <th>marital</th>\n",
       "      <th>education</th>\n",
       "      <th>default</th>\n",
       "      <th>balance</th>\n",
       "      <th>housing</th>\n",
       "      <th>loan</th>\n",
       "      <th>contact</th>\n",
       "      <th>day</th>\n",
       "      <th>month</th>\n",
       "      <th>duration</th>\n",
       "      <th>campaign</th>\n",
       "      <th>pdays</th>\n",
       "      <th>previous</th>\n",
       "      <th>poutcome</th>\n",
       "      <th>y</th>\n",
       "    </tr>\n",
       "  </thead>\n",
       "  <tbody>\n",
       "    <tr>\n",
       "      <th>0</th>\n",
       "      <td>58</td>\n",
       "      <td>management</td>\n",
       "      <td>married</td>\n",
       "      <td>tertiary</td>\n",
       "      <td>no</td>\n",
       "      <td>2143</td>\n",
       "      <td>yes</td>\n",
       "      <td>no</td>\n",
       "      <td>unknown</td>\n",
       "      <td>5</td>\n",
       "      <td>may</td>\n",
       "      <td>261</td>\n",
       "      <td>1</td>\n",
       "      <td>-1</td>\n",
       "      <td>0</td>\n",
       "      <td>unknown</td>\n",
       "      <td>no</td>\n",
       "    </tr>\n",
       "    <tr>\n",
       "      <th>1</th>\n",
       "      <td>44</td>\n",
       "      <td>technician</td>\n",
       "      <td>single</td>\n",
       "      <td>secondary</td>\n",
       "      <td>no</td>\n",
       "      <td>29</td>\n",
       "      <td>yes</td>\n",
       "      <td>no</td>\n",
       "      <td>unknown</td>\n",
       "      <td>5</td>\n",
       "      <td>may</td>\n",
       "      <td>151</td>\n",
       "      <td>1</td>\n",
       "      <td>-1</td>\n",
       "      <td>0</td>\n",
       "      <td>unknown</td>\n",
       "      <td>no</td>\n",
       "    </tr>\n",
       "    <tr>\n",
       "      <th>2</th>\n",
       "      <td>33</td>\n",
       "      <td>entrepreneur</td>\n",
       "      <td>married</td>\n",
       "      <td>secondary</td>\n",
       "      <td>no</td>\n",
       "      <td>2</td>\n",
       "      <td>yes</td>\n",
       "      <td>yes</td>\n",
       "      <td>unknown</td>\n",
       "      <td>5</td>\n",
       "      <td>may</td>\n",
       "      <td>76</td>\n",
       "      <td>1</td>\n",
       "      <td>-1</td>\n",
       "      <td>0</td>\n",
       "      <td>unknown</td>\n",
       "      <td>no</td>\n",
       "    </tr>\n",
       "    <tr>\n",
       "      <th>3</th>\n",
       "      <td>47</td>\n",
       "      <td>blue-collar</td>\n",
       "      <td>married</td>\n",
       "      <td>unknown</td>\n",
       "      <td>no</td>\n",
       "      <td>1506</td>\n",
       "      <td>yes</td>\n",
       "      <td>no</td>\n",
       "      <td>unknown</td>\n",
       "      <td>5</td>\n",
       "      <td>may</td>\n",
       "      <td>92</td>\n",
       "      <td>1</td>\n",
       "      <td>-1</td>\n",
       "      <td>0</td>\n",
       "      <td>unknown</td>\n",
       "      <td>no</td>\n",
       "    </tr>\n",
       "    <tr>\n",
       "      <th>4</th>\n",
       "      <td>33</td>\n",
       "      <td>unknown</td>\n",
       "      <td>single</td>\n",
       "      <td>unknown</td>\n",
       "      <td>no</td>\n",
       "      <td>1</td>\n",
       "      <td>no</td>\n",
       "      <td>no</td>\n",
       "      <td>unknown</td>\n",
       "      <td>5</td>\n",
       "      <td>may</td>\n",
       "      <td>198</td>\n",
       "      <td>1</td>\n",
       "      <td>-1</td>\n",
       "      <td>0</td>\n",
       "      <td>unknown</td>\n",
       "      <td>no</td>\n",
       "    </tr>\n",
       "  </tbody>\n",
       "</table>\n",
       "</div>"
      ],
      "text/plain": [
       "   age           job  marital  education default  balance housing loan  \\\n",
       "0   58    management  married   tertiary      no     2143     yes   no   \n",
       "1   44    technician   single  secondary      no       29     yes   no   \n",
       "2   33  entrepreneur  married  secondary      no        2     yes  yes   \n",
       "3   47   blue-collar  married    unknown      no     1506     yes   no   \n",
       "4   33       unknown   single    unknown      no        1      no   no   \n",
       "\n",
       "   contact  day month  duration  campaign  pdays  previous poutcome   y  \n",
       "0  unknown    5   may       261         1     -1         0  unknown  no  \n",
       "1  unknown    5   may       151         1     -1         0  unknown  no  \n",
       "2  unknown    5   may        76         1     -1         0  unknown  no  \n",
       "3  unknown    5   may        92         1     -1         0  unknown  no  \n",
       "4  unknown    5   may       198         1     -1         0  unknown  no  "
      ]
     },
     "execution_count": 8,
     "metadata": {},
     "output_type": "execute_result"
    }
   ],
   "source": [
    "bank_data.head()"
   ]
  },
  {
   "cell_type": "markdown",
   "id": "71346255",
   "metadata": {},
   "source": [
    "## 3.2 Data Preparation"
   ]
  },
  {
   "cell_type": "code",
   "execution_count": 9,
   "id": "ad37f412",
   "metadata": {
    "scrolled": true
   },
   "outputs": [],
   "source": [
    "bank_data = pd.get_dummies(bank_data, columns = ['job','marital','education','default','housing','loan','contact','month','poutcome'])"
   ]
  },
  {
   "cell_type": "code",
   "execution_count": 10,
   "id": "8bd0cfad",
   "metadata": {},
   "outputs": [
    {
     "data": {
      "text/plain": [
       "(45211, 52)"
      ]
     },
     "execution_count": 10,
     "metadata": {},
     "output_type": "execute_result"
    }
   ],
   "source": [
    "bank_data.shape"
   ]
  },
  {
   "cell_type": "code",
   "execution_count": 11,
   "id": "416946e0",
   "metadata": {
    "scrolled": false
   },
   "outputs": [
    {
     "data": {
      "text/plain": [
       "Index(['age', 'balance', 'day', 'duration', 'campaign', 'pdays', 'previous',\n",
       "       'y', 'job_admin.', 'job_blue-collar', 'job_entrepreneur',\n",
       "       'job_housemaid', 'job_management', 'job_retired', 'job_self-employed',\n",
       "       'job_services', 'job_student', 'job_technician', 'job_unemployed',\n",
       "       'job_unknown', 'marital_divorced', 'marital_married', 'marital_single',\n",
       "       'education_primary', 'education_secondary', 'education_tertiary',\n",
       "       'education_unknown', 'default_no', 'default_yes', 'housing_no',\n",
       "       'housing_yes', 'loan_no', 'loan_yes', 'contact_cellular',\n",
       "       'contact_telephone', 'contact_unknown', 'month_apr', 'month_aug',\n",
       "       'month_dec', 'month_feb', 'month_jan', 'month_jul', 'month_jun',\n",
       "       'month_mar', 'month_may', 'month_nov', 'month_oct', 'month_sep',\n",
       "       'poutcome_failure', 'poutcome_other', 'poutcome_success',\n",
       "       'poutcome_unknown'],\n",
       "      dtype='object')"
      ]
     },
     "execution_count": 11,
     "metadata": {},
     "output_type": "execute_result"
    }
   ],
   "source": [
    "bank_data.columns"
   ]
  },
  {
   "cell_type": "code",
   "execution_count": 12,
   "id": "eb565e4b",
   "metadata": {},
   "outputs": [
    {
     "data": {
      "text/plain": [
       "age                     int64\n",
       "balance                 int64\n",
       "day                     int64\n",
       "duration                int64\n",
       "campaign                int64\n",
       "pdays                   int64\n",
       "previous                int64\n",
       "y                      object\n",
       "job_admin.              uint8\n",
       "job_blue-collar         uint8\n",
       "job_entrepreneur        uint8\n",
       "job_housemaid           uint8\n",
       "job_management          uint8\n",
       "job_retired             uint8\n",
       "job_self-employed       uint8\n",
       "job_services            uint8\n",
       "job_student             uint8\n",
       "job_technician          uint8\n",
       "job_unemployed          uint8\n",
       "job_unknown             uint8\n",
       "marital_divorced        uint8\n",
       "marital_married         uint8\n",
       "marital_single          uint8\n",
       "education_primary       uint8\n",
       "education_secondary     uint8\n",
       "education_tertiary      uint8\n",
       "education_unknown       uint8\n",
       "default_no              uint8\n",
       "default_yes             uint8\n",
       "housing_no              uint8\n",
       "housing_yes             uint8\n",
       "loan_no                 uint8\n",
       "loan_yes                uint8\n",
       "contact_cellular        uint8\n",
       "contact_telephone       uint8\n",
       "contact_unknown         uint8\n",
       "month_apr               uint8\n",
       "month_aug               uint8\n",
       "month_dec               uint8\n",
       "month_feb               uint8\n",
       "month_jan               uint8\n",
       "month_jul               uint8\n",
       "month_jun               uint8\n",
       "month_mar               uint8\n",
       "month_may               uint8\n",
       "month_nov               uint8\n",
       "month_oct               uint8\n",
       "month_sep               uint8\n",
       "poutcome_failure        uint8\n",
       "poutcome_other          uint8\n",
       "poutcome_success        uint8\n",
       "poutcome_unknown        uint8\n",
       "dtype: object"
      ]
     },
     "execution_count": 12,
     "metadata": {},
     "output_type": "execute_result"
    }
   ],
   "source": [
    "bank_data.dtypes"
   ]
  },
  {
   "cell_type": "code",
   "execution_count": 13,
   "id": "40a197f3",
   "metadata": {},
   "outputs": [],
   "source": [
    "X = bank_data.drop(['y'],axis=1)\n",
    "y = bank_data[['y']]"
   ]
  },
  {
   "cell_type": "code",
   "execution_count": 14,
   "id": "e5a1e023",
   "metadata": {
    "scrolled": true
   },
   "outputs": [
    {
     "data": {
      "text/plain": [
       "((45211, 51), (45211, 1))"
      ]
     },
     "execution_count": 14,
     "metadata": {},
     "output_type": "execute_result"
    }
   ],
   "source": [
    "X.shape,y.shape"
   ]
  },
  {
   "cell_type": "markdown",
   "id": "cf7e7a54",
   "metadata": {},
   "source": [
    "# 4. Model Building"
   ]
  },
  {
   "cell_type": "code",
   "execution_count": 16,
   "id": "9e815b53",
   "metadata": {},
   "outputs": [],
   "source": [
    "lr = LogisticRegression()"
   ]
  },
  {
   "cell_type": "code",
   "execution_count": 15,
   "id": "e2130c1d",
   "metadata": {},
   "outputs": [],
   "source": [
    "X_train, X_test,y_train,y_test = train_test_split(X,y,test_size=0.20,random_state=10)"
   ]
  },
  {
   "cell_type": "markdown",
   "id": "f5d8fc0a",
   "metadata": {},
   "source": [
    "# 5. Model Training"
   ]
  },
  {
   "cell_type": "code",
   "execution_count": 17,
   "id": "7eea8f2c",
   "metadata": {
    "scrolled": true
   },
   "outputs": [],
   "source": [
    "model_1 = lr.fit(X_train, y_train)"
   ]
  },
  {
   "cell_type": "markdown",
   "id": "612a3dfa",
   "metadata": {},
   "source": [
    "# 6. Model Testing"
   ]
  },
  {
   "cell_type": "code",
   "execution_count": 18,
   "id": "95a8f192",
   "metadata": {
    "scrolled": false
   },
   "outputs": [],
   "source": [
    "y_test_predict = model_1.predict(X_test).reshape(-1,1)\n",
    "y_train_predict = model_1.predict(X_train).reshape(-1,1)"
   ]
  },
  {
   "cell_type": "code",
   "execution_count": 19,
   "id": "a88a8e84",
   "metadata": {},
   "outputs": [
    {
     "data": {
      "text/plain": [
       "((9043, 1), (36168, 1))"
      ]
     },
     "execution_count": 19,
     "metadata": {},
     "output_type": "execute_result"
    }
   ],
   "source": [
    "y_test_predict.shape,y_train_predict.shape"
   ]
  },
  {
   "cell_type": "markdown",
   "id": "4bfaa60e",
   "metadata": {},
   "source": [
    "# 7. Model Evaluation"
   ]
  },
  {
   "cell_type": "code",
   "execution_count": 20,
   "id": "08eb6206",
   "metadata": {},
   "outputs": [
    {
     "name": "stdout",
     "output_type": "stream",
     "text": [
      "[[31279   649]\n",
      " [ 3307   933]]\n"
     ]
    }
   ],
   "source": [
    "print(confusion_matrix(y_train,y_train_predict))"
   ]
  },
  {
   "cell_type": "code",
   "execution_count": 21,
   "id": "fec8e4a5",
   "metadata": {
    "scrolled": true
   },
   "outputs": [
    {
     "name": "stdout",
     "output_type": "stream",
     "text": [
      "              precision    recall  f1-score   support\n",
      "\n",
      "          no       0.90      0.98      0.94     31928\n",
      "         yes       0.59      0.22      0.32      4240\n",
      "\n",
      "    accuracy                           0.89     36168\n",
      "   macro avg       0.75      0.60      0.63     36168\n",
      "weighted avg       0.87      0.89      0.87     36168\n",
      "\n"
     ]
    }
   ],
   "source": [
    "print(classification_report(y_train,y_train_predict))"
   ]
  },
  {
   "cell_type": "code",
   "execution_count": 22,
   "id": "becc05f5",
   "metadata": {},
   "outputs": [
    {
     "name": "stdout",
     "output_type": "stream",
     "text": [
      "[[7815  179]\n",
      " [ 796  253]]\n"
     ]
    }
   ],
   "source": [
    "print(confusion_matrix(y_test,y_test_predict))"
   ]
  },
  {
   "cell_type": "code",
   "execution_count": 23,
   "id": "50708e12",
   "metadata": {},
   "outputs": [
    {
     "name": "stdout",
     "output_type": "stream",
     "text": [
      "accuracy score for training data is  0.8906215439062154\n",
      "accuracy score for testing data is  0.8921817980758597\n"
     ]
    }
   ],
   "source": [
    "print('accuracy score for training data is ',accuracy_score(y_train,y_train_predict))\n",
    "print('accuracy score for testing data is ',accuracy_score(y_test,y_test_predict))"
   ]
  },
  {
   "cell_type": "code",
   "execution_count": 24,
   "id": "20c22bc1",
   "metadata": {
    "scrolled": false
   },
   "outputs": [
    {
     "name": "stdout",
     "output_type": "stream",
     "text": [
      "confusion matrix for training data is \n",
      " [[31279   649]\n",
      " [ 3307   933]]\n",
      "confusion matrix for testing data is \n",
      " [[7815  179]\n",
      " [ 796  253]]\n"
     ]
    }
   ],
   "source": [
    "print('confusion matrix for training data is \\n',confusion_matrix(y_train, y_train_predict))\n",
    "print('confusion matrix for testing data is \\n',confusion_matrix(y_test, y_test_predict))"
   ]
  },
  {
   "cell_type": "code",
   "execution_count": 25,
   "id": "abb073e2",
   "metadata": {
    "scrolled": true
   },
   "outputs": [
    {
     "name": "stdout",
     "output_type": "stream",
     "text": [
      "classification report for training data is \n",
      "               precision    recall  f1-score   support\n",
      "\n",
      "          no       0.90      0.98      0.94     31928\n",
      "         yes       0.59      0.22      0.32      4240\n",
      "\n",
      "    accuracy                           0.89     36168\n",
      "   macro avg       0.75      0.60      0.63     36168\n",
      "weighted avg       0.87      0.89      0.87     36168\n",
      "\n",
      "classification report for testing data is \n",
      "               precision    recall  f1-score   support\n",
      "\n",
      "          no       0.91      0.98      0.94      7994\n",
      "         yes       0.59      0.24      0.34      1049\n",
      "\n",
      "    accuracy                           0.89      9043\n",
      "   macro avg       0.75      0.61      0.64      9043\n",
      "weighted avg       0.87      0.89      0.87      9043\n",
      "\n"
     ]
    }
   ],
   "source": [
    "print('classification report for training data is \\n',classification_report(y_train, y_train_predict))\n",
    "print('classification report for testing data is \\n',classification_report(y_test, y_test_predict))\n"
   ]
  },
  {
   "cell_type": "markdown",
   "id": "d0656b32",
   "metadata": {},
   "source": [
    "#### Here, though accuracy comes out to be 89% but there is large difference between precision at 1 and recall at 1.\n",
    "### So, this model is not good."
   ]
  },
  {
   "cell_type": "markdown",
   "id": "24433f4b",
   "metadata": {},
   "source": [
    "# Check whether the data is balanced?"
   ]
  },
  {
   "cell_type": "code",
   "execution_count": 26,
   "id": "e79fb9b6",
   "metadata": {
    "scrolled": true
   },
   "outputs": [
    {
     "data": {
      "text/plain": [
       "no     39922\n",
       "yes     5289\n",
       "Name: y, dtype: int64"
      ]
     },
     "execution_count": 26,
     "metadata": {},
     "output_type": "execute_result"
    }
   ],
   "source": [
    "bank_data['y'].value_counts()"
   ]
  },
  {
   "cell_type": "code",
   "execution_count": 27,
   "id": "aa2fd5ab",
   "metadata": {},
   "outputs": [
    {
     "name": "stdout",
     "output_type": "stream",
     "text": [
      "11.6985% of the total people have subscribed.\n",
      "88.3015% of the total people have not subscribed.\n"
     ]
    }
   ],
   "source": [
    "print('{}% of the total people have subscribed.'.format(round((5289/(39922+5289))*100,4)))\n",
    "print('{}% of the total people have not subscribed.'.format(round((39922/(39922+5289))*100,4)))"
   ]
  },
  {
   "cell_type": "markdown",
   "id": "007f19d7",
   "metadata": {},
   "source": [
    "### The data is imbalanced, which is causing the model to give bad performance ."
   ]
  },
  {
   "cell_type": "markdown",
   "id": "9f4fba0b",
   "metadata": {},
   "source": [
    "# Trating Imbalanced data"
   ]
  },
  {
   "cell_type": "markdown",
   "id": "83502c12",
   "metadata": {},
   "source": [
    "#### SMOTE (Synthetic Minority Oversampling Technique) – Oversampling\n",
    "* It aims to balance class distribution by randomly increasing minority class examples by replicating them.\n",
    "* After the oversampling process, the data is reconstructed and several classification models can be applied for the processed data."
   ]
  },
  {
   "cell_type": "code",
   "execution_count": 28,
   "id": "513e472f",
   "metadata": {},
   "outputs": [],
   "source": [
    "from imblearn.over_sampling import SMOTE"
   ]
  },
  {
   "cell_type": "code",
   "execution_count": 29,
   "id": "98f9e138",
   "metadata": {},
   "outputs": [],
   "source": [
    "balanced_data = SMOTE(random_state=0)"
   ]
  },
  {
   "cell_type": "code",
   "execution_count": 31,
   "id": "a481c6ce",
   "metadata": {},
   "outputs": [],
   "source": [
    "X = bank_data.drop(['y'],axis=1)\n",
    "y = bank_data[['y']]"
   ]
  },
  {
   "cell_type": "code",
   "execution_count": 32,
   "id": "5fa8bc58",
   "metadata": {},
   "outputs": [
    {
     "data": {
      "text/plain": [
       "((45211, 51), (45211, 1))"
      ]
     },
     "execution_count": 32,
     "metadata": {},
     "output_type": "execute_result"
    }
   ],
   "source": [
    "X.shape,y.shape #original shape of dataset"
   ]
  },
  {
   "cell_type": "code",
   "execution_count": 33,
   "id": "70fa24f0",
   "metadata": {},
   "outputs": [],
   "source": [
    "X_b,y_b = balanced_data.fit_sample(X,y)"
   ]
  },
  {
   "cell_type": "code",
   "execution_count": 34,
   "id": "cae6e2be",
   "metadata": {},
   "outputs": [
    {
     "data": {
      "text/plain": [
       "((79844, 51), (79844, 1))"
      ]
     },
     "execution_count": 34,
     "metadata": {},
     "output_type": "execute_result"
    }
   ],
   "source": [
    "X_b.shape,y_b.shape #shape of dataset after treating imbalanced data."
   ]
  },
  {
   "cell_type": "markdown",
   "id": "379cf6ea",
   "metadata": {},
   "source": [
    "# Model Training"
   ]
  },
  {
   "cell_type": "code",
   "execution_count": 35,
   "id": "dada70de",
   "metadata": {},
   "outputs": [],
   "source": [
    "Xb_train, Xb_test,yb_train,yb_test = train_test_split(X_b,y_b,test_size=0.20,random_state=10)"
   ]
  },
  {
   "cell_type": "code",
   "execution_count": 36,
   "id": "bd0c9a16",
   "metadata": {
    "scrolled": true
   },
   "outputs": [],
   "source": [
    "model_2 = lr.fit(Xb_train, yb_train)"
   ]
  },
  {
   "cell_type": "markdown",
   "id": "8f6541f5",
   "metadata": {},
   "source": [
    "# Model Testing"
   ]
  },
  {
   "cell_type": "code",
   "execution_count": 37,
   "id": "521894a6",
   "metadata": {
    "scrolled": false
   },
   "outputs": [],
   "source": [
    "yb_test_predict = model_2.predict(Xb_test).reshape(-1,1)\n",
    "yb_train_predict = model_2.predict(Xb_train).reshape(-1,1)"
   ]
  },
  {
   "cell_type": "code",
   "execution_count": 38,
   "id": "6d9a23c1",
   "metadata": {},
   "outputs": [
    {
     "data": {
      "text/plain": [
       "((15969, 1), (63875, 1))"
      ]
     },
     "execution_count": 38,
     "metadata": {},
     "output_type": "execute_result"
    }
   ],
   "source": [
    "yb_test_predict.shape,yb_train_predict.shape"
   ]
  },
  {
   "cell_type": "markdown",
   "id": "38f3c9ea",
   "metadata": {},
   "source": [
    "# Model Evaluation"
   ]
  },
  {
   "cell_type": "code",
   "execution_count": 39,
   "id": "875830e9",
   "metadata": {},
   "outputs": [
    {
     "name": "stdout",
     "output_type": "stream",
     "text": [
      "accuracy score for training data is  0.8881095890410959\n",
      "accuracy score for testing data is  0.8911015091740246\n"
     ]
    }
   ],
   "source": [
    "print('accuracy score for training data is ',accuracy_score(yb_train,yb_train_predict))\n",
    "print('accuracy score for testing data is ',accuracy_score(yb_test,yb_test_predict))"
   ]
  },
  {
   "cell_type": "code",
   "execution_count": 40,
   "id": "769ff7f9",
   "metadata": {
    "scrolled": false
   },
   "outputs": [
    {
     "name": "stdout",
     "output_type": "stream",
     "text": [
      "confusion matrix for training data is \n",
      " [[28514  3454]\n",
      " [ 3693 28214]]\n",
      "confusion matrix for testing data is \n",
      " [[7122  832]\n",
      " [ 907 7108]]\n"
     ]
    }
   ],
   "source": [
    "print('confusion matrix for training data is \\n',confusion_matrix(yb_train, yb_train_predict))\n",
    "print('confusion matrix for testing data is \\n',confusion_matrix(yb_test, yb_test_predict))"
   ]
  },
  {
   "cell_type": "code",
   "execution_count": 41,
   "id": "38a011b9",
   "metadata": {},
   "outputs": [
    {
     "name": "stdout",
     "output_type": "stream",
     "text": [
      "classification report for training data is \n",
      "               precision    recall  f1-score   support\n",
      "\n",
      "          no       0.89      0.89      0.89     31968\n",
      "         yes       0.89      0.88      0.89     31907\n",
      "\n",
      "    accuracy                           0.89     63875\n",
      "   macro avg       0.89      0.89      0.89     63875\n",
      "weighted avg       0.89      0.89      0.89     63875\n",
      "\n",
      "classification report for testing data is \n",
      "               precision    recall  f1-score   support\n",
      "\n",
      "          no       0.89      0.90      0.89      7954\n",
      "         yes       0.90      0.89      0.89      8015\n",
      "\n",
      "    accuracy                           0.89     15969\n",
      "   macro avg       0.89      0.89      0.89     15969\n",
      "weighted avg       0.89      0.89      0.89     15969\n",
      "\n"
     ]
    }
   ],
   "source": [
    "print('classification report for training data is \\n',classification_report(yb_train, yb_train_predict))\n",
    "print('classification report for testing data is \\n',classification_report(yb_test, yb_test_predict))"
   ]
  },
  {
   "cell_type": "markdown",
   "id": "fdc861e6",
   "metadata": {},
   "source": [
    "## roc,auc for training data"
   ]
  },
  {
   "cell_type": "code",
   "execution_count": 48,
   "id": "f911ee3c",
   "metadata": {},
   "outputs": [],
   "source": [
    "probs1 = model_2.predict_proba(Xb_train)\n",
    "probs1 = probs1[:,1]"
   ]
  },
  {
   "cell_type": "code",
   "execution_count": 49,
   "id": "6b903625",
   "metadata": {},
   "outputs": [
    {
     "data": {
      "text/plain": [
       "array([0, 1, 0, ..., 0, 0, 1])"
      ]
     },
     "execution_count": 49,
     "metadata": {},
     "output_type": "execute_result"
    }
   ],
   "source": [
    "yb_train_ = LabelEncoder().fit_transform(yb_train)\n",
    "yb_train_"
   ]
  },
  {
   "cell_type": "code",
   "execution_count": 51,
   "id": "6cd6ddd0",
   "metadata": {
    "scrolled": true
   },
   "outputs": [
    {
     "name": "stdout",
     "output_type": "stream",
     "text": [
      "area unser curve is 0.95\n"
     ]
    },
    {
     "data": {
      "image/png": "[encoded data removed]",
      "text/plain": [
       "<Figure size 432x288 with 1 Axes>"
      ]
     },
     "metadata": {
      "needs_background": "light"
     },
     "output_type": "display_data"
    }
   ],
   "source": [
    "auc = roc_auc_score(yb_train_,probs1).round(2)\n",
    "print('area unser curve is',auc)\n",
    "\n",
    "fpr,tpr,threshhold = roc_curve(yb_train_,probs1)\n",
    "plt.plot([0,1],[0,1],linestyle = '--')\n",
    "plt.plot(fpr,tpr,color='red')\n",
    "plt.xlabel('False Positive Rate') #False Positive Rate = 1 - True Positive Rate\n",
    "plt.ylabel('True Positive Rate')\n",
    "plt.show()"
   ]
  },
  {
   "cell_type": "markdown",
   "id": "19573eaa",
   "metadata": {},
   "source": [
    "## roc,auc for test data"
   ]
  },
  {
   "cell_type": "code",
   "execution_count": 42,
   "id": "58e1e355",
   "metadata": {
    "scrolled": false
   },
   "outputs": [
    {
     "data": {
      "text/plain": [
       "((45211, 1), (79844,))"
      ]
     },
     "execution_count": 42,
     "metadata": {},
     "output_type": "execute_result"
    }
   ],
   "source": [
    "y.shape,model_2.predict(X_b).shape"
   ]
  },
  {
   "cell_type": "code",
   "execution_count": 43,
   "id": "cd894464",
   "metadata": {},
   "outputs": [
    {
     "data": {
      "text/plain": [
       "(79844, 2)"
      ]
     },
     "execution_count": 43,
     "metadata": {},
     "output_type": "execute_result"
    }
   ],
   "source": [
    "model_2.predict_proba(X_b).shape"
   ]
  },
  {
   "cell_type": "code",
   "execution_count": 44,
   "id": "b6483cae",
   "metadata": {
    "scrolled": true
   },
   "outputs": [
    {
     "data": {
      "text/plain": [
       "(90422, 1)"
      ]
     },
     "execution_count": 44,
     "metadata": {},
     "output_type": "execute_result"
    }
   ],
   "source": [
    "model_2_predict_X = model_2.predict_proba(X).reshape(-1,1)\n",
    "model_2_predict_X.shape"
   ]
  },
  {
   "cell_type": "code",
   "execution_count": 45,
   "id": "c594af64",
   "metadata": {},
   "outputs": [],
   "source": [
    "probs = model_2.predict_proba(Xb_test)\n",
    "probs = probs[:,1]"
   ]
  },
  {
   "cell_type": "code",
   "execution_count": 46,
   "id": "03267c66",
   "metadata": {},
   "outputs": [
    {
     "data": {
      "text/plain": [
       "array([1, 1, 0, ..., 1, 0, 0])"
      ]
     },
     "execution_count": 46,
     "metadata": {},
     "output_type": "execute_result"
    }
   ],
   "source": [
    "yb_test_ = LabelEncoder().fit_transform(yb_test)\n",
    "yb_test_"
   ]
  },
  {
   "cell_type": "code",
   "execution_count": 47,
   "id": "3824efcc",
   "metadata": {
    "scrolled": false
   },
   "outputs": [
    {
     "name": "stdout",
     "output_type": "stream",
     "text": [
      "area unser curve is 0.95\n"
     ]
    },
    {
     "data": {
      "image/png": "[encoded data removed]",
      "text/plain": [
       "<Figure size 432x288 with 1 Axes>"
      ]
     },
     "metadata": {
      "needs_background": "light"
     },
     "output_type": "display_data"
    }
   ],
   "source": [
    "auc = roc_auc_score(yb_test,probs).round(2)\n",
    "print('area unser curve is',auc)\n",
    "\n",
    "fpr,tpr,threshhold = roc_curve(yb_test_,probs)\n",
    "plt.plot([0,1],[0,1],linestyle = '--')\n",
    "plt.plot(fpr,tpr,color='red')\n",
    "plt.xlabel('False Positive Rate') #False Positive Rate = 1 - True Positive Rate\n",
    "plt.ylabel('True Positive Rate')\n",
    "plt.show()"
   ]
  },
  {
   "cell_type": "markdown",
   "id": "7bffebfc",
   "metadata": {},
   "source": [
    "# CONCLUSION\n",
    "### model_2 is the best logistic regression model which is obtained after treating the imabalanced dataset.\n",
    "* Here, the accuracy of model is 89%, and also, the difference between precision and recall is very less as compared to model_1¶"
   ]
  }
 ],
 "metadata": {
  "kernelspec": {
   "display_name": "Python 3 (ipykernel)",
   "language": "python",
   "name": "python3"
  },
  "language_info": {
   "codemirror_mode": {
    "name": "ipython",
    "version": 3
   },
   "file_extension": ".py",
   "mimetype": "text/x-python",
   "name": "python",
   "nbconvert_exporter": "python",
   "pygments_lexer": "ipython3",
   "version": "3.9.7"
  }
 },
 "nbformat": 4,
 "nbformat_minor": 5
}
