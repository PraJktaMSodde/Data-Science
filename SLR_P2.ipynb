{
 "cells": [
  {
   "cell_type": "markdown",
   "id": "2e12398a",
   "metadata": {},
   "source": [
    "# Problem :\n",
    "2) Salary_hike -> Build a prediction model for Salary_hike\n",
    "\n",
    "------------------------------------------------------------\n",
    "\n",
    "Build a simple linear regression model by performing EDA and do necessary transformations and select the best model using R or Python."
   ]
  },
  {
   "cell_type": "markdown",
   "id": "be782dab",
   "metadata": {},
   "source": [
    "# Import Necessary Libraries"
   ]
  },
  {
   "cell_type": "code",
   "execution_count": 2,
   "id": "dc3db3d4",
   "metadata": {},
   "outputs": [],
   "source": [
    "import pandas as pd\n",
    "import numpy as np\n",
    "import seaborn as sns\n",
    "import matplotlib.pyplot as plt\n",
    "from scipy.stats import pearsonr,spearmanr\n",
    "from scipy import stats\n",
    "\n",
    "import warnings\n",
    "warnings.filterwarnings('ignore')\n",
    "\n",
    "import statsmodels.formula.api as smf\n",
    "\n",
    "from sklearn.model_selection import train_test_split\n",
    "from sklearn.linear_model import LinearRegression\n",
    "from sklearn.metrics import mean_absolute_error,mean_squared_error,r2_score"
   ]
  },
  {
   "cell_type": "markdown",
   "id": "c16b25a4",
   "metadata": {},
   "source": [
    "# 2. Import the Dataset"
   ]
  },
  {
   "cell_type": "code",
   "execution_count": 3,
   "id": "469b71af",
   "metadata": {},
   "outputs": [],
   "source": [
    "salary_data = pd.read_csv('Salary_Data.csv')"
   ]
  },
  {
   "cell_type": "markdown",
   "id": "3a580a17",
   "metadata": {},
   "source": [
    "# 3. Data Understanding"
   ]
  },
  {
   "cell_type": "markdown",
   "id": "e9d57ccf",
   "metadata": {},
   "source": [
    "## 3.1 Initial Analysis"
   ]
  },
  {
   "cell_type": "code",
   "execution_count": 4,
   "id": "e62cb6a5",
   "metadata": {},
   "outputs": [
    {
     "data": {
      "text/html": [
       "<div>\n",
       "<style scoped>\n",
       "    .dataframe tbody tr th:only-of-type {\n",
       "        vertical-align: middle;\n",
       "    }\n",
       "\n",
       "    .dataframe tbody tr th {\n",
       "        vertical-align: top;\n",
       "    }\n",
       "\n",
       "    .dataframe thead th {\n",
       "        text-align: right;\n",
       "    }\n",
       "</style>\n",
       "<table border=\"1\" class=\"dataframe\">\n",
       "  <thead>\n",
       "    <tr style=\"text-align: right;\">\n",
       "      <th></th>\n",
       "      <th>YearsExperience</th>\n",
       "      <th>Salary</th>\n",
       "    </tr>\n",
       "  </thead>\n",
       "  <tbody>\n",
       "    <tr>\n",
       "      <th>0</th>\n",
       "      <td>1.1</td>\n",
       "      <td>39343.0</td>\n",
       "    </tr>\n",
       "    <tr>\n",
       "      <th>1</th>\n",
       "      <td>1.3</td>\n",
       "      <td>46205.0</td>\n",
       "    </tr>\n",
       "    <tr>\n",
       "      <th>2</th>\n",
       "      <td>1.5</td>\n",
       "      <td>37731.0</td>\n",
       "    </tr>\n",
       "    <tr>\n",
       "      <th>3</th>\n",
       "      <td>2.0</td>\n",
       "      <td>43525.0</td>\n",
       "    </tr>\n",
       "    <tr>\n",
       "      <th>4</th>\n",
       "      <td>2.2</td>\n",
       "      <td>39891.0</td>\n",
       "    </tr>\n",
       "  </tbody>\n",
       "</table>\n",
       "</div>"
      ],
      "text/plain": [
       "   YearsExperience   Salary\n",
       "0              1.1  39343.0\n",
       "1              1.3  46205.0\n",
       "2              1.5  37731.0\n",
       "3              2.0  43525.0\n",
       "4              2.2  39891.0"
      ]
     },
     "execution_count": 4,
     "metadata": {},
     "output_type": "execute_result"
    }
   ],
   "source": [
    "salary_data.head()"
   ]
  },
  {
   "cell_type": "code",
   "execution_count": 5,
   "id": "1862d145",
   "metadata": {},
   "outputs": [
    {
     "data": {
      "text/html": [
       "<div>\n",
       "<style scoped>\n",
       "    .dataframe tbody tr th:only-of-type {\n",
       "        vertical-align: middle;\n",
       "    }\n",
       "\n",
       "    .dataframe tbody tr th {\n",
       "        vertical-align: top;\n",
       "    }\n",
       "\n",
       "    .dataframe thead th {\n",
       "        text-align: right;\n",
       "    }\n",
       "</style>\n",
       "<table border=\"1\" class=\"dataframe\">\n",
       "  <thead>\n",
       "    <tr style=\"text-align: right;\">\n",
       "      <th></th>\n",
       "      <th>YearsExperience</th>\n",
       "      <th>Salary</th>\n",
       "    </tr>\n",
       "  </thead>\n",
       "  <tbody>\n",
       "    <tr>\n",
       "      <th>25</th>\n",
       "      <td>9.0</td>\n",
       "      <td>105582.0</td>\n",
       "    </tr>\n",
       "    <tr>\n",
       "      <th>26</th>\n",
       "      <td>9.5</td>\n",
       "      <td>116969.0</td>\n",
       "    </tr>\n",
       "    <tr>\n",
       "      <th>27</th>\n",
       "      <td>9.6</td>\n",
       "      <td>112635.0</td>\n",
       "    </tr>\n",
       "    <tr>\n",
       "      <th>28</th>\n",
       "      <td>10.3</td>\n",
       "      <td>122391.0</td>\n",
       "    </tr>\n",
       "    <tr>\n",
       "      <th>29</th>\n",
       "      <td>10.5</td>\n",
       "      <td>121872.0</td>\n",
       "    </tr>\n",
       "  </tbody>\n",
       "</table>\n",
       "</div>"
      ],
      "text/plain": [
       "    YearsExperience    Salary\n",
       "25              9.0  105582.0\n",
       "26              9.5  116969.0\n",
       "27              9.6  112635.0\n",
       "28             10.3  122391.0\n",
       "29             10.5  121872.0"
      ]
     },
     "execution_count": 5,
     "metadata": {},
     "output_type": "execute_result"
    }
   ],
   "source": [
    "salary_data.tail()"
   ]
  },
  {
   "cell_type": "code",
   "execution_count": 6,
   "id": "788c8bcf",
   "metadata": {},
   "outputs": [
    {
     "data": {
      "text/plain": [
       "(30, 2)"
      ]
     },
     "execution_count": 6,
     "metadata": {},
     "output_type": "execute_result"
    }
   ],
   "source": [
    "salary_data.shape"
   ]
  },
  {
   "cell_type": "code",
   "execution_count": 7,
   "id": "82d4a4f5",
   "metadata": {},
   "outputs": [
    {
     "name": "stdout",
     "output_type": "stream",
     "text": [
      "<class 'pandas.core.frame.DataFrame'>\n",
      "RangeIndex: 30 entries, 0 to 29\n",
      "Data columns (total 2 columns):\n",
      " #   Column           Non-Null Count  Dtype  \n",
      "---  ------           --------------  -----  \n",
      " 0   YearsExperience  30 non-null     float64\n",
      " 1   Salary           30 non-null     float64\n",
      "dtypes: float64(2)\n",
      "memory usage: 608.0 bytes\n"
     ]
    }
   ],
   "source": [
    "salary_data.info()"
   ]
  },
  {
   "cell_type": "code",
   "execution_count": 8,
   "id": "f449d345",
   "metadata": {},
   "outputs": [
    {
     "data": {
      "text/html": [
       "<div>\n",
       "<style scoped>\n",
       "    .dataframe tbody tr th:only-of-type {\n",
       "        vertical-align: middle;\n",
       "    }\n",
       "\n",
       "    .dataframe tbody tr th {\n",
       "        vertical-align: top;\n",
       "    }\n",
       "\n",
       "    .dataframe thead th {\n",
       "        text-align: right;\n",
       "    }\n",
       "</style>\n",
       "<table border=\"1\" class=\"dataframe\">\n",
       "  <thead>\n",
       "    <tr style=\"text-align: right;\">\n",
       "      <th></th>\n",
       "      <th>YearsExperience</th>\n",
       "      <th>Salary</th>\n",
       "    </tr>\n",
       "  </thead>\n",
       "  <tbody>\n",
       "    <tr>\n",
       "      <th>count</th>\n",
       "      <td>30.000000</td>\n",
       "      <td>30.000000</td>\n",
       "    </tr>\n",
       "    <tr>\n",
       "      <th>mean</th>\n",
       "      <td>5.313333</td>\n",
       "      <td>76003.000000</td>\n",
       "    </tr>\n",
       "    <tr>\n",
       "      <th>std</th>\n",
       "      <td>2.837888</td>\n",
       "      <td>27414.429785</td>\n",
       "    </tr>\n",
       "    <tr>\n",
       "      <th>min</th>\n",
       "      <td>1.100000</td>\n",
       "      <td>37731.000000</td>\n",
       "    </tr>\n",
       "    <tr>\n",
       "      <th>25%</th>\n",
       "      <td>3.200000</td>\n",
       "      <td>56720.750000</td>\n",
       "    </tr>\n",
       "    <tr>\n",
       "      <th>50%</th>\n",
       "      <td>4.700000</td>\n",
       "      <td>65237.000000</td>\n",
       "    </tr>\n",
       "    <tr>\n",
       "      <th>75%</th>\n",
       "      <td>7.700000</td>\n",
       "      <td>100544.750000</td>\n",
       "    </tr>\n",
       "    <tr>\n",
       "      <th>max</th>\n",
       "      <td>10.500000</td>\n",
       "      <td>122391.000000</td>\n",
       "    </tr>\n",
       "  </tbody>\n",
       "</table>\n",
       "</div>"
      ],
      "text/plain": [
       "       YearsExperience         Salary\n",
       "count        30.000000      30.000000\n",
       "mean          5.313333   76003.000000\n",
       "std           2.837888   27414.429785\n",
       "min           1.100000   37731.000000\n",
       "25%           3.200000   56720.750000\n",
       "50%           4.700000   65237.000000\n",
       "75%           7.700000  100544.750000\n",
       "max          10.500000  122391.000000"
      ]
     },
     "execution_count": 8,
     "metadata": {},
     "output_type": "execute_result"
    }
   ],
   "source": [
    "salary_data.describe()"
   ]
  },
  {
   "cell_type": "code",
   "execution_count": 9,
   "id": "20528063",
   "metadata": {
    "scrolled": true
   },
   "outputs": [
    {
     "data": {
      "text/plain": [
       "[<matplotlib.lines.Line2D at 0x219135cd730>]"
      ]
     },
     "execution_count": 9,
     "metadata": {},
     "output_type": "execute_result"
    },
    {
     "data": {
      "image/png": "[encoded data removed]",
      "text/plain": [
       "<Figure size 432x288 with 1 Axes>"
      ]
     },
     "metadata": {
      "needs_background": "light"
     },
     "output_type": "display_data"
    }
   ],
   "source": [
    "plt.plot(salary_data['YearsExperience'],salary_data['Salary'])\n"
   ]
  },
  {
   "cell_type": "code",
   "execution_count": 12,
   "id": "37c5c7f7",
   "metadata": {},
   "outputs": [
    {
     "data": {
      "text/plain": [
       "<AxesSubplot:>"
      ]
     },
     "execution_count": 12,
     "metadata": {},
     "output_type": "execute_result"
    },
    {
     "data": {
      "image/png": "[encoded data removed]",
      "text/plain": [
       "<Figure size 432x288 with 1 Axes>"
      ]
     },
     "metadata": {
      "needs_background": "light"
     },
     "output_type": "display_data"
    }
   ],
   "source": [
    "salary_data.boxplot(grid=False)"
   ]
  },
  {
   "cell_type": "code",
   "execution_count": 18,
   "id": "a3f0d022",
   "metadata": {},
   "outputs": [
    {
     "data": {
      "text/plain": [
       "<AxesSubplot:>"
      ]
     },
     "execution_count": 18,
     "metadata": {},
     "output_type": "execute_result"
    },
    {
     "data": {
      "image/png": "[encoded data removed]",
      "text/plain": [
       "<Figure size 432x288 with 1 Axes>"
      ]
     },
     "metadata": {
      "needs_background": "light"
     },
     "output_type": "display_data"
    }
   ],
   "source": [
    "salary_data.drop('Salary',axis=1).boxplot()"
   ]
  },
  {
   "cell_type": "markdown",
   "id": "706e5d2a",
   "metadata": {},
   "source": [
    "## 3.2 Assumptions Check"
   ]
  },
  {
   "cell_type": "markdown",
   "id": "a33a120c",
   "metadata": {},
   "source": [
    "### 3.2.1 linearity Test"
   ]
  },
  {
   "cell_type": "code",
   "execution_count": 9,
   "id": "3e5c41c3",
   "metadata": {},
   "outputs": [
    {
     "data": {
      "text/plain": [
       "Text(0.5, 1.0, 'Years of Experience vs Salary')"
      ]
     },
     "execution_count": 9,
     "metadata": {},
     "output_type": "execute_result"
    },
    {
     "data": {
      "image/png": "[encoded data removed]",
      "text/plain": [
       "<Figure size 432x288 with 1 Axes>"
      ]
     },
     "metadata": {
      "needs_background": "light"
     },
     "output_type": "display_data"
    }
   ],
   "source": [
    "sns.scatterplot(x=salary_data['YearsExperience'],y=salary_data['Salary'],data=salary_data)\n",
    "plt.title('Years of Experience vs Salary')"
   ]
  },
  {
   "cell_type": "code",
   "execution_count": 10,
   "id": "bc8c8c19",
   "metadata": {},
   "outputs": [
    {
     "data": {
      "text/plain": [
       "<seaborn.axisgrid.FacetGrid at 0x2348ac93b50>"
      ]
     },
     "execution_count": 10,
     "metadata": {},
     "output_type": "execute_result"
    },
    {
     "data": {
      "image/png": "[encoded data removed]",
      "text/plain": [
       "<Figure size 360x360 with 1 Axes>"
      ]
     },
     "metadata": {
      "needs_background": "light"
     },
     "output_type": "display_data"
    }
   ],
   "source": [
    "sns.lmplot(x='YearsExperience',y='Salary',data=salary_data)"
   ]
  },
  {
   "cell_type": "code",
   "execution_count": 11,
   "id": "387ef0b9",
   "metadata": {},
   "outputs": [
    {
     "data": {
      "text/html": [
       "<div>\n",
       "<style scoped>\n",
       "    .dataframe tbody tr th:only-of-type {\n",
       "        vertical-align: middle;\n",
       "    }\n",
       "\n",
       "    .dataframe tbody tr th {\n",
       "        vertical-align: top;\n",
       "    }\n",
       "\n",
       "    .dataframe thead th {\n",
       "        text-align: right;\n",
       "    }\n",
       "</style>\n",
       "<table border=\"1\" class=\"dataframe\">\n",
       "  <thead>\n",
       "    <tr style=\"text-align: right;\">\n",
       "      <th></th>\n",
       "      <th>YearsExperience</th>\n",
       "      <th>Salary</th>\n",
       "    </tr>\n",
       "  </thead>\n",
       "  <tbody>\n",
       "    <tr>\n",
       "      <th>YearsExperience</th>\n",
       "      <td>1.000000</td>\n",
       "      <td>0.978242</td>\n",
       "    </tr>\n",
       "    <tr>\n",
       "      <th>Salary</th>\n",
       "      <td>0.978242</td>\n",
       "      <td>1.000000</td>\n",
       "    </tr>\n",
       "  </tbody>\n",
       "</table>\n",
       "</div>"
      ],
      "text/plain": [
       "                 YearsExperience    Salary\n",
       "YearsExperience         1.000000  0.978242\n",
       "Salary                  0.978242  1.000000"
      ]
     },
     "execution_count": 11,
     "metadata": {},
     "output_type": "execute_result"
    }
   ],
   "source": [
    "salary_data.corr()"
   ]
  },
  {
   "cell_type": "code",
   "execution_count": 12,
   "id": "37db5a32",
   "metadata": {},
   "outputs": [
    {
     "name": "stdout",
     "output_type": "stream",
     "text": [
      "0.98 1.1430681092271564e-20\n"
     ]
    }
   ],
   "source": [
    "corr_coeff,p_value = pearsonr(x=salary_data['YearsExperience'],y=salary_data['Salary'])\n",
    "print(corr_coeff.round(2),p_value)"
   ]
  },
  {
   "cell_type": "markdown",
   "id": "460b2b1d",
   "metadata": {},
   "source": [
    "##### As corr_coeff = 0.98, There is very high positive correlation\n",
    "The lower (p), the higher the probability that our observed correlation has not occurred due to coincidence."
   ]
  },
  {
   "cell_type": "code",
   "execution_count": 13,
   "id": "9493469a",
   "metadata": {},
   "outputs": [
    {
     "name": "stdout",
     "output_type": "stream",
     "text": [
      "0.96 1.466992893885873e-16\n"
     ]
    }
   ],
   "source": [
    "sp_corr,p_value = spearmanr(salary_data['YearsExperience'],salary_data['Salary'])\n",
    "print(sp_corr.round(2),p_value)"
   ]
  },
  {
   "cell_type": "markdown",
   "id": "19d38e5a",
   "metadata": {},
   "source": [
    "here, we can not reject that data possesses linearity."
   ]
  },
  {
   "cell_type": "markdown",
   "id": "158b8c4d",
   "metadata": {},
   "source": [
    "### 3.2.2 Normality Test"
   ]
  },
  {
   "cell_type": "code",
   "execution_count": 43,
   "id": "e333ff20",
   "metadata": {
    "scrolled": true
   },
   "outputs": [
    {
     "data": {
      "text/plain": [
       "pandas.core.series.Series"
      ]
     },
     "execution_count": 43,
     "metadata": {},
     "output_type": "execute_result"
    }
   ],
   "source": [
    "type(salary_data['YearsExperience'])"
   ]
  },
  {
   "cell_type": "code",
   "execution_count": 9,
   "id": "136e769b",
   "metadata": {},
   "outputs": [
    {
     "data": {
      "text/plain": [
       "(30,)"
      ]
     },
     "execution_count": 9,
     "metadata": {},
     "output_type": "execute_result"
    }
   ],
   "source": [
    "salary_data['YearsExperience'].shape"
   ]
  },
  {
   "cell_type": "code",
   "execution_count": 14,
   "id": "3e596dc4",
   "metadata": {
    "scrolled": false
   },
   "outputs": [
    {
     "data": {
      "image/png": "[encoded data removed]",
      "text/plain": [
       "<Figure size 432x288 with 1 Axes>"
      ]
     },
     "metadata": {
      "needs_background": "light"
     },
     "output_type": "display_data"
    }
   ],
   "source": [
    "stats.probplot(salary_data['YearsExperience'],plot=plt)\n",
    "plt.show()"
   ]
  },
  {
   "cell_type": "code",
   "execution_count": 15,
   "id": "ae36bd6b",
   "metadata": {},
   "outputs": [
    {
     "data": {
      "text/plain": [
       "<AxesSubplot:xlabel='YearsExperience', ylabel='Density'>"
      ]
     },
     "execution_count": 15,
     "metadata": {},
     "output_type": "execute_result"
    },
    {
     "data": {
      "image/png": "[encoded data removed]",
      "text/plain": [
       "<Figure size 432x288 with 1 Axes>"
      ]
     },
     "metadata": {
      "needs_background": "light"
     },
     "output_type": "display_data"
    }
   ],
   "source": [
    "sns.distplot(salary_data['YearsExperience'])"
   ]
  },
  {
   "cell_type": "markdown",
   "id": "3f809816",
   "metadata": {},
   "source": [
    "##### Normality Test Failed."
   ]
  },
  {
   "cell_type": "markdown",
   "id": "f70cc860",
   "metadata": {},
   "source": [
    "# 4. Model Building"
   ]
  },
  {
   "cell_type": "code",
   "execution_count": 20,
   "id": "ac05c2a1",
   "metadata": {},
   "outputs": [],
   "source": [
    "#X = salary_data.drop(['Salary'],axis=1)\n",
    "#y = salary_data[['Salary']]\n",
    "X = salary_data['YearsExperience'].values.reshape(-1,1)\n",
    "y = salary_data['Salary'].values.reshape(-1,1)"
   ]
  },
  {
   "cell_type": "code",
   "execution_count": 21,
   "id": "d36cf578",
   "metadata": {},
   "outputs": [
    {
     "data": {
      "text/plain": [
       "((30, 1), (30, 1))"
      ]
     },
     "execution_count": 21,
     "metadata": {},
     "output_type": "execute_result"
    }
   ],
   "source": [
    "X.shape,y.shape"
   ]
  },
  {
   "cell_type": "code",
   "execution_count": 22,
   "id": "e49f5ff1",
   "metadata": {},
   "outputs": [],
   "source": [
    "linear_reg = LinearRegression()"
   ]
  },
  {
   "cell_type": "markdown",
   "id": "e214fe8b",
   "metadata": {},
   "source": [
    "# 5. Model Training || 6. Model Testing || 7. Model Evaluation"
   ]
  },
  {
   "cell_type": "code",
   "execution_count": 23,
   "id": "ed77bace",
   "metadata": {},
   "outputs": [],
   "source": [
    "X_train, X_test, y_train, y_test = train_test_split(X,y,test_size=0.20,random_state=42)"
   ]
  },
  {
   "cell_type": "code",
   "execution_count": 24,
   "id": "4a252c56",
   "metadata": {},
   "outputs": [
    {
     "data": {
      "text/plain": [
       "((24, 1), (6, 1), (24, 1), (6, 1))"
      ]
     },
     "execution_count": 24,
     "metadata": {},
     "output_type": "execute_result"
    }
   ],
   "source": [
    "X_train.shape,X_test.shape,y_train.shape,y_test.shape"
   ]
  },
  {
   "cell_type": "code",
   "execution_count": 25,
   "id": "91089a9c",
   "metadata": {},
   "outputs": [],
   "source": [
    "model_1 = linear_reg.fit(X_train,y_train)"
   ]
  },
  {
   "cell_type": "code",
   "execution_count": 26,
   "id": "1883bdef",
   "metadata": {
    "scrolled": true
   },
   "outputs": [
    {
     "name": "stdout",
     "output_type": "stream",
     "text": [
      "The intercept value of model_1 is [25321.58301178].\n",
      "The coefficient(slope) value of model_1 is [[9423.81532303]].\n"
     ]
    }
   ],
   "source": [
    "print('The intercept value of model_1 is {}.'.format(model_1.intercept_))\n",
    "print('The coefficient(slope) value of model_1 is {}.'.format(model_1.coef_))"
   ]
  },
  {
   "cell_type": "code",
   "execution_count": 27,
   "id": "f5ad727f",
   "metadata": {},
   "outputs": [
    {
     "data": {
      "text/plain": [
       "array([[115790.21],\n",
       "       [ 71498.28],\n",
       "       [102596.87],\n",
       "       [ 75267.8 ],\n",
       "       [ 55477.79],\n",
       "       [ 60189.7 ]])"
      ]
     },
     "execution_count": 27,
     "metadata": {},
     "output_type": "execute_result"
    }
   ],
   "source": [
    "model_1_pred = model_1.predict(X_test)\n",
    "model_1_pred.round(2)"
   ]
  },
  {
   "cell_type": "code",
   "execution_count": 28,
   "id": "aa49e4f3",
   "metadata": {
    "scrolled": true
   },
   "outputs": [
    {
     "data": {
      "text/html": [
       "<div>\n",
       "<style scoped>\n",
       "    .dataframe tbody tr th:only-of-type {\n",
       "        vertical-align: middle;\n",
       "    }\n",
       "\n",
       "    .dataframe tbody tr th {\n",
       "        vertical-align: top;\n",
       "    }\n",
       "\n",
       "    .dataframe thead th {\n",
       "        text-align: right;\n",
       "    }\n",
       "</style>\n",
       "<table border=\"1\" class=\"dataframe\">\n",
       "  <thead>\n",
       "    <tr style=\"text-align: right;\">\n",
       "      <th></th>\n",
       "      <th>Actual</th>\n",
       "      <th>Predicted</th>\n",
       "    </tr>\n",
       "  </thead>\n",
       "  <tbody>\n",
       "    <tr>\n",
       "      <th>0</th>\n",
       "      <td>112635.0</td>\n",
       "      <td>115790.210113</td>\n",
       "    </tr>\n",
       "    <tr>\n",
       "      <th>1</th>\n",
       "      <td>67938.0</td>\n",
       "      <td>71498.278095</td>\n",
       "    </tr>\n",
       "    <tr>\n",
       "      <th>2</th>\n",
       "      <td>113812.0</td>\n",
       "      <td>102596.868661</td>\n",
       "    </tr>\n",
       "    <tr>\n",
       "      <th>3</th>\n",
       "      <td>83088.0</td>\n",
       "      <td>75267.804224</td>\n",
       "    </tr>\n",
       "    <tr>\n",
       "      <th>4</th>\n",
       "      <td>64445.0</td>\n",
       "      <td>55477.792045</td>\n",
       "    </tr>\n",
       "    <tr>\n",
       "      <th>5</th>\n",
       "      <td>57189.0</td>\n",
       "      <td>60189.699707</td>\n",
       "    </tr>\n",
       "  </tbody>\n",
       "</table>\n",
       "</div>"
      ],
      "text/plain": [
       "     Actual      Predicted\n",
       "0  112635.0  115790.210113\n",
       "1   67938.0   71498.278095\n",
       "2  113812.0  102596.868661\n",
       "3   83088.0   75267.804224\n",
       "4   64445.0   55477.792045\n",
       "5   57189.0   60189.699707"
      ]
     },
     "execution_count": 28,
     "metadata": {},
     "output_type": "execute_result"
    }
   ],
   "source": [
    "model_1_act_vs_pred = pd.DataFrame({'Actual':y_test.flatten(),'Predicted':model_1_pred.flatten()})\n",
    "model_1_act_vs_pred"
   ]
  },
  {
   "cell_type": "code",
   "execution_count": 29,
   "id": "b6f0402b",
   "metadata": {},
   "outputs": [
    {
     "data": {
      "text/plain": [
       "[<matplotlib.lines.Line2D at 0x21916f8ebb0>]"
      ]
     },
     "execution_count": 29,
     "metadata": {},
     "output_type": "execute_result"
    },
    {
     "data": {
      "image/png": "[encoded data removed]",
      "text/plain": [
       "<Figure size 432x288 with 1 Axes>"
      ]
     },
     "metadata": {
      "needs_background": "light"
     },
     "output_type": "display_data"
    }
   ],
   "source": [
    "plt.scatter(X_test,y_test,color = 'red')\n",
    "plt.plot(X_test,model_1_pred,linewidth=2)"
   ]
  },
  {
   "cell_type": "code",
   "execution_count": 30,
   "id": "0dc3d9fe",
   "metadata": {
    "scrolled": true
   },
   "outputs": [
    {
     "name": "stdout",
     "output_type": "stream",
     "text": [
      "Mean Absolute Error    : 6286.453830757749\n",
      "Mean Squared Error     : 49830096.85590839\n",
      "Root Mean Squared Error: 7059.04362190151\n",
      "R^2 Score              : 0.9024461774180497\n"
     ]
    }
   ],
   "source": [
    "print('Mean Absolute Error    :', mean_absolute_error(y_test, model_1_pred))  \n",
    "print('Mean Squared Error     :', mean_squared_error(y_test, model_1_pred))  \n",
    "print('Root Mean Squared Error:', np.sqrt(mean_squared_error(y_test, model_1_pred)))\n",
    "print(\"R^2 Score              :\", r2_score(y_test, model_1_pred))"
   ]
  },
  {
   "cell_type": "markdown",
   "id": "424ea88f",
   "metadata": {},
   "source": [
    "# Data Transformation"
   ]
  },
  {
   "cell_type": "markdown",
   "id": "f154a057",
   "metadata": {},
   "source": [
    "### LOG Transformation"
   ]
  },
  {
   "cell_type": "code",
   "execution_count": 31,
   "id": "b9b215a6",
   "metadata": {},
   "outputs": [],
   "source": [
    "X_log = np.log(salary_data['YearsExperience']).values.reshape(-1,1)"
   ]
  },
  {
   "cell_type": "code",
   "execution_count": 32,
   "id": "e7234242",
   "metadata": {},
   "outputs": [],
   "source": [
    "X_train_log, X_test_log, y_train, y_test = train_test_split(X_log,y,test_size=0.20,random_state=42)"
   ]
  },
  {
   "cell_type": "code",
   "execution_count": 33,
   "id": "8dbe836d",
   "metadata": {},
   "outputs": [
    {
     "name": "stdout",
     "output_type": "stream",
     "text": [
      "The intercept value of model_3 is [16808.04207062].\n",
      "The coefficient(slope) value of model_3 is [[39297.91674992]].\n",
      "Mean Absolute Error    : 7714.638101223965\n",
      "Mean Squared Error     : 84567607.74831854\n",
      "Root Mean Squared Error: 9196.064796874723\n",
      "R^2 Score              : 0.8344395471211845\n"
     ]
    },
    {
     "data": {
      "image/png": "[encoded data removed]",
      "text/plain": [
       "<Figure size 432x288 with 1 Axes>"
      ]
     },
     "metadata": {
      "needs_background": "light"
     },
     "output_type": "display_data"
    }
   ],
   "source": [
    "model_3 = linear_reg.fit(X_train_log,y_train)\n",
    "print('The intercept value of model_3 is {}.'.format(model_3.intercept_))\n",
    "print('The coefficient(slope) value of model_3 is {}.'.format(model_3.coef_))\n",
    "\n",
    "model_3_pred = model_3.predict(X_test_log)\n",
    "model_3_pred.round(2)\n",
    "\n",
    "model_3_act_vs_pred = pd.DataFrame({'Actual':y_test.flatten(),'Predicted':model_3_pred.flatten()})\n",
    "model_3_act_vs_pred\n",
    "\n",
    "plt.scatter(X_test_log,y_test,color = 'red')\n",
    "plt.plot(X_test_log,model_3_pred,linewidth=2)\n",
    "\n",
    "print('Mean Absolute Error    :', mean_absolute_error(y_test, model_3_pred))  \n",
    "print('Mean Squared Error     :', mean_squared_error(y_test, model_3_pred))  \n",
    "print('Root Mean Squared Error:', np.sqrt(mean_squared_error(y_test, model_3_pred)))\n",
    "print(\"R^2 Score              :\", r2_score(y_test, model_3_pred))"
   ]
  },
  {
   "cell_type": "code",
   "execution_count": 34,
   "id": "644fb979",
   "metadata": {},
   "outputs": [],
   "source": [
    "X_1 = pd.Series(map(lambda x:[x], X_log)).apply(lambda x:x[0])"
   ]
  },
  {
   "cell_type": "code",
   "execution_count": 35,
   "id": "9b256401",
   "metadata": {
    "scrolled": true
   },
   "outputs": [
    {
     "data": {
      "text/plain": [
       "pandas.core.series.Series"
      ]
     },
     "execution_count": 35,
     "metadata": {},
     "output_type": "execute_result"
    }
   ],
   "source": [
    "type(X_1)"
   ]
  },
  {
   "cell_type": "code",
   "execution_count": 36,
   "id": "ceb8e266",
   "metadata": {},
   "outputs": [
    {
     "data": {
      "text/plain": [
       "(30,)"
      ]
     },
     "execution_count": 36,
     "metadata": {},
     "output_type": "execute_result"
    }
   ],
   "source": [
    "X_1.shape"
   ]
  },
  {
   "cell_type": "code",
   "execution_count": 37,
   "id": "c6119d75",
   "metadata": {
    "scrolled": false
   },
   "outputs": [
    {
     "data": {
      "image/png": "[encoded data removed]",
      "text/plain": [
       "<Figure size 432x288 with 1 Axes>"
      ]
     },
     "metadata": {
      "needs_background": "light"
     },
     "output_type": "display_data"
    }
   ],
   "source": [
    "stats.probplot(np.log(salary_data['YearsExperience']),plot=plt)\n",
    "plt.show()"
   ]
  },
  {
   "cell_type": "markdown",
   "id": "46615360",
   "metadata": {},
   "source": [
    "### EXPONENTIAL Transformation"
   ]
  },
  {
   "cell_type": "code",
   "execution_count": 38,
   "id": "d87925a2",
   "metadata": {},
   "outputs": [],
   "source": [
    "X_exp = ((salary_data['YearsExperience'])**(1/1.2)).values.reshape(-1,1)\n",
    "\n",
    "X_train_exp, X_test_exp, y_train, y_test = train_test_split(X_exp,y,test_size=0.20,random_state=42)"
   ]
  },
  {
   "cell_type": "code",
   "execution_count": 39,
   "id": "55412020",
   "metadata": {},
   "outputs": [
    {
     "name": "stdout",
     "output_type": "stream",
     "text": [
      "The intercept value of model_ is [17166.39138225].\n",
      "The coefficient(slope) value of model_ is [[14799.32107012]].\n",
      "Mean Absolute Error    : 6139.3774222428765\n",
      "Mean Squared Error     : 46618965.44954007\n",
      "Root Mean Squared Error: 6827.808246395037\n",
      "R^2 Score              : 0.9087327022949734\n"
     ]
    },
    {
     "data": {
      "image/png": "[encoded data removed]",
      "text/plain": [
       "<Figure size 432x288 with 1 Axes>"
      ]
     },
     "metadata": {
      "needs_background": "light"
     },
     "output_type": "display_data"
    }
   ],
   "source": [
    "X_train_exp, X_test_exp, y_train_, y_test_ = train_test_split(X_exp,y,test_size=0.20,random_state=42)\n",
    "model_6 = linear_reg.fit(X_train_exp,y_train_)\n",
    "print('The intercept value of model_ is {}.'.format(model_6.intercept_))\n",
    "print('The coefficient(slope) value of model_ is {}.'.format(model_6.coef_))\n",
    "\n",
    "model_6_pred = model_6.predict(X_test_exp)\n",
    "model_6_pred.round(2)\n",
    "\n",
    "model_6_act_vs_pred = pd.DataFrame({'Actual':y_test_.flatten(),'Predicted':model_6_pred.flatten()})\n",
    "model_6_act_vs_pred\n",
    "\n",
    "plt.scatter(X_test_exp,y_test_,color = 'red')\n",
    "plt.plot(X_test_exp,model_6_pred,linewidth=2)\n",
    "\n",
    "print('Mean Absolute Error    :', mean_absolute_error(y_test_, model_6_pred))  \n",
    "print('Mean Squared Error     :', mean_squared_error(y_test_, model_6_pred))  \n",
    "print('Root Mean Squared Error:', np.sqrt(mean_squared_error(y_test_, model_6_pred)))\n",
    "print(\"R^2 Score              :\", r2_score(y_test_, model_6_pred))"
   ]
  },
  {
   "cell_type": "code",
   "execution_count": 40,
   "id": "0f603913",
   "metadata": {},
   "outputs": [
    {
     "ename": "NameError",
     "evalue": "name 'a' is not defined",
     "output_type": "error",
     "traceback": [
      "\u001b[1;31m---------------------------------------------------------------------------\u001b[0m",
      "\u001b[1;31mNameError\u001b[0m                                 Traceback (most recent call last)",
      "\u001b[1;32m~\\AppData\\Local\\Temp/ipykernel_1392/1148042728.py\u001b[0m in \u001b[0;36m<module>\u001b[1;34m\u001b[0m\n\u001b[1;32m----> 1\u001b[1;33m \u001b[0ma\u001b[0m \u001b[1;33m==\u001b[0m \u001b[0msalary_data\u001b[0m\u001b[1;33m[\u001b[0m\u001b[1;34m'YearsExperience'\u001b[0m\u001b[1;33m]\u001b[0m\u001b[1;33m\u001b[0m\u001b[1;33m\u001b[0m\u001b[0m\n\u001b[0m",
      "\u001b[1;31mNameError\u001b[0m: name 'a' is not defined"
     ]
    }
   ],
   "source": [
    "a == salary_data['YearsExperience']"
   ]
  },
  {
   "cell_type": "code",
   "execution_count": null,
   "id": "fe3b3c97",
   "metadata": {
    "scrolled": true
   },
   "outputs": [],
   "source": [
    "a = ((salary_data['YearsExperience'])**(1/1.2))\n",
    "stats.probplot(a,plot=plt)\n",
    "plt.show()"
   ]
  },
  {
   "cell_type": "markdown",
   "id": "0b8d31da",
   "metadata": {},
   "source": [
    "### RECIPROCAL Transformation"
   ]
  },
  {
   "cell_type": "code",
   "execution_count": 41,
   "id": "91d093df",
   "metadata": {},
   "outputs": [],
   "source": [
    "X_reci = np.reciprocal(salary_data['YearsExperience']).values.reshape(-1,1)"
   ]
  },
  {
   "cell_type": "code",
   "execution_count": 42,
   "id": "4ced63f9",
   "metadata": {},
   "outputs": [
    {
     "name": "stdout",
     "output_type": "stream",
     "text": [
      "The intercept value of model_9 is [102904.22592717].\n",
      "The coefficient(slope) value of model_9 is [[-98626.5332809]].\n",
      "Mean Absolute Error    : 14280.569970973324\n",
      "Mean Squared Error     : 261574833.360252\n",
      "Root Mean Squared Error: 16173.2752823988\n",
      "R^2 Score              : 0.4879073793631691\n"
     ]
    },
    {
     "data": {
      "image/png": "[encoded data removed]",
      "text/plain": [
       "<Figure size 432x288 with 1 Axes>"
      ]
     },
     "metadata": {
      "needs_background": "light"
     },
     "output_type": "display_data"
    }
   ],
   "source": [
    "X_train_reci, X_test_reci, y_train_, y_test_ = train_test_split(X_reci,y,test_size=0.20,random_state=42)\n",
    "model_9 = linear_reg.fit(X_train_reci,y_train_)\n",
    "print('The intercept value of model_9 is {}.'.format(model_9.intercept_))\n",
    "print('The coefficient(slope) value of model_9 is {}.'.format(model_9.coef_))\n",
    "\n",
    "model_9_pred = model_9.predict(X_test_reci)\n",
    "model_9_pred.round(2)\n",
    "\n",
    "model_9_act_vs_pred = pd.DataFrame({'Actual':y_test_.flatten(),'Predicted':model_9_pred.flatten()})\n",
    "model_9_act_vs_pred\n",
    "\n",
    "plt.scatter(X_test_reci,y_test_,color = 'red')\n",
    "plt.plot(X_test_reci,model_9_pred,linewidth=2)\n",
    "\n",
    "print('Mean Absolute Error    :', mean_absolute_error(y_test_, model_9_pred))  \n",
    "print('Mean Squared Error     :', mean_squared_error(y_test_, model_9_pred))  \n",
    "print('Root Mean Squared Error:', np.sqrt(mean_squared_error(y_test_, model_9_pred)))\n",
    "print(\"R^2 Score              :\", r2_score(y_test_, model_9_pred))"
   ]
  },
  {
   "cell_type": "code",
   "execution_count": 43,
   "id": "4c3daa1b",
   "metadata": {},
   "outputs": [
    {
     "data": {
      "text/plain": [
       "((array([-1.99833768, -1.59452553, -1.35103668, -1.1686393 , -1.01855497,\n",
       "         -0.8884856 , -0.77194854, -0.66506298, -0.56529149, -0.47085985,\n",
       "         -0.38045711, -0.29306636, -0.20786198, -0.12414301, -0.04128669,\n",
       "          0.04128669,  0.12414301,  0.20786198,  0.29306636,  0.38045711,\n",
       "          0.47085985,  0.56529149,  0.66506298,  0.77194854,  0.8884856 ,\n",
       "          1.01855497,  1.1686393 ,  1.35103668,  1.59452553,  1.99833768]),\n",
       "  array([0.0952381 , 0.09708738, 0.10416667, 0.10526316, 0.11111111,\n",
       "         0.11494253, 0.12195122, 0.12658228, 0.14084507, 0.14705882,\n",
       "         0.16666667, 0.16949153, 0.18867925, 0.19607843, 0.20408163,\n",
       "         0.22222222, 0.24390244, 0.25      , 0.25      , 0.25641026,\n",
       "         0.27027027, 0.3125    , 0.3125    , 0.33333333, 0.34482759,\n",
       "         0.45454545, 0.5       , 0.66666667, 0.76923077, 0.90909091])),\n",
       " (0.1859505020436457, 0.2728247912877455, 0.8814888127686847))"
      ]
     },
     "execution_count": 43,
     "metadata": {},
     "output_type": "execute_result"
    },
    {
     "data": {
      "image/png": "[encoded data removed]",
      "text/plain": [
       "<Figure size 432x288 with 1 Axes>"
      ]
     },
     "metadata": {
      "needs_background": "light"
     },
     "output_type": "display_data"
    }
   ],
   "source": [
    "stats.probplot(np.reciprocal(salary_data['YearsExperience']),plot = plt)"
   ]
  },
  {
   "cell_type": "markdown",
   "id": "3edfafd5",
   "metadata": {},
   "source": [
    "### BOX-COX Transformation"
   ]
  },
  {
   "cell_type": "code",
   "execution_count": 44,
   "id": "35e6baf6",
   "metadata": {},
   "outputs": [],
   "source": [
    "X_boxcox,param = stats.boxcox(salary_data['YearsExperience'])\n",
    "\n",
    "X_boxcox1 = X_boxcox.reshape(-1,1)"
   ]
  },
  {
   "cell_type": "code",
   "execution_count": 45,
   "id": "69fbe5ed",
   "metadata": {},
   "outputs": [
    {
     "name": "stdout",
     "output_type": "stream",
     "text": [
      "The intercept value of model_12 is [25150.44013923].\n",
      "The coefficient(slope) value of model_12 is [[21753.2053967]].\n",
      "Mean Absolute Error    : 6292.432424925514\n",
      "Mean Squared Error     : 50443278.02544287\n",
      "Root Mean Squared Error: 7102.343136278539\n",
      "R^2 Score              : 0.9012457348984148\n"
     ]
    },
    {
     "data": {
      "image/png": "[encoded data removed]",
      "text/plain": [
       "<Figure size 432x288 with 1 Axes>"
      ]
     },
     "metadata": {
      "needs_background": "light"
     },
     "output_type": "display_data"
    }
   ],
   "source": [
    "X_train_boxcox, X_test_boxcox, y_train_, y_test_ = train_test_split(X_boxcox1,y,test_size=0.20,random_state=42)\n",
    "model_12 = linear_reg.fit(X_train_boxcox,y_train_)\n",
    "print('The intercept value of model_12 is {}.'.format(model_12.intercept_))\n",
    "print('The coefficient(slope) value of model_12 is {}.'.format(model_12.coef_))\n",
    "\n",
    "model_12_pred = model_12.predict(X_test_boxcox)\n",
    "model_12_pred.round(2)\n",
    "\n",
    "model_12_act_vs_pred = pd.DataFrame({'Actual':y_test_.flatten(),'Predicted':model_12_pred.flatten()})\n",
    "model_12_act_vs_pred\n",
    "\n",
    "plt.scatter(X_test_boxcox,y_test_,color = 'red')\n",
    "plt.plot(X_test_boxcox,model_12_pred,linewidth=2)\n",
    "\n",
    "print('Mean Absolute Error    :', mean_absolute_error(y_test_, model_12_pred))  \n",
    "print('Mean Squared Error     :', mean_squared_error(y_test_, model_12_pred))  \n",
    "print('Root Mean Squared Error:', np.sqrt(mean_squared_error(y_test_, model_12_pred)))\n",
    "print(\"R^2 Score              :\", r2_score(y_test_, model_12_pred))"
   ]
  },
  {
   "cell_type": "code",
   "execution_count": 46,
   "id": "e196d0d7",
   "metadata": {},
   "outputs": [
    {
     "data": {
      "text/plain": [
       "((array([-1.99833768, -1.59452553, -1.35103668, -1.1686393 , -1.01855497,\n",
       "         -0.8884856 , -0.77194854, -0.66506298, -0.56529149, -0.47085985,\n",
       "         -0.38045711, -0.29306636, -0.20786198, -0.12414301, -0.04128669,\n",
       "          0.04128669,  0.12414301,  0.20786198,  0.29306636,  0.38045711,\n",
       "          0.47085985,  0.56529149,  0.66506298,  0.77194854,  0.8884856 ,\n",
       "          1.01855497,  1.1686393 ,  1.35103668,  1.59452553,  1.99833768]),\n",
       "  array([0.09740799, 0.27867434, 0.44529646, 0.81497041, 0.94851528,\n",
       "         1.36999425, 1.42546504, 1.53346054, 1.53346054, 1.78831566,\n",
       "         1.88496821, 1.93228236, 1.93228236, 1.9789564 , 2.15970966,\n",
       "         2.33190438, 2.41513137, 2.49659858, 2.7314119 , 2.76926113,\n",
       "         3.06042098, 3.16476   , 3.43177826, 3.52808931, 3.68443407,\n",
       "         3.77589926, 3.9247231 , 3.9539719 , 4.15422159, 4.21006456])),\n",
       " (1.224090094125149, 2.3252143300676615, 0.9887137099604657))"
      ]
     },
     "execution_count": 46,
     "metadata": {},
     "output_type": "execute_result"
    },
    {
     "data": {
      "image/png": "[encoded data removed]",
      "text/plain": [
       "<Figure size 432x288 with 1 Axes>"
      ]
     },
     "metadata": {
      "needs_background": "light"
     },
     "output_type": "display_data"
    }
   ],
   "source": [
    "stats.probplot(X_boxcox,plot = plt)"
   ]
  },
  {
   "cell_type": "code",
   "execution_count": 47,
   "id": "ffe5878e",
   "metadata": {},
   "outputs": [
    {
     "data": {
      "text/plain": [
       "<seaborn.axisgrid.FacetGrid at 0x2190f5346a0>"
      ]
     },
     "execution_count": 47,
     "metadata": {},
     "output_type": "execute_result"
    },
    {
     "data": {
      "image/png": "[encoded data removed]",
      "text/plain": [
       "<Figure size 360x360 with 1 Axes>"
      ]
     },
     "metadata": {
      "needs_background": "light"
     },
     "output_type": "display_data"
    }
   ],
   "source": [
    "\n",
    "sns.lmplot(x='YearsExperience',y='Salary',data=salary_data)"
   ]
  },
  {
   "cell_type": "markdown",
   "id": "87710f0f",
   "metadata": {},
   "source": [
    "# Choose the Best Model"
   ]
  },
  {
   "cell_type": "code",
   "execution_count": 48,
   "id": "620b2767",
   "metadata": {},
   "outputs": [
    {
     "name": "stdout",
     "output_type": "stream",
     "text": [
      "model_1\n",
      "Mean Absolute Error    : 6286.453830757749\n",
      "Mean Squared Error     : 49830096.85590839\n",
      "Root Mean Squared Error: 7059.04362190151\n",
      "R^2 Score              : 0.9024461774180497\n",
      "model_3\n",
      "Mean Absolute Error    : 7714.638101223965\n",
      "Mean Squared Error     : 84567607.74831854\n",
      "Root Mean Squared Error: 9196.064796874723\n",
      "R^2 Score              : 0.8344395471211845\n",
      "model_6\n",
      "Mean Absolute Error    : 6139.3774222428765\n",
      "Mean Squared Error     : 46618965.44954007\n",
      "Root Mean Squared Error: 6827.808246395037\n",
      "R^2 Score              : 0.9087327022949734\n",
      "model_9\n",
      "Mean Absolute Error    : 14280.569970973324\n",
      "Mean Squared Error     : 261574833.360252\n",
      "Root Mean Squared Error: 16173.2752823988\n",
      "R^2 Score              : 0.4879073793631691\n",
      "model_12\n",
      "Mean Absolute Error    : 6292.432424925514\n",
      "Mean Squared Error     : 50443278.02544287\n",
      "Root Mean Squared Error: 7102.343136278539\n",
      "R^2 Score              : 0.9012457348984148\n"
     ]
    }
   ],
   "source": [
    "print('model_1')\n",
    "print('Mean Absolute Error    :', mean_absolute_error(y_test, model_1_pred))  \n",
    "print('Mean Squared Error     :', mean_squared_error(y_test, model_1_pred))  \n",
    "print('Root Mean Squared Error:', np.sqrt(mean_squared_error(y_test, model_1_pred)))\n",
    "print(\"R^2 Score              :\", r2_score(y_test, model_1_pred))\n",
    "\n",
    "print('model_3')\n",
    "print('Mean Absolute Error    :', mean_absolute_error(y_test, model_3_pred))  \n",
    "print('Mean Squared Error     :', mean_squared_error(y_test, model_3_pred))  \n",
    "print('Root Mean Squared Error:', np.sqrt(mean_squared_error(y_test, model_3_pred)))\n",
    "print(\"R^2 Score              :\", r2_score(y_test, model_3_pred))\n",
    "\n",
    "print('model_6')\n",
    "print('Mean Absolute Error    :', mean_absolute_error(y_test_, model_6_pred))  \n",
    "print('Mean Squared Error     :', mean_squared_error(y_test_, model_6_pred))  \n",
    "print('Root Mean Squared Error:', np.sqrt(mean_squared_error(y_test_, model_6_pred)))\n",
    "print(\"R^2 Score              :\", r2_score(y_test_, model_6_pred))\n",
    "\n",
    "print('model_9')\n",
    "print('Mean Absolute Error    :', mean_absolute_error(y_test_, model_9_pred))  \n",
    "print('Mean Squared Error     :', mean_squared_error(y_test_, model_9_pred))  \n",
    "print('Root Mean Squared Error:', np.sqrt(mean_squared_error(y_test_, model_9_pred)))\n",
    "print(\"R^2 Score              :\", r2_score(y_test_, model_9_pred))\n",
    "\n",
    "print('model_12')\n",
    "print('Mean Absolute Error    :', mean_absolute_error(y_test_, model_12_pred))  \n",
    "print('Mean Squared Error     :', mean_squared_error(y_test_, model_12_pred))  \n",
    "print('Root Mean Squared Error:', np.sqrt(mean_squared_error(y_test_, model_12_pred)))\n",
    "print(\"R^2 Score              :\", r2_score(y_test_, model_12_pred))"
   ]
  },
  {
   "cell_type": "markdown",
   "id": "7e7a0d0b",
   "metadata": {},
   "source": [
    "# From the above models, model 6(Exp) is the best model for given problem."
   ]
  },
  {
   "cell_type": "markdown",
   "id": "31b145e2",
   "metadata": {},
   "source": [
    "# Homoscedascity Check"
   ]
  },
  {
   "cell_type": "code",
   "execution_count": 49,
   "id": "0b348634",
   "metadata": {},
   "outputs": [],
   "source": [
    "model_6_error = y - model_6.predict(X_exp)"
   ]
  },
  {
   "cell_type": "code",
   "execution_count": 50,
   "id": "2b32968c",
   "metadata": {},
   "outputs": [
    {
     "data": {
      "text/plain": [
       "<matplotlib.collections.PathCollection at 0x2190f524850>"
      ]
     },
     "execution_count": 50,
     "metadata": {},
     "output_type": "execute_result"
    },
    {
     "data": {
      "image/png": "[encoded data removed]",
      "text/plain": [
       "<Figure size 432x288 with 1 Axes>"
      ]
     },
     "metadata": {
      "needs_background": "light"
     },
     "output_type": "display_data"
    }
   ],
   "source": [
    "plt.scatter(X_exp,model_6_error)"
   ]
  },
  {
   "cell_type": "markdown",
   "id": "748d4346",
   "metadata": {},
   "source": [
    "# Zero Residual Mean Test\n",
    "\n",
    "It is a plot between **Actual Output Vs Predicted Plot**."
   ]
  },
  {
   "cell_type": "code",
   "execution_count": 51,
   "id": "7e6fcbfb",
   "metadata": {},
   "outputs": [
    {
     "data": {
      "text/plain": [
       "<matplotlib.collections.PathCollection at 0x21916e22e80>"
      ]
     },
     "execution_count": 51,
     "metadata": {},
     "output_type": "execute_result"
    },
    {
     "data": {
      "image/png": "[encoded data removed]",
      "text/plain": [
       "<Figure size 432x288 with 1 Axes>"
      ]
     },
     "metadata": {
      "needs_background": "light"
     },
     "output_type": "display_data"
    }
   ],
   "source": [
    "plt.scatter(y,model_6.predict(X_exp))"
   ]
  },
  {
   "cell_type": "markdown",
   "id": "f01636d0",
   "metadata": {},
   "source": [
    "# From qq plot, boxcox transformed model 12 is good."
   ]
  },
  {
   "cell_type": "code",
   "execution_count": 52,
   "id": "d583e49e",
   "metadata": {},
   "outputs": [
    {
     "data": {
      "text/plain": [
       "<matplotlib.collections.PathCollection at 0x21916dbd700>"
      ]
     },
     "execution_count": 52,
     "metadata": {},
     "output_type": "execute_result"
    },
    {
     "data": {
      "image/png": "[encoded data removed]",
      "text/plain": [
       "<Figure size 432x288 with 1 Axes>"
      ]
     },
     "metadata": {
      "needs_background": "light"
     },
     "output_type": "display_data"
    }
   ],
   "source": [
    "model_12_error = y - model_12.predict(X_boxcox1)\n",
    "plt.scatter(X_boxcox1,model_12_error)"
   ]
  },
  {
   "cell_type": "code",
   "execution_count": 53,
   "id": "f838a746",
   "metadata": {},
   "outputs": [
    {
     "data": {
      "text/plain": [
       "<matplotlib.collections.PathCollection at 0x21915490070>"
      ]
     },
     "execution_count": 53,
     "metadata": {},
     "output_type": "execute_result"
    },
    {
     "data": {
      "image/png": "[encoded data removed]",
      "text/plain": [
       "<Figure size 432x288 with 1 Axes>"
      ]
     },
     "metadata": {
      "needs_background": "light"
     },
     "output_type": "display_data"
    }
   ],
   "source": [
    "plt.scatter(y,model_12.predict(X_boxcox1))"
   ]
  },
  {
   "cell_type": "code",
   "execution_count": 61,
   "id": "3c061b95",
   "metadata": {},
   "outputs": [
    {
     "data": {
      "text/plain": [
       "<matplotlib.collections.PathCollection at 0x21917fd32b0>"
      ]
     },
     "execution_count": 61,
     "metadata": {},
     "output_type": "execute_result"
    },
    {
     "data": {
      "image/png": "[encoded data removed]",
      "text/plain": [
       "<Figure size 432x288 with 1 Axes>"
      ]
     },
     "metadata": {
      "needs_background": "light"
     },
     "output_type": "display_data"
    }
   ],
   "source": [
    "model_12_error_test = y_test - model_12.predict(X_test_boxcox)\n",
    "plt.scatter(X_test_boxcox,model_12_error_test)"
   ]
  },
  {
   "cell_type": "code",
   "execution_count": 65,
   "id": "be5269e0",
   "metadata": {},
   "outputs": [
    {
     "data": {
      "text/plain": [
       "<matplotlib.collections.PathCollection at 0x21918518e20>"
      ]
     },
     "execution_count": 65,
     "metadata": {},
     "output_type": "execute_result"
    },
    {
     "data": {
      "image/png": "[encoded data removed]",
      "text/plain": [
       "<Figure size 432x288 with 1 Axes>"
      ]
     },
     "metadata": {
      "needs_background": "light"
     },
     "output_type": "display_data"
    }
   ],
   "source": [
    "plt.scatter(y_test,model_12.predict(X_test_boxcox))"
   ]
  },
  {
   "cell_type": "markdown",
   "id": "cc71d930",
   "metadata": {},
   "source": [
    "# Model1"
   ]
  },
  {
   "cell_type": "code",
   "execution_count": 54,
   "id": "32e9e1f6",
   "metadata": {},
   "outputs": [
    {
     "data": {
      "text/plain": [
       "<matplotlib.collections.PathCollection at 0x219143299d0>"
      ]
     },
     "execution_count": 54,
     "metadata": {},
     "output_type": "execute_result"
    },
    {
     "data": {
      "image/png": "[encoded data removed]",
      "text/plain": [
       "<Figure size 432x288 with 1 Axes>"
      ]
     },
     "metadata": {
      "needs_background": "light"
     },
     "output_type": "display_data"
    }
   ],
   "source": [
    "model_1_error = y - model_12.predict(X)\n",
    "plt.scatter(X,model_1_error)\n"
   ]
  },
  {
   "cell_type": "code",
   "execution_count": 55,
   "id": "c7ec8888",
   "metadata": {
    "scrolled": true
   },
   "outputs": [
    {
     "data": {
      "text/plain": [
       "<matplotlib.collections.PathCollection at 0x21916d48ac0>"
      ]
     },
     "execution_count": 55,
     "metadata": {},
     "output_type": "execute_result"
    },
    {
     "data": {
      "image/png": "[encoded data removed]",
      "text/plain": [
       "<Figure size 432x288 with 1 Axes>"
      ]
     },
     "metadata": {
      "needs_background": "light"
     },
     "output_type": "display_data"
    }
   ],
   "source": [
    "plt.scatter(y,model_1.predict(X))"
   ]
  },
  {
   "cell_type": "markdown",
   "id": "3cdab857",
   "metadata": {},
   "source": [
    "### Both homoscedascity and zero residual mean tests are failed for model 1."
   ]
  },
  {
   "cell_type": "code",
   "execution_count": null,
   "id": "47120ac3",
   "metadata": {},
   "outputs": [],
   "source": []
  },
  {
   "cell_type": "markdown",
   "id": "4f218166",
   "metadata": {},
   "source": [
    "# Model 3 "
   ]
  },
  {
   "cell_type": "code",
   "execution_count": 68,
   "id": "6a11210a",
   "metadata": {},
   "outputs": [
    {
     "data": {
      "text/plain": [
       "<matplotlib.collections.PathCollection at 0x28044f39880>"
      ]
     },
     "execution_count": 68,
     "metadata": {},
     "output_type": "execute_result"
    },
    {
     "data": {
      "image/png": "[encoded data removed]",
      "text/plain": [
       "<Figure size 432x288 with 1 Axes>"
      ]
     },
     "metadata": {
      "needs_background": "light"
     },
     "output_type": "display_data"
    }
   ],
   "source": [
    "model_3_error = y - model_3.predict(X_log)\n",
    "plt.scatter(X_log,model_1_error)"
   ]
  },
  {
   "cell_type": "code",
   "execution_count": 69,
   "id": "77acb8f2",
   "metadata": {},
   "outputs": [
    {
     "data": {
      "text/plain": [
       "<matplotlib.collections.PathCollection at 0x28044495970>"
      ]
     },
     "execution_count": 69,
     "metadata": {},
     "output_type": "execute_result"
    },
    {
     "data": {
      "image/png": "[encoded data removed]",
      "text/plain": [
       "<Figure size 432x288 with 1 Axes>"
      ]
     },
     "metadata": {
      "needs_background": "light"
     },
     "output_type": "display_data"
    }
   ],
   "source": [
    "plt.scatter(y,model_3.predict(X_log))"
   ]
  },
  {
   "cell_type": "markdown",
   "id": "4d160322",
   "metadata": {},
   "source": [
    "# Both homoscedascity and zero residual mean tests are failed for model 3."
   ]
  },
  {
   "cell_type": "markdown",
   "id": "882c42b7",
   "metadata": {},
   "source": [
    "# Model 9"
   ]
  },
  {
   "cell_type": "code",
   "execution_count": 73,
   "id": "c2aff6b5",
   "metadata": {},
   "outputs": [
    {
     "data": {
      "text/plain": [
       "<matplotlib.collections.PathCollection at 0x28046bb8640>"
      ]
     },
     "execution_count": 73,
     "metadata": {},
     "output_type": "execute_result"
    },
    {
     "data": {
      "image/png": "[encoded data removed]",
      "text/plain": [
       "<Figure size 432x288 with 1 Axes>"
      ]
     },
     "metadata": {
      "needs_background": "light"
     },
     "output_type": "display_data"
    }
   ],
   "source": [
    "model_9_error = y - model_9.predict(X_reci)\n",
    "plt.scatter(X_reci,model_9_error)"
   ]
  },
  {
   "cell_type": "code",
   "execution_count": 70,
   "id": "0765c1fc",
   "metadata": {
    "scrolled": true
   },
   "outputs": [
    {
     "data": {
      "text/plain": [
       "<matplotlib.collections.PathCollection at 0x28046daf280>"
      ]
     },
     "execution_count": 70,
     "metadata": {},
     "output_type": "execute_result"
    },
    {
     "data": {
      "image/png": "[encoded data removed]",
      "text/plain": [
       "<Figure size 432x288 with 1 Axes>"
      ]
     },
     "metadata": {
      "needs_background": "light"
     },
     "output_type": "display_data"
    }
   ],
   "source": [
    "plt.scatter(y,model_9.predict(X_reci))"
   ]
  },
  {
   "cell_type": "markdown",
   "id": "f41a2d7b",
   "metadata": {},
   "source": [
    "# Both homoscedascity and zero residual mean tests are failed for model 9."
   ]
  },
  {
   "cell_type": "markdown",
   "id": "4cf89c7d",
   "metadata": {},
   "source": [
    "# By looking at Homoscedascity and zero residual mean plots, model 12 is better model among all the models."
   ]
  },
  {
   "cell_type": "markdown",
   "id": "df56a29d",
   "metadata": {},
   "source": [
    "# ============================================================="
   ]
  },
  {
   "cell_type": "markdown",
   "id": "9c53d994",
   "metadata": {},
   "source": [
    "# Model 12 is the best model."
   ]
  },
  {
   "cell_type": "markdown",
   "id": "58099a32",
   "metadata": {},
   "source": [
    "# ============================================================"
   ]
  },
  {
   "cell_type": "code",
   "execution_count": 68,
   "id": "41f33194",
   "metadata": {},
   "outputs": [
    {
     "data": {
      "text/plain": [
       "[<matplotlib.lines.Line2D at 0x219172c7670>]"
      ]
     },
     "execution_count": 68,
     "metadata": {},
     "output_type": "execute_result"
    },
    {
     "data": {
      "image/png": "[encoded data removed]",
      "text/plain": [
       "<Figure size 432x288 with 1 Axes>"
      ]
     },
     "metadata": {
      "needs_background": "light"
     },
     "output_type": "display_data"
    }
   ],
   "source": [
    "# Vizualization of model. that how it is performing on training data\n",
    "\n",
    "plt.scatter(X_train_boxcox,y_train_,color = 'red')\n",
    "plt.plot(X_train_boxcox,model_12.predict(X_train_boxcox),linewidth=2)"
   ]
  },
  {
   "cell_type": "code",
   "execution_count": 69,
   "id": "4085f020",
   "metadata": {},
   "outputs": [
    {
     "data": {
      "text/plain": [
       "[<matplotlib.lines.Line2D at 0x21915528700>]"
      ]
     },
     "execution_count": 69,
     "metadata": {},
     "output_type": "execute_result"
    },
    {
     "data": {
      "image/png": "[encoded data removed]",
      "text/plain": [
       "<Figure size 432x288 with 1 Axes>"
      ]
     },
     "metadata": {
      "needs_background": "light"
     },
     "output_type": "display_data"
    }
   ],
   "source": [
    "# Vizualization of model. that how it is performing on testing data\n",
    "plt.scatter(X_test_boxcox,y_test_,color = 'red')\n",
    "plt.plot(X_test_boxcox,model_12_pred,linewidth=2)\n"
   ]
  },
  {
   "cell_type": "code",
   "execution_count": null,
   "id": "2e75320e",
   "metadata": {},
   "outputs": [],
   "source": []
  }
 ],
 "metadata": {
  "kernelspec": {
   "display_name": "Python 3 (ipykernel)",
   "language": "python",
   "name": "python3"
  },
  "language_info": {
   "codemirror_mode": {
    "name": "ipython",
    "version": 3
   },
   "file_extension": ".py",
   "mimetype": "text/x-python",
   "name": "python",
   "nbconvert_exporter": "python",
   "pygments_lexer": "ipython3",
   "version": "3.9.7"
  }
 },
 "nbformat": 4,
 "nbformat_minor": 5
}
